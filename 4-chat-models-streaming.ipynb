{
 "cells": [
  {
   "attachments": {},
   "cell_type": "markdown",
   "metadata": {},
   "source": [
    "## Chat Model Streaming\n",
    "\n",
    "Some Chat models provide a streaming response. This means that instead of waiting for the entire response to be returned, you can start processing it as soon as it's available. This is useful if you want to display the response to the user as it's being generated, or if you want to process the response as it's being generated.\n"
   ]
  },
  {
   "cell_type": "code",
   "execution_count": 1,
   "metadata": {},
   "outputs": [
    {
     "name": "stdout",
     "output_type": "stream",
     "text": [
      "(Verse 1)\n",
      "In a world of thirst, where the sun shines bright,\n",
      "There's a drink that brings delight, day or night.\n",
      "Bubbles dancing, effervescent delight,\n",
      "It's the magic in a bottle, sparkling water's light.\n",
      "\n",
      "(Chorus)\n",
      "Oh, sparkling water, you're a refreshing dream,\n",
      "A symphony of bubbles, like stars that gleam.\n",
      "With every sip, you take me higher,\n",
      "Oh, sparkling water, you're my sparkling desire.\n",
      "\n",
      "(Verse 2)\n",
      "From the mountains high, where springs do flow,\n",
      "Comes a liquid so pure, a heavenly glow.\n",
      "Crystal clear, like diamonds in the sky,\n",
      "It's the elixir of life, let it satisfy.\n",
      "\n",
      "(Chorus)\n",
      "Oh, sparkling water, you're a refreshing dream,\n",
      "A symphony of bubbles, like stars that gleam.\n",
      "With every sip, you take me higher,\n",
      "Oh, sparkling water, you're my sparkling desire.\n",
      "\n",
      "(Bridge)\n",
      "With a fizz and a pop, you awaken my senses,\n",
      "Quenching my thirst, with no pretenses.\n",
      "A burst of joy, as you tickle my tongue,\n",
      "You're the perfect companion, forever young.\n",
      "\n",
      "(Verse 3)\n",
      "In a world of flavors, you're a sparkling delight,\n",
      "Lemon, lime, or berry, you make everything right.\n",
      "No calories, no guilt, just pure hydration,\n",
      "You're the drink of choice, in every situation.\n",
      "\n",
      "(Chorus)\n",
      "Oh, sparkling water, you're a refreshing dream,\n",
      "A symphony of bubbles, like stars that gleam.\n",
      "With every sip, you take me higher,\n",
      "Oh, sparkling water, you're my sparkling desire.\n",
      "\n",
      "(Outro)\n",
      "So raise your glass, let's toast to the fizz,\n",
      "To the joy and the sparkle, that's hard to resist.\n",
      "Oh, sparkling water, you're a gift from above,\n",
      "Forever in my heart, my sparkling love."
     ]
    }
   ],
   "source": [
    "from langchain.chat_models import ChatOpenAI\n",
    "from langchain.schema import (\n",
    "    HumanMessage,\n",
    ")\n",
    "\n",
    "\n",
    "from langchain.callbacks.streaming_stdout import StreamingStdOutCallbackHandler\n",
    "\n",
    "# You must add the openai_api_key if you don't have an environment variable set:\n",
    "# chat = ChatOpenAI(openai_api_key=\"...\", ...)\n",
    "\n",
    "# If you have an envionrment variable set for OPENAI_API_KEY, you can just do:\n",
    "chat = ChatOpenAI(\n",
    "    streaming=True, callbacks=[StreamingStdOutCallbackHandler()], temperature=0\n",
    ")\n",
    "resp = chat([HumanMessage(content=\"Write me a song about sparkling water.\")])"
   ]
  }
 ],
 "metadata": {
  "kernelspec": {
   "display_name": "base",
   "language": "python",
   "name": "python3"
  },
  "language_info": {
   "codemirror_mode": {
    "name": "ipython",
    "version": 3
   },
   "file_extension": ".py",
   "mimetype": "text/x-python",
   "name": "python",
   "nbconvert_exporter": "python",
   "pygments_lexer": "ipython3",
   "version": "3.9.13"
  },
  "orig_nbformat": 4
 },
 "nbformat": 4,
 "nbformat_minor": 2
}
