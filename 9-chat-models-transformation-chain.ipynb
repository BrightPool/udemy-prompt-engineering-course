{
 "cells": [
  {
   "attachments": {},
   "cell_type": "markdown",
   "metadata": {},
   "source": [
    "## Chat Models - Transformation Chain + Sequential Chain\n"
   ]
  },
  {
   "cell_type": "code",
   "execution_count": null,
   "metadata": {},
   "outputs": [],
   "source": [
    "import os\n",
    "%pip install langchain\n",
    "os.environ['OPENAI_API_KEY'] = 'API_KEY_HERE'"
   ]
  },
  {
   "cell_type": "code",
   "execution_count": 27,
   "metadata": {},
   "outputs": [],
   "source": [
    "from langchain.chat_models import ChatOpenAI\n",
    "from langchain.chains import LLMChain, SequentialChain, TransformChain\n",
    "from langchain.prompts.chat import ChatPromptTemplate, SystemMessagePromptTemplate, HumanMessagePromptTemplate\n",
    "from langchain.prompts import PromptTemplate\n",
    "from langchain.schema import SystemMessage"
   ]
  },
  {
   "cell_type": "code",
   "execution_count": 2,
   "metadata": {},
   "outputs": [],
   "source": [
    "# Defining a chat model:\n",
    "chat = ChatOpenAI(temperature=0.7)"
   ]
  },
  {
   "cell_type": "code",
   "execution_count": 3,
   "metadata": {},
   "outputs": [],
   "source": [
    "def transform_func(inputs: dict) -> dict:\n",
    "    text = inputs[\"text\"]\n",
    "    # Extract the last message from the text\n",
    "    last_message = text.split(\"\\n\")[-1]\n",
    "    return {\"output_text\": last_message}\n",
    "\n",
    "transform_chain = TransformChain(\n",
    "    input_variables=[\"text\"], output_variables=[\"output_text\"], transform=transform_func\n",
    ")"
   ]
  },
  {
   "cell_type": "code",
   "execution_count": 5,
   "metadata": {},
   "outputs": [
    {
     "name": "stdout",
     "output_type": "stream",
     "text": [
      "{'text': 'Hello, how are you?\\nI am fine, thanks for asking!\\nWhat are you doing today?\\nI am working on a new project.', 'output_text': 'I am working on a new project.'}\n"
     ]
    }
   ],
   "source": [
    "result = transform_chain({'text': 'Hello, how are you?\\nI am fine, thanks for asking!\\nWhat are you doing today?\\nI am working on a new project.'\n",
    "})\n",
    "print(result)"
   ]
  },
  {
   "cell_type": "markdown",
   "metadata": {},
   "source": [
    "------------------------------------------------------------------------"
   ]
  },
  {
   "cell_type": "code",
   "execution_count": 10,
   "metadata": {},
   "outputs": [],
   "source": [
    "import re\n",
    "\n",
    "def extract_stock_metrics(inputs: dict) -> dict:\n",
    "    text = inputs[\"text\"]\n",
    "    \n",
    "    # Regular expressions to extract stock market metrics\n",
    "    opening_price_pattern = r\"Opening Price:\\s*\\$(\\d+\\.\\d+)\"\n",
    "    closing_price_pattern = r\"Closing Price:\\s*\\$(\\d+\\.\\d+)\"\n",
    "    volume_pattern = r\"Volume:\\s*(\\d+)\"\n",
    "    high_pattern = r\"High:\\s*\\$(\\d+\\.\\d+)\"\n",
    "    low_pattern = r\"Low:\\s*\\$(\\d+\\.\\d+)\"\n",
    "    \n",
    "    # Extract metrics using the regex patterns\n",
    "    opening_price = re.search(opening_price_pattern, text)\n",
    "    closing_price = re.search(closing_price_pattern, text)\n",
    "    volume = re.search(volume_pattern, text)\n",
    "    high = re.search(high_pattern, text)\n",
    "    low = re.search(low_pattern, text)\n",
    "\n",
    "    # If the regex search found the metric, use it, otherwise default to None\n",
    "    opening_price = float(opening_price.group(1)) if opening_price else None\n",
    "    closing_price = float(closing_price.group(1)) if closing_price else None\n",
    "    volume = int(volume.group(1)) if volume else None\n",
    "    high = float(high.group(1)) if high else None\n",
    "    low = float(low.group(1)) if low else None\n",
    "    \n",
    "    return {\n",
    "        \"opening_price\": opening_price,\n",
    "        \"closing_price\": closing_price,\n",
    "        \"volume\": volume,\n",
    "        \"high\": high,\n",
    "        \"low\": low\n",
    "    }\n",
    "\n",
    "\n",
    "transform_chain = TransformChain(\n",
    "    input_variables=[\"text\"], \n",
    "    output_variables=[\"opening_price\", \"closing_price\", \"volume\", \"high\", \"low\"],\n",
    "    transform=extract_stock_metrics\n",
    ")\n"
   ]
  },
  {
   "cell_type": "code",
   "execution_count": 11,
   "metadata": {},
   "outputs": [
    {
     "data": {
      "text/plain": [
       "{'text': \"\\nStock Update: TechCorp Inc.\\nDate: September 28, 2023\\nOpening Price: $142.50\\nClosing Price: $145.20\\nVolume: 3200000\\nHigh: $146.00\\nLow: $141.70\\n\\nTechCorp Inc. experienced a slight increase in their stock price today, closing at $145.20. With a trading volume of 3.2 million, the stock hit a high of $146.00 and a low of $141.70 throughout the trading session. Analysts remain optimistic about the company's future prospects.\\n\",\n",
       " 'opening_price': 142.5,\n",
       " 'closing_price': 145.2,\n",
       " 'volume': 3200000,\n",
       " 'high': 146.0,\n",
       " 'low': 141.7}"
      ]
     },
     "execution_count": 11,
     "metadata": {},
     "output_type": "execute_result"
    }
   ],
   "source": [
    "transform_chain({\n",
    "    'text': '''\n",
    "Stock Update: TechCorp Inc.\n",
    "Date: September 28, 2023\n",
    "Opening Price: $142.50\n",
    "Closing Price: $145.20\n",
    "Volume: 3200000\n",
    "High: $146.00\n",
    "Low: $141.70\n",
    "\n",
    "TechCorp Inc. experienced a slight increase in their stock price today, closing at $145.20. With a trading volume of 3.2 million, the stock hit a high of $146.00 and a low of $141.70 throughout the trading session. Analysts remain optimistic about the company's future prospects.\n",
    "'''\n",
    "})"
   ]
  },
  {
   "cell_type": "code",
   "execution_count": 24,
   "metadata": {},
   "outputs": [
    {
     "name": "stdout",
     "output_type": "stream",
     "text": [
      "{'text': '\\n        Stock Update: TechCorp Inc.\\n        \\n        Date: September 28, 2023\\n        Opening Price: $142.50\\n        Closing Price: $145.20\\n        Volume: 3200000\\n        High: $146.00\\n        Low: $141.70\\n        ', 'commentary': \"Based on the provided stock metrics, it appears that the stock's performance for the given day was relatively positive. The opening price of $142.50 indicates that the stock started the day at a moderate level. However, the closing price of $145.20 suggests that the stock experienced a slight increase in value throughout the day.\\n\\nThe high price of $146.00 indicates that the stock reached its peak value during the trading session, potentially attracting buyers who were looking for an opportunity to sell at a higher price. On the other hand, the low price of $141.70 suggests that there may have been some selling pressure, causing the stock to temporarily dip in value.\\n\\nThe volume of 3200000 indicates the number of shares traded during the day. A higher volume often suggests increased market activity and investor interest in the stock. This could potentially be a positive sign, as it indicates that there was significant trading activity and liquidity in the stock.\\n\\nOverall, the stock's performance for the given day seems relatively positive, with a slight increase in value and significant trading activity. However, it is important to consider other factors such as market trends, news, and industry performance when making a comprehensive analysis of the stock's performance.\", 'stock_metrics': 'Opening Price: $142.50\\nClosing Price: $145.20\\nVolume: 3200000\\nHigh: $146.00\\nLow: $141.70'}\n"
     ]
    }
   ],
   "source": [
    "extract_metrics_template = \"\"\"\n",
    "Please extract the key stock metrics from the following update: {text}\n",
    "\"\"\"\n",
    "\n",
    "system_message_prompt_extract = SystemMessagePromptTemplate(\n",
    "    prompt=PromptTemplate(template=extract_metrics_template, input_variables=[\"text\"]),\n",
    ")\n",
    "extract_metrics_prompt = ChatPromptTemplate.from_messages([system_message_prompt_extract])\n",
    "\n",
    "# Part 1 Create the chain:\n",
    "extract_metrics_chain = LLMChain(llm=chat, prompt=extract_metrics_prompt, output_key=\"stock_metrics\")\n",
    "\n",
    "\n",
    "analysis_template = \"\"\"\n",
    "Based on the following stock metrics:\n",
    "{stock_metrics}\n",
    "\n",
    "Provide an analysis or commentary on the stock's performance.\n",
    "\"\"\"\n",
    "\n",
    "extract_metrics_prompt = ChatPromptTemplate.from_messages([HumanMessagePromptTemplate.from_template(analysis_template)])\n",
    "analysis_chain = LLMChain(llm=chat, prompt=extract_metrics_prompt, output_key=\"commentary\")\n",
    "\n",
    "# Create the Sequential Chain:\n",
    "stock_chain = SequentialChain(\n",
    "    chains=[extract_metrics_chain, analysis_chain],\n",
    "    input_variables=[\"text\"],\n",
    "    output_variables=[\"commentary\", \"stock_metrics\"],\n",
    ")\n",
    "\n",
    "# Run the chain:\n",
    "result = stock_chain(\n",
    "    {\n",
    "        \"text\": \"\"\"\n",
    "        Stock Update: TechCorp Inc.\n",
    "        \n",
    "        Date: September 28, 2023\n",
    "        Opening Price: $142.50\n",
    "        Closing Price: $145.20\n",
    "        Volume: 3200000\n",
    "        High: $146.00\n",
    "        Low: $141.70\n",
    "        \"\"\"\n",
    "    }\n",
    ")\n",
    "\n",
    "print(result)  # This should give a generated analysis or commentary on the stock's performance."
   ]
  },
  {
   "cell_type": "markdown",
   "metadata": {},
   "source": [
    "----------------------------"
   ]
  },
  {
   "cell_type": "code",
   "execution_count": 32,
   "metadata": {},
   "outputs": [
    {
     "data": {
      "text/plain": [
       "{'url': 'http://api.open-notify.org/astros.json',\n",
       " 'classifications': '- Males: 7\\n- Females: 6'}"
      ]
     },
     "execution_count": 32,
     "metadata": {},
     "output_type": "execute_result"
    }
   ],
   "source": [
    "# http://api.open-notify.org/astros.json\n",
    "import requests\n",
    "\n",
    "def gender_count_transform(inputs: dict) -> dict:\n",
    "    # Fetch data from an API:\n",
    "    response = requests.get(url=inputs['url'])\n",
    "    data = response.json()\n",
    "\n",
    "    # Ask ChatGPT to classify the males vs females:\n",
    "    chat = ChatOpenAI()\n",
    "    resp = chat([SystemMessage(content=f'''You are responsible for classifying all of the people within a JSON request.\n",
    "                        An good response should be:\n",
    "                        - Males: 5\n",
    "                        - Females: 10\n",
    "                        {data}\n",
    "                        ----\n",
    "                        Only return the output of the classification, not the input.\n",
    "                        I.e:\n",
    "                        - Males: 2\n",
    "                        - Females 3\n",
    "                        ''')])\n",
    "    return {\"classifications\": resp.content }\n",
    "\n",
    "\n",
    "# Test the function\n",
    "transform_chain = TransformChain(\n",
    "    input_variables=[\"url\"], output_variables=[\"classifications\"], transform=gender_count_transform\n",
    ")\n",
    "\n",
    "transform_chain({\n",
    "    \"url\": \"http://api.open-notify.org/astros.json\"\n",
    "})"
   ]
  },
  {
   "cell_type": "code",
   "execution_count": 33,
   "metadata": {},
   "outputs": [
    {
     "name": "stdout",
     "output_type": "stream",
     "text": [
      "There are more females than males among the astronauts.\n"
     ]
    }
   ],
   "source": [
    "# Analysis function based on gender count:\n",
    "def gender_analysis_transform(inputs: dict) -> dict:\n",
    "    classifications = inputs[\"classifications\"]\n",
    "    # Parse counts (assuming format \"- Males: 2\\n- Females: 3\")\n",
    "    male_count = int(classifications.split(\"Males: \")[1].split(\"\\n\")[0])\n",
    "    female_count = int(classifications.split(\"Females: \")[1].split(\"\\n\")[0])\n",
    "\n",
    "    if male_count > female_count:\n",
    "        commentary = \"There are more males than females among the astronauts.\"\n",
    "    elif female_count > male_count:\n",
    "        commentary = \"There are more females than males among the astronauts.\"\n",
    "    else:\n",
    "        commentary = \"The number of male and female astronauts is equal.\"\n",
    "\n",
    "    return {\"commentary\": commentary}\n",
    "\n",
    "\n",
    "# Create Transform Chains:\n",
    "gender_count_chain = TransformChain(\n",
    "    input_variables=[\"url\"], output_variables=[\"classifications\"], transform=gender_count_transform\n",
    ")\n",
    "\n",
    "gender_analysis_chain = TransformChain(\n",
    "    input_variables=[\"classifications\"], output_variables=[\"commentary\"], transform=gender_analysis_transform\n",
    ")\n",
    "\n",
    "\n",
    "# Create the Sequential Chain:\n",
    "astronaut_chain = SequentialChain(\n",
    "    chains=[gender_count_chain, gender_analysis_chain],\n",
    "    input_variables=[\"url\"],\n",
    "    output_variables=[\"commentary\", \"classifications\"],\n",
    ")\n",
    "\n",
    "# Run the chain:\n",
    "result = astronaut_chain(\n",
    "    {\n",
    "        \"url\": \"http://api.open-notify.org/astros.json\"\n",
    "    }\n",
    ")\n",
    "\n",
    "print(result[\"commentary\"])"
   ]
  }
 ],
 "metadata": {
  "kernelspec": {
   "display_name": "base",
   "language": "python",
   "name": "python3"
  },
  "language_info": {
   "codemirror_mode": {
    "name": "ipython",
    "version": 3
   },
   "file_extension": ".py",
   "mimetype": "text/x-python",
   "name": "python",
   "nbconvert_exporter": "python",
   "pygments_lexer": "ipython3",
   "version": "3.9.13"
  },
  "orig_nbformat": 4
 },
 "nbformat": 4,
 "nbformat_minor": 2
}
