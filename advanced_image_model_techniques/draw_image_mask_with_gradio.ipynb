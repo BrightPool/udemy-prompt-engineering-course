{
 "cells": [
  {
   "cell_type": "code",
   "execution_count": 1,
   "metadata": {},
   "outputs": [
    {
     "name": "stderr",
     "output_type": "stream",
     "text": [
      "/Users/michaeltaylor/Codes/text-generation-webui/installer_files/env/lib/python3.11/site-packages/tqdm/auto.py:21: TqdmWarning: IProgress not found. Please update jupyter and ipywidgets. See https://ipywidgets.readthedocs.io/en/stable/user_install.html\n",
      "  from .autonotebook import tqdm as notebook_tqdm\n"
     ]
    },
    {
     "name": "stdout",
     "output_type": "stream",
     "text": [
      "Running on local URL:  http://127.0.0.1:7860\n",
      "\n",
      "To create a public link, set `share=True` in `launch()`.\n"
     ]
    },
    {
     "data": {
      "text/html": [
       "<div><iframe src=\"http://127.0.0.1:7860/\" width=\"100%\" height=\"500\" allow=\"autoplay; camera; microphone; clipboard-read; clipboard-write;\" frameborder=\"0\" allowfullscreen></iframe></div>"
      ],
      "text/plain": [
       "<IPython.core.display.HTML object>"
      ]
     },
     "metadata": {},
     "output_type": "display_data"
    },
    {
     "data": {
      "text/plain": []
     },
     "execution_count": 1,
     "metadata": {},
     "output_type": "execute_result"
    },
    {
     "name": "stdout",
     "output_type": "stream",
     "text": [
      "IMPORTANT: You are using gradio version 3.50.2, however version 4.44.1 is available, please upgrade.\n",
      "--------\n"
     ]
    }
   ],
   "source": [
    "import gradio as gr\n",
    "import numpy as np\n",
    "from PIL import Image\n",
    "import nest_asyncio\n",
    "\n",
    "nest_asyncio.apply()\n",
    "\n",
    "def create_mask(mask_data):\n",
    "    # Convert the mask data from gradio sketch to binary mask\n",
    "    mask = mask_data['mask'].astype(np.uint8)\n",
    "    mask = mask[:,:,0] # Take first channel since sketch returns RGB\n",
    "    mask = (mask > 0).astype(np.uint8) * 255\n",
    "    \n",
    "    # Convert to PIL Image for saving\n",
    "    mask_img = Image.fromarray(mask)\n",
    "    \n",
    "    return mask_img\n",
    "\n",
    "# Create Gradio interface\n",
    "with gr.Blocks() as demo:\n",
    "    gr.Markdown(\"# Image Mask Creation Tool\")\n",
    "    gr.Markdown(\"Draw on the image to create a binary mask\")\n",
    "    \n",
    "    # Load and display the rhino image with mask overlay\n",
    "    mask_input = gr.ImageMask(\n",
    "        value=\"rhino-suit.png\",\n",
    "        label=\"Draw Mask\", \n",
    "        source=\"upload\",  # Changed from \"value\" to \"upload\" since \"value\" is not a valid source\n",
    "        tool=\"sketch\"\n",
    "    )\n",
    "    \n",
    "    # Output mask display\n",
    "    output_mask = gr.Image(label=\"Generated Mask\")\n",
    "\n",
    "    # Button to generate mask\n",
    "    submit_btn = gr.Button(\"Generate Mask\")\n",
    "    submit_btn.click(\n",
    "        fn=create_mask,\n",
    "        inputs=[mask_input],\n",
    "        outputs=output_mask\n",
    "    )\n",
    "\n",
    "demo.launch()\n"
   ]
  }
 ],
 "metadata": {
  "kernelspec": {
   "display_name": "Python 3",
   "language": "python",
   "name": "python3"
  },
  "language_info": {
   "codemirror_mode": {
    "name": "ipython",
    "version": 3
   },
   "file_extension": ".py",
   "mimetype": "text/x-python",
   "name": "python",
   "nbconvert_exporter": "python",
   "pygments_lexer": "ipython3",
   "version": "3.11.5"
  }
 },
 "nbformat": 4,
 "nbformat_minor": 2
}
