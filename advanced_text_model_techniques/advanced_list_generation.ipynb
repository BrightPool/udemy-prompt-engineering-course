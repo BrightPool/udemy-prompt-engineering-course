{
  "cells": [
    {
      "cell_type": "code",
      "execution_count": 1,
      "metadata": {
        "colab": {
          "base_uri": "https://localhost:8080/"
        },
        "id": "sFAfCcuREb8o",
        "outputId": "6d0d3a19-c3d1-48c2-a175-d8cc41e5b452"
      },
      "outputs": [
        {
          "name": "stdout",
          "output_type": "stream",
          "text": [
            "Requirement already satisfied: openai in /Users/dan/anaconda3/lib/python3.11/site-packages (1.3.3)\n",
            "Requirement already satisfied: anyio<4,>=3.5.0 in /Users/dan/anaconda3/lib/python3.11/site-packages (from openai) (3.5.0)\n",
            "Requirement already satisfied: distro<2,>=1.7.0 in /Users/dan/anaconda3/lib/python3.11/site-packages (from openai) (1.8.0)\n",
            "Requirement already satisfied: httpx<1,>=0.23.0 in /Users/dan/anaconda3/lib/python3.11/site-packages (from openai) (0.25.1)\n",
            "Requirement already satisfied: pydantic<3,>=1.9.0 in /Users/dan/anaconda3/lib/python3.11/site-packages (from openai) (1.10.12)\n",
            "Requirement already satisfied: tqdm>4 in /Users/dan/anaconda3/lib/python3.11/site-packages (from openai) (4.65.0)\n",
            "Requirement already satisfied: typing-extensions<5,>=4.5 in /Users/dan/anaconda3/lib/python3.11/site-packages (from openai) (4.6.3)\n",
            "Requirement already satisfied: idna>=2.8 in /Users/dan/anaconda3/lib/python3.11/site-packages (from anyio<4,>=3.5.0->openai) (3.4)\n",
            "Requirement already satisfied: sniffio>=1.1 in /Users/dan/anaconda3/lib/python3.11/site-packages (from anyio<4,>=3.5.0->openai) (1.2.0)\n",
            "Requirement already satisfied: certifi in /Users/dan/anaconda3/lib/python3.11/site-packages (from httpx<1,>=0.23.0->openai) (2023.5.7)\n",
            "Requirement already satisfied: httpcore in /Users/dan/anaconda3/lib/python3.11/site-packages (from httpx<1,>=0.23.0->openai) (1.0.2)\n",
            "Requirement already satisfied: h11<0.15,>=0.13 in /Users/dan/anaconda3/lib/python3.11/site-packages (from httpcore->httpx<1,>=0.23.0->openai) (0.14.0)\n"
          ]
        }
      ],
      "source": [
        "!pip install openai --upgrade"
      ]
    },
    {
      "cell_type": "code",
      "execution_count": 2,
      "metadata": {
        "colab": {
          "base_uri": "https://localhost:8080/"
        },
        "id": "jaertlAyGoEq",
        "outputId": "2e861470-f316-495f-a077-055d69192bcc"
      },
      "outputs": [],
      "source": [
        "import openai\n",
        "import re\n",
        "import getpass\n",
        "\n",
        "\n",
        "openai.api_key = getpass.getpass(\"Please enter your OpenAI Key:\")"
      ]
    },
    {
      "cell_type": "code",
      "execution_count": 10,
      "metadata": {},
      "outputs": [],
      "source": [
        "import json"
      ]
    },
    {
      "cell_type": "code",
      "execution_count": 4,
      "metadata": {
        "colab": {
          "base_uri": "https://localhost:8080/",
          "height": 35
        },
        "id": "8LJmYsdt_dOD",
        "outputId": "9fc9979f-68e5-4ca9-becb-0c23765413de"
      },
      "outputs": [
        {
          "data": {
            "text/plain": [
              "'Yes, it is. How can I assist you today?'"
            ]
          },
          "execution_count": 4,
          "metadata": {},
          "output_type": "execute_result"
        }
      ],
      "source": [
        "def complete(prompt):\n",
        "    response = openai.chat.completions.create(\n",
        "        model=\"gpt-4\",\n",
        "        messages=[\n",
        "            {\n",
        "            \"role\": \"user\",\n",
        "            \"content\": prompt\n",
        "            }\n",
        "        ],\n",
        "    )\n",
        "    return response.choices[0].message.content\n",
        "\n",
        "complete(\"is this working?\")"
      ]
    },
    {
      "cell_type": "code",
      "execution_count": 5,
      "metadata": {
        "colab": {
          "base_uri": "https://localhost:8080/",
          "height": 142
        },
        "id": "3kqZ8by6EaQf",
        "outputId": "44cc3d80-ad08-49c0-c6ba-2e32e16c59ae"
      },
      "outputs": [
        {
          "data": {
            "text/plain": [
              "\"1. Introduction \\n    a. Definition of data engineering \\n2. Role and Responsibilities of a Data Engineer \\n    a. Designing, constructing, installing, testing and maintaining data management systems\\n    b. Ensuring systems meet business requirements and industry practices\\n    c. Data architecture, modeling, and governance tasks \\n    d. Building algorithms to extract needed information\\n3. Importance of Data Engineering \\n    a. Efficiency in managing big data\\n    b. Necessary for data science and machine learning operations\\n    c. Vital in decision-making process \\n    d. Ensuring data reliability and accessibility \\n4. Key Concepts in Data Engineering\\n    a. Data Modelling\\n    b. Data Warehousing\\n    c. ETL (Extract, Transform, Load) Process\\n    d. Data Mining \\n5. Tools Used in Data Engineering \\n    a. Hadoop\\n    b. Panda\\n    c. SQL\\n    d. Python \\n6. The future of Data Engineering \\n    a. Growing demand for data engineers\\n    b. Path towards automation\\n    c. Interplay with AI and Machine Learning \\n7. Conclusion\\n    a. Recap on the importance and role of  data engineers\\n    b. Why understanding data engineering is critical in today's data-driven world.\""
            ]
          },
          "execution_count": 5,
          "metadata": {},
          "output_type": "execute_result"
        }
      ],
      "source": [
        "# Setup the article title\n",
        "article = \"What is data engineering?\"\n",
        "# Inject the article title into the base prompt\n",
        "base_prompt = f'Write a numbered, hierarchical outline for an article on \"{article}\"\\n\\nHere is an example, of the structure:\\n\\n1. Introduction \\n    a. Definition of digital marketing \\n2. Types of Digital Marketing \\n    a. Search Engine Optimization \\n    b. Social Media Marketing \\n    c. Content Marketing \\n    d. Pay-Per-Click Advertising \\n    e. Email Marketing \\n3. Benefits of Digital Marketing \\n    a. Cost-Effective \\n    b. Targeted Audience \\n    c. Measurable Results \\n    d. Increased Reach \\n\\n----\\n'\n",
        "\n",
        "result = complete(base_prompt)\n",
        "result\n",
        "\n",
        "# Combine the two patterns so that we have a dictionary that looks like this:\n",
        "# {\n",
        "#     \"1. Introduction\": {\"a.\": \"Definition of digital marketing\"},\n",
        "#     \"2. Types of Digital Marketing\": {\n",
        "#         \"a.\": \"Cost-Effective\",\n",
        "#         \"b.\": \"Targeted Audience\",\n",
        "#         \"c.\": \"Measurable Results\",\n",
        "#     },\n",
        "# }"
      ]
    },
    {
      "cell_type": "code",
      "execution_count": 6,
      "metadata": {
        "colab": {
          "base_uri": "https://localhost:8080/"
        },
        "id": "eKolBe7EHjGZ",
        "outputId": "c0f7397d-e7c3-4674-b621-904da46434a7"
      },
      "outputs": [
        {
          "name": "stdout",
          "output_type": "stream",
          "text": [
            "1. Introduction \n",
            "    a. Definition of data engineering \n",
            "2. Role and Responsibilities of a Data Engineer \n",
            "    a. Designing, constructing, installing, testing and maintaining data management systems\n",
            "    b. Ensuring systems meet business requirements and industry practices\n",
            "    c. Data architecture, modeling, and governance tasks \n",
            "    d. Building algorithms to extract needed information\n",
            "3. Importance of Data Engineering \n",
            "    a. Efficiency in managing big data\n",
            "    b. Necessary for data science and machine learning operations\n",
            "    c. Vital in decision-making process \n",
            "    d. Ensuring data reliability and accessibility \n",
            "4. Key Concepts in Data Engineering\n",
            "    a. Data Modelling\n",
            "    b. Data Warehousing\n",
            "    c. ETL (Extract, Transform, Load) Process\n",
            "    d. Data Mining \n",
            "5. Tools Used in Data Engineering \n",
            "    a. Hadoop\n",
            "    b. Panda\n",
            "    c. SQL\n",
            "    d. Python \n",
            "6. The future of Data Engineering \n",
            "    a. Growing demand for data engineers\n",
            "    b. Path towards automation\n",
            "    c. Interplay with AI and Machine Learning \n",
            "7. Conclusion\n",
            "    a. Recap on the importance and role of  data engineers\n",
            "    b. Why understanding data engineering is critical in today's data-driven world.\n"
          ]
        }
      ],
      "source": [
        "print(result)"
      ]
    },
    {
      "cell_type": "code",
      "execution_count": 7,
      "metadata": {
        "id": "6e_evQ_PEgHd"
      },
      "outputs": [],
      "source": [
        "# Extract main sections\n",
        "main_sections = re.findall(r'\\d+\\..*?(?=^\\d+|\\Z)', result, re.MULTILINE | re.DOTALL)\n",
        "\n",
        "# Extract sub-sections\n",
        "sections = {}\n",
        "for section in main_sections:\n",
        "    section_title = re.search(r'\\d+\\..+', section).group(0)\n",
        "    sub_sections = re.findall(r'\\s+[a-z]\\..+', section, re.MULTILINE)\n",
        "    sections[section_title] = [heading.strip() for heading in  sub_sections]"
      ]
    },
    {
      "cell_type": "code",
      "execution_count": 8,
      "metadata": {
        "colab": {
          "base_uri": "https://localhost:8080/"
        },
        "id": "7gcdBbNrEq5j",
        "outputId": "afd759f2-da3c-452f-b927-a311dedaaf71"
      },
      "outputs": [
        {
          "name": "stdout",
          "output_type": "stream",
          "text": [
            "{'1. Introduction ': ['a. Definition of data engineering'], '2. Role and Responsibilities of a Data Engineer ': ['a. Designing, constructing, installing, testing and maintaining data management systems', 'b. Ensuring systems meet business requirements and industry practices', 'c. Data architecture, modeling, and governance tasks', 'd. Building algorithms to extract needed information'], '3. Importance of Data Engineering ': ['a. Efficiency in managing big data', 'b. Necessary for data science and machine learning operations', 'c. Vital in decision-making process', 'd. Ensuring data reliability and accessibility'], '4. Key Concepts in Data Engineering': ['a. Data Modelling', 'b. Data Warehousing', 'c. ETL (Extract, Transform, Load) Process', 'd. Data Mining'], '5. Tools Used in Data Engineering ': ['a. Hadoop', 'b. Panda', 'c. SQL', 'd. Python'], '6. The future of Data Engineering ': ['a. Growing demand for data engineers', 'b. Path towards automation', 'c. Interplay with AI and Machine Learning'], '7. Conclusion': ['a. Recap on the importance and role of  data engineers', \"b. Why understanding data engineering is critical in today's data-driven world.\"]}\n"
          ]
        }
      ],
      "source": [
        "print(sections)"
      ]
    },
    {
      "cell_type": "code",
      "execution_count": 9,
      "metadata": {
        "id": "sUijI4BCEs-H"
      },
      "outputs": [],
      "source": [
        "prompt = \"Produce an article outline for \\\"What is data engineering?\\\"\\n\\nHere is an example, of the structure. Always return valid JSON.\\n\\n{\\n\\\"top_heading_one:\\\": [\\\"subheading_one\\\", \\\"subheading_two\\\"],\\n\\\"top_heading_two:\\\": [\\\"subheading_one\\\", \\\"subheading_two\\\"],\\n} \\n\\nRemember that the ouput must be like the above, and must be parsable JSON.\\n\\n----\\n\\n\"\n",
        "result = complete(prompt)"
      ]
    },
    {
      "cell_type": "code",
      "execution_count": null,
      "metadata": {
        "colab": {
          "base_uri": "https://localhost:8080/",
          "height": 142
        },
        "id": "ncO-eeeEIJdR",
        "outputId": "2adf44af-45ec-4ba8-9c02-f5946fe8b914"
      },
      "outputs": [
        {
          "data": {
            "application/vnd.google.colaboratory.intrinsic+json": {
              "type": "string"
            },
            "text/plain": [
              "'{\\n\"Introduction:\": [\"Defining Data Engineering\", \"Importance of Data Engineering\"],\\n\\n\"A Detailed Look into Data Engineering:\": [\"Roles and Responsibilities of a Data Engineer\", \"Importance of Data Engineers in the Tech Industry\"],\\n\\n\"Different Tools Used by Data Engineers:\": [\"Understanding Databases and SQL\", \"Introduction to Hadoop and Apache Spark\", \"Exploring Python and Java for Data Engineering\"],\\n\\n\"The Processes in Data Engineering:\": [\"Data Ingestion\", \"Data Transformation\",  \"Data Storage\", \"Data Validation\"],\\n\\n\"Demystifying Various Aspects of Data Engineering:\": [\"Big Data and Data Engineering\", \"Real-Time Processing in Data Engineering\", \"Data Engineering and Machine Learning\"],\\n\\n\"The Future of Data Engineering:\": [\"Emerging Trends in Data Engineering\", \"How AI is Transforming Data Engineering\"],  \\n\\n\"Conclusion:\": [\"Key Takeaways\", \"Career Prospects in Data Engineering\"]\\n}'"
            ]
          },
          "execution_count": 12,
          "metadata": {},
          "output_type": "execute_result"
        }
      ],
      "source": [
        "result"
      ]
    },
    {
      "cell_type": "code",
      "execution_count": 11,
      "metadata": {
        "colab": {
          "base_uri": "https://localhost:8080/"
        },
        "id": "CGz4WhiOIMOX",
        "outputId": "d0902ac1-04c2-47e3-c3c5-3374b487af5d"
      },
      "outputs": [
        {
          "data": {
            "text/plain": [
              "{'Introduction': ['Understanding the Concept of Data Engineering',\n",
              "  'Emergence and Importance of Data Engineering'],\n",
              " 'Understanding Data Engineering:': ['Defining Data Engineering',\n",
              "  'Role of a Data Engineer'],\n",
              " 'Components of Data Engineering': ['Data Architecture',\n",
              "  'Data Modeling',\n",
              "  'Data Warehousing',\n",
              "  'Data Integration',\n",
              "  'Data Governance'],\n",
              " 'Data Engineering and Business': [\"Importance of Data Engineering in Today's Business\",\n",
              "  'Role of Data Engineering in Decision Making'],\n",
              " 'Key Skills for Data Engineers': ['Proficiency in SQL',\n",
              "  'Understanding of Distributed Systems',\n",
              "  'Knowledge of Algorithms and Data Structures',\n",
              "  'Experience with Data Visualization Tools',\n",
              "  'Coding and Scripting Skills'],\n",
              " 'Challenges in Data Engineering': ['Data Complexity',\n",
              "  'Data Privacy and Security',\n",
              "  'Data Integration Issues'],\n",
              " 'Future of Data Engineering': ['Trends Shaping the Future of Data Engineering',\n",
              "  'Career Prospects for Data Engineers']}"
            ]
          },
          "execution_count": 11,
          "metadata": {},
          "output_type": "execute_result"
        }
      ],
      "source": [
        "json.loads(result)"
      ]
    },
    {
      "cell_type": "code",
      "execution_count": 12,
      "metadata": {
        "colab": {
          "base_uri": "https://localhost:8080/"
        },
        "id": "hPmbipLCJWvZ",
        "outputId": "014d64ba-51a4-4d04-dab6-f6877b626328"
      },
      "outputs": [
        {
          "name": "stdout",
          "output_type": "stream",
          "text": [
            "{'Introduction': ['Understanding the Concept of Data Engineering', 'Emergence and Importance of Data Engineering'], 'Understanding Data Engineering:': ['Defining Data Engineering', 'Role of a Data Engineer'], 'Components of Data Engineering': ['Data Architecture', 'Data Modeling', 'Data Warehousing', 'Data Integration', 'Data Governance'], 'Data Engineering and Business': [\"Importance of Data Engineering in Today's Business\", 'Role of Data Engineering in Decision Making'], 'Key Skills for Data Engineers': ['Proficiency in SQL', 'Understanding of Distributed Systems', 'Knowledge of Algorithms and Data Structures', 'Experience with Data Visualization Tools', 'Coding and Scripting Skills'], 'Challenges in Data Engineering': ['Data Complexity', 'Data Privacy and Security', 'Data Integration Issues'], 'Future of Data Engineering': ['Trends Shaping the Future of Data Engineering', 'Career Prospects for Data Engineers']}\n"
          ]
        }
      ],
      "source": [
        "try:\n",
        "  print(json.loads(result))\n",
        "except Exception as e:\n",
        "  # Re-running the gpt-4\n",
        "  pass\n",
        "  # Parsing the text and trying to extract the data from the string"
      ]
    },
    {
      "cell_type": "code",
      "execution_count": 13,
      "metadata": {
        "colab": {
          "base_uri": "https://localhost:8080/"
        },
        "id": "7lc-G2GSLHxE",
        "outputId": "a9b27164-3e1e-445d-e8ca-24e008634be8"
      },
      "outputs": [
        {
          "name": "stdout",
          "output_type": "stream",
          "text": [
            "Requirement already satisfied: pyyaml in /Users/dan/anaconda3/lib/python3.11/site-packages (6.0)\n"
          ]
        }
      ],
      "source": [
        "!pip install pyyaml\n",
        "\n",
        "import yaml"
      ]
    },
    {
      "cell_type": "code",
      "execution_count": 14,
      "metadata": {
        "colab": {
          "base_uri": "https://localhost:8080/",
          "height": 142
        },
        "id": "d5_t41V4MMGq",
        "outputId": "f5808db1-8a70-442c-c200-ad84f088d205"
      },
      "outputs": [
        {
          "data": {
            "text/plain": [
              "'- name: What is data engineering?\\n  description: An overview of the data engineering field, its importance, components, roles, and career opportunities.\\n  sections:\\n    - title: Introduction\\n      content: |\\n        An introduction to the data engineering, importance and need in the industry.\\n    - title: The need for data engineering\\n      content: |\\n        A detailed description about the various scenarios where data engineering is implemented.\\n    - title: The components of data engineering\\n      content: |\\n        A rundown of the different aspects of data engineering including data cleaning, data architecture etc.\\n    - title: Roles in data engineering\\n      content: |\\n        A deep-dive into the different roles in data engineering such as Data Engineer, Data Scientist, Data Analyst etc.\\n    - title: Career opportunities in data engineering\\n      content: |\\n        Information on how to start a profession in data engineering, including education requirements, skill sets, work experience, and potential job outlook.\\n    - title: Conclusion\\n      content: |\\n        Recap of why data engineering is crucial in our current technologically advanced society and the potential it holds for future developments.\\n    - title: References\\n      content: |\\n        Citation of resources used to gather information for this article.'"
            ]
          },
          "execution_count": 14,
          "metadata": {},
          "output_type": "execute_result"
        }
      ],
      "source": [
        "prompt = \"Produce an article outline in the format a .yml file for \\\"What is data engineering?\\\"\\n\\nAlways return valid YML.\\n\\nHere is an example:\\n\\n- name: Example YAML File\\n  description: This is an example YAML file.\\n  sections:\\n    - title: Introduction\\n      content: |\\n        This is the introduction.\\n    - title: Conclusion\\n      content: |\\n        This is the conclusion.\\n\\n----\\n\\n\\n\"\n",
        "text = complete(prompt)\n",
        "text"
      ]
    },
    {
      "cell_type": "code",
      "execution_count": null,
      "metadata": {
        "colab": {
          "base_uri": "https://localhost:8080/"
        },
        "id": "Ywehf4LtN1HC",
        "outputId": "7f3be16b-a217-404e-d5ae-05c74c178f6f"
      },
      "outputs": [
        {
          "name": "stdout",
          "output_type": "stream",
          "text": [
            "- name: What is Data Engineering?\n",
            "  description: This article provides an in-depth look at data engineering, explaining what it is, its importance, and the roles of a data engineer.\n",
            "  sections:\n",
            "    - title: Introduction\n",
            "      content: |\n",
            "        Initiates the article with a brief overview of data engineering.\n",
            "        \n",
            "    - title: Understanding Data Engineering\n",
            "      content: |\n",
            "        Explains the concept of data engineering, its purpose and value in a modern business environment.\n",
            "        \n",
            "    - title: Importance of Data Engineering\n",
            "      content: |\n",
            "        Discusses the pivotal role of data engineering in data analysis, decision-making process, and overall business intelligence.\n",
            "\n",
            "    - title: Roles and Responsibilities of a Data Engineer\n",
            "      content: |\n",
            "        Outlines the vital functions data engineers perform in an organization, ranging from developing, testing, to maintaining databases and large-scale processing systems.\n",
            "\n",
            "    - title: Required Skills for Data Engineering\n",
            "      content: |\n",
            "        Highlights the key competencies, both technical and non-technical, one needs to excel in data engineering.\n",
            "\n",
            "    - title: Conclusion\n",
            "      content: |\n",
            "        Recaps the key points about data engineering and emphasizes its significance in the age of big data.  \n",
            "        \n",
            "    - title: Further Readings\n",
            "      content: |\n",
            "\n"
          ]
        }
      ],
      "source": [
        "print(text)"
      ]
    },
    {
      "cell_type": "code",
      "execution_count": 15,
      "metadata": {
        "id": "xc5RTCrDM001"
      },
      "outputs": [],
      "source": [
        "# Load the YAML string into a Python object\n",
        "data = yaml.load(text, Loader=yaml.FullLoader)"
      ]
    },
    {
      "cell_type": "code",
      "execution_count": 16,
      "metadata": {
        "colab": {
          "base_uri": "https://localhost:8080/"
        },
        "id": "evBZVnCoNI32",
        "outputId": "28aa4339-fd87-4466-fe65-814f85f7303b"
      },
      "outputs": [
        {
          "name": "stdout",
          "output_type": "stream",
          "text": [
            "[{'name': 'What is data engineering?', 'description': 'An overview of the data engineering field, its importance, components, roles, and career opportunities.', 'sections': [{'title': 'Introduction', 'content': 'An introduction to the data engineering, importance and need in the industry.\\n'}, {'title': 'The need for data engineering', 'content': 'A detailed description about the various scenarios where data engineering is implemented.\\n'}, {'title': 'The components of data engineering', 'content': 'A rundown of the different aspects of data engineering including data cleaning, data architecture etc.\\n'}, {'title': 'Roles in data engineering', 'content': 'A deep-dive into the different roles in data engineering such as Data Engineer, Data Scientist, Data Analyst etc.\\n'}, {'title': 'Career opportunities in data engineering', 'content': 'Information on how to start a profession in data engineering, including education requirements, skill sets, work experience, and potential job outlook.\\n'}, {'title': 'Conclusion', 'content': 'Recap of why data engineering is crucial in our current technologically advanced society and the potential it holds for future developments.\\n'}, {'title': 'References', 'content': 'Citation of resources used to gather information for this article.'}]}]\n"
          ]
        }
      ],
      "source": [
        "print(data)"
      ]
    },
    {
      "cell_type": "code",
      "execution_count": null,
      "metadata": {
        "id": "9u2SBFW3N4SN"
      },
      "outputs": [],
      "source": []
    }
  ],
  "metadata": {
    "colab": {
      "provenance": []
    },
    "kernelspec": {
      "display_name": "Python 3",
      "name": "python3"
    },
    "language_info": {
      "codemirror_mode": {
        "name": "ipython",
        "version": 3
      },
      "file_extension": ".py",
      "mimetype": "text/x-python",
      "name": "python",
      "nbconvert_exporter": "python",
      "pygments_lexer": "ipython3",
      "version": "3.11.3"
    }
  },
  "nbformat": 4,
  "nbformat_minor": 0
}
