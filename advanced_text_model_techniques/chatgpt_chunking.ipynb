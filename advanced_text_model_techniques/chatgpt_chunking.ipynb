{
  "cells": [
    {
      "cell_type": "code",
      "execution_count": null,
      "metadata": {
        "colab": {
          "base_uri": "https://localhost:8080/"
        },
        "id": "QFBcmsDkZDMN",
        "outputId": "461ca77b-6a6b-487e-f548-cc9107a79253"
      },
      "outputs": [],
      "source": [
        "%pip install tiktoken openai tenacity --upgrade"
      ]
    },
    {
      "cell_type": "code",
      "execution_count": null,
      "metadata": {
        "id": "uLsVAvsSZDvS"
      },
      "outputs": [],
      "source": [
        "import getpass\n",
        "from openai import OpenAI\n",
        "import tiktoken\n",
        "from tenacity import (\n",
        "    retry,\n",
        "    stop_after_attempt,\n",
        "    wait_random_exponential,\n",
        ")  # for exponential backoff"
      ]
    },
    {
      "cell_type": "code",
      "execution_count": null,
      "metadata": {},
      "outputs": [],
      "source": [
        "client = OpenAI()\n",
        "\n",
        "# Get the openai secret key:\n",
        "secret_key = getpass.getpass(\n",
        "    \"Please enter your openai key: \"\n",
        ")  # https://platform.openai.com/account/api-keys\n",
        "\n",
        "client.api_key = secret_key"
      ]
    },
    {
      "cell_type": "code",
      "execution_count": null,
      "metadata": {
        "id": "o_HVGvXNZGci"
      },
      "outputs": [],
      "source": [
        "article_headings = [\n",
        "    \"I. Introduction A. Definition of the 2008 Financial Crisis B. Overview of the Causes and Effects of the Crisis C. Importance of Understanding the Crisis\",\n",
        "    \"II. Historical Background A. Brief History of the US Financial System B. The Creation of the Housing Bubble C. The Growth of the Subprime Mortgage Market\",\n",
        "    \"III. Key Players in the Crisis A. Government Entities B. Financial Institutions C. Homeowners and Borrowers\",\n",
        "    \"IV. Causes of the Crisis A. The Housing Bubble and Subprime Mortgages B. The Role of Investment Banks and Rating Agencies C. The Failure of Regulatory Agencies D. Deregulation of the Financial Industry\",\n",
        "    \"V. The Domino Effect A. The Spread of the Crisis to the Global Financial System B. The Impact on the Real Economy C. The Economic Recession\",\n",
        "    \"VI. Government Responses A. The Troubled Asset Relief Program (TARP) B. The American Recovery and Reinvestment Act C. The Dodd-Frank Wall Street Reform and Consumer Protection Act\",\n",
        "    \"VII. Effects on Financial Institutions A. Bank Failures and Bailouts B. Stock Market Decline C. Credit Freeze\",\n",
        "    \"VIII. Effects on Homeowners and Borrowers A. Foreclosures and Bankruptcies B. The Loss of Home Equity C. The Impact on Credit Scores\",\n",
        "    \"IX. Effects on the Global Economy A. The Global Financial Crisis B. The Impact on Developing Countries C. The Role of International Organizations\",\n",
        "    \"X. Criticisms and Controversies A. Bailouts for Financial Institutions B. Government Intervention in the Economy C. The Role of Wall Street in the Crisis\",\n",
        "    \"XI. Lessons Learned A. The Need for Stronger Regulation B. The Importance of Transparency C. The Need for Better Risk Management\",\n",
        "    \"XII. Reforms and Changes A. The Dodd-Frank Wall Street Reform and Consumer Protection Act B. Changes in Regulatory Agencies C. Changes in the Financial Industry\",\n",
        "    \"XIII. Current Economic Situation A. Recovery from the Crisis B. Impact on the Job Market C. The Future of the US Economy\",\n",
        "    \"XIV. Comparison to Previous Financial Crises A. The Great Depression B. The Savings and Loan Crisis C. The Dot-Com Bubble\",\n",
        "    \"XV. Economic and Social Impacts A. The Widening Wealth Gap B. The Rise of Populist Movements C. The Long-Term Effects on the Economy\",\n",
        "    \"XVI. The Role of Technology A. The Use of Technology in the Financial Industry B. The Impact of Technology on the Crisis C. The Future of the Financial Industry\",\n",
        "    \"XVII. Conclusion A. Recap of the Causes and Effects of the Crisis B. The Importance of Learning from the Crisis C. Final Thoughts\",\n",
        "    \"XVIII. References A. List of Sources B. Additional Reading C. Further Research\",\n",
        "    \"XIX. Glossary A. Key Terms B. Definitions\",\n",
        "    \"XX. Appendix A. Timeline of the Crisis B. Financial Statements of Key Players C. Statistical Data on the Crisis\",\n",
        "]"
      ]
    },
    {
      "cell_type": "code",
      "execution_count": null,
      "metadata": {
        "id": "IHXEgE0eZH4L"
      },
      "outputs": [],
      "source": [
        "@retry(wait=wait_random_exponential(min=1, max=60), stop=stop_after_attempt(6))\n",
        "def chatgpt_completion_with_backoff(**kwargs):\n",
        "    return client.chat.completions.create(**kwargs)"
      ]
    },
    {
      "cell_type": "code",
      "execution_count": null,
      "metadata": {
        "id": "Hsu4zdYCZIlW"
      },
      "outputs": [],
      "source": [
        "def parse_for_chat_history(response: client = False, user_prompt=None):\n",
        "    if user_prompt:\n",
        "        return {'role': 'user', 'content': user_prompt}\n",
        "    return {'role': 'assistant', 'content': response.choices[0].message.content}"
      ]
    },
    {
      "cell_type": "code",
      "execution_count": null,
      "metadata": {
        "id": "K7fHOhzaZJzY"
      },
      "outputs": [],
      "source": [
        "def num_tokens_from_messages(messages, model=\"gpt-3.5-turbo-0613\"):\n",
        "    \"\"\"Return the number of tokens used by a list of messages.\"\"\"\n",
        "    try:\n",
        "        encoding = tiktoken.encoding_for_model(model)\n",
        "    except KeyError:\n",
        "        print(\"Warning: model not found. Using cl100k_base encoding.\")\n",
        "        encoding = tiktoken.get_encoding(\"cl100k_base\")\n",
        "    if model in {\n",
        "        \"gpt-3.5-turbo-0613\",\n",
        "        \"gpt-3.5-turbo-16k-0613\",\n",
        "        \"gpt-4-0314\",\n",
        "        \"gpt-4-32k-0314\",\n",
        "        \"gpt-4-0613\",\n",
        "        \"gpt-4-32k-0613\",\n",
        "    }:\n",
        "        tokens_per_message = 3\n",
        "        tokens_per_name = 1\n",
        "    elif model == \"gpt-3.5-turbo-0301\":\n",
        "        tokens_per_message = (\n",
        "            4  # every message follows <|start|>{role/name}\\n{content}<|end|>\\n\n",
        "        )\n",
        "        tokens_per_name = -1  # if there's a name, the role is omitted\n",
        "    elif \"gpt-3.5-turbo\" in model:\n",
        "        print(\n",
        "            \"Warning: gpt-3.5-turbo may update over time. Returning num tokens assuming gpt-3.5-turbo-0613.\"\n",
        "        )\n",
        "        return num_tokens_from_messages(messages, model=\"gpt-3.5-turbo-0613\")\n",
        "    elif \"gpt-4\" in model:\n",
        "        print(\n",
        "            \"Warning: gpt-4 may update over time. Returning num tokens assuming gpt-4-0613.\"\n",
        "        )\n",
        "        return num_tokens_from_messages(messages, model=\"gpt-4-0613\")\n",
        "    else:\n",
        "        raise NotImplementedError(\n",
        "            f\"\"\"num_tokens_from_messages() is not implemented for model {model}. See https://github.com/openai/openai-python/blob/main/chatml.md for information on how messages are converted to tokens.\"\"\"\n",
        "        )\n",
        "    num_tokens = 0\n",
        "    for message in messages:\n",
        "        num_tokens += tokens_per_message\n",
        "        for key, value in message.items():\n",
        "            num_tokens += len(encoding.encode(value))\n",
        "            if key == \"name\":\n",
        "                num_tokens += tokens_per_name\n",
        "    num_tokens += 3  # every reply is primed with <|start|>assistant<|message|>\n",
        "    return num_tokens"
      ]
    },
    {
      "cell_type": "code",
      "execution_count": null,
      "metadata": {
        "colab": {
          "base_uri": "https://localhost:8080/"
        },
        "id": "6Mhanr-gZK-2",
        "outputId": "37b65267-c9b3-42b7-d67a-50a74bb39921"
      },
      "outputs": [],
      "source": [
        "messages = [\n",
        "  {\"role\": \"system\", \"content\": \"You are a helpful, pattern-following assistant that translates corporate jargon into plain English.\"},\n",
        "  {\"role\": \"system\", \"name\":\"example_user\", \"content\": \"New synergies will help drive top-line growth.\"},\n",
        "  {\"role\": \"system\", \"name\": \"example_assistant\", \"content\": \"Things working well together will increase revenue.\"},\n",
        "  {\"role\": \"system\", \"name\":\"example_user\", \"content\": \"Let's circle back when we have more bandwidth to touch base on opportunities for increased leverage.\"},\n",
        "  {\"role\": \"system\", \"name\": \"example_assistant\", \"content\": \"Let's talk later when we're less busy about how to do better.\"},\n",
        "  {\"role\": \"user\", \"content\": \"This late pivot means we don't have time to boil the ocean for the client deliverable.\"},\n",
        "]\n",
        "\n",
        "model = \"gpt-3.5-turbo-0301\"\n",
        "\n",
        "print(f\"{num_tokens_from_messages(messages, model)} prompt tokens counted.\")\n",
        "# Should show ~126 total_tokens"
      ]
    },
    {
      "cell_type": "code",
      "execution_count": null,
      "metadata": {
        "id": "YDM9p9zZZMYp"
      },
      "outputs": [],
      "source": [
        "system_prompt = \"You are a helpful assistant for a financial news website. You are writing a series of articles about the 2008 financial crisis. You have been given a list of headings for each article. You need to write a short paragraph for each heading. You can use the headings as a starting point for your writing.\\n\\n\"\n",
        "system_prompt += \"All of the subheadings:\\n\"\n",
        "\n",
        "# Add all of the subheadings to the system prompt to give the model context:\n",
        "for heading in article_headings:\n",
        "    system_prompt += f\"{heading}\\n\"\n",
        "\n",
        "# Create the chat history object:\n",
        "chat_history =  []\n",
        "\n",
        "# Add in the system message:\n",
        "chat_history.append({'role': 'system', 'content': system_prompt})"
      ]
    },
    {
      "cell_type": "markdown",
      "metadata": {},
      "source": [
        "---\n",
        "\n",
        "## Removing messages based on a token size"
      ]
    },
    {
      "cell_type": "code",
      "execution_count": null,
      "metadata": {},
      "outputs": [],
      "source": [
        "# This will ensure that if the token count goes over the limit, the last message will be removed, \n",
        "# to ensure that the token count is reduced as the chat history grows:\n",
        "MAX_TOKEN_SIZE = 2048"
      ]
    },
    {
      "cell_type": "code",
      "execution_count": null,
      "metadata": {
        "colab": {
          "base_uri": "https://localhost:8080/"
        },
        "id": "cPMrnb8RZNk2",
        "outputId": "e6d1cb85-fcf7-4ce8-8f7b-8b77c48a2e75"
      },
      "outputs": [],
      "source": [
        "# Loop over all of the headings and generate a chunk for each one\n",
        "for heading in article_headings:\n",
        "    # Add on a user prompt to the chat history object:\n",
        "    chat_history.append(\n",
        "        {\"role\": \"user\", \"content\": f\"Write a short paragraph about {heading}\"}\n",
        "    )\n",
        "\n",
        "    # Tell ChatGPT to generate a response:\n",
        "    response = chatgpt_completion_with_backoff(\n",
        "        model=\"gpt-3.5-turbo\", messages=chat_history\n",
        "    )\n",
        "\n",
        "    # Get the response from the ChatGPT object:\n",
        "    chat_history.append(parse_for_chat_history(response))\n",
        "\n",
        "    # Whilst the Chat history object is more than 2048 tokens, remove the oldest non-system message:\n",
        "    while num_tokens_from_messages(chat_history, model) > 2048:\n",
        "        # Find the index of the first non-system message\n",
        "        non_system_msg_index = next(\n",
        "            (i for i, msg in enumerate(chat_history) if msg[\"role\"] != \"system\"), None\n",
        "        )\n",
        "\n",
        "        # If there is a non-system message, remove it\n",
        "        if non_system_msg_index is not None:\n",
        "            chat_history.pop(non_system_msg_index)\n",
        "\n",
        "    # Print the response:\n",
        "    print(response)"
      ]
    }
  ],
  "metadata": {
    "colab": {
      "provenance": []
    },
    "kernelspec": {
      "display_name": "Python 3",
      "name": "python3"
    },
    "language_info": {
      "codemirror_mode": {
        "name": "ipython",
        "version": 3
      },
      "file_extension": ".py",
      "mimetype": "text/x-python",
      "name": "python",
      "nbconvert_exporter": "python",
      "pygments_lexer": "ipython3",
      "version": "3.9.13"
    }
  },
  "nbformat": 4,
  "nbformat_minor": 0
}
