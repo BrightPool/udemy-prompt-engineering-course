{
  "cells": [
    {
      "cell_type": "code",
      "execution_count": 1,
      "metadata": {
        "colab": {
          "base_uri": "https://localhost:8080/"
        },
        "id": "QFBcmsDkZDMN",
        "outputId": "461ca77b-6a6b-487e-f548-cc9107a79253"
      },
      "outputs": [
        {
          "name": "stdout",
          "output_type": "stream",
          "text": [
            "Note: you may need to restart the kernel to use updated packages.\n"
          ]
        }
      ],
      "source": [
        "%pip install tiktoken openai tenacity --upgrade --quiet"
      ]
    },
    {
      "cell_type": "code",
      "execution_count": 9,
      "metadata": {
        "id": "uLsVAvsSZDvS"
      },
      "outputs": [],
      "source": [
        "import getpass\n",
        "from openai import OpenAI\n",
        "import tiktoken\n",
        "from tenacity import (\n",
        "    retry,\n",
        "    stop_after_attempt,\n",
        "    wait_random_exponential,\n",
        ")  # for exponential backoff"
      ]
    },
    {
      "cell_type": "code",
      "execution_count": 17,
      "metadata": {},
      "outputs": [],
      "source": [
        "client = OpenAI()\n",
        "\n",
        "# Get the openai secret key:\n",
        "secret_key = getpass.getpass(\n",
        "    \"Please enter your openai key: \"\n",
        ")  # https://platform.openai.com/account/api-keys\n",
        "\n",
        "client.api_key = secret_key"
      ]
    },
    {
      "cell_type": "code",
      "execution_count": 11,
      "metadata": {
        "id": "o_HVGvXNZGci"
      },
      "outputs": [],
      "source": [
        "article_headings = [\n",
        "    \"I. Introduction A. Definition of the 2008 Financial Crisis B. Overview of the Causes and Effects of the Crisis C. Importance of Understanding the Crisis\",\n",
        "    \"II. Historical Background A. Brief History of the US Financial System B. The Creation of the Housing Bubble C. The Growth of the Subprime Mortgage Market\",\n",
        "    \"III. Key Players in the Crisis A. Government Entities B. Financial Institutions C. Homeowners and Borrowers\",\n",
        "    \"IV. Causes of the Crisis A. The Housing Bubble and Subprime Mortgages B. The Role of Investment Banks and Rating Agencies C. The Failure of Regulatory Agencies D. Deregulation of the Financial Industry\",\n",
        "    \"V. The Domino Effect A. The Spread of the Crisis to the Global Financial System B. The Impact on the Real Economy C. The Economic Recession\",\n",
        "    \"VI. Government Responses A. The Troubled Asset Relief Program (TARP) B. The American Recovery and Reinvestment Act C. The Dodd-Frank Wall Street Reform and Consumer Protection Act\",\n",
        "    \"VII. Effects on Financial Institutions A. Bank Failures and Bailouts B. Stock Market Decline C. Credit Freeze\",\n",
        "    \"VIII. Effects on Homeowners and Borrowers A. Foreclosures and Bankruptcies B. The Loss of Home Equity C. The Impact on Credit Scores\",\n",
        "    \"IX. Effects on the Global Economy A. The Global Financial Crisis B. The Impact on Developing Countries C. The Role of International Organizations\",\n",
        "    \"X. Criticisms and Controversies A. Bailouts for Financial Institutions B. Government Intervention in the Economy C. The Role of Wall Street in the Crisis\",\n",
        "    \"XI. Lessons Learned A. The Need for Stronger Regulation B. The Importance of Transparency C. The Need for Better Risk Management\",\n",
        "    \"XII. Reforms and Changes A. The Dodd-Frank Wall Street Reform and Consumer Protection Act B. Changes in Regulatory Agencies C. Changes in the Financial Industry\",\n",
        "    \"XIII. Current Economic Situation A. Recovery from the Crisis B. Impact on the Job Market C. The Future of the US Economy\",\n",
        "    \"XIV. Comparison to Previous Financial Crises A. The Great Depression B. The Savings and Loan Crisis C. The Dot-Com Bubble\",\n",
        "    \"XV. Economic and Social Impacts A. The Widening Wealth Gap B. The Rise of Populist Movements C. The Long-Term Effects on the Economy\",\n",
        "    \"XVI. The Role of Technology A. The Use of Technology in the Financial Industry B. The Impact of Technology on the Crisis C. The Future of the Financial Industry\",\n",
        "    \"XVII. Conclusion A. Recap of the Causes and Effects of the Crisis B. The Importance of Learning from the Crisis C. Final Thoughts\",\n",
        "    \"XVIII. References A. List of Sources B. Additional Reading C. Further Research\",\n",
        "    \"XIX. Glossary A. Key Terms B. Definitions\",\n",
        "    \"XX. Appendix A. Timeline of the Crisis B. Financial Statements of Key Players C. Statistical Data on the Crisis\",\n",
        "]"
      ]
    },
    {
      "cell_type": "code",
      "execution_count": 7,
      "metadata": {
        "id": "IHXEgE0eZH4L"
      },
      "outputs": [],
      "source": [
        "@retry(wait=wait_random_exponential(min=1, max=60), stop=stop_after_attempt(6))\n",
        "def chatgpt_completion_with_backoff(**kwargs):\n",
        "    return client.chat.completions.create(**kwargs)"
      ]
    },
    {
      "cell_type": "code",
      "execution_count": 12,
      "metadata": {
        "id": "Hsu4zdYCZIlW"
      },
      "outputs": [],
      "source": [
        "def parse_for_chat_history(response: client = False, user_prompt=None):\n",
        "    if user_prompt:\n",
        "        return {'role': 'user', 'content': user_prompt}\n",
        "    return {'role': 'assistant', 'content': response.choices[0].message.content}"
      ]
    },
    {
      "cell_type": "code",
      "execution_count": 13,
      "metadata": {
        "id": "K7fHOhzaZJzY"
      },
      "outputs": [],
      "source": [
        "def num_tokens_from_messages(messages, model=\"gpt-3.5-turbo-0613\"):\n",
        "    \"\"\"Return the number of tokens used by a list of messages.\"\"\"\n",
        "    try:\n",
        "        encoding = tiktoken.encoding_for_model(model)\n",
        "    except KeyError:\n",
        "        print(\"Warning: model not found. Using cl100k_base encoding.\")\n",
        "        encoding = tiktoken.get_encoding(\"cl100k_base\")\n",
        "    if model in {\n",
        "        \"gpt-3.5-turbo-0613\",\n",
        "        \"gpt-3.5-turbo-16k-0613\",\n",
        "        \"gpt-4-0314\",\n",
        "        \"gpt-4-32k-0314\",\n",
        "        \"gpt-4-0613\",\n",
        "        \"gpt-4-32k-0613\",\n",
        "    }:\n",
        "        tokens_per_message = 3\n",
        "        tokens_per_name = 1\n",
        "    elif model == \"gpt-3.5-turbo-0301\":\n",
        "        tokens_per_message = (\n",
        "            4  # every message follows <|start|>{role/name}\\n{content}<|end|>\\n\n",
        "        )\n",
        "        tokens_per_name = -1  # if there's a name, the role is omitted\n",
        "    elif \"gpt-3.5-turbo\" in model:\n",
        "        print(\n",
        "            \"Warning: gpt-3.5-turbo may update over time. Returning num tokens assuming gpt-3.5-turbo-0613.\"\n",
        "        )\n",
        "        return num_tokens_from_messages(messages, model=\"gpt-3.5-turbo-0613\")\n",
        "    elif \"gpt-4\" in model:\n",
        "        print(\n",
        "            \"Warning: gpt-4 may update over time. Returning num tokens assuming gpt-4-0613.\"\n",
        "        )\n",
        "        return num_tokens_from_messages(messages, model=\"gpt-4-0613\")\n",
        "    else:\n",
        "        raise NotImplementedError(\n",
        "            f\"\"\"num_tokens_from_messages() is not implemented for model {model}. See https://github.com/openai/openai-python/blob/main/chatml.md for information on how messages are converted to tokens.\"\"\"\n",
        "        )\n",
        "    num_tokens = 0\n",
        "    for message in messages:\n",
        "        num_tokens += tokens_per_message\n",
        "        for key, value in message.items():\n",
        "            num_tokens += len(encoding.encode(value))\n",
        "            if key == \"name\":\n",
        "                num_tokens += tokens_per_name\n",
        "    num_tokens += 3  # every reply is primed with <|start|>assistant<|message|>\n",
        "    return num_tokens"
      ]
    },
    {
      "cell_type": "code",
      "execution_count": 14,
      "metadata": {
        "colab": {
          "base_uri": "https://localhost:8080/"
        },
        "id": "6Mhanr-gZK-2",
        "outputId": "37b65267-c9b3-42b7-d67a-50a74bb39921"
      },
      "outputs": [
        {
          "name": "stdout",
          "output_type": "stream",
          "text": [
            "127 prompt tokens counted.\n"
          ]
        }
      ],
      "source": [
        "messages = [\n",
        "  {\"role\": \"system\", \"content\": \"You are a helpful, pattern-following assistant that translates corporate jargon into plain English.\"},\n",
        "  {\"role\": \"system\", \"name\":\"example_user\", \"content\": \"New synergies will help drive top-line growth.\"},\n",
        "  {\"role\": \"system\", \"name\": \"example_assistant\", \"content\": \"Things working well together will increase revenue.\"},\n",
        "  {\"role\": \"system\", \"name\":\"example_user\", \"content\": \"Let's circle back when we have more bandwidth to touch base on opportunities for increased leverage.\"},\n",
        "  {\"role\": \"system\", \"name\": \"example_assistant\", \"content\": \"Let's talk later when we're less busy about how to do better.\"},\n",
        "  {\"role\": \"user\", \"content\": \"This late pivot means we don't have time to boil the ocean for the client deliverable.\"},\n",
        "]\n",
        "\n",
        "model = \"gpt-3.5-turbo-0301\"\n",
        "\n",
        "print(f\"{num_tokens_from_messages(messages, model)} prompt tokens counted.\")\n",
        "# Should show ~127 total_tokens"
      ]
    },
    {
      "cell_type": "code",
      "execution_count": 15,
      "metadata": {
        "id": "YDM9p9zZZMYp"
      },
      "outputs": [],
      "source": [
        "system_prompt = \"You are a helpful assistant for a financial news website. You are writing a series of articles about the 2008 financial crisis. You have been given a list of headings for each article. You need to write a short paragraph for each heading. You can use the headings as a starting point for your writing.\\n\\n\"\n",
        "system_prompt += \"All of the subheadings:\\n\"\n",
        "\n",
        "# Add all of the subheadings to the system prompt to give the model context:\n",
        "for heading in article_headings:\n",
        "    system_prompt += f\"{heading}\\n\"\n",
        "\n",
        "# Create the chat history object:\n",
        "chat_history =  []\n",
        "\n",
        "# Add in the system message:\n",
        "chat_history.append({'role': 'system', 'content': system_prompt})"
      ]
    },
    {
      "cell_type": "markdown",
      "metadata": {},
      "source": [
        "---\n",
        "\n",
        "## Removing messages based on a token size"
      ]
    },
    {
      "cell_type": "code",
      "execution_count": null,
      "metadata": {},
      "outputs": [],
      "source": [
        "# This will ensure that if the token count goes over the limit, the last message will be removed, \n",
        "# to ensure that the token count is reduced as the chat history grows:\n",
        "MAX_TOKEN_SIZE = 2048"
      ]
    },
    {
      "cell_type": "code",
      "execution_count": 18,
      "metadata": {
        "colab": {
          "base_uri": "https://localhost:8080/"
        },
        "id": "cPMrnb8RZNk2",
        "outputId": "e6d1cb85-fcf7-4ce8-8f7b-8b77c48a2e75"
      },
      "outputs": [
        {
          "name": "stdout",
          "output_type": "stream",
          "text": [
            "Warning: gpt-3.5-turbo may update over time. Returning num tokens assuming gpt-3.5-turbo-0613.\n",
            "ChatCompletion(id='chatcmpl-9NLzXJRJDpDWapQjc0umhVTBPrP0v', choices=[Choice(finish_reason='stop', index=0, logprobs=None, message=ChatCompletionMessage(content='The 2008 Financial Crisis, also known as the Global Financial Crisis, refers to the severe economic downturn that started in the United States and quickly spread to other parts of the world. It was triggered by a combination of factors, including the bursting of the housing bubble, the proliferation of subprime mortgages, and the failure of regulatory agencies to effectively oversee financial institutions. The crisis led to a domino effect that resulted in bank failures, a decline in the stock market, a credit freeze, foreclosures, bankruptcies, and an economic recession. Understanding the causes and effects of the 2008 Financial Crisis is crucial as it helps policymakers, financial institutions, and individuals learn from the past mistakes and implement measures to prevent similar crises in the future.', role='assistant', function_call=None, tool_calls=None))], created=1715353107, model='gpt-3.5-turbo-0125', object='chat.completion', system_fingerprint=None, usage=CompletionUsage(completion_tokens=150, prompt_tokens=753, total_tokens=903))\n",
            "Warning: gpt-3.5-turbo may update over time. Returning num tokens assuming gpt-3.5-turbo-0613.\n",
            "ChatCompletion(id='chatcmpl-9NLzb7RbliB96deuuyavUexiTfhoJ', choices=[Choice(finish_reason='stop', index=0, logprobs=None, message=ChatCompletionMessage(content='The brief history of the US financial system sets the stage for understanding the 2008 Financial Crisis. The US financial system evolved over decades, characterized by periods of innovation, regulation, and occasional crises. One significant event that led to the crisis was the creation of the housing bubble. This bubble was fueled by a combination of factors, including easy access to credit, low-interest rates, and speculative investing in the real estate market. As housing prices soared to unsustainable levels, the bubble eventually burst, triggering a chain of events that contributed to the financial meltdown. Concurrently, the growth of the subprime mortgage market played a critical role in the crisis. Lenders aggressively marketed subprime mortgages to borrowers with poor credit histories, often offering adjustable-rate mortgages with low initial payments that would later balloon to unaffordable levels. This expansion of risky lending practices ultimately exposed the financial system to significant vulnerabilities when borrowers started defaulting on their loans.', role='assistant', function_call=None, tool_calls=None))], created=1715353111, model='gpt-3.5-turbo-0125', object='chat.completion', system_fingerprint=None, usage=CompletionUsage(completion_tokens=185, prompt_tokens=947, total_tokens=1132))\n",
            "Warning: gpt-3.5-turbo may update over time. Returning num tokens assuming gpt-3.5-turbo-0613.\n",
            "ChatCompletion(id='chatcmpl-9NLzfjvdkaJBItWJR7hF3qyijWQvj', choices=[Choice(finish_reason='stop', index=0, logprobs=None, message=ChatCompletionMessage(content='Government entities, financial institutions, and homeowners and borrowers all played key roles in the 2008 Financial Crisis. Government entities, including regulatory agencies and policymakers, were responsible for overseeing the financial sector and implementing policies that could have mitigated the risks that led to the crisis. However, their failure to effectively regulate the industry and address risky lending practices contributed to the collapse of the financial system. Financial institutions, such as investment banks, mortgage lenders, and insurance companies, engaged in irresponsible lending, securitization, and risky derivative trading practices that amplified the crisis. Homeowners and borrowers also played a part, as many took on mortgages they could not afford, fueled by the belief that housing prices would continue to rise indefinitely. When the housing bubble burst, many homeowners faced foreclosure, further destabilizing the financial system. Understanding the roles of these key players is essential in preventing similar crises in the future.', role='assistant', function_call=None, tool_calls=None))], created=1715353115, model='gpt-3.5-turbo-0125', object='chat.completion', system_fingerprint=None, usage=CompletionUsage(completion_tokens=179, prompt_tokens=1167, total_tokens=1346))\n",
            "Warning: gpt-3.5-turbo may update over time. Returning num tokens assuming gpt-3.5-turbo-0613.\n",
            "ChatCompletion(id='chatcmpl-9NLzjlsspFF0j344U9LA6cGFEvSdM', choices=[Choice(finish_reason='stop', index=0, logprobs=None, message=ChatCompletionMessage(content='The 2008 Financial Crisis had multiple underlying causes, each contributing to the eventual economic downturn. The housing bubble and the proliferation of subprime mortgages were primary drivers of the crisis. Lenders offered high-risk mortgages to borrowers with poor credit, leading to a surge in housing prices that eventually collapsed, leaving many homeowners underwater on their loans. Investment banks and rating agencies played a crucial role by packaging these risky mortgages into complex financial products and giving them top credit ratings, misleading investors about the actual risks involved. Regulatory agencies also failed in their oversight responsibilities, allowing these risky practices to flourish unchecked. Furthermore, the deregulation of the financial industry in the years leading up to the crisis removed important safeguards, leading to excessive risk-taking and a lack of accountability within the financial sector. These combined factors created a perfect storm that ultimately precipitated the 2008 Financial Crisis.', role='assistant', function_call=None, tool_calls=None))], created=1715353119, model='gpt-3.5-turbo-0125', object='chat.completion', system_fingerprint=None, usage=CompletionUsage(completion_tokens=171, prompt_tokens=1401, total_tokens=1572))\n",
            "Warning: gpt-3.5-turbo may update over time. Returning num tokens assuming gpt-3.5-turbo-0613.\n",
            "ChatCompletion(id='chatcmpl-9NLzoKehlRxrDDmgNtAI00ehtg0k8', choices=[Choice(finish_reason='stop', index=0, logprobs=None, message=ChatCompletionMessage(content='The 2008 Financial Crisis had a profound domino effect that extended beyond the borders of the United States. The crisis spread rapidly to the global financial system, as interconnected markets faced contagion from toxic assets and failing institutions. This interconnectedness led to a worldwide credit crunch, causing financial institutions in various countries to struggle and even fail. The impact on the real economy was significant, with businesses facing restricted credit access, declining consumer demand, and plummeting asset prices. This, in turn, led to widespread job losses, factory closures, and a sharp decline in economic growth. The culmination of these factors resulted in a severe economic recession, with many countries experiencing a prolonged period of economic hardship and financial instability.', role='assistant', function_call=None, tool_calls=None))], created=1715353124, model='gpt-3.5-turbo-0125', object='chat.completion', system_fingerprint=None, usage=CompletionUsage(completion_tokens=141, prompt_tokens=1616, total_tokens=1757))\n",
            "Warning: gpt-3.5-turbo may update over time. Returning num tokens assuming gpt-3.5-turbo-0613.\n",
            "ChatCompletion(id='chatcmpl-9NLzr6uLnFWoEmTGHLZl94OLaGSsP', choices=[Choice(finish_reason='stop', index=0, logprobs=None, message=ChatCompletionMessage(content='In response to the 2008 Financial Crisis, the government implemented several key initiatives to stabilize the economy and prevent a complete financial collapse. The Troubled Asset Relief Program (TARP) was introduced to purchase troubled assets from financial institutions and stabilize the financial system. The program provided much-needed liquidity to banks and helped restore confidence in the banking sector. The American Recovery and Reinvestment Act aimed to stimulate economic growth through various measures, such as infrastructure investments, tax incentives, and social welfare programs. Additionally, the Dodd-Frank Wall Street Reform and Consumer Protection Act was enacted to address the regulatory gaps and risky behaviors that led to the crisis. The legislation introduced stricter regulations for financial institutions, increased transparency in the derivatives market, and established the Consumer Financial Protection Bureau to oversee consumer financial products and services. These government responses played a crucial role in stabilizing the economy and implementing reforms to prevent future financial crises.', role='assistant', function_call=None, tool_calls=None))], created=1715353127, model='gpt-3.5-turbo-0125', object='chat.completion', system_fingerprint=None, usage=CompletionUsage(completion_tokens=179, prompt_tokens=1808, total_tokens=1987))\n",
            "Warning: gpt-3.5-turbo may update over time. Returning num tokens assuming gpt-3.5-turbo-0613.\n",
            "Removed a message to reduce token count!\n",
            "Warning: gpt-3.5-turbo may update over time. Returning num tokens assuming gpt-3.5-turbo-0613.\n",
            "Removed a message to reduce token count!\n",
            "Warning: gpt-3.5-turbo may update over time. Returning num tokens assuming gpt-3.5-turbo-0613.\n",
            "Removed a message to reduce token count!\n",
            "Warning: gpt-3.5-turbo may update over time. Returning num tokens assuming gpt-3.5-turbo-0613.\n",
            "ChatCompletion(id='chatcmpl-9NLzwuCuIK8TbFso9GtQMznXS86Dg', choices=[Choice(finish_reason='stop', index=0, logprobs=None, message=ChatCompletionMessage(content='The effects of the 2008 Financial Crisis on financial institutions were profound and wide-reaching. Many banks faced imminent collapse due to their exposure to toxic assets, triggering a wave of bank failures and requiring government intervention in the form of bailouts to prevent a complete systemic meltdown. The stock market experienced a sharp decline, erasing trillions of dollars in market value and eroding investor confidence. This decline in stock prices further exacerbated the financial turmoil, pushing many institutions to the brink of insolvency. The crisis also led to a severe credit freeze, as banks became reluctant to lend to businesses and individuals, tightening credit conditions and hampering economic growth. This credit crunch had a ripple effect throughout the economy, constraining consumer spending, hindering corporate investments, and deepening the overall impact of the crisis.', role='assistant', function_call=None, tool_calls=None))], created=1715353132, model='gpt-3.5-turbo-0125', object='chat.completion', system_fingerprint=None, usage=CompletionUsage(completion_tokens=159, prompt_tokens=2024, total_tokens=2183))\n",
            "Warning: gpt-3.5-turbo may update over time. Returning num tokens assuming gpt-3.5-turbo-0613.\n",
            "Removed a message to reduce token count!\n",
            "Warning: gpt-3.5-turbo may update over time. Returning num tokens assuming gpt-3.5-turbo-0613.\n",
            "Removed a message to reduce token count!\n",
            "Warning: gpt-3.5-turbo may update over time. Returning num tokens assuming gpt-3.5-turbo-0613.\n",
            "ChatCompletion(id='chatcmpl-9NM00s5IEQ9WCyisVwjJkGxUJKCa0', choices=[Choice(finish_reason='stop', index=0, logprobs=None, message=ChatCompletionMessage(content=\"Homeowners and borrowers bore a heavy burden in the aftermath of the 2008 Financial Crisis. The surge in foreclosures and bankruptcies left many families without homes and struggling to recover financially. As housing prices plummeted, millions of homeowners found themselves underwater on their mortgages, owing more than their homes were worth. This loss of home equity not only eroded household wealth but also dampened consumer spending and confidence. The crisis also had a detrimental effect on credit scores, as missed mortgage payments and foreclosures tarnished many individuals' credit histories. The impact of damaged credit scores made it difficult for borrowers to access credit in the future, hindering their ability to make major purchases or secure favorable loan terms. Overall, the effects on homeowners and borrowers were profound and long-lasting, highlighting the devastating consequences of the financial crisis on individuals and families.\", role='assistant', function_call=None, tool_calls=None))], created=1715353136, model='gpt-3.5-turbo-0125', object='chat.completion', system_fingerprint=None, usage=CompletionUsage(completion_tokens=169, prompt_tokens=1994, total_tokens=2163))\n",
            "Warning: gpt-3.5-turbo may update over time. Returning num tokens assuming gpt-3.5-turbo-0613.\n",
            "Removed a message to reduce token count!\n",
            "Warning: gpt-3.5-turbo may update over time. Returning num tokens assuming gpt-3.5-turbo-0613.\n",
            "Removed a message to reduce token count!\n",
            "Warning: gpt-3.5-turbo may update over time. Returning num tokens assuming gpt-3.5-turbo-0613.\n",
            "ChatCompletion(id='chatcmpl-9NM04pnPx0ouOl9u2R8OWxiUJZ4dj', choices=[Choice(finish_reason='stop', index=0, logprobs=None, message=ChatCompletionMessage(content='The 2008 Financial Crisis reverberated across the global economy, giving rise to what is now known as the Global Financial Crisis. Financial markets worldwide were interconnected, leading to contagion effects that spread rapidly to other countries. Developing countries, in particular, were hard hit by the crisis, as capital flows dried up, commodity prices plummeted, and demand for exports waned. Many developing nations faced liquidity crises, currency depreciations, and economic contractions, exacerbating poverty and inequality. International organizations, such as the International Monetary Fund (IMF) and the World Bank, played a crucial role in providing financial assistance, technical expertise, and policy advice to help countries navigate the crisis. These organizations worked to stabilize economies, implement reforms, and mitigate the impact of the crisis on the most vulnerable populations. The 2008 Financial Crisis underscored the interconnectedness of the global economy and highlighted the need for coordinated international action to address systemic risks and promote sustainable economic growth.', role='assistant', function_call=None, tool_calls=None))], created=1715353140, model='gpt-3.5-turbo-0125', object='chat.completion', system_fingerprint=None, usage=CompletionUsage(completion_tokens=194, prompt_tokens=1974, total_tokens=2168))\n",
            "Warning: gpt-3.5-turbo may update over time. Returning num tokens assuming gpt-3.5-turbo-0613.\n",
            "Removed a message to reduce token count!\n",
            "Warning: gpt-3.5-turbo may update over time. Returning num tokens assuming gpt-3.5-turbo-0613.\n",
            "Removed a message to reduce token count!\n",
            "Warning: gpt-3.5-turbo may update over time. Returning num tokens assuming gpt-3.5-turbo-0613.\n",
            "ChatCompletion(id='chatcmpl-9NM08Iec9ybE0NC0aJZonkWIJon7f', choices=[Choice(finish_reason='stop', index=0, logprobs=None, message=ChatCompletionMessage(content='The response to the 2008 Financial Crisis was not without its criticisms and controversies. One of the most contentious issues was the government\\'s decision to bail out large financial institutions deemed \"too big to fail.\" Critics argued that these bailouts prioritized Wall Street banks over Main Street individuals and incentivized risky behavior by rewarding firms for their recklessness. The extensive government intervention in the economy, including the injection of taxpayer money into struggling banks and industries, sparked debates over the appropriate role of government in the free market. Additionally, the role of Wall Street in fueling the crisis through complex financial products, excessive risk-taking, and lack of transparency came under intense scrutiny. The revelation of unethical practices, conflicts of interest, and the influence of powerful financial institutions in shaping regulatory policies added to the public distrust and raised questions about accountability and systemic reform within the financial sector.', role='assistant', function_call=None, tool_calls=None))], created=1715353144, model='gpt-3.5-turbo-0125', object='chat.completion', system_fingerprint=None, usage=CompletionUsage(completion_tokens=171, prompt_tokens=2000, total_tokens=2171))\n",
            "Warning: gpt-3.5-turbo may update over time. Returning num tokens assuming gpt-3.5-turbo-0613.\n",
            "Removed a message to reduce token count!\n",
            "Warning: gpt-3.5-turbo may update over time. Returning num tokens assuming gpt-3.5-turbo-0613.\n",
            "Removed a message to reduce token count!\n",
            "Warning: gpt-3.5-turbo may update over time. Returning num tokens assuming gpt-3.5-turbo-0613.\n",
            "ChatCompletion(id='chatcmpl-9NM0D1Rybh00t0UTgzKxaOFMVDTUg', choices=[Choice(finish_reason='stop', index=0, logprobs=None, message=ChatCompletionMessage(content='The 2008 Financial Crisis served as a harsh lesson that highlighted the critical importance of stronger regulation in the financial sector. In its aftermath, policymakers and regulators recognized the necessity of implementing robust oversight mechanisms to prevent excessive risk-taking and ensure the stability of the financial system. Transparency emerged as a key foundation for restoring trust and confidence in the markets, as the crisis exposed the detrimental impact of opaque practices and lack of accountability. Moreover, the need for better risk management practices became evident, with institutions urged to proactively identify, assess, and mitigate risks to prevent future crises. The lessons learned from the 2008 crisis underscored the essential principles of regulation, transparency, and risk management as fundamental pillars for a resilient and healthy financial system.', role='assistant', function_call=None, tool_calls=None))], created=1715353149, model='gpt-3.5-turbo-0125', object='chat.completion', system_fingerprint=None, usage=CompletionUsage(completion_tokens=146, prompt_tokens=1984, total_tokens=2130))\n",
            "Warning: gpt-3.5-turbo may update over time. Returning num tokens assuming gpt-3.5-turbo-0613.\n",
            "Removed a message to reduce token count!\n",
            "Warning: gpt-3.5-turbo may update over time. Returning num tokens assuming gpt-3.5-turbo-0613.\n",
            "Removed a message to reduce token count!\n",
            "Warning: gpt-3.5-turbo may update over time. Returning num tokens assuming gpt-3.5-turbo-0613.\n",
            "ChatCompletion(id='chatcmpl-9NM0GmqLxFQPFA8c0AMEvEbL6UAdo', choices=[Choice(finish_reason='stop', index=0, logprobs=None, message=ChatCompletionMessage(content='In response to the 2008 Financial Crisis, significant reforms and changes were enacted to address the systemic vulnerabilities and regulatory gaps that contributed to the meltdown. The Dodd-Frank Wall Street Reform and Consumer Protection Act was a landmark piece of legislation that aimed to overhaul the financial regulatory system in the United States. The Act introduced a wide range of measures, including the establishment of the Financial Stability Oversight Council, the Volcker Rule to restrict proprietary trading by banks, and the creation of the Consumer Financial Protection Bureau. Regulatory agencies also underwent transformations to enhance supervision and enforcement capabilities, with increased focus on monitoring systemic risks and promoting market integrity. The financial industry itself experienced substantial changes, as institutions adapted to a new era of heightened scrutiny and accountability. Stricter capital requirements, stress testing protocols, and enhanced risk management practices became the norm, signaling a shift towards a more resilient and regulated financial landscape post-crisis.', role='assistant', function_call=None, tool_calls=None))], created=1715353152, model='gpt-3.5-turbo-0125', object='chat.completion', system_fingerprint=None, usage=CompletionUsage(completion_tokens=179, prompt_tokens=1990, total_tokens=2169))\n",
            "Warning: gpt-3.5-turbo may update over time. Returning num tokens assuming gpt-3.5-turbo-0613.\n",
            "Removed a message to reduce token count!\n",
            "Warning: gpt-3.5-turbo may update over time. Returning num tokens assuming gpt-3.5-turbo-0613.\n",
            "Removed a message to reduce token count!\n",
            "Warning: gpt-3.5-turbo may update over time. Returning num tokens assuming gpt-3.5-turbo-0613.\n",
            "ChatCompletion(id='chatcmpl-9NM0LNriDX1A5zuy1fnL8fL5fWXnl', choices=[Choice(finish_reason='stop', index=0, logprobs=None, message=ChatCompletionMessage(content='Following the 2008 Financial Crisis, the US economy embarked on a gradual path to recovery, marked by a slow but steady rebound from the depths of the downturn. Government stimulus measures, monetary policy interventions, and financial sector reforms played crucial roles in supporting economic growth and restoring confidence. However, the crisis left a lasting impact on the job market, with high levels of unemployment and underemployment persisting for an extended period. While jobs were slowly added back to the economy, the quality of employment, wage growth, and workforce participation rates remained areas of concern. Looking ahead, the future of the US economy post-crisis is characterized by ongoing challenges and uncertainties, including the need to address income inequality, structural shifts in industries, and the long-term effects of the crisis on economic prospects. Policymakers, businesses, and individuals continue to navigate a complex environment shaped by the lessons learned from the crisis and the evolving dynamics of a post-recession economy.', role='assistant', function_call=None, tool_calls=None))], created=1715353157, model='gpt-3.5-turbo-0125', object='chat.completion', system_fingerprint=None, usage=CompletionUsage(completion_tokens=190, prompt_tokens=1978, total_tokens=2168))\n",
            "Warning: gpt-3.5-turbo may update over time. Returning num tokens assuming gpt-3.5-turbo-0613.\n",
            "Removed a message to reduce token count!\n",
            "Warning: gpt-3.5-turbo may update over time. Returning num tokens assuming gpt-3.5-turbo-0613.\n",
            "Removed a message to reduce token count!\n",
            "Warning: gpt-3.5-turbo may update over time. Returning num tokens assuming gpt-3.5-turbo-0613.\n",
            "ChatCompletion(id='chatcmpl-9NM0OVYtstvMnW837U77sma3ojPCN', choices=[Choice(finish_reason='stop', index=0, logprobs=None, message=ChatCompletionMessage(content='The 2008 Financial Crisis drew comparisons to significant historical events, highlighting both similarities and differences with previous financial crises. The Great Depression of the 1930s remains one of the most severe economic downturns in history, characterized by widespread unemployment, bank failures, and deflation. While the causes of the Great Depression differed from those of the 2008 crisis, both had far-reaching impacts on individuals, businesses, and the broader economy. The Savings and Loan Crisis of the 1980s and early 1990s, on the other hand, stemmed from failures in the thrift industry and lax regulatory oversight. The crisis led to the closure of hundreds of savings and loan institutions, prompting government intervention to stabilize the sector. In contrast, the Dot-Com Bubble of the late 1990s and early 2000s was fueled by speculative investment in technology stocks, resulting in a stock market crash when the bubble burst. Each of these historical crises offers valuable lessons and insights into the root causes, responses, and implications for future financial stability and regulatory practices.', role='assistant', function_call=None, tool_calls=None))], created=1715353160, model='gpt-3.5-turbo-0125', object='chat.completion', system_fingerprint=None, usage=CompletionUsage(completion_tokens=213, prompt_tokens=2012, total_tokens=2225))\n",
            "Warning: gpt-3.5-turbo may update over time. Returning num tokens assuming gpt-3.5-turbo-0613.\n",
            "Removed a message to reduce token count!\n",
            "Warning: gpt-3.5-turbo may update over time. Returning num tokens assuming gpt-3.5-turbo-0613.\n",
            "Removed a message to reduce token count!\n",
            "Warning: gpt-3.5-turbo may update over time. Returning num tokens assuming gpt-3.5-turbo-0613.\n",
            "ChatCompletion(id='chatcmpl-9NM0TnNmFhZdUmaFuYYMXCFvKqwyn', choices=[Choice(finish_reason='stop', index=0, logprobs=None, message=ChatCompletionMessage(content='The 2008 Financial Crisis magnified existing economic and social disparities, leading to a widening wealth gap between the affluent and the middle and lower-income segments of society. The recession disproportionately affected vulnerable populations, exacerbating inequality and hindering upward economic mobility for many. In response to perceived injustices and inequalities, the crisis also catalyzed the rise of populist movements that criticized established economic and political elites for their role in the turmoil. These movements tapped into public discontent, challenging traditional power structures and advocating for policies that appealed to aggrieved segments of the population. Moreover, the long-term effects of the crisis on the economy are still unfolding, with enduring implications for growth, employment, and public trust in institutions. Addressing the economic and social impacts of the crisis remains a pressing challenge, requiring comprehensive strategies to promote inclusive growth, social cohesion, and sustainable development in the aftermath of a seismic event that reshaped economic landscapes and societal dynamics.', role='assistant', function_call=None, tool_calls=None))], created=1715353165, model='gpt-3.5-turbo-0125', object='chat.completion', system_fingerprint=None, usage=CompletionUsage(completion_tokens=186, prompt_tokens=2057, total_tokens=2243))\n",
            "Warning: gpt-3.5-turbo may update over time. Returning num tokens assuming gpt-3.5-turbo-0613.\n",
            "Removed a message to reduce token count!\n",
            "Warning: gpt-3.5-turbo may update over time. Returning num tokens assuming gpt-3.5-turbo-0613.\n",
            "Removed a message to reduce token count!\n",
            "Warning: gpt-3.5-turbo may update over time. Returning num tokens assuming gpt-3.5-turbo-0613.\n",
            "ChatCompletion(id='chatcmpl-9NM0YCfSKObGwmhMWZeS4S2tgP2T7', choices=[Choice(finish_reason='stop', index=0, logprobs=None, message=ChatCompletionMessage(content='Technology played a significant role in both shaping and responding to the 2008 Financial Crisis. In the lead-up to the crisis, the financial industry witnessed a rapid expansion in the use of complex technological tools and algorithms for trading, risk assessment, and decision-making processes. While technology was intended to enhance efficiency and innovation, its reliance on automated systems and opaque algorithms also contributed to the rapid spread of financial contagion and market disruptions during the crisis. The crisis underscored the vulnerabilities of a technologically driven financial sector and highlighted the importance of oversight and risk management in a digital age. Looking ahead, the future of the financial industry is likely to be increasingly intertwined with technological advancements, including artificial intelligence, big data analytics, and blockchain technology. As financial institutions adapt to a rapidly evolving digital landscape, the need to balance innovation with regulatory safeguards and ethical considerations will shape the trajectory of the industry in addressing challenges and opportunities arising from technological transformations post-crisis.', role='assistant', function_call=None, tool_calls=None))], created=1715353170, model='gpt-3.5-turbo-0125', object='chat.completion', system_fingerprint=None, usage=CompletionUsage(completion_tokens=189, prompt_tokens=2055, total_tokens=2244))\n",
            "Warning: gpt-3.5-turbo may update over time. Returning num tokens assuming gpt-3.5-turbo-0613.\n",
            "Removed a message to reduce token count!\n",
            "Warning: gpt-3.5-turbo may update over time. Returning num tokens assuming gpt-3.5-turbo-0613.\n",
            "Removed a message to reduce token count!\n",
            "Warning: gpt-3.5-turbo may update over time. Returning num tokens assuming gpt-3.5-turbo-0613.\n",
            "ChatCompletion(id='chatcmpl-9NM0cixrYFpv8zOHPjLXtpZb1lh44', choices=[Choice(finish_reason='stop', index=0, logprobs=None, message=ChatCompletionMessage(content='In conclusion, the 2008 Financial Crisis was a watershed event that exposed vulnerabilities in the global financial system and triggered a cascade of economic and social repercussions. The crisis, fueled by a confluence of factors including the housing bubble, risky financial instruments, regulatory failures, and excessive risk-taking, resulted in widespread market turmoil, bank failures, and a deep recession. Understanding the causes and effects of the crisis is paramount in order to prevent similar events in the future, emphasizing the critical importance of robust regulation, transparency, and risk management in safeguarding financial stability. As we reflect on the enduring impact of the crisis, it serves as a stark reminder of the fragility of the financial system and the need for continuous vigilance and reform to build a more resilient and equitable economic framework for future generations.', role='assistant', function_call=None, tool_calls=None))], created=1715353174, model='gpt-3.5-turbo-0125', object='chat.completion', system_fingerprint=None, usage=CompletionUsage(completion_tokens=158, prompt_tokens=2068, total_tokens=2226))\n",
            "Warning: gpt-3.5-turbo may update over time. Returning num tokens assuming gpt-3.5-turbo-0613.\n",
            "Removed a message to reduce token count!\n",
            "Warning: gpt-3.5-turbo may update over time. Returning num tokens assuming gpt-3.5-turbo-0613.\n",
            "Removed a message to reduce token count!\n",
            "Warning: gpt-3.5-turbo may update over time. Returning num tokens assuming gpt-3.5-turbo-0613.\n",
            "ChatCompletion(id='chatcmpl-9NM0fkdAF0dY2Xy6GM0lsc3Cs2W7W', choices=[Choice(finish_reason='stop', index=0, logprobs=None, message=ChatCompletionMessage(content='For readers interested in exploring more about the 2008 Financial Crisis and its implications, a comprehensive list of sources is essential to deepen their understanding of the subject. The references section provides a compilation of primary and secondary sources, including academic papers, reports, books, and articles, that were consulted in the creation of the content. Additionally, readers seeking a broader perspective or more in-depth analysis can refer to the additional reading recommendations, which offer a curated selection of relevant materials for continued exploration. Moreover, for those looking to delve into specific aspects or conduct further investigations into related topics, the section on further research suggests avenues for expanding knowledge and engaging with ongoing scholarship and developments in the field of financial crises and economic history.', role='assistant', function_call=None, tool_calls=None))], created=1715353177, model='gpt-3.5-turbo-0125', object='chat.completion', system_fingerprint=None, usage=CompletionUsage(completion_tokens=142, prompt_tokens=2071, total_tokens=2213))\n",
            "Warning: gpt-3.5-turbo may update over time. Returning num tokens assuming gpt-3.5-turbo-0613.\n",
            "Removed a message to reduce token count!\n",
            "Warning: gpt-3.5-turbo may update over time. Returning num tokens assuming gpt-3.5-turbo-0613.\n",
            "Removed a message to reduce token count!\n",
            "Warning: gpt-3.5-turbo may update over time. Returning num tokens assuming gpt-3.5-turbo-0613.\n",
            "ChatCompletion(id='chatcmpl-9NM0jW0kmDqzaWyvLuDYw9w3VuKi7', choices=[Choice(finish_reason='stop', index=0, logprobs=None, message=ChatCompletionMessage(content='The glossary section serves as a valuable reference for readers to familiarize themselves with key terms and definitions related to the 2008 Financial Crisis and its aftermath. By providing concise explanations and clarifications of technical terminology and industry jargon used in discussions about the crisis, the glossary enhances comprehension and facilitates communication on complex economic concepts. Readers can use this resource to gain a better grasp of the language and context surrounding the crisis, empowering them to engage more effectively with the content and discussions presented in the articles and reports.', role='assistant', function_call=None, tool_calls=None))], created=1715353181, model='gpt-3.5-turbo-0125', object='chat.completion', system_fingerprint=None, usage=CompletionUsage(completion_tokens=103, prompt_tokens=2014, total_tokens=2117))\n",
            "Warning: gpt-3.5-turbo may update over time. Returning num tokens assuming gpt-3.5-turbo-0613.\n",
            "Removed a message to reduce token count!\n",
            "Warning: gpt-3.5-turbo may update over time. Returning num tokens assuming gpt-3.5-turbo-0613.\n",
            "Removed a message to reduce token count!\n",
            "Warning: gpt-3.5-turbo may update over time. Returning num tokens assuming gpt-3.5-turbo-0613.\n",
            "ChatCompletion(id='chatcmpl-9NM0mij5XFIT2yZaT2NTJcHiMqvKX', choices=[Choice(finish_reason='stop', index=0, logprobs=None, message=ChatCompletionMessage(content=\"The appendix section of the website offers supplementary materials to enrich readers' understanding of the 2008 Financial Crisis. A detailed timeline of the crisis provides a chronological overview of significant events, policy responses, and market developments that unfolded during the tumultuous period, offering a historical context for the crisis and its reverberations. Additionally, the inclusion of financial statements from key players such as major financial institutions and regulatory bodies provides transparency and insights into the financial health, performance, and decision-making processes of these entities during the crisis. Furthermore, statistical data on the crisis, including key metrics such as unemployment rates, GDP contractions, and market indices, offers quantitative analysis and empirical evidence to support the narrative of the crisis's impact on the economy and society. These appendices enhance the depth and credibility of the content by offering readers access to valuable resources and empirical evidence for further exploration and examination.\", role='assistant', function_call=None, tool_calls=None))], created=1715353184, model='gpt-3.5-turbo-0125', object='chat.completion', system_fingerprint=None, usage=CompletionUsage(completion_tokens=175, prompt_tokens=1924, total_tokens=2099))\n"
          ]
        }
      ],
      "source": [
        "# Loop over all of the headings and generate a chunk for each one\n",
        "for heading in article_headings:\n",
        "    \n",
        "    # Add on a user prompt to the chat history object:\n",
        "    chat_history.append(\n",
        "        {\"role\": \"user\", \"content\": f\"Write a short paragraph about {heading}\"}\n",
        "    )\n",
        "\n",
        "    # Tell ChatGPT to generate a response:\n",
        "    response = chatgpt_completion_with_backoff(\n",
        "        model=\"gpt-3.5-turbo\", messages=chat_history\n",
        "    )\n",
        "\n",
        "    # Get the response from the ChatGPT object:\n",
        "    chat_history.append(parse_for_chat_history(response))\n",
        "\n",
        "    # Whilst the Chat history object is more than 2048 tokens, remove the oldest non-system message:\n",
        "    while num_tokens_from_messages(chat_history, model='gpt-3.5-turbo') > 2048:\n",
        "        # Find the index of the first non-system message:\n",
        "        non_system_msg_index = next(\n",
        "            (i for i, msg in enumerate(chat_history) if msg[\"role\"] != \"system\"), None\n",
        "        )\n",
        "\n",
        "        # If there is a non-system message, remove it:\n",
        "        if non_system_msg_index is not None:\n",
        "            chat_history.pop(non_system_msg_index)\n",
        "        \n",
        "        print(\"Removed a message to reduce token count!\")\n",
        "\n",
        "    # Print the response:\n",
        "    print(response)"
      ]
    },
    {
      "cell_type": "code",
      "execution_count": null,
      "metadata": {},
      "outputs": [],
      "source": []
    }
  ],
  "metadata": {
    "colab": {
      "provenance": []
    },
    "kernelspec": {
      "display_name": "Python 3",
      "name": "python3"
    },
    "language_info": {
      "codemirror_mode": {
        "name": "ipython",
        "version": 3
      },
      "file_extension": ".py",
      "mimetype": "text/x-python",
      "name": "python",
      "nbconvert_exporter": "python",
      "pygments_lexer": "ipython3",
      "version": "3.9.13"
    }
  },
  "nbformat": 4,
  "nbformat_minor": 0
}
