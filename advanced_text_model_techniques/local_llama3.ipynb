{
 "cells": [
  {
   "cell_type": "markdown",
   "metadata": {},
   "source": [
    "You must run this notebook locally after creating an LMStudio Server (download it here):\n",
    "- https://lmstudio.ai/"
   ]
  },
  {
   "cell_type": "code",
   "execution_count": null,
   "metadata": {},
   "outputs": [],
   "source": [
    "%pip install langchain langchain_openai --upgrade"
   ]
  },
  {
   "cell_type": "code",
   "execution_count": null,
   "metadata": {},
   "outputs": [],
   "source": [
    "from langchain_core.messages import SystemMessage, HumanMessage\n",
    "from langchain_openai import ChatOpenAI\n",
    "from langchain.output_parsers import PydanticOutputParser\n",
    "from langchain_core.pydantic_v1 import Field, BaseModel\n",
    "from typing import List"
   ]
  },
  {
   "cell_type": "code",
   "execution_count": null,
   "metadata": {},
   "outputs": [],
   "source": [
    "import os\n",
    "\n",
    "os.environ[\"OPENAI_API_KEY\"] = \"API_KEY_HERE\""
   ]
  },
  {
   "cell_type": "code",
   "execution_count": null,
   "metadata": {},
   "outputs": [],
   "source": [
    "# Article Outline:\n",
    "class ArticleSectionOutline(BaseModel):\n",
    "    title: str = Field(description=\"The title of the section\")\n",
    "\n",
    "class ArticleOutline(BaseModel):\n",
    "    title: str = Field(description=\"The title of the article\")\n",
    "    sections: List[ArticleSectionOutline] = Field(description=\"All of the sections of the article\")\n",
    "\n",
    "parser = PydanticOutputParser(pydantic_object=ArticleOutline)\n",
    "format_instructions = parser.get_format_instructions()\n",
    "\n",
    "llm: ChatOpenAI = ChatOpenAI(\n",
    "    base_url=\"http://localhost:1234/v1\",\n",
    "    temperature=0,\n",
    "    api_key=\"not-needed\",\n",
    "    model_kwargs={\"stop\": ['```']},\n",
    ")\n",
    "\n",
    "article_plan = llm.invoke(\n",
    "    [\n",
    "        SystemMessage(\n",
    "            content=f\"\"\"Act as a SEO specialist. \n",
    "                  You are very specialised in generating highly optimized SEO briefs for content marketers. \n",
    "                  You must respond in JSON format only\n",
    "                  {format_instructions}\n",
    "\n",
    "                  You must finish it with }} ```\n",
    "                  \"\"\"\n",
    "        ),\n",
    "        HumanMessage(\n",
    "            content=\"\"\"I want you to generate an effective article plan for me on Digital Marketing\n",
    "            \\n```\"\"\"\n",
    "        ),\n",
    "    ]\n",
    ")"
   ]
  },
  {
   "cell_type": "code",
   "execution_count": null,
   "metadata": {},
   "outputs": [],
   "source": [
    "article_outline = parser.parse(article_plan.content)"
   ]
  },
  {
   "cell_type": "code",
   "execution_count": null,
   "metadata": {},
   "outputs": [],
   "source": [
    "article_outline.sections"
   ]
  },
  {
   "cell_type": "markdown",
   "metadata": {},
   "source": [
    "## Additional Resources For JSON Parsing:\n",
    "\n",
    "- https://github.com/noamgat/lm-format-enforcer\n",
    "- https://github.com/ollama/ollama/tree/main/examples/python-json-datagenerator"
   ]
  }
 ],
 "metadata": {
  "kernelspec": {
   "display_name": "base",
   "language": "python",
   "name": "python3"
  },
  "language_info": {
   "codemirror_mode": {
    "name": "ipython",
    "version": 3
   },
   "file_extension": ".py",
   "mimetype": "text/x-python",
   "name": "python",
   "nbconvert_exporter": "python",
   "pygments_lexer": "ipython3",
   "version": "3.9.13"
  }
 },
 "nbformat": 4,
 "nbformat_minor": 2
}
