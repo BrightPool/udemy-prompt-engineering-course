{
  "cells": [
    {
      "cell_type": "code",
      "execution_count": 1,
      "metadata": {
        "colab": {
          "base_uri": "https://localhost:8080/"
        },
        "id": "h84qcT-tAQZk",
        "outputId": "ce2b8f78-3b73-4ef3-821a-4ed97489a233"
      },
      "outputs": [],
      "source": [
        "# get the openai secret key\n",
        "import getpass\n",
        "\n",
        "secret_key = getpass.getpass('Please enter your openai key: ') # https://platform.openai.com/account/api-keys"
      ]
    },
    {
      "cell_type": "code",
      "execution_count": 2,
      "metadata": {
        "colab": {
          "base_uri": "https://localhost:8080/"
        },
        "id": "Ueu0FNZXAUKt",
        "outputId": "2450e4bf-a9a8-47ed-b8f4-cd584e568f69"
      },
      "outputs": [
        {
          "name": "stdout",
          "output_type": "stream",
          "text": [
            "Requirement already satisfied: openai in /Users/dan/anaconda3/lib/python3.11/site-packages (1.3.3)\n",
            "Requirement already satisfied: anyio<4,>=3.5.0 in /Users/dan/anaconda3/lib/python3.11/site-packages (from openai) (3.5.0)\n",
            "Requirement already satisfied: distro<2,>=1.7.0 in /Users/dan/anaconda3/lib/python3.11/site-packages (from openai) (1.8.0)\n",
            "Requirement already satisfied: httpx<1,>=0.23.0 in /Users/dan/anaconda3/lib/python3.11/site-packages (from openai) (0.25.1)\n",
            "Requirement already satisfied: pydantic<3,>=1.9.0 in /Users/dan/anaconda3/lib/python3.11/site-packages (from openai) (1.10.12)\n",
            "Requirement already satisfied: tqdm>4 in /Users/dan/anaconda3/lib/python3.11/site-packages (from openai) (4.65.0)\n",
            "Requirement already satisfied: typing-extensions<5,>=4.5 in /Users/dan/anaconda3/lib/python3.11/site-packages (from openai) (4.6.3)\n",
            "Requirement already satisfied: idna>=2.8 in /Users/dan/anaconda3/lib/python3.11/site-packages (from anyio<4,>=3.5.0->openai) (3.4)\n",
            "Requirement already satisfied: sniffio>=1.1 in /Users/dan/anaconda3/lib/python3.11/site-packages (from anyio<4,>=3.5.0->openai) (1.2.0)\n",
            "Requirement already satisfied: certifi in /Users/dan/anaconda3/lib/python3.11/site-packages (from httpx<1,>=0.23.0->openai) (2023.5.7)\n",
            "Requirement already satisfied: httpcore in /Users/dan/anaconda3/lib/python3.11/site-packages (from httpx<1,>=0.23.0->openai) (1.0.2)\n",
            "Requirement already satisfied: h11<0.15,>=0.13 in /Users/dan/anaconda3/lib/python3.11/site-packages (from httpcore->httpx<1,>=0.23.0->openai) (0.14.0)\n"
          ]
        }
      ],
      "source": [
        "!pip install openai"
      ]
    },
    {
      "cell_type": "code",
      "execution_count": 6,
      "metadata": {
        "colab": {
          "base_uri": "https://localhost:8080/"
        },
        "id": "74upFHOR_01p",
        "outputId": "f6d9ce38-e032-4355-ae5e-e2bb2aef06b4"
      },
      "outputs": [
        {
          "name": "stdout",
          "output_type": "stream",
          "text": [
            "  variant                                             prompt  \\\n",
            "0       A  Product description: A pair of shoes that can ...   \n",
            "1       A  Product description: A pair of shoes that can ...   \n",
            "2       A  Product description: A pair of shoes that can ...   \n",
            "3       A  Product description: A pair of shoes that can ...   \n",
            "4       A  Product description: A pair of shoes that can ...   \n",
            "5       B  Product description: A home milkshake maker.\\n...   \n",
            "6       B  Product description: A home milkshake maker.\\n...   \n",
            "7       B  Product description: A home milkshake maker.\\n...   \n",
            "8       B  Product description: A home milkshake maker.\\n...   \n",
            "9       B  Product description: A home milkshake maker.\\n...   \n",
            "\n",
            "                                            response  \n",
            "0  1. Omni-Fit Shoes\\n2. AdaptFit Footwear\\n3. Un...  \n",
            "1  1. AdaptaFit Shoes\\n2. OmniFit Footwear\\n3. Un...  \n",
            "2  1. AdaptAble Shoes\\n2. FitFlex Footwear\\n3. Om...  \n",
            "3  1. FlexFit Shoes\\n2. OmniFit Footwear\\n3. Adap...  \n",
            "4  1. Adaptafit Shoes\\n2. OmniFit Footwear\\n3. Un...  \n",
            "5             AdaptFit, OmniFit, PerfectFit, FitFlex  \n",
            "6     FootFlex, OmniFit Shoes, AdaptFit, PerfectFit.  \n",
            "7          FitFlex, OmniFit, AdaptFit, UniversalFit.  \n",
            "8           AdaptoFit, OmniShoes, FitFlex, FlexiFit.  \n",
            "9            AdaptFit, OmniFit, FlexiFit, PerfectFit  \n"
          ]
        }
      ],
      "source": [
        "# Define two variants of the prompt\n",
        "prompt_A = \"\"\"Product description: A pair of shoes that can fit any foot size.\n",
        "Seed words: adaptable, fit, omni-fit.\n",
        "Product names:\"\"\"\n",
        "\n",
        "prompt_B = \"\"\"Product description: A home milkshake maker.\n",
        "Seed words: fast, healthy, compact.\n",
        "Product names: HomeShaker, Fit Shaker, QuickShake, Shake Maker\n",
        "\n",
        "Product description: A watch that can tell accurate time in space.\n",
        "Seed words: astronaut, space-hardened, eliptical orbit\n",
        "Product names: AstroTime, SpaceGuard, Orbit-Accurate, EliptoTime.\n",
        "\n",
        "Product description: A pair of shoes that can fit any foot size.\n",
        "Seed words: adaptable, fit, omni-fit.\n",
        "Product names:\"\"\"\n",
        "\n",
        "test_prompts = [prompt_A, prompt_B]\n",
        "\n",
        "import pandas as pd\n",
        "import openai\n",
        "\n",
        "openai.api_key = secret_key\n",
        "\n",
        "def get_response(prompt):\n",
        "    response = openai.chat.completions.create(\n",
        "        model=\"gpt-3.5-turbo\",\n",
        "        messages=[\n",
        "            {\n",
        "                \"role\": \"user\",\n",
        "                \"content\": prompt\n",
        "            }\n",
        "        ]\n",
        "    )\n",
        "    return response.choices[0].message.content\n",
        "\n",
        "# Iterate through the prompts and get responses\n",
        "test_prompts = [prompt_A, prompt_B]\n",
        "responses = []\n",
        "num_tests = 5\n",
        "\n",
        "for idx, prompt in enumerate(test_prompts):\n",
        "    # prompt number as a letter\n",
        "    var_name = chr(ord('A') + idx)\n",
        "\n",
        "    for i in range(num_tests):\n",
        "        # Get a response from the model\n",
        "        response = get_response(prompt)\n",
        "\n",
        "        data = {\n",
        "            \"variant\": var_name,\n",
        "            \"prompt\": prompt,\n",
        "            \"response\": response\n",
        "            }\n",
        "        responses.append(data)\n",
        "\n",
        "# Convert responses into a DataFrame\n",
        "df = pd.DataFrame(responses)\n",
        "\n",
        "# Save the DataFrame as a CSV file\n",
        "df.to_csv(\"responses.csv\", index=False)\n",
        "\n",
        "print(df)"
      ]
    },
    {
      "cell_type": "code",
      "execution_count": 7,
      "metadata": {
        "colab": {
          "base_uri": "https://localhost:8080/",
          "height": 196,
          "referenced_widgets": [
            "5d943d4d01eb41198fe9c279ab692349",
            "e84cba57a86340f6823c04f488993b2b",
            "65f7114f300d456d80f8c004fb5ed32b",
            "890d6fbca783444c851431b7bb1cdacc",
            "fb89c0e9c65a4380a646f45b71261199",
            "1b872e1262fa471ba4b186aab3adcd0f",
            "71facec191754caaae8332999bb48503",
            "91b69879e06543819c246970691a5569",
            "3ae23c350e4448979f32f76ed6909ee9",
            "85104a90147e4093859becb4e62a0948",
            "4ccf5cd37ba940c69653614e0bf032f5",
            "63759da4223c40e9820aa16904156067",
            "8b410ab572494a61bdb1e3ebae156234",
            "ae9c01692fe941e4bf81bdcbe9d89e3c"
          ]
        },
        "id": "kNi_zZ28_9hv",
        "outputId": "49ee5234-73eb-44f9-c7c8-a13bd07911bc"
      },
      "outputs": [
        {
          "data": {
            "application/vnd.jupyter.widget-view+json": {
              "model_id": "12b5c0d06e79455590a050e2ec8abcbc",
              "version_major": 2,
              "version_minor": 0
            },
            "text/plain": [
              "HTML(value='<p>1. AdaptaFit Shoes\\n2. OmniFit Footwear\\n3. UniversalFit Sneakers\\n4. FlexiFit Shoes\\n5. VersaF…"
            ]
          },
          "metadata": {},
          "output_type": "display_data"
        },
        {
          "data": {
            "application/vnd.jupyter.widget-view+json": {
              "model_id": "191ddea1bcf24e37b52e99538ead6024",
              "version_major": 2,
              "version_minor": 0
            },
            "text/plain": [
              "HBox(children=(Button(description='👎', style=ButtonStyle()), Button(description='👍', style=ButtonStyle())))"
            ]
          },
          "metadata": {},
          "output_type": "display_data"
        },
        {
          "data": {
            "application/vnd.jupyter.widget-view+json": {
              "model_id": "f6352c39c2844f3f81b81dacdcc7f710",
              "version_major": 2,
              "version_minor": 0
            },
            "text/plain": [
              "Label(value='Response: 1 / 10')"
            ]
          },
          "metadata": {},
          "output_type": "display_data"
        },
        {
          "name": "stdout",
          "output_type": "stream",
          "text": [
            "A/B testing completed. Here's the results:\n",
            "  variant  count  score\n",
            "0       A      5    0.0\n",
            "1       B      5    1.0\n",
            "A/B testing completed. Here's the results:\n",
            "  variant  count  score\n",
            "0       A      5    0.0\n",
            "1       B      5    1.0\n",
            "A/B testing completed. Here's the results:\n",
            "  variant  count  score\n",
            "0       A      5    0.0\n",
            "1       B      5    1.0\n"
          ]
        }
      ],
      "source": [
        "import ipywidgets as widgets\n",
        "from IPython.display import display\n",
        "import pandas as pd\n",
        "\n",
        "# load the responses.csv file\n",
        "df = pd.read_csv(\"responses.csv\")\n",
        "\n",
        "# Shuffle the DataFrame\n",
        "df = df.sample(frac=1).reset_index(drop=True)\n",
        "\n",
        "# Assuming df is your DataFrame and 'response' is the column with the text you want to test\n",
        "response_index = 0\n",
        "df['feedback'] = pd.Series(dtype='str')  # add a new column to store feedback\n",
        "\n",
        "def on_button_clicked(b):\n",
        "    global response_index\n",
        "    #  convert thumbs up / down to 1 / 0\n",
        "    user_feedback = 1 if b.description == \"👍\" else 0\n",
        "\n",
        "    # update the feedback column\n",
        "    df.at[response_index, 'feedback'] = user_feedback\n",
        "\n",
        "    response_index += 1\n",
        "    if response_index < len(df):\n",
        "        update_response()\n",
        "    else:\n",
        "        # save the feedback to a CSV file\n",
        "        df.to_csv(\"results.csv\", index=False)\n",
        "\n",
        "        print(\"A/B testing completed. Here's the results:\")\n",
        "        # Calculate score for each variant and count the number of rows per variant\n",
        "        summary_df = df.groupby('variant').agg(count=('feedback', 'count'), score=('feedback', 'mean')).reset_index()\n",
        "        print(summary_df)\n",
        "\n",
        "def update_response():\n",
        "    new_response = df.iloc[response_index]['response']\n",
        "    new_response = \"<p>\" + new_response + \"</p>\" if pd.notna(new_response) else \"<p>No response</p>\"\n",
        "    response.value = new_response\n",
        "    count_label.value = f\"Response: {response_index + 1} / {len(df)}\"\n",
        "\n",
        "response = widgets.HTML()\n",
        "count_label = widgets.Label()\n",
        "\n",
        "update_response()\n",
        "\n",
        "thumbs_up_button = widgets.Button(description='👍')\n",
        "thumbs_up_button.on_click(on_button_clicked)\n",
        "\n",
        "thumbs_down_button = widgets.Button(description='👎')\n",
        "thumbs_down_button.on_click(on_button_clicked)\n",
        "\n",
        "button_box = widgets.HBox([thumbs_down_button, thumbs_up_button])\n",
        "\n",
        "display(response, button_box, count_label)"
      ]
    },
    {
      "cell_type": "code",
      "execution_count": null,
      "metadata": {
        "id": "Df3olcB7DNhk"
      },
      "outputs": [],
      "source": []
    }
  ],
  "metadata": {
    "colab": {
      "provenance": []
    },
    "kernelspec": {
      "display_name": "Python 3",
      "name": "python3"
    },
    "language_info": {
      "codemirror_mode": {
        "name": "ipython",
        "version": 3
      },
      "file_extension": ".py",
      "mimetype": "text/x-python",
      "name": "python",
      "nbconvert_exporter": "python",
      "pygments_lexer": "ipython3",
      "version": "3.11.3"
    },
    "widgets": {
      "application/vnd.jupyter.widget-state+json": {
        "1b872e1262fa471ba4b186aab3adcd0f": {
          "model_module": "@jupyter-widgets/controls",
          "model_module_version": "1.5.0",
          "model_name": "ButtonModel",
          "state": {
            "_dom_classes": [],
            "_model_module": "@jupyter-widgets/controls",
            "_model_module_version": "1.5.0",
            "_model_name": "ButtonModel",
            "_view_count": null,
            "_view_module": "@jupyter-widgets/controls",
            "_view_module_version": "1.5.0",
            "_view_name": "ButtonView",
            "button_style": "",
            "description": "👍",
            "disabled": false,
            "icon": "",
            "layout": "IPY_MODEL_85104a90147e4093859becb4e62a0948",
            "style": "IPY_MODEL_4ccf5cd37ba940c69653614e0bf032f5",
            "tooltip": ""
          }
        },
        "3ae23c350e4448979f32f76ed6909ee9": {
          "model_module": "@jupyter-widgets/controls",
          "model_module_version": "1.5.0",
          "model_name": "ButtonStyleModel",
          "state": {
            "_model_module": "@jupyter-widgets/controls",
            "_model_module_version": "1.5.0",
            "_model_name": "ButtonStyleModel",
            "_view_count": null,
            "_view_module": "@jupyter-widgets/base",
            "_view_module_version": "1.2.0",
            "_view_name": "StyleView",
            "button_color": null,
            "font_weight": ""
          }
        },
        "4ccf5cd37ba940c69653614e0bf032f5": {
          "model_module": "@jupyter-widgets/controls",
          "model_module_version": "1.5.0",
          "model_name": "ButtonStyleModel",
          "state": {
            "_model_module": "@jupyter-widgets/controls",
            "_model_module_version": "1.5.0",
            "_model_name": "ButtonStyleModel",
            "_view_count": null,
            "_view_module": "@jupyter-widgets/base",
            "_view_module_version": "1.2.0",
            "_view_name": "StyleView",
            "button_color": null,
            "font_weight": ""
          }
        },
        "5d943d4d01eb41198fe9c279ab692349": {
          "model_module": "@jupyter-widgets/controls",
          "model_module_version": "1.5.0",
          "model_name": "HTMLModel",
          "state": {
            "_dom_classes": [],
            "_model_module": "@jupyter-widgets/controls",
            "_model_module_version": "1.5.0",
            "_model_name": "HTMLModel",
            "_view_count": null,
            "_view_module": "@jupyter-widgets/controls",
            "_view_module_version": "1.5.0",
            "_view_name": "HTMLView",
            "description": "",
            "description_tooltip": null,
            "layout": "IPY_MODEL_e84cba57a86340f6823c04f488993b2b",
            "placeholder": "​",
            "style": "IPY_MODEL_65f7114f300d456d80f8c004fb5ed32b",
            "value": "<p>1. Adapt-a-fit shoes\n2. AnySize shoes\n3. OmniFit footwear\n4. PerfectFit shoes\n5. FlexiFit footwear\n6. Fit-all shoes</p>"
          }
        },
        "63759da4223c40e9820aa16904156067": {
          "model_module": "@jupyter-widgets/controls",
          "model_module_version": "1.5.0",
          "model_name": "LabelModel",
          "state": {
            "_dom_classes": [],
            "_model_module": "@jupyter-widgets/controls",
            "_model_module_version": "1.5.0",
            "_model_name": "LabelModel",
            "_view_count": null,
            "_view_module": "@jupyter-widgets/controls",
            "_view_module_version": "1.5.0",
            "_view_name": "LabelView",
            "description": "",
            "description_tooltip": null,
            "layout": "IPY_MODEL_8b410ab572494a61bdb1e3ebae156234",
            "placeholder": "​",
            "style": "IPY_MODEL_ae9c01692fe941e4bf81bdcbe9d89e3c",
            "value": "Response: 10 / 10"
          }
        },
        "65f7114f300d456d80f8c004fb5ed32b": {
          "model_module": "@jupyter-widgets/controls",
          "model_module_version": "1.5.0",
          "model_name": "DescriptionStyleModel",
          "state": {
            "_model_module": "@jupyter-widgets/controls",
            "_model_module_version": "1.5.0",
            "_model_name": "DescriptionStyleModel",
            "_view_count": null,
            "_view_module": "@jupyter-widgets/base",
            "_view_module_version": "1.2.0",
            "_view_name": "StyleView",
            "description_width": ""
          }
        },
        "71facec191754caaae8332999bb48503": {
          "model_module": "@jupyter-widgets/base",
          "model_module_version": "1.2.0",
          "model_name": "LayoutModel",
          "state": {
            "_model_module": "@jupyter-widgets/base",
            "_model_module_version": "1.2.0",
            "_model_name": "LayoutModel",
            "_view_count": null,
            "_view_module": "@jupyter-widgets/base",
            "_view_module_version": "1.2.0",
            "_view_name": "LayoutView",
            "align_content": null,
            "align_items": null,
            "align_self": null,
            "border": null,
            "bottom": null,
            "display": null,
            "flex": null,
            "flex_flow": null,
            "grid_area": null,
            "grid_auto_columns": null,
            "grid_auto_flow": null,
            "grid_auto_rows": null,
            "grid_column": null,
            "grid_gap": null,
            "grid_row": null,
            "grid_template_areas": null,
            "grid_template_columns": null,
            "grid_template_rows": null,
            "height": null,
            "justify_content": null,
            "justify_items": null,
            "left": null,
            "margin": null,
            "max_height": null,
            "max_width": null,
            "min_height": null,
            "min_width": null,
            "object_fit": null,
            "object_position": null,
            "order": null,
            "overflow": null,
            "overflow_x": null,
            "overflow_y": null,
            "padding": null,
            "right": null,
            "top": null,
            "visibility": null,
            "width": null
          }
        },
        "85104a90147e4093859becb4e62a0948": {
          "model_module": "@jupyter-widgets/base",
          "model_module_version": "1.2.0",
          "model_name": "LayoutModel",
          "state": {
            "_model_module": "@jupyter-widgets/base",
            "_model_module_version": "1.2.0",
            "_model_name": "LayoutModel",
            "_view_count": null,
            "_view_module": "@jupyter-widgets/base",
            "_view_module_version": "1.2.0",
            "_view_name": "LayoutView",
            "align_content": null,
            "align_items": null,
            "align_self": null,
            "border": null,
            "bottom": null,
            "display": null,
            "flex": null,
            "flex_flow": null,
            "grid_area": null,
            "grid_auto_columns": null,
            "grid_auto_flow": null,
            "grid_auto_rows": null,
            "grid_column": null,
            "grid_gap": null,
            "grid_row": null,
            "grid_template_areas": null,
            "grid_template_columns": null,
            "grid_template_rows": null,
            "height": null,
            "justify_content": null,
            "justify_items": null,
            "left": null,
            "margin": null,
            "max_height": null,
            "max_width": null,
            "min_height": null,
            "min_width": null,
            "object_fit": null,
            "object_position": null,
            "order": null,
            "overflow": null,
            "overflow_x": null,
            "overflow_y": null,
            "padding": null,
            "right": null,
            "top": null,
            "visibility": null,
            "width": null
          }
        },
        "890d6fbca783444c851431b7bb1cdacc": {
          "model_module": "@jupyter-widgets/controls",
          "model_module_version": "1.5.0",
          "model_name": "HBoxModel",
          "state": {
            "_dom_classes": [],
            "_model_module": "@jupyter-widgets/controls",
            "_model_module_version": "1.5.0",
            "_model_name": "HBoxModel",
            "_view_count": null,
            "_view_module": "@jupyter-widgets/controls",
            "_view_module_version": "1.5.0",
            "_view_name": "HBoxView",
            "box_style": "",
            "children": [
              "IPY_MODEL_fb89c0e9c65a4380a646f45b71261199",
              "IPY_MODEL_1b872e1262fa471ba4b186aab3adcd0f"
            ],
            "layout": "IPY_MODEL_71facec191754caaae8332999bb48503"
          }
        },
        "8b410ab572494a61bdb1e3ebae156234": {
          "model_module": "@jupyter-widgets/base",
          "model_module_version": "1.2.0",
          "model_name": "LayoutModel",
          "state": {
            "_model_module": "@jupyter-widgets/base",
            "_model_module_version": "1.2.0",
            "_model_name": "LayoutModel",
            "_view_count": null,
            "_view_module": "@jupyter-widgets/base",
            "_view_module_version": "1.2.0",
            "_view_name": "LayoutView",
            "align_content": null,
            "align_items": null,
            "align_self": null,
            "border": null,
            "bottom": null,
            "display": null,
            "flex": null,
            "flex_flow": null,
            "grid_area": null,
            "grid_auto_columns": null,
            "grid_auto_flow": null,
            "grid_auto_rows": null,
            "grid_column": null,
            "grid_gap": null,
            "grid_row": null,
            "grid_template_areas": null,
            "grid_template_columns": null,
            "grid_template_rows": null,
            "height": null,
            "justify_content": null,
            "justify_items": null,
            "left": null,
            "margin": null,
            "max_height": null,
            "max_width": null,
            "min_height": null,
            "min_width": null,
            "object_fit": null,
            "object_position": null,
            "order": null,
            "overflow": null,
            "overflow_x": null,
            "overflow_y": null,
            "padding": null,
            "right": null,
            "top": null,
            "visibility": null,
            "width": null
          }
        },
        "91b69879e06543819c246970691a5569": {
          "model_module": "@jupyter-widgets/base",
          "model_module_version": "1.2.0",
          "model_name": "LayoutModel",
          "state": {
            "_model_module": "@jupyter-widgets/base",
            "_model_module_version": "1.2.0",
            "_model_name": "LayoutModel",
            "_view_count": null,
            "_view_module": "@jupyter-widgets/base",
            "_view_module_version": "1.2.0",
            "_view_name": "LayoutView",
            "align_content": null,
            "align_items": null,
            "align_self": null,
            "border": null,
            "bottom": null,
            "display": null,
            "flex": null,
            "flex_flow": null,
            "grid_area": null,
            "grid_auto_columns": null,
            "grid_auto_flow": null,
            "grid_auto_rows": null,
            "grid_column": null,
            "grid_gap": null,
            "grid_row": null,
            "grid_template_areas": null,
            "grid_template_columns": null,
            "grid_template_rows": null,
            "height": null,
            "justify_content": null,
            "justify_items": null,
            "left": null,
            "margin": null,
            "max_height": null,
            "max_width": null,
            "min_height": null,
            "min_width": null,
            "object_fit": null,
            "object_position": null,
            "order": null,
            "overflow": null,
            "overflow_x": null,
            "overflow_y": null,
            "padding": null,
            "right": null,
            "top": null,
            "visibility": null,
            "width": null
          }
        },
        "ae9c01692fe941e4bf81bdcbe9d89e3c": {
          "model_module": "@jupyter-widgets/controls",
          "model_module_version": "1.5.0",
          "model_name": "DescriptionStyleModel",
          "state": {
            "_model_module": "@jupyter-widgets/controls",
            "_model_module_version": "1.5.0",
            "_model_name": "DescriptionStyleModel",
            "_view_count": null,
            "_view_module": "@jupyter-widgets/base",
            "_view_module_version": "1.2.0",
            "_view_name": "StyleView",
            "description_width": ""
          }
        },
        "e84cba57a86340f6823c04f488993b2b": {
          "model_module": "@jupyter-widgets/base",
          "model_module_version": "1.2.0",
          "model_name": "LayoutModel",
          "state": {
            "_model_module": "@jupyter-widgets/base",
            "_model_module_version": "1.2.0",
            "_model_name": "LayoutModel",
            "_view_count": null,
            "_view_module": "@jupyter-widgets/base",
            "_view_module_version": "1.2.0",
            "_view_name": "LayoutView",
            "align_content": null,
            "align_items": null,
            "align_self": null,
            "border": null,
            "bottom": null,
            "display": null,
            "flex": null,
            "flex_flow": null,
            "grid_area": null,
            "grid_auto_columns": null,
            "grid_auto_flow": null,
            "grid_auto_rows": null,
            "grid_column": null,
            "grid_gap": null,
            "grid_row": null,
            "grid_template_areas": null,
            "grid_template_columns": null,
            "grid_template_rows": null,
            "height": null,
            "justify_content": null,
            "justify_items": null,
            "left": null,
            "margin": null,
            "max_height": null,
            "max_width": null,
            "min_height": null,
            "min_width": null,
            "object_fit": null,
            "object_position": null,
            "order": null,
            "overflow": null,
            "overflow_x": null,
            "overflow_y": null,
            "padding": null,
            "right": null,
            "top": null,
            "visibility": null,
            "width": null
          }
        },
        "fb89c0e9c65a4380a646f45b71261199": {
          "model_module": "@jupyter-widgets/controls",
          "model_module_version": "1.5.0",
          "model_name": "ButtonModel",
          "state": {
            "_dom_classes": [],
            "_model_module": "@jupyter-widgets/controls",
            "_model_module_version": "1.5.0",
            "_model_name": "ButtonModel",
            "_view_count": null,
            "_view_module": "@jupyter-widgets/controls",
            "_view_module_version": "1.5.0",
            "_view_name": "ButtonView",
            "button_style": "",
            "description": "👎",
            "disabled": false,
            "icon": "",
            "layout": "IPY_MODEL_91b69879e06543819c246970691a5569",
            "style": "IPY_MODEL_3ae23c350e4448979f32f76ed6909ee9",
            "tooltip": ""
          }
        }
      }
    }
  },
  "nbformat": 4,
  "nbformat_minor": 0
}
