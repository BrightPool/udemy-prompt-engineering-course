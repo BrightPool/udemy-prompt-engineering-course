{
  "cells": [
    {
      "cell_type": "code",
      "execution_count": 1,
      "metadata": {},
      "outputs": [
        {
          "name": "stdout",
          "output_type": "stream",
          "text": [
            "Requirement already satisfied: openai in /Users/jamesaphoenix/opt/anaconda3/lib/python3.9/site-packages (1.7.2)\n",
            "Requirement already satisfied: pandas in /Users/jamesaphoenix/opt/anaconda3/lib/python3.9/site-packages (2.1.4)\n",
            "Requirement already satisfied: sniffio in /Users/jamesaphoenix/opt/anaconda3/lib/python3.9/site-packages (from openai) (1.2.0)\n",
            "Requirement already satisfied: typing-extensions<5,>=4.7 in /Users/jamesaphoenix/opt/anaconda3/lib/python3.9/site-packages (from openai) (4.7.1)\n",
            "Requirement already satisfied: tqdm>4 in /Users/jamesaphoenix/opt/anaconda3/lib/python3.9/site-packages (from openai) (4.65.0)\n",
            "Requirement already satisfied: httpx<1,>=0.23.0 in /Users/jamesaphoenix/opt/anaconda3/lib/python3.9/site-packages (from openai) (0.25.2)\n",
            "Requirement already satisfied: anyio<5,>=3.5.0 in /Users/jamesaphoenix/opt/anaconda3/lib/python3.9/site-packages (from openai) (3.5.0)\n",
            "Requirement already satisfied: pydantic<3,>=1.9.0 in /Users/jamesaphoenix/opt/anaconda3/lib/python3.9/site-packages (from openai) (2.5.3)\n",
            "Requirement already satisfied: distro<2,>=1.7.0 in /Users/jamesaphoenix/opt/anaconda3/lib/python3.9/site-packages (from openai) (1.8.0)\n",
            "Requirement already satisfied: numpy<2,>=1.22.4 in /Users/jamesaphoenix/opt/anaconda3/lib/python3.9/site-packages (from pandas) (1.24.4)\n",
            "Requirement already satisfied: pytz>=2020.1 in /Users/jamesaphoenix/opt/anaconda3/lib/python3.9/site-packages (from pandas) (2022.1)\n",
            "Requirement already satisfied: tzdata>=2022.1 in /Users/jamesaphoenix/opt/anaconda3/lib/python3.9/site-packages (from pandas) (2023.3)\n",
            "Requirement already satisfied: python-dateutil>=2.8.2 in /Users/jamesaphoenix/opt/anaconda3/lib/python3.9/site-packages (from pandas) (2.8.2)\n",
            "Requirement already satisfied: idna>=2.8 in /Users/jamesaphoenix/opt/anaconda3/lib/python3.9/site-packages (from anyio<5,>=3.5.0->openai) (3.3)\n",
            "Requirement already satisfied: certifi in /Users/jamesaphoenix/opt/anaconda3/lib/python3.9/site-packages (from httpx<1,>=0.23.0->openai) (2022.9.24)\n",
            "Requirement already satisfied: httpcore==1.* in /Users/jamesaphoenix/opt/anaconda3/lib/python3.9/site-packages (from httpx<1,>=0.23.0->openai) (1.0.2)\n",
            "Requirement already satisfied: h11<0.15,>=0.13 in /Users/jamesaphoenix/opt/anaconda3/lib/python3.9/site-packages (from httpcore==1.*->httpx<1,>=0.23.0->openai) (0.14.0)\n",
            "Requirement already satisfied: annotated-types>=0.4.0 in /Users/jamesaphoenix/opt/anaconda3/lib/python3.9/site-packages (from pydantic<3,>=1.9.0->openai) (0.5.0)\n",
            "Requirement already satisfied: pydantic-core==2.14.6 in /Users/jamesaphoenix/opt/anaconda3/lib/python3.9/site-packages (from pydantic<3,>=1.9.0->openai) (2.14.6)\n",
            "Requirement already satisfied: six>=1.5 in /Users/jamesaphoenix/opt/anaconda3/lib/python3.9/site-packages (from python-dateutil>=2.8.2->pandas) (1.16.0)\n"
          ]
        }
      ],
      "source": [
        "!pip install openai pandas --upgrade"
      ]
    },
    {
      "cell_type": "code",
      "execution_count": 2,
      "metadata": {},
      "outputs": [],
      "source": [
        "import getpass\n",
        "import ipywidgets as widgets\n",
        "from IPython.display import display\n",
        "import pandas as pd"
      ]
    },
    {
      "cell_type": "code",
      "execution_count": 3,
      "metadata": {
        "colab": {
          "base_uri": "https://localhost:8080/"
        },
        "id": "h84qcT-tAQZk",
        "outputId": "becf788f-3dad-42ce-9876-c52823aeed2a"
      },
      "outputs": [],
      "source": [
        "# Get the openai secret key:\n",
        "secret_key = getpass.getpass('Please enter your openai key: ') # https://platform.openai.com/account/api-keys"
      ]
    },
    {
      "cell_type": "code",
      "execution_count": 4,
      "metadata": {
        "colab": {
          "base_uri": "https://localhost:8080/"
        },
        "id": "74upFHOR_01p",
        "outputId": "25564202-bac3-4beb-d8d9-211e6285844d"
      },
      "outputs": [
        {
          "name": "stdout",
          "output_type": "stream",
          "text": [
            "  variant                                             prompt  \\\n",
            "0       A  Product description: A pair of shoes that can ...   \n",
            "1       A  Product description: A pair of shoes that can ...   \n",
            "2       A  Product description: A pair of shoes that can ...   \n",
            "3       A  Product description: A pair of shoes that can ...   \n",
            "4       A  Product description: A pair of shoes that can ...   \n",
            "5       B  Product description: A home milkshake maker.\\n...   \n",
            "6       B  Product description: A home milkshake maker.\\n...   \n",
            "7       B  Product description: A home milkshake maker.\\n...   \n",
            "8       B  Product description: A home milkshake maker.\\n...   \n",
            "9       B  Product description: A home milkshake maker.\\n...   \n",
            "\n",
            "                                            response  \n",
            "0  1. AdaptiFit\\n2. OmniFit Shoes\\n3. FlexiFit\\n4...  \n",
            "1  1. Omni-Fit Shoes\\n2. Adapt-Fit Shoes\\n3. Flex...  \n",
            "2  1. OmniFit Shoes\\n2. AdaptFit Shoes\\n3. FlexFi...  \n",
            "3  1. Adapti-Fit Shoes\\n2. Omni-Fit Footwear\\n3. ...  \n",
            "4  1. \"FlexFit\"\\n\\n2. \"VersaFit\"\\n\\n3. \"OmniFit\"\\...  \n",
            "5         AdaptFit, OmniFit, FlexiFit, UniversalFit.  \n",
            "6             AdaptFit, FlexiFit, OmniFit, CustomFit  \n",
            "7           AdaptFit, OmniFit, PerfectFit, SoleFlex.  \n",
            "8   AdaptaShoes, FitFlex, OmniFit Shoes, SizeMaster.  \n",
            "9         AdaptaFit, OmniShoes, PerfectFit, UniSize.  \n"
          ]
        }
      ],
      "source": [
        "# Define two variants of the prompt\n",
        "prompt_A = \"\"\"Product description: A pair of shoes that can fit any foot size.\n",
        "Seed words: adaptable, fit, omni-fit.\n",
        "Product names:\"\"\"\n",
        "\n",
        "prompt_B = \"\"\"Product description: A home milkshake maker.\n",
        "Seed words: fast, healthy, compact.\n",
        "Product names: HomeShaker, Fit Shaker, QuickShake, Shake Maker\n",
        "\n",
        "Product description: A watch that can tell accurate time in space.\n",
        "Seed words: astronaut, space-hardened, eliptical orbit\n",
        "Product names: AstroTime, SpaceGuard, Orbit-Accurate, EliptoTime.\n",
        "\n",
        "Product description: A pair of shoes that can fit any foot size.\n",
        "Seed words: adaptable, fit, omni-fit.\n",
        "Product names:\"\"\"\n",
        "\n",
        "test_prompts = [prompt_A, prompt_B]\n",
        "\n",
        "import pandas as pd\n",
        "from openai import OpenAI\n",
        "\n",
        "client = OpenAI(api_key=secret_key)\n",
        "\n",
        "def get_response(prompt):\n",
        "    response = client.chat.completions.create(\n",
        "        model=\"gpt-3.5-turbo\",\n",
        "        messages=[\n",
        "            {\n",
        "                \"role\": \"system\",\n",
        "                \"content\": \"You are a helpful assistant.\"\n",
        "            },\n",
        "            {\n",
        "                \"role\": \"user\",\n",
        "                \"content\": prompt\n",
        "            }\n",
        "        ]\n",
        "    )\n",
        "    return response.choices[0].message.content\n",
        "\n",
        "# Iterate through the prompts and get responses\n",
        "test_prompts = [prompt_A, prompt_B]\n",
        "responses = []\n",
        "num_tests = 5\n",
        "\n",
        "for idx, prompt in enumerate(test_prompts):\n",
        "    # prompt number as a letter\n",
        "    var_name = chr(ord('A') + idx)\n",
        "\n",
        "    for i in range(num_tests):\n",
        "        # Get a response from the model\n",
        "        response = get_response(prompt)\n",
        "\n",
        "        data = {\n",
        "            \"variant\": var_name,\n",
        "            \"prompt\": prompt,\n",
        "            \"response\": response\n",
        "            }\n",
        "        responses.append(data)\n",
        "\n",
        "# Convert responses into a DataFrame\n",
        "df = pd.DataFrame(responses)\n",
        "\n",
        "# Save the DataFrame as a CSV file\n",
        "df.to_csv(\"responses.csv\", index=False)\n",
        "\n",
        "print(df)"
      ]
    },
    {
      "cell_type": "markdown",
      "metadata": {},
      "source": [
        "------------------------------------------------------"
      ]
    },
    {
      "cell_type": "code",
      "execution_count": 7,
      "metadata": {
        "colab": {
          "base_uri": "https://localhost:8080/",
          "height": 194,
          "referenced_widgets": [
            "6bbaa32b209642538d73d98afedc6215",
            "2fa3aa8efc6243f79268be30f1103caf",
            "1604528c039e45b5ad7f87d0a697c959",
            "7fa86640f4d14879b99e5813b3ef1e56",
            "526221c349e74f119ba1f5196467fd72",
            "dbaf76a0eff4401d811aabc132932a66",
            "58019ee52d17400ab489b5e13fac6dec",
            "38dd9d4f6feb4acb9fdb2279d9e1ff02",
            "13795af57564409486408b7a1f7a2f04",
            "492c1077613d44868f9ff58c5b00e627",
            "fe0b2a8d3d8d46928369f19c260117ac",
            "f71a54fb36514734b0b676e49dd84b31",
            "e1eaff3fd625467bafc6b1624619b3b6",
            "ad91d4a8441649cbbe904e7bf7fd34a1"
          ]
        },
        "id": "kNi_zZ28_9hv",
        "outputId": "474941a2-b6c8-4481-a1d4-04b60cdfcc22"
      },
      "outputs": [],
      "source": [
        "# Load the responses.csv file:\n",
        "df = pd.read_csv(\"responses.csv\")\n",
        "\n",
        "# Shuffle the DataFrame\n",
        "df = df.sample(frac=1).reset_index(drop=True)\n",
        "\n",
        "# Assuming df is your DataFrame and 'response' is the column with the text you want to test\n",
        "response_index = 0\n",
        "df[\"feedback\"] = pd.Series(dtype=\"str\")  # add a new column to store feedback\n",
        "\n",
        "response = widgets.HTML()\n",
        "count_label = widgets.Label()\n",
        "\n",
        "def update_response():\n",
        "    new_response = df.iloc[response_index][\"response\"]\n",
        "    new_response = (\n",
        "        \"<p>\" + new_response + \"</p>\"\n",
        "        if pd.notna(new_response)\n",
        "        else \"<p>No response</p>\"\n",
        "    )\n",
        "    response.value = new_response\n",
        "    count_label.value = f\"Response: {response_index + 1} / {len(df)}\"\n",
        "\n",
        "\n",
        "def on_button_clicked(b):\n",
        "    global response_index\n",
        "    #  convert thumbs up / down to 1 / 0\n",
        "    user_feedback = 1 if b.description == \"👍\" else 0\n",
        "\n",
        "    # update the feedback column\n",
        "    df.at[response_index, \"feedback\"] = user_feedback\n",
        "\n",
        "    response_index += 1\n",
        "    if response_index < len(df):\n",
        "        update_response()\n",
        "    else:\n",
        "        # save the feedback to a CSV file\n",
        "        df.to_csv(\"results.csv\", index=False)\n",
        "\n",
        "        print(\"A/B testing completed. Here's the results:\")\n",
        "        # Calculate score for each variant and count the number of rows per variant\n",
        "        summary_df = (\n",
        "            df.groupby(\"variant\")\n",
        "            .agg(count=(\"feedback\", \"count\"), score=(\"feedback\", \"mean\"))\n",
        "            .reset_index()\n",
        "        )\n",
        "        print(summary_df)"
      ]
    },
    {
      "cell_type": "code",
      "execution_count": 8,
      "metadata": {},
      "outputs": [
        {
          "data": {
            "application/vnd.jupyter.widget-view+json": {
              "model_id": "989fe620f46247e9a323aac1d0e67ff2",
              "version_major": 2,
              "version_minor": 0
            },
            "text/plain": [
              "HTML(value='<p>1. AdaptiFit\\n2. OmniFit Shoes\\n3. FlexiFit\\n4. DynamicFit\\n5. UniFit\\n6. AllFit\\n7. UniversalF…"
            ]
          },
          "metadata": {},
          "output_type": "display_data"
        },
        {
          "data": {
            "application/vnd.jupyter.widget-view+json": {
              "model_id": "c40ed3770c2b4d17b4f262999dd47a85",
              "version_major": 2,
              "version_minor": 0
            },
            "text/plain": [
              "HBox(children=(Button(description='👍', style=ButtonStyle()), Button(description='👎', style=ButtonStyle())))"
            ]
          },
          "metadata": {},
          "output_type": "display_data"
        },
        {
          "data": {
            "application/vnd.jupyter.widget-view+json": {
              "model_id": "e7c3de050e1144a58aba8ebea8bcd8f0",
              "version_major": 2,
              "version_minor": 0
            },
            "text/plain": [
              "Label(value='Response: 1 / 10')"
            ]
          },
          "metadata": {},
          "output_type": "display_data"
        },
        {
          "name": "stdout",
          "output_type": "stream",
          "text": [
            "A/B testing completed. Here's the results:\n",
            "  variant  count score\n",
            "0       A      5   0.6\n",
            "1       B      5   1.0\n"
          ]
        }
      ],
      "source": [
        "update_response()\n",
        "\n",
        "thumbs_down_button = widgets.Button(description=\"👎\")\n",
        "thumbs_down_button.on_click(on_button_clicked)\n",
        "\n",
        "thumbs_up_button = widgets.Button(description=\"👍\")\n",
        "thumbs_up_button.on_click(on_button_clicked)\n",
        "\n",
        "\n",
        "button_box = widgets.HBox(\n",
        "    [\n",
        "        thumbs_up_button,\n",
        "        thumbs_down_button,\n",
        "    ]\n",
        ")\n",
        "\n",
        "# After clicking it 10 times, then click it once more to display\n",
        "display(response, button_box, count_label)"
      ]
    }
  ],
  "metadata": {
    "colab": {
      "provenance": []
    },
    "kernelspec": {
      "display_name": "Python 3",
      "name": "python3"
    },
    "language_info": {
      "codemirror_mode": {
        "name": "ipython",
        "version": 3
      },
      "file_extension": ".py",
      "mimetype": "text/x-python",
      "name": "python",
      "nbconvert_exporter": "python",
      "pygments_lexer": "ipython3",
      "version": "3.9.13"
    },
    "widgets": {
      "application/vnd.jupyter.widget-state+json": {
        "13795af57564409486408b7a1f7a2f04": {
          "model_module": "@jupyter-widgets/controls",
          "model_module_version": "1.5.0",
          "model_name": "ButtonStyleModel",
          "state": {
            "_model_module": "@jupyter-widgets/controls",
            "_model_module_version": "1.5.0",
            "_model_name": "ButtonStyleModel",
            "_view_count": null,
            "_view_module": "@jupyter-widgets/base",
            "_view_module_version": "1.2.0",
            "_view_name": "StyleView",
            "button_color": null,
            "font_weight": ""
          }
        },
        "1604528c039e45b5ad7f87d0a697c959": {
          "model_module": "@jupyter-widgets/controls",
          "model_module_version": "1.5.0",
          "model_name": "DescriptionStyleModel",
          "state": {
            "_model_module": "@jupyter-widgets/controls",
            "_model_module_version": "1.5.0",
            "_model_name": "DescriptionStyleModel",
            "_view_count": null,
            "_view_module": "@jupyter-widgets/base",
            "_view_module_version": "1.2.0",
            "_view_name": "StyleView",
            "description_width": ""
          }
        },
        "2fa3aa8efc6243f79268be30f1103caf": {
          "model_module": "@jupyter-widgets/base",
          "model_module_version": "1.2.0",
          "model_name": "LayoutModel",
          "state": {
            "_model_module": "@jupyter-widgets/base",
            "_model_module_version": "1.2.0",
            "_model_name": "LayoutModel",
            "_view_count": null,
            "_view_module": "@jupyter-widgets/base",
            "_view_module_version": "1.2.0",
            "_view_name": "LayoutView",
            "align_content": null,
            "align_items": null,
            "align_self": null,
            "border": null,
            "bottom": null,
            "display": null,
            "flex": null,
            "flex_flow": null,
            "grid_area": null,
            "grid_auto_columns": null,
            "grid_auto_flow": null,
            "grid_auto_rows": null,
            "grid_column": null,
            "grid_gap": null,
            "grid_row": null,
            "grid_template_areas": null,
            "grid_template_columns": null,
            "grid_template_rows": null,
            "height": null,
            "justify_content": null,
            "justify_items": null,
            "left": null,
            "margin": null,
            "max_height": null,
            "max_width": null,
            "min_height": null,
            "min_width": null,
            "object_fit": null,
            "object_position": null,
            "order": null,
            "overflow": null,
            "overflow_x": null,
            "overflow_y": null,
            "padding": null,
            "right": null,
            "top": null,
            "visibility": null,
            "width": null
          }
        },
        "38dd9d4f6feb4acb9fdb2279d9e1ff02": {
          "model_module": "@jupyter-widgets/base",
          "model_module_version": "1.2.0",
          "model_name": "LayoutModel",
          "state": {
            "_model_module": "@jupyter-widgets/base",
            "_model_module_version": "1.2.0",
            "_model_name": "LayoutModel",
            "_view_count": null,
            "_view_module": "@jupyter-widgets/base",
            "_view_module_version": "1.2.0",
            "_view_name": "LayoutView",
            "align_content": null,
            "align_items": null,
            "align_self": null,
            "border": null,
            "bottom": null,
            "display": null,
            "flex": null,
            "flex_flow": null,
            "grid_area": null,
            "grid_auto_columns": null,
            "grid_auto_flow": null,
            "grid_auto_rows": null,
            "grid_column": null,
            "grid_gap": null,
            "grid_row": null,
            "grid_template_areas": null,
            "grid_template_columns": null,
            "grid_template_rows": null,
            "height": null,
            "justify_content": null,
            "justify_items": null,
            "left": null,
            "margin": null,
            "max_height": null,
            "max_width": null,
            "min_height": null,
            "min_width": null,
            "object_fit": null,
            "object_position": null,
            "order": null,
            "overflow": null,
            "overflow_x": null,
            "overflow_y": null,
            "padding": null,
            "right": null,
            "top": null,
            "visibility": null,
            "width": null
          }
        },
        "492c1077613d44868f9ff58c5b00e627": {
          "model_module": "@jupyter-widgets/base",
          "model_module_version": "1.2.0",
          "model_name": "LayoutModel",
          "state": {
            "_model_module": "@jupyter-widgets/base",
            "_model_module_version": "1.2.0",
            "_model_name": "LayoutModel",
            "_view_count": null,
            "_view_module": "@jupyter-widgets/base",
            "_view_module_version": "1.2.0",
            "_view_name": "LayoutView",
            "align_content": null,
            "align_items": null,
            "align_self": null,
            "border": null,
            "bottom": null,
            "display": null,
            "flex": null,
            "flex_flow": null,
            "grid_area": null,
            "grid_auto_columns": null,
            "grid_auto_flow": null,
            "grid_auto_rows": null,
            "grid_column": null,
            "grid_gap": null,
            "grid_row": null,
            "grid_template_areas": null,
            "grid_template_columns": null,
            "grid_template_rows": null,
            "height": null,
            "justify_content": null,
            "justify_items": null,
            "left": null,
            "margin": null,
            "max_height": null,
            "max_width": null,
            "min_height": null,
            "min_width": null,
            "object_fit": null,
            "object_position": null,
            "order": null,
            "overflow": null,
            "overflow_x": null,
            "overflow_y": null,
            "padding": null,
            "right": null,
            "top": null,
            "visibility": null,
            "width": null
          }
        },
        "526221c349e74f119ba1f5196467fd72": {
          "model_module": "@jupyter-widgets/controls",
          "model_module_version": "1.5.0",
          "model_name": "ButtonModel",
          "state": {
            "_dom_classes": [],
            "_model_module": "@jupyter-widgets/controls",
            "_model_module_version": "1.5.0",
            "_model_name": "ButtonModel",
            "_view_count": null,
            "_view_module": "@jupyter-widgets/controls",
            "_view_module_version": "1.5.0",
            "_view_name": "ButtonView",
            "button_style": "",
            "description": "👎",
            "disabled": false,
            "icon": "",
            "layout": "IPY_MODEL_38dd9d4f6feb4acb9fdb2279d9e1ff02",
            "style": "IPY_MODEL_13795af57564409486408b7a1f7a2f04",
            "tooltip": ""
          }
        },
        "58019ee52d17400ab489b5e13fac6dec": {
          "model_module": "@jupyter-widgets/base",
          "model_module_version": "1.2.0",
          "model_name": "LayoutModel",
          "state": {
            "_model_module": "@jupyter-widgets/base",
            "_model_module_version": "1.2.0",
            "_model_name": "LayoutModel",
            "_view_count": null,
            "_view_module": "@jupyter-widgets/base",
            "_view_module_version": "1.2.0",
            "_view_name": "LayoutView",
            "align_content": null,
            "align_items": null,
            "align_self": null,
            "border": null,
            "bottom": null,
            "display": null,
            "flex": null,
            "flex_flow": null,
            "grid_area": null,
            "grid_auto_columns": null,
            "grid_auto_flow": null,
            "grid_auto_rows": null,
            "grid_column": null,
            "grid_gap": null,
            "grid_row": null,
            "grid_template_areas": null,
            "grid_template_columns": null,
            "grid_template_rows": null,
            "height": null,
            "justify_content": null,
            "justify_items": null,
            "left": null,
            "margin": null,
            "max_height": null,
            "max_width": null,
            "min_height": null,
            "min_width": null,
            "object_fit": null,
            "object_position": null,
            "order": null,
            "overflow": null,
            "overflow_x": null,
            "overflow_y": null,
            "padding": null,
            "right": null,
            "top": null,
            "visibility": null,
            "width": null
          }
        },
        "6bbaa32b209642538d73d98afedc6215": {
          "model_module": "@jupyter-widgets/controls",
          "model_module_version": "1.5.0",
          "model_name": "HTMLModel",
          "state": {
            "_dom_classes": [],
            "_model_module": "@jupyter-widgets/controls",
            "_model_module_version": "1.5.0",
            "_model_name": "HTMLModel",
            "_view_count": null,
            "_view_module": "@jupyter-widgets/controls",
            "_view_module_version": "1.5.0",
            "_view_name": "HTMLView",
            "description": "",
            "description_tooltip": null,
            "layout": "IPY_MODEL_2fa3aa8efc6243f79268be30f1103caf",
            "placeholder": "​",
            "style": "IPY_MODEL_1604528c039e45b5ad7f87d0a697c959",
            "value": "<p>AdaptFit, OmniFit, UniversalFit, OneSizeFit, PerfectFit</p>"
          }
        },
        "7fa86640f4d14879b99e5813b3ef1e56": {
          "model_module": "@jupyter-widgets/controls",
          "model_module_version": "1.5.0",
          "model_name": "HBoxModel",
          "state": {
            "_dom_classes": [],
            "_model_module": "@jupyter-widgets/controls",
            "_model_module_version": "1.5.0",
            "_model_name": "HBoxModel",
            "_view_count": null,
            "_view_module": "@jupyter-widgets/controls",
            "_view_module_version": "1.5.0",
            "_view_name": "HBoxView",
            "box_style": "",
            "children": [
              "IPY_MODEL_526221c349e74f119ba1f5196467fd72",
              "IPY_MODEL_dbaf76a0eff4401d811aabc132932a66"
            ],
            "layout": "IPY_MODEL_58019ee52d17400ab489b5e13fac6dec"
          }
        },
        "ad91d4a8441649cbbe904e7bf7fd34a1": {
          "model_module": "@jupyter-widgets/controls",
          "model_module_version": "1.5.0",
          "model_name": "DescriptionStyleModel",
          "state": {
            "_model_module": "@jupyter-widgets/controls",
            "_model_module_version": "1.5.0",
            "_model_name": "DescriptionStyleModel",
            "_view_count": null,
            "_view_module": "@jupyter-widgets/base",
            "_view_module_version": "1.2.0",
            "_view_name": "StyleView",
            "description_width": ""
          }
        },
        "dbaf76a0eff4401d811aabc132932a66": {
          "model_module": "@jupyter-widgets/controls",
          "model_module_version": "1.5.0",
          "model_name": "ButtonModel",
          "state": {
            "_dom_classes": [],
            "_model_module": "@jupyter-widgets/controls",
            "_model_module_version": "1.5.0",
            "_model_name": "ButtonModel",
            "_view_count": null,
            "_view_module": "@jupyter-widgets/controls",
            "_view_module_version": "1.5.0",
            "_view_name": "ButtonView",
            "button_style": "",
            "description": "👍",
            "disabled": false,
            "icon": "",
            "layout": "IPY_MODEL_492c1077613d44868f9ff58c5b00e627",
            "style": "IPY_MODEL_fe0b2a8d3d8d46928369f19c260117ac",
            "tooltip": ""
          }
        },
        "e1eaff3fd625467bafc6b1624619b3b6": {
          "model_module": "@jupyter-widgets/base",
          "model_module_version": "1.2.0",
          "model_name": "LayoutModel",
          "state": {
            "_model_module": "@jupyter-widgets/base",
            "_model_module_version": "1.2.0",
            "_model_name": "LayoutModel",
            "_view_count": null,
            "_view_module": "@jupyter-widgets/base",
            "_view_module_version": "1.2.0",
            "_view_name": "LayoutView",
            "align_content": null,
            "align_items": null,
            "align_self": null,
            "border": null,
            "bottom": null,
            "display": null,
            "flex": null,
            "flex_flow": null,
            "grid_area": null,
            "grid_auto_columns": null,
            "grid_auto_flow": null,
            "grid_auto_rows": null,
            "grid_column": null,
            "grid_gap": null,
            "grid_row": null,
            "grid_template_areas": null,
            "grid_template_columns": null,
            "grid_template_rows": null,
            "height": null,
            "justify_content": null,
            "justify_items": null,
            "left": null,
            "margin": null,
            "max_height": null,
            "max_width": null,
            "min_height": null,
            "min_width": null,
            "object_fit": null,
            "object_position": null,
            "order": null,
            "overflow": null,
            "overflow_x": null,
            "overflow_y": null,
            "padding": null,
            "right": null,
            "top": null,
            "visibility": null,
            "width": null
          }
        },
        "f71a54fb36514734b0b676e49dd84b31": {
          "model_module": "@jupyter-widgets/controls",
          "model_module_version": "1.5.0",
          "model_name": "LabelModel",
          "state": {
            "_dom_classes": [],
            "_model_module": "@jupyter-widgets/controls",
            "_model_module_version": "1.5.0",
            "_model_name": "LabelModel",
            "_view_count": null,
            "_view_module": "@jupyter-widgets/controls",
            "_view_module_version": "1.5.0",
            "_view_name": "LabelView",
            "description": "",
            "description_tooltip": null,
            "layout": "IPY_MODEL_e1eaff3fd625467bafc6b1624619b3b6",
            "placeholder": "​",
            "style": "IPY_MODEL_ad91d4a8441649cbbe904e7bf7fd34a1",
            "value": "Response: 10 / 10"
          }
        },
        "fe0b2a8d3d8d46928369f19c260117ac": {
          "model_module": "@jupyter-widgets/controls",
          "model_module_version": "1.5.0",
          "model_name": "ButtonStyleModel",
          "state": {
            "_model_module": "@jupyter-widgets/controls",
            "_model_module_version": "1.5.0",
            "_model_name": "ButtonStyleModel",
            "_view_count": null,
            "_view_module": "@jupyter-widgets/base",
            "_view_module_version": "1.2.0",
            "_view_name": "StyleView",
            "button_color": null,
            "font_weight": ""
          }
        }
      }
    }
  },
  "nbformat": 4,
  "nbformat_minor": 0
}
