{
  "cells": [
    {
      "cell_type": "markdown",
      "metadata": {
        "id": "o1nG54AcwZ-z"
      },
      "source": [
        "Get your openai api key from settings: https://platform.openai.com/account/api-keys"
      ]
    },
    {
      "cell_type": "code",
      "execution_count": 1,
      "metadata": {
        "colab": {
          "base_uri": "https://localhost:8080/"
        },
        "id": "dDdVh55Xv6bl",
        "outputId": "b88fad98-4272-418d-f56d-b212c1291ce5"
      },
      "outputs": [],
      "source": [
        "# get the openai secret key\n",
        "import getpass\n",
        "\n",
        "secret_key = getpass.getpass('Please enter your openai key: ')"
      ]
    },
    {
      "cell_type": "code",
      "execution_count": 2,
      "metadata": {
        "colab": {
          "base_uri": "https://localhost:8080/"
        },
        "id": "BY5Pb2_5wrkq",
        "outputId": "116b15ca-7bf9-4634-f779-e73e275b4e25"
      },
      "outputs": [
        {
          "name": "stdout",
          "output_type": "stream",
          "text": [
            "Requirement already satisfied: openai in /Users/dan/anaconda3/lib/python3.11/site-packages (1.3.3)\n",
            "Requirement already satisfied: anyio<4,>=3.5.0 in /Users/dan/anaconda3/lib/python3.11/site-packages (from openai) (3.5.0)\n",
            "Requirement already satisfied: distro<2,>=1.7.0 in /Users/dan/anaconda3/lib/python3.11/site-packages (from openai) (1.8.0)\n",
            "Requirement already satisfied: httpx<1,>=0.23.0 in /Users/dan/anaconda3/lib/python3.11/site-packages (from openai) (0.25.1)\n",
            "Requirement already satisfied: pydantic<3,>=1.9.0 in /Users/dan/anaconda3/lib/python3.11/site-packages (from openai) (1.10.12)\n",
            "Requirement already satisfied: tqdm>4 in /Users/dan/anaconda3/lib/python3.11/site-packages (from openai) (4.65.0)\n",
            "Requirement already satisfied: typing-extensions<5,>=4.5 in /Users/dan/anaconda3/lib/python3.11/site-packages (from openai) (4.6.3)\n",
            "Requirement already satisfied: idna>=2.8 in /Users/dan/anaconda3/lib/python3.11/site-packages (from anyio<4,>=3.5.0->openai) (3.4)\n",
            "Requirement already satisfied: sniffio>=1.1 in /Users/dan/anaconda3/lib/python3.11/site-packages (from anyio<4,>=3.5.0->openai) (1.2.0)\n",
            "Requirement already satisfied: certifi in /Users/dan/anaconda3/lib/python3.11/site-packages (from httpx<1,>=0.23.0->openai) (2023.5.7)\n",
            "Requirement already satisfied: httpcore in /Users/dan/anaconda3/lib/python3.11/site-packages (from httpx<1,>=0.23.0->openai) (1.0.2)\n",
            "Requirement already satisfied: h11<0.15,>=0.13 in /Users/dan/anaconda3/lib/python3.11/site-packages (from httpcore->httpx<1,>=0.23.0->openai) (0.14.0)\n"
          ]
        }
      ],
      "source": [
        "!pip install openai"
      ]
    },
    {
      "cell_type": "code",
      "execution_count": 3,
      "metadata": {
        "colab": {
          "base_uri": "https://localhost:8080/"
        },
        "id": "61MVn_B4N9Uw",
        "outputId": "adfce45a-8d0f-410a-c40f-723f7628171b"
      },
      "outputs": [
        {
          "name": "stdout",
          "output_type": "stream",
          "text": [
            "Requirement already satisfied: httpx in /Users/dan/anaconda3/lib/python3.11/site-packages (0.25.1)\n",
            "Requirement already satisfied: anyio in /Users/dan/anaconda3/lib/python3.11/site-packages (from httpx) (3.5.0)\n",
            "Requirement already satisfied: certifi in /Users/dan/anaconda3/lib/python3.11/site-packages (from httpx) (2023.5.7)\n",
            "Requirement already satisfied: httpcore in /Users/dan/anaconda3/lib/python3.11/site-packages (from httpx) (1.0.2)\n",
            "Requirement already satisfied: idna in /Users/dan/anaconda3/lib/python3.11/site-packages (from httpx) (3.4)\n",
            "Requirement already satisfied: sniffio in /Users/dan/anaconda3/lib/python3.11/site-packages (from httpx) (1.2.0)\n",
            "Requirement already satisfied: h11<0.15,>=0.13 in /Users/dan/anaconda3/lib/python3.11/site-packages (from httpcore->httpx) (0.14.0)\n"
          ]
        }
      ],
      "source": [
        "!pip install httpx"
      ]
    },
    {
      "cell_type": "code",
      "execution_count": 4,
      "metadata": {
        "id": "ZBVNINk3vpHP"
      },
      "outputs": [],
      "source": [
        "# This code is adapted from Simon Willison https://til.simonwillison.net/llms/python-react-pattern\n",
        "import openai\n",
        "import re\n",
        "import httpx\n",
        "\n",
        "openai.api_key = secret_key\n",
        "\n",
        "class ChatBot:\n",
        "    def __init__(self, system=\"\"):\n",
        "        self.system = system\n",
        "        self.messages = []\n",
        "        if self.system:\n",
        "            self.messages.append({\"role\": \"system\", \"content\": system})\n",
        "\n",
        "    def __call__(self, message):\n",
        "        self.messages.append({\"role\": \"user\", \"content\": message})\n",
        "        result = self.execute()\n",
        "        self.messages.append({\"role\": \"assistant\", \"content\": result})\n",
        "        return result\n",
        "\n",
        "    def execute(self):\n",
        "        completion = openai.chat.completions.create(model=\"gpt-3.5-turbo\", messages=self.messages)\n",
        "        # print(completion.usage)\n",
        "        return completion.choices[0].message.content\n",
        "\n",
        "prompt = \"\"\"\n",
        "You run in a loop of Thought, Action, PAUSE, Observation.\n",
        "At the end of the loop you output an Answer\n",
        "Use Thought to describe your thoughts about the question you have been asked.\n",
        "Use Action to run one of the actions available to you - then return PAUSE.\n",
        "Observation will be the result of running those actions.\n",
        "\n",
        "Your available actions are:\n",
        "\n",
        "calculate:\n",
        "e.g. calculate: 4 * 7 / 3\n",
        "Runs a calculation and returns the number - uses Python so be sure to use floating point syntax if necessary\n",
        "\n",
        "wikipedia:\n",
        "e.g. wikipedia: Django\n",
        "Returns a summary from searching Wikipedia\n",
        "\n",
        "Always look things up on Wikipedia if you have the opportunity to do so.\n",
        "\n",
        "Example session:\n",
        "\n",
        "Question: What is the capital of France?\n",
        "Thought: I should look up France on Wikipedia\n",
        "Action: wikipedia: France\n",
        "PAUSE\n",
        "\n",
        "You will be called again with this:\n",
        "\n",
        "Observation: France is a country. The capital is Paris.\n",
        "\n",
        "You then output:\n",
        "\n",
        "Answer: The capital of France is Paris\n",
        "\"\"\".strip()\n",
        "\n",
        "\n",
        "action_re = re.compile('^Action: (\\w+): (.*)$')\n",
        "\n",
        "def query(question, max_turns=5):\n",
        "    i = 0\n",
        "    bot = ChatBot(prompt)\n",
        "    next_prompt = question\n",
        "    while i < max_turns:\n",
        "        i += 1\n",
        "        result = bot(next_prompt)\n",
        "        print(result)\n",
        "        actions = [action_re.match(a) for a in result.split('\\n') if action_re.match(a)]\n",
        "        if actions:\n",
        "            # There is an action to run\n",
        "            action, action_input = actions[0].groups()\n",
        "            if action not in known_actions:\n",
        "                raise Exception(\"Unknown action: {}: {}\".format(action, action_input))\n",
        "            print(\" -- running {} {}\".format(action, action_input))\n",
        "            observation = known_actions[action](action_input)\n",
        "            print(\"Observation:\", observation)\n",
        "            next_prompt = \"Observation: {}\".format(observation)\n",
        "        else:\n",
        "            return\n",
        "\n",
        "def wikipedia(q):\n",
        "    return httpx.get(\"https://en.wikipedia.org/w/api.php\", params={\n",
        "        \"action\": \"query\",\n",
        "        \"list\": \"search\",\n",
        "        \"srsearch\": q,\n",
        "        \"format\": \"json\"\n",
        "    }).json()[\"query\"][\"search\"][0][\"snippet\"]\n",
        "\n",
        "def calculate(what):\n",
        "    return eval(what)\n",
        "\n",
        "known_actions = {\n",
        "    \"wikipedia\": wikipedia,\n",
        "    \"calculate\": calculate,\n",
        "}"
      ]
    },
    {
      "cell_type": "code",
      "execution_count": 5,
      "metadata": {
        "colab": {
          "base_uri": "https://localhost:8080/"
        },
        "id": "ISKOhWkRxzH4",
        "outputId": "4c3c6fa6-0fdb-4fcf-c3be-b38510bf5f2f"
      },
      "outputs": [
        {
          "name": "stdout",
          "output_type": "stream",
          "text": [
            "Thought: I should look up England on Wikipedia\n",
            "Action: wikipedia: England\n",
            "PAUSE\n",
            " -- running wikipedia England\n",
            "Observation: <span class=\"searchmatch\">England</span> is a country that is part of the United Kingdom. It shares land borders with Wales to its west and Scotland to its north, while Ireland is located\n",
            "Answer: The capital of England is London.\n"
          ]
        }
      ],
      "source": [
        "query(\"What is the capital of england?\")"
      ]
    },
    {
      "cell_type": "code",
      "execution_count": 6,
      "metadata": {
        "colab": {
          "base_uri": "https://localhost:8080/"
        },
        "id": "vrPUKOxDyP8Q",
        "outputId": "40bdbc8a-60bc-4950-fa01-1877ce5ffe37"
      },
      "outputs": [
        {
          "name": "stdout",
          "output_type": "stream",
          "text": [
            "Thought: This is a simple addition that I can calculate myself.\n",
            "\n",
            "Action: calculate: 2 + 2\n",
            " -- running calculate 2 + 2\n",
            "Observation: 4\n",
            "Answer: 2 + 2 is equal to 4.\n"
          ]
        }
      ],
      "source": [
        "query(\"What is 2 + 2?\")"
      ]
    }
  ],
  "metadata": {
    "colab": {
      "provenance": []
    },
    "kernelspec": {
      "display_name": "Python 3",
      "name": "python3"
    },
    "language_info": {
      "codemirror_mode": {
        "name": "ipython",
        "version": 3
      },
      "file_extension": ".py",
      "mimetype": "text/x-python",
      "name": "python",
      "nbconvert_exporter": "python",
      "pygments_lexer": "ipython3",
      "version": "3.11.3"
    }
  },
  "nbformat": 4,
  "nbformat_minor": 0
}
