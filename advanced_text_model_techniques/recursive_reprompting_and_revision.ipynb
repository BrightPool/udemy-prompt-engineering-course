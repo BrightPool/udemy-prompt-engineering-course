{
  "cells": [
    {
      "cell_type": "markdown",
      "metadata": {
        "id": "FjTUqNDq-cVN"
      },
      "source": [
        "Source: https://arxiv.org/pdf/2210.06774.pdf"
      ]
    },
    {
      "cell_type": "markdown",
      "metadata": {
        "id": "aj_N2nXU3oF_"
      },
      "source": [
        "Get your openai api key from settings: https://platform.openai.com/account/api-keys"
      ]
    },
    {
      "cell_type": "code",
      "execution_count": 4,
      "metadata": {},
      "outputs": [
        {
          "name": "stdout",
          "output_type": "stream",
          "text": [
            "Requirement already satisfied: openai in /Users/jamesaphoenix/opt/anaconda3/lib/python3.9/site-packages (1.7.2)\n",
            "\u001b[31mERROR: Could not find a version that satisfies the requirement upgrade (from versions: none)\u001b[0m\u001b[31m\n",
            "\u001b[0m\u001b[31mERROR: No matching distribution found for upgrade\u001b[0m\u001b[31m\n",
            "\u001b[0mNote: you may need to restart the kernel to use updated packages.\n"
          ]
        }
      ],
      "source": [
        "%pip install openai -- upgrade"
      ]
    },
    {
      "cell_type": "code",
      "execution_count": 5,
      "metadata": {
        "colab": {
          "base_uri": "https://localhost:8080/"
        },
        "id": "-DcnuHyv3lKx",
        "outputId": "4fe8d0b1-e00f-4cec-a311-ef8b6cdc8099"
      },
      "outputs": [],
      "source": [
        "# Get the openai secret key\n",
        "import getpass\n",
        "from openai import OpenAI\n",
        "\n",
        "secret_key = getpass.getpass(\"Please enter your openai key: \")"
      ]
    },
    {
      "cell_type": "code",
      "execution_count": 13,
      "metadata": {
        "colab": {
          "base_uri": "https://localhost:8080/",
          "height": 35
        },
        "id": "zTTAw81O6xs0",
        "outputId": "b7c6183f-f4cb-40e7-a363-0f2b221e46c2"
      },
      "outputs": [
        {
          "data": {
            "text/plain": [
              "'Yes, it is working. How can I assist you today?'"
            ]
          },
          "execution_count": 13,
          "metadata": {},
          "output_type": "execute_result"
        }
      ],
      "source": [
        "# OpenAI set up:\n",
        "client = OpenAI()\n",
        "client.api_key = secret_key\n",
        "\n",
        "def complete(prompt, stop=None):\n",
        "    response = client.chat.completions.create(\n",
        "        model=\"gpt-4\",\n",
        "        messages=[\n",
        "            {\n",
        "            \"role\": \"user\",\n",
        "            \"content\": prompt\n",
        "            }\n",
        "        ],\n",
        "        stop=stop\n",
        "    )\n",
        "    return response.choices[0].message.content\n",
        "\n",
        "complete(\"is this working?\")"
      ]
    },
    {
      "cell_type": "code",
      "execution_count": 14,
      "metadata": {
        "colab": {
          "base_uri": "https://localhost:8080/",
          "height": 35
        },
        "id": "CAZ73OYK83Lb",
        "outputId": "1915e6f2-bd80-419d-d6f2-43236bcc142d"
      },
      "outputs": [
        {
          "data": {
            "text/plain": [
              "'Premise: A new law grad returns home to start her career, but struggles with the broken justice system.'"
            ]
          },
          "execution_count": 14,
          "metadata": {},
          "output_type": "execute_result"
        }
      ],
      "source": [
        "# Add your premise:\n",
        "premise_input = \"A new law grad returns home to start her career, but struggles with the broken justice system.\" #@param {type:\"string\"}\n",
        "premise = f\"Premise: {premise_input}\"\n",
        "premise"
      ]
    },
    {
      "cell_type": "markdown",
      "metadata": {
        "id": "f1U0BFvp4nmv"
      },
      "source": [
        "## Plan Module"
      ]
    },
    {
      "cell_type": "code",
      "execution_count": 15,
      "metadata": {
        "colab": {
          "base_uri": "https://localhost:8080/",
          "height": 35
        },
        "id": "ZIS1VmaT9WkP",
        "outputId": "0b0455f2-66f6-41de-e2ae-9e1c0deee8cc"
      },
      "outputs": [
        {
          "data": {
            "text/plain": [
              "'Setting: The story is set in a small rural town in Arkansas.'"
            ]
          },
          "execution_count": 15,
          "metadata": {},
          "output_type": "execute_result"
        }
      ],
      "source": [
        "# Setting:\n",
        "setting_prompt = f\"{premise}\\nThe story is set in\"\n",
        "setting_response = complete(setting_prompt, stop=[\".\"])\n",
        "setting = f\"Setting: The story is set in {setting_response}.\"\n",
        "setting"
      ]
    },
    {
      "cell_type": "code",
      "execution_count": 16,
      "metadata": {
        "colab": {
          "base_uri": "https://localhost:8080/"
        },
        "id": "1jRbxxbD92qi",
        "outputId": "30d173df-0288-4833-aade-ffb9c8ba6fb6"
      },
      "outputs": [
        {
          "name": "stdout",
          "output_type": "stream",
          "text": [
            "1. Character Portrait:\n",
            "1.\n",
            "\n",
            "2. Character Portrait:\n",
            "1.\n",
            "\n",
            "\n"
          ]
        }
      ],
      "source": [
        "# Characters\n",
        "num_characters = 2\n",
        "characters = \"\"\n",
        "character_format = \"Please invent characters for this story, in the format of [name] is [context]. For example 'Liza Turner is a 22-year-old woman' or 'Peyton Turner is Liza's older sister'. Each character is distinct and does not reuse the same name as these examples.\"\n",
        "character_prompt = f\"Premise: {premise}\\n\\nSetting: {setting}\\n\\n{character_format}\\n\\n\"\n",
        "for n in range(num_characters):\n",
        "    character_prompt += f\"{n+1}. Character Portrait:\\n\"\n",
        "    character_response = complete(f\"{character_prompt}\\n\\n{n+1}. Character Portrait:\\n\", stop=[\".\"])\n",
        "    character_prompt += f\"{character_response}\\n\\n\"\n",
        "    characters += f\"{n+1}. Character Portrait:\\n{character_response.strip()}.\\n\\n\"\n",
        "\n",
        "print(characters)"
      ]
    },
    {
      "cell_type": "code",
      "execution_count": 17,
      "metadata": {
        "colab": {
          "base_uri": "https://localhost:8080/"
        },
        "id": "0tDLXTdH4q7W",
        "outputId": "411f0c4d-a8c6-4cd4-871c-19754ae37161"
      },
      "outputs": [
        {
          "name": "stdout",
          "output_type": "stream",
          "text": [
            "Outline the main plot points of the story\n",
            "\n",
            "1.  Jane Hopkins, fresh out of law school, returns to her small hometown in Arkansas eager to bring changes she has learnt in law school to her community.\n",
            "2. Jane quickly finds a job at the local law firm and set her sights on fixing the many injustices she sees in her town's legal system.\n",
            "3. She takes on a case of a wrongfully convicted young man from a marginalized community. However, she faces resistance from corrupt local officials and physicians who stand to benefit from maintaining the status quo in the legal system.\n",
            "4. Jane faces criticism from her townsfolk and threats from powerful citizens. At the same time, she struggles with the challenge of persuading the reticent victim to trust her and the system in order to fight for his case.\n",
            "5. Jane's family advises her to quit and accept things as they are, due to the mounting pressures and threats. Yet, she refuses, committed to bringing justice to the community.\n",
            "6. With the help of a mentor character who believes in her fight, Jane uncovers sordid evidence of corruption baked into the town's justice system. They uncover a network of officials who have been providing falsified evidence to imprison innocent citizens for their personal gains.\n",
            "7. Ultimately, Jane takes the stand in court to fight for the wrongfully convicted man's innocence, putting her own reputation and safety on the line.\n",
            "8. Jane's passionate defense and the exposed evidence cause an uproar among fellow townsfolk, rallying them in support of her fight against the broken system.\n",
            "9. She wins the case, proving her client's innocence and securing his release. The corrupt officials and physicians are exposed, and they face the consequences of their crime.\n",
            "10. The story ends with Jane vowing to continue her fight against the corrupt system and brings positive changes that revitalize her community's faith in justice. The small-town law firm she works in becomes a beacon of hope as they continue to fight against injustice and corruption.\n"
          ]
        }
      ],
      "source": [
        "# Plot\n",
        "plot_prompt = f\"{premise}\\n\\n{setting}\\n\\n{characters}Outline the main plot points of the story.\\n1.\"\n",
        "plot_response = complete(plot_prompt)\n",
        "plot = f\"{plot_response}\"\n",
        "print(\"Outline the main plot points of the story\\n\\n1. \", plot)"
      ]
    },
    {
      "cell_type": "code",
      "execution_count": 18,
      "metadata": {
        "colab": {
          "base_uri": "https://localhost:8080/"
        },
        "id": "1J1TKVbhCGeV",
        "outputId": "315d7ee3-2fe5-43e2-e58b-f6a0246e2968"
      },
      "outputs": [
        {
          "name": "stdout",
          "output_type": "stream",
          "text": [
            "Premise: A new law grad returns home to start her career, but struggles with the broken justice system.\n",
            "\n",
            "Setting: The story is set in a small rural town in Arkansas.\n",
            "\n",
            "1. Character Portrait:\n",
            "1.\n",
            "\n",
            "2. Character Portrait:\n",
            "1.\n",
            "\n",
            "\n",
            "\n",
            "Outline the main plot points of the story\n",
            "\n",
            "1. Jane Hopkins, fresh out of law school, returns to her small hometown in Arkansas eager to bring changes she has learnt in law school to her community.\n",
            "2. Jane quickly finds a job at the local law firm and set her sights on fixing the many injustices she sees in her town's legal system.\n",
            "3. She takes on a case of a wrongfully convicted young man from a marginalized community. However, she faces resistance from corrupt local officials and physicians who stand to benefit from maintaining the status quo in the legal system.\n",
            "4. Jane faces criticism from her townsfolk and threats from powerful citizens. At the same time, she struggles with the challenge of persuading the reticent victim to trust her and the system in order to fight for his case.\n",
            "5. Jane's family advises her to quit and accept things as they are, due to the mounting pressures and threats. Yet, she refuses, committed to bringing justice to the community.\n",
            "6. With the help of a mentor character who believes in her fight, Jane uncovers sordid evidence of corruption baked into the town's justice system. They uncover a network of officials who have been providing falsified evidence to imprison innocent citizens for their personal gains.\n",
            "7. Ultimately, Jane takes the stand in court to fight for the wrongfully convicted man's innocence, putting her own reputation and safety on the line.\n",
            "8. Jane's passionate defense and the exposed evidence cause an uproar among fellow townsfolk, rallying them in support of her fight against the broken system.\n",
            "9. She wins the case, proving her client's innocence and securing his release. The corrupt officials and physicians are exposed, and they face the consequences of their crime.\n",
            "10. The story ends with Jane vowing to continue her fight against the corrupt system and brings positive changes that revitalize her community's faith in justice. The small-town law firm she works in becomes a beacon of hope as they continue to fight against injustice and corruption.\n"
          ]
        }
      ],
      "source": [
        "# Full Plan Module\n",
        "print(f\"{premise}\\n\\n{setting}\\n\\n{characters}\\n\\nOutline the main plot points of the story\\n\\n1. {plot}\")"
      ]
    },
    {
      "cell_type": "markdown",
      "metadata": {
        "id": "vGPO-P0hHHUn"
      },
      "source": [
        "## Draft Module"
      ]
    },
    {
      "cell_type": "code",
      "execution_count": 19,
      "metadata": {
        "colab": {
          "base_uri": "https://localhost:8080/"
        },
        "id": "yWrnj231HKFH",
        "outputId": "aace67b0-6b7d-42c3-c2bf-ca8f89a04bc3"
      },
      "outputs": [
        {
          "name": "stdout",
          "output_type": "stream",
          "text": [
            "['Jane Hopkins, fresh out of law school, returns to her small hometown in Arkansas eager to bring changes she has learnt in law school to her community.', \"Jane quickly finds a job at the local law firm and set her sights on fixing the many injustices she sees in her town's legal system.\", 'She takes on a case of a wrongfully convicted young man from a marginalized community. However, she faces resistance from corrupt local officials and physicians who stand to benefit from maintaining the status quo in the legal system.', 'Jane faces criticism from her townsfolk and threats from powerful citizens. At the same time, she struggles with the challenge of persuading the reticent victim to trust her and the system in order to fight for his case.', \"Jane's family advises her to quit and accept things as they are, due to the mounting pressures and threats. Yet, she refuses, committed to bringing justice to the community.\", \"With the help of a mentor character who believes in her fight, Jane uncovers sordid evidence of corruption baked into the town's justice system. They uncover a network of officials who have been providing falsified evidence to imprison innocent citizens for their personal gains.\", \"Ultimately, Jane takes the stand in court to fight for the wrongfully convicted man's innocence, putting her own reputation and safety on the line.\", \"Jane's passionate defense and the exposed evidence cause an uproar among fellow townsfolk, rallying them in support of her fight against the broken system.\", \"She wins the case, proving her client's innocence and securing his release. The corrupt officials and physicians are exposed, and they face the consequences of their crime.\", \"The story ends with Jane vowing to continue her fight against the corrupt system and brings positive changes that revitalize her community's faith in justice. The small-town law firm she works in becomes a beacon of hope as they continue to fight against injustice and corruption.\"]\n"
          ]
        }
      ],
      "source": [
        "import re\n",
        "\n",
        "plot_points_raw = plot.split('\\n')\n",
        "plot_points = []\n",
        "\n",
        "for pp in plot_points_raw:\n",
        "    if pp == '':\n",
        "        continue\n",
        "    else:\n",
        "        stripped_pp = re.sub(r'^\\d+\\.\\s*', '', pp)\n",
        "        plot_points.append(stripped_pp)\n",
        "\n",
        "print(plot_points)"
      ]
    },
    {
      "cell_type": "code",
      "execution_count": 20,
      "metadata": {
        "colab": {
          "base_uri": "https://localhost:8080/"
        },
        "id": "JYlKOW_iHie2",
        "outputId": "fefa297d-cb01-43f7-ac42-7522d93dde1e"
      },
      "outputs": [
        {
          "ename": "KeyboardInterrupt",
          "evalue": "",
          "output_type": "error",
          "traceback": [
            "\u001b[0;31m---------------------------------------------------------------------------\u001b[0m",
            "\u001b[0;31mKeyboardInterrupt\u001b[0m                         Traceback (most recent call last)",
            "\u001b[0;32m/var/folders/_y/20jl658s4jl0zvy5c0x0c5140000gn/T/ipykernel_38128/2291634307.py\u001b[0m in \u001b[0;36m<module>\u001b[0;34m\u001b[0m\n\u001b[1;32m     13\u001b[0m     \u001b[0mdraft_prompt\u001b[0m \u001b[0;34m=\u001b[0m \u001b[0;34mf\"Relevant context:\\n{characters}{previous}\\n\\n{immediately}\\n\\n{upcoming}\\n\\nFull text below:\"\u001b[0m\u001b[0;34m\u001b[0m\u001b[0;34m\u001b[0m\u001b[0m\n\u001b[1;32m     14\u001b[0m \u001b[0;34m\u001b[0m\u001b[0m\n\u001b[0;32m---> 15\u001b[0;31m     \u001b[0mdraft_response\u001b[0m \u001b[0;34m=\u001b[0m \u001b[0mcomplete\u001b[0m\u001b[0;34m(\u001b[0m\u001b[0mdraft_prompt\u001b[0m\u001b[0;34m)\u001b[0m\u001b[0;34m\u001b[0m\u001b[0;34m\u001b[0m\u001b[0m\n\u001b[0m\u001b[1;32m     16\u001b[0m     \u001b[0mdraft_response\u001b[0m \u001b[0;34m=\u001b[0m \u001b[0mdraft_response\u001b[0m\u001b[0;34m.\u001b[0m\u001b[0mstrip\u001b[0m\u001b[0;34m(\u001b[0m\u001b[0;34m)\u001b[0m\u001b[0;34m\u001b[0m\u001b[0;34m\u001b[0m\u001b[0m\n\u001b[1;32m     17\u001b[0m \u001b[0;34m\u001b[0m\u001b[0m\n",
            "\u001b[0;32m/var/folders/_y/20jl658s4jl0zvy5c0x0c5140000gn/T/ipykernel_38128/233603290.py\u001b[0m in \u001b[0;36mcomplete\u001b[0;34m(prompt, stop)\u001b[0m\n\u001b[1;32m      4\u001b[0m \u001b[0;34m\u001b[0m\u001b[0m\n\u001b[1;32m      5\u001b[0m \u001b[0;32mdef\u001b[0m \u001b[0mcomplete\u001b[0m\u001b[0;34m(\u001b[0m\u001b[0mprompt\u001b[0m\u001b[0;34m,\u001b[0m \u001b[0mstop\u001b[0m\u001b[0;34m=\u001b[0m\u001b[0;32mNone\u001b[0m\u001b[0;34m)\u001b[0m\u001b[0;34m:\u001b[0m\u001b[0;34m\u001b[0m\u001b[0;34m\u001b[0m\u001b[0m\n\u001b[0;32m----> 6\u001b[0;31m     response = client.chat.completions.create(\n\u001b[0m\u001b[1;32m      7\u001b[0m         \u001b[0mmodel\u001b[0m\u001b[0;34m=\u001b[0m\u001b[0;34m\"gpt-4\"\u001b[0m\u001b[0;34m,\u001b[0m\u001b[0;34m\u001b[0m\u001b[0;34m\u001b[0m\u001b[0m\n\u001b[1;32m      8\u001b[0m         messages=[\n",
            "\u001b[0;32m~/opt/anaconda3/lib/python3.9/site-packages/openai/_utils/_utils.py\u001b[0m in \u001b[0;36mwrapper\u001b[0;34m(*args, **kwargs)\u001b[0m\n\u001b[1;32m    269\u001b[0m                         \u001b[0mmsg\u001b[0m \u001b[0;34m=\u001b[0m \u001b[0;34mf\"Missing required argument: {quote(missing[0])}\"\u001b[0m\u001b[0;34m\u001b[0m\u001b[0;34m\u001b[0m\u001b[0m\n\u001b[1;32m    270\u001b[0m                 \u001b[0;32mraise\u001b[0m \u001b[0mTypeError\u001b[0m\u001b[0;34m(\u001b[0m\u001b[0mmsg\u001b[0m\u001b[0;34m)\u001b[0m\u001b[0;34m\u001b[0m\u001b[0;34m\u001b[0m\u001b[0m\n\u001b[0;32m--> 271\u001b[0;31m             \u001b[0;32mreturn\u001b[0m \u001b[0mfunc\u001b[0m\u001b[0;34m(\u001b[0m\u001b[0;34m*\u001b[0m\u001b[0margs\u001b[0m\u001b[0;34m,\u001b[0m \u001b[0;34m**\u001b[0m\u001b[0mkwargs\u001b[0m\u001b[0;34m)\u001b[0m\u001b[0;34m\u001b[0m\u001b[0;34m\u001b[0m\u001b[0m\n\u001b[0m\u001b[1;32m    272\u001b[0m \u001b[0;34m\u001b[0m\u001b[0m\n\u001b[1;32m    273\u001b[0m         \u001b[0;32mreturn\u001b[0m \u001b[0mwrapper\u001b[0m  \u001b[0;31m# type: ignore\u001b[0m\u001b[0;34m\u001b[0m\u001b[0;34m\u001b[0m\u001b[0m\n",
            "\u001b[0;32m~/opt/anaconda3/lib/python3.9/site-packages/openai/resources/chat/completions.py\u001b[0m in \u001b[0;36mcreate\u001b[0;34m(self, messages, model, frequency_penalty, function_call, functions, logit_bias, logprobs, max_tokens, n, presence_penalty, response_format, seed, stop, stream, temperature, tool_choice, tools, top_logprobs, top_p, user, extra_headers, extra_query, extra_body, timeout)\u001b[0m\n\u001b[1;32m    641\u001b[0m         \u001b[0mtimeout\u001b[0m\u001b[0;34m:\u001b[0m \u001b[0mfloat\u001b[0m \u001b[0;34m|\u001b[0m \u001b[0mhttpx\u001b[0m\u001b[0;34m.\u001b[0m\u001b[0mTimeout\u001b[0m \u001b[0;34m|\u001b[0m \u001b[0;32mNone\u001b[0m \u001b[0;34m|\u001b[0m \u001b[0mNotGiven\u001b[0m \u001b[0;34m=\u001b[0m \u001b[0mNOT_GIVEN\u001b[0m\u001b[0;34m,\u001b[0m\u001b[0;34m\u001b[0m\u001b[0;34m\u001b[0m\u001b[0m\n\u001b[1;32m    642\u001b[0m     ) -> ChatCompletion | Stream[ChatCompletionChunk]:\n\u001b[0;32m--> 643\u001b[0;31m         return self._post(\n\u001b[0m\u001b[1;32m    644\u001b[0m             \u001b[0;34m\"/chat/completions\"\u001b[0m\u001b[0;34m,\u001b[0m\u001b[0;34m\u001b[0m\u001b[0;34m\u001b[0m\u001b[0m\n\u001b[1;32m    645\u001b[0m             body=maybe_transform(\n",
            "\u001b[0;32m~/opt/anaconda3/lib/python3.9/site-packages/openai/_base_client.py\u001b[0m in \u001b[0;36mpost\u001b[0;34m(self, path, cast_to, body, options, files, stream, stream_cls)\u001b[0m\n\u001b[1;32m   1110\u001b[0m             \u001b[0mmethod\u001b[0m\u001b[0;34m=\u001b[0m\u001b[0;34m\"post\"\u001b[0m\u001b[0;34m,\u001b[0m \u001b[0murl\u001b[0m\u001b[0;34m=\u001b[0m\u001b[0mpath\u001b[0m\u001b[0;34m,\u001b[0m \u001b[0mjson_data\u001b[0m\u001b[0;34m=\u001b[0m\u001b[0mbody\u001b[0m\u001b[0;34m,\u001b[0m \u001b[0mfiles\u001b[0m\u001b[0;34m=\u001b[0m\u001b[0mto_httpx_files\u001b[0m\u001b[0;34m(\u001b[0m\u001b[0mfiles\u001b[0m\u001b[0;34m)\u001b[0m\u001b[0;34m,\u001b[0m \u001b[0;34m**\u001b[0m\u001b[0moptions\u001b[0m\u001b[0;34m\u001b[0m\u001b[0;34m\u001b[0m\u001b[0m\n\u001b[1;32m   1111\u001b[0m         )\n\u001b[0;32m-> 1112\u001b[0;31m         \u001b[0;32mreturn\u001b[0m \u001b[0mcast\u001b[0m\u001b[0;34m(\u001b[0m\u001b[0mResponseT\u001b[0m\u001b[0;34m,\u001b[0m \u001b[0mself\u001b[0m\u001b[0;34m.\u001b[0m\u001b[0mrequest\u001b[0m\u001b[0;34m(\u001b[0m\u001b[0mcast_to\u001b[0m\u001b[0;34m,\u001b[0m \u001b[0mopts\u001b[0m\u001b[0;34m,\u001b[0m \u001b[0mstream\u001b[0m\u001b[0;34m=\u001b[0m\u001b[0mstream\u001b[0m\u001b[0;34m,\u001b[0m \u001b[0mstream_cls\u001b[0m\u001b[0;34m=\u001b[0m\u001b[0mstream_cls\u001b[0m\u001b[0;34m)\u001b[0m\u001b[0;34m)\u001b[0m\u001b[0;34m\u001b[0m\u001b[0;34m\u001b[0m\u001b[0m\n\u001b[0m\u001b[1;32m   1113\u001b[0m \u001b[0;34m\u001b[0m\u001b[0m\n\u001b[1;32m   1114\u001b[0m     def patch(\n",
            "\u001b[0;32m~/opt/anaconda3/lib/python3.9/site-packages/openai/_base_client.py\u001b[0m in \u001b[0;36mrequest\u001b[0;34m(self, cast_to, options, remaining_retries, stream, stream_cls)\u001b[0m\n\u001b[1;32m    857\u001b[0m         \u001b[0mstream_cls\u001b[0m\u001b[0;34m:\u001b[0m \u001b[0mtype\u001b[0m\u001b[0;34m[\u001b[0m\u001b[0m_StreamT\u001b[0m\u001b[0;34m]\u001b[0m \u001b[0;34m|\u001b[0m \u001b[0;32mNone\u001b[0m \u001b[0;34m=\u001b[0m \u001b[0;32mNone\u001b[0m\u001b[0;34m,\u001b[0m\u001b[0;34m\u001b[0m\u001b[0;34m\u001b[0m\u001b[0m\n\u001b[1;32m    858\u001b[0m     ) -> ResponseT | _StreamT:\n\u001b[0;32m--> 859\u001b[0;31m         return self._request(\n\u001b[0m\u001b[1;32m    860\u001b[0m             \u001b[0mcast_to\u001b[0m\u001b[0;34m=\u001b[0m\u001b[0mcast_to\u001b[0m\u001b[0;34m,\u001b[0m\u001b[0;34m\u001b[0m\u001b[0;34m\u001b[0m\u001b[0m\n\u001b[1;32m    861\u001b[0m             \u001b[0moptions\u001b[0m\u001b[0;34m=\u001b[0m\u001b[0moptions\u001b[0m\u001b[0;34m,\u001b[0m\u001b[0;34m\u001b[0m\u001b[0;34m\u001b[0m\u001b[0m\n",
            "\u001b[0;32m~/opt/anaconda3/lib/python3.9/site-packages/openai/_base_client.py\u001b[0m in \u001b[0;36m_request\u001b[0;34m(self, cast_to, options, remaining_retries, stream, stream_cls)\u001b[0m\n\u001b[1;32m    885\u001b[0m \u001b[0;34m\u001b[0m\u001b[0m\n\u001b[1;32m    886\u001b[0m         \u001b[0;32mtry\u001b[0m\u001b[0;34m:\u001b[0m\u001b[0;34m\u001b[0m\u001b[0;34m\u001b[0m\u001b[0m\n\u001b[0;32m--> 887\u001b[0;31m             response = self._client.send(\n\u001b[0m\u001b[1;32m    888\u001b[0m                 \u001b[0mrequest\u001b[0m\u001b[0;34m,\u001b[0m\u001b[0;34m\u001b[0m\u001b[0;34m\u001b[0m\u001b[0m\n\u001b[1;32m    889\u001b[0m                 \u001b[0mstream\u001b[0m\u001b[0;34m=\u001b[0m\u001b[0mstream\u001b[0m \u001b[0;32mor\u001b[0m \u001b[0mself\u001b[0m\u001b[0;34m.\u001b[0m\u001b[0m_should_stream_response_body\u001b[0m\u001b[0;34m(\u001b[0m\u001b[0mrequest\u001b[0m\u001b[0;34m=\u001b[0m\u001b[0mrequest\u001b[0m\u001b[0;34m)\u001b[0m\u001b[0;34m,\u001b[0m\u001b[0;34m\u001b[0m\u001b[0;34m\u001b[0m\u001b[0m\n",
            "\u001b[0;32m~/opt/anaconda3/lib/python3.9/site-packages/httpx/_client.py\u001b[0m in \u001b[0;36msend\u001b[0;34m(self, request, stream, auth, follow_redirects)\u001b[0m\n\u001b[1;32m    913\u001b[0m         \u001b[0mauth\u001b[0m \u001b[0;34m=\u001b[0m \u001b[0mself\u001b[0m\u001b[0;34m.\u001b[0m\u001b[0m_build_request_auth\u001b[0m\u001b[0;34m(\u001b[0m\u001b[0mrequest\u001b[0m\u001b[0;34m,\u001b[0m \u001b[0mauth\u001b[0m\u001b[0;34m)\u001b[0m\u001b[0;34m\u001b[0m\u001b[0;34m\u001b[0m\u001b[0m\n\u001b[1;32m    914\u001b[0m \u001b[0;34m\u001b[0m\u001b[0m\n\u001b[0;32m--> 915\u001b[0;31m         response = self._send_handling_auth(\n\u001b[0m\u001b[1;32m    916\u001b[0m             \u001b[0mrequest\u001b[0m\u001b[0;34m,\u001b[0m\u001b[0;34m\u001b[0m\u001b[0;34m\u001b[0m\u001b[0m\n\u001b[1;32m    917\u001b[0m             \u001b[0mauth\u001b[0m\u001b[0;34m=\u001b[0m\u001b[0mauth\u001b[0m\u001b[0;34m,\u001b[0m\u001b[0;34m\u001b[0m\u001b[0;34m\u001b[0m\u001b[0m\n",
            "\u001b[0;32m~/opt/anaconda3/lib/python3.9/site-packages/httpx/_client.py\u001b[0m in \u001b[0;36m_send_handling_auth\u001b[0;34m(self, request, auth, follow_redirects, history)\u001b[0m\n\u001b[1;32m    941\u001b[0m \u001b[0;34m\u001b[0m\u001b[0m\n\u001b[1;32m    942\u001b[0m             \u001b[0;32mwhile\u001b[0m \u001b[0;32mTrue\u001b[0m\u001b[0;34m:\u001b[0m\u001b[0;34m\u001b[0m\u001b[0;34m\u001b[0m\u001b[0m\n\u001b[0;32m--> 943\u001b[0;31m                 response = self._send_handling_redirects(\n\u001b[0m\u001b[1;32m    944\u001b[0m                     \u001b[0mrequest\u001b[0m\u001b[0;34m,\u001b[0m\u001b[0;34m\u001b[0m\u001b[0;34m\u001b[0m\u001b[0m\n\u001b[1;32m    945\u001b[0m                     \u001b[0mfollow_redirects\u001b[0m\u001b[0;34m=\u001b[0m\u001b[0mfollow_redirects\u001b[0m\u001b[0;34m,\u001b[0m\u001b[0;34m\u001b[0m\u001b[0;34m\u001b[0m\u001b[0m\n",
            "\u001b[0;32m~/opt/anaconda3/lib/python3.9/site-packages/httpx/_client.py\u001b[0m in \u001b[0;36m_send_handling_redirects\u001b[0;34m(self, request, follow_redirects, history)\u001b[0m\n\u001b[1;32m    978\u001b[0m                 \u001b[0mhook\u001b[0m\u001b[0;34m(\u001b[0m\u001b[0mrequest\u001b[0m\u001b[0;34m)\u001b[0m\u001b[0;34m\u001b[0m\u001b[0;34m\u001b[0m\u001b[0m\n\u001b[1;32m    979\u001b[0m \u001b[0;34m\u001b[0m\u001b[0m\n\u001b[0;32m--> 980\u001b[0;31m             \u001b[0mresponse\u001b[0m \u001b[0;34m=\u001b[0m \u001b[0mself\u001b[0m\u001b[0;34m.\u001b[0m\u001b[0m_send_single_request\u001b[0m\u001b[0;34m(\u001b[0m\u001b[0mrequest\u001b[0m\u001b[0;34m)\u001b[0m\u001b[0;34m\u001b[0m\u001b[0;34m\u001b[0m\u001b[0m\n\u001b[0m\u001b[1;32m    981\u001b[0m             \u001b[0;32mtry\u001b[0m\u001b[0;34m:\u001b[0m\u001b[0;34m\u001b[0m\u001b[0;34m\u001b[0m\u001b[0m\n\u001b[1;32m    982\u001b[0m                 \u001b[0;32mfor\u001b[0m \u001b[0mhook\u001b[0m \u001b[0;32min\u001b[0m \u001b[0mself\u001b[0m\u001b[0;34m.\u001b[0m\u001b[0m_event_hooks\u001b[0m\u001b[0;34m[\u001b[0m\u001b[0;34m\"response\"\u001b[0m\u001b[0;34m]\u001b[0m\u001b[0;34m:\u001b[0m\u001b[0;34m\u001b[0m\u001b[0;34m\u001b[0m\u001b[0m\n",
            "\u001b[0;32m~/opt/anaconda3/lib/python3.9/site-packages/httpx/_client.py\u001b[0m in \u001b[0;36m_send_single_request\u001b[0;34m(self, request)\u001b[0m\n\u001b[1;32m   1014\u001b[0m \u001b[0;34m\u001b[0m\u001b[0m\n\u001b[1;32m   1015\u001b[0m         \u001b[0;32mwith\u001b[0m \u001b[0mrequest_context\u001b[0m\u001b[0;34m(\u001b[0m\u001b[0mrequest\u001b[0m\u001b[0;34m=\u001b[0m\u001b[0mrequest\u001b[0m\u001b[0;34m)\u001b[0m\u001b[0;34m:\u001b[0m\u001b[0;34m\u001b[0m\u001b[0;34m\u001b[0m\u001b[0m\n\u001b[0;32m-> 1016\u001b[0;31m             \u001b[0mresponse\u001b[0m \u001b[0;34m=\u001b[0m \u001b[0mtransport\u001b[0m\u001b[0;34m.\u001b[0m\u001b[0mhandle_request\u001b[0m\u001b[0;34m(\u001b[0m\u001b[0mrequest\u001b[0m\u001b[0;34m)\u001b[0m\u001b[0;34m\u001b[0m\u001b[0;34m\u001b[0m\u001b[0m\n\u001b[0m\u001b[1;32m   1017\u001b[0m \u001b[0;34m\u001b[0m\u001b[0m\n\u001b[1;32m   1018\u001b[0m         \u001b[0;32massert\u001b[0m \u001b[0misinstance\u001b[0m\u001b[0;34m(\u001b[0m\u001b[0mresponse\u001b[0m\u001b[0;34m.\u001b[0m\u001b[0mstream\u001b[0m\u001b[0;34m,\u001b[0m \u001b[0mSyncByteStream\u001b[0m\u001b[0;34m)\u001b[0m\u001b[0;34m\u001b[0m\u001b[0;34m\u001b[0m\u001b[0m\n",
            "\u001b[0;32m~/opt/anaconda3/lib/python3.9/site-packages/httpx/_transports/default.py\u001b[0m in \u001b[0;36mhandle_request\u001b[0;34m(self, request)\u001b[0m\n\u001b[1;32m    229\u001b[0m         )\n\u001b[1;32m    230\u001b[0m         \u001b[0;32mwith\u001b[0m \u001b[0mmap_httpcore_exceptions\u001b[0m\u001b[0;34m(\u001b[0m\u001b[0;34m)\u001b[0m\u001b[0;34m:\u001b[0m\u001b[0;34m\u001b[0m\u001b[0;34m\u001b[0m\u001b[0m\n\u001b[0;32m--> 231\u001b[0;31m             \u001b[0mresp\u001b[0m \u001b[0;34m=\u001b[0m \u001b[0mself\u001b[0m\u001b[0;34m.\u001b[0m\u001b[0m_pool\u001b[0m\u001b[0;34m.\u001b[0m\u001b[0mhandle_request\u001b[0m\u001b[0;34m(\u001b[0m\u001b[0mreq\u001b[0m\u001b[0;34m)\u001b[0m\u001b[0;34m\u001b[0m\u001b[0;34m\u001b[0m\u001b[0m\n\u001b[0m\u001b[1;32m    232\u001b[0m \u001b[0;34m\u001b[0m\u001b[0m\n\u001b[1;32m    233\u001b[0m         \u001b[0;32massert\u001b[0m \u001b[0misinstance\u001b[0m\u001b[0;34m(\u001b[0m\u001b[0mresp\u001b[0m\u001b[0;34m.\u001b[0m\u001b[0mstream\u001b[0m\u001b[0;34m,\u001b[0m \u001b[0mtyping\u001b[0m\u001b[0;34m.\u001b[0m\u001b[0mIterable\u001b[0m\u001b[0;34m)\u001b[0m\u001b[0;34m\u001b[0m\u001b[0;34m\u001b[0m\u001b[0m\n",
            "\u001b[0;32m~/opt/anaconda3/lib/python3.9/site-packages/httpcore/_sync/connection_pool.py\u001b[0m in \u001b[0;36mhandle_request\u001b[0;34m(self, request)\u001b[0m\n\u001b[1;32m    266\u001b[0m                 \u001b[0;32mwith\u001b[0m \u001b[0mShieldCancellation\u001b[0m\u001b[0;34m(\u001b[0m\u001b[0;34m)\u001b[0m\u001b[0;34m:\u001b[0m\u001b[0;34m\u001b[0m\u001b[0;34m\u001b[0m\u001b[0m\n\u001b[1;32m    267\u001b[0m                     \u001b[0mself\u001b[0m\u001b[0;34m.\u001b[0m\u001b[0mresponse_closed\u001b[0m\u001b[0;34m(\u001b[0m\u001b[0mstatus\u001b[0m\u001b[0;34m)\u001b[0m\u001b[0;34m\u001b[0m\u001b[0;34m\u001b[0m\u001b[0m\n\u001b[0;32m--> 268\u001b[0;31m                 \u001b[0;32mraise\u001b[0m \u001b[0mexc\u001b[0m\u001b[0;34m\u001b[0m\u001b[0;34m\u001b[0m\u001b[0m\n\u001b[0m\u001b[1;32m    269\u001b[0m             \u001b[0;32melse\u001b[0m\u001b[0;34m:\u001b[0m\u001b[0;34m\u001b[0m\u001b[0;34m\u001b[0m\u001b[0m\n\u001b[1;32m    270\u001b[0m                 \u001b[0;32mbreak\u001b[0m\u001b[0;34m\u001b[0m\u001b[0;34m\u001b[0m\u001b[0m\n",
            "\u001b[0;32m~/opt/anaconda3/lib/python3.9/site-packages/httpcore/_sync/connection_pool.py\u001b[0m in \u001b[0;36mhandle_request\u001b[0;34m(self, request)\u001b[0m\n\u001b[1;32m    249\u001b[0m \u001b[0;34m\u001b[0m\u001b[0m\n\u001b[1;32m    250\u001b[0m             \u001b[0;32mtry\u001b[0m\u001b[0;34m:\u001b[0m\u001b[0;34m\u001b[0m\u001b[0;34m\u001b[0m\u001b[0m\n\u001b[0;32m--> 251\u001b[0;31m                 \u001b[0mresponse\u001b[0m \u001b[0;34m=\u001b[0m \u001b[0mconnection\u001b[0m\u001b[0;34m.\u001b[0m\u001b[0mhandle_request\u001b[0m\u001b[0;34m(\u001b[0m\u001b[0mrequest\u001b[0m\u001b[0;34m)\u001b[0m\u001b[0;34m\u001b[0m\u001b[0;34m\u001b[0m\u001b[0m\n\u001b[0m\u001b[1;32m    252\u001b[0m             \u001b[0;32mexcept\u001b[0m \u001b[0mConnectionNotAvailable\u001b[0m\u001b[0;34m:\u001b[0m\u001b[0;34m\u001b[0m\u001b[0;34m\u001b[0m\u001b[0m\n\u001b[1;32m    253\u001b[0m                 \u001b[0;31m# The ConnectionNotAvailable exception is a special case, that\u001b[0m\u001b[0;34m\u001b[0m\u001b[0;34m\u001b[0m\u001b[0m\n",
            "\u001b[0;32m~/opt/anaconda3/lib/python3.9/site-packages/httpcore/_sync/connection.py\u001b[0m in \u001b[0;36mhandle_request\u001b[0;34m(self, request)\u001b[0m\n\u001b[1;32m    101\u001b[0m                 \u001b[0;32mraise\u001b[0m \u001b[0mConnectionNotAvailable\u001b[0m\u001b[0;34m(\u001b[0m\u001b[0;34m)\u001b[0m\u001b[0;34m\u001b[0m\u001b[0;34m\u001b[0m\u001b[0m\n\u001b[1;32m    102\u001b[0m \u001b[0;34m\u001b[0m\u001b[0m\n\u001b[0;32m--> 103\u001b[0;31m         \u001b[0;32mreturn\u001b[0m \u001b[0mself\u001b[0m\u001b[0;34m.\u001b[0m\u001b[0m_connection\u001b[0m\u001b[0;34m.\u001b[0m\u001b[0mhandle_request\u001b[0m\u001b[0;34m(\u001b[0m\u001b[0mrequest\u001b[0m\u001b[0;34m)\u001b[0m\u001b[0;34m\u001b[0m\u001b[0;34m\u001b[0m\u001b[0m\n\u001b[0m\u001b[1;32m    104\u001b[0m \u001b[0;34m\u001b[0m\u001b[0m\n\u001b[1;32m    105\u001b[0m     \u001b[0;32mdef\u001b[0m \u001b[0m_connect\u001b[0m\u001b[0;34m(\u001b[0m\u001b[0mself\u001b[0m\u001b[0;34m,\u001b[0m \u001b[0mrequest\u001b[0m\u001b[0;34m:\u001b[0m \u001b[0mRequest\u001b[0m\u001b[0;34m)\u001b[0m \u001b[0;34m->\u001b[0m \u001b[0mNetworkStream\u001b[0m\u001b[0;34m:\u001b[0m\u001b[0;34m\u001b[0m\u001b[0;34m\u001b[0m\u001b[0m\n",
            "\u001b[0;32m~/opt/anaconda3/lib/python3.9/site-packages/httpcore/_sync/http11.py\u001b[0m in \u001b[0;36mhandle_request\u001b[0;34m(self, request)\u001b[0m\n\u001b[1;32m    131\u001b[0m                 \u001b[0;32mwith\u001b[0m \u001b[0mTrace\u001b[0m\u001b[0;34m(\u001b[0m\u001b[0;34m\"response_closed\"\u001b[0m\u001b[0;34m,\u001b[0m \u001b[0mlogger\u001b[0m\u001b[0;34m,\u001b[0m \u001b[0mrequest\u001b[0m\u001b[0;34m)\u001b[0m \u001b[0;32mas\u001b[0m \u001b[0mtrace\u001b[0m\u001b[0;34m:\u001b[0m\u001b[0;34m\u001b[0m\u001b[0;34m\u001b[0m\u001b[0m\n\u001b[1;32m    132\u001b[0m                     \u001b[0mself\u001b[0m\u001b[0;34m.\u001b[0m\u001b[0m_response_closed\u001b[0m\u001b[0;34m(\u001b[0m\u001b[0;34m)\u001b[0m\u001b[0;34m\u001b[0m\u001b[0;34m\u001b[0m\u001b[0m\n\u001b[0;32m--> 133\u001b[0;31m             \u001b[0;32mraise\u001b[0m \u001b[0mexc\u001b[0m\u001b[0;34m\u001b[0m\u001b[0;34m\u001b[0m\u001b[0m\n\u001b[0m\u001b[1;32m    134\u001b[0m \u001b[0;34m\u001b[0m\u001b[0m\n\u001b[1;32m    135\u001b[0m     \u001b[0;31m# Sending the request...\u001b[0m\u001b[0;34m\u001b[0m\u001b[0;34m\u001b[0m\u001b[0m\n",
            "\u001b[0;32m~/opt/anaconda3/lib/python3.9/site-packages/httpcore/_sync/http11.py\u001b[0m in \u001b[0;36mhandle_request\u001b[0;34m(self, request)\u001b[0m\n\u001b[1;32m    109\u001b[0m                     \u001b[0mreason_phrase\u001b[0m\u001b[0;34m,\u001b[0m\u001b[0;34m\u001b[0m\u001b[0;34m\u001b[0m\u001b[0m\n\u001b[1;32m    110\u001b[0m                     \u001b[0mheaders\u001b[0m\u001b[0;34m,\u001b[0m\u001b[0;34m\u001b[0m\u001b[0;34m\u001b[0m\u001b[0m\n\u001b[0;32m--> 111\u001b[0;31m                 ) = self._receive_response_headers(**kwargs)\n\u001b[0m\u001b[1;32m    112\u001b[0m                 trace.return_value = (\n\u001b[1;32m    113\u001b[0m                     \u001b[0mhttp_version\u001b[0m\u001b[0;34m,\u001b[0m\u001b[0;34m\u001b[0m\u001b[0;34m\u001b[0m\u001b[0m\n",
            "\u001b[0;32m~/opt/anaconda3/lib/python3.9/site-packages/httpcore/_sync/http11.py\u001b[0m in \u001b[0;36m_receive_response_headers\u001b[0;34m(self, request)\u001b[0m\n\u001b[1;32m    174\u001b[0m \u001b[0;34m\u001b[0m\u001b[0m\n\u001b[1;32m    175\u001b[0m         \u001b[0;32mwhile\u001b[0m \u001b[0;32mTrue\u001b[0m\u001b[0;34m:\u001b[0m\u001b[0;34m\u001b[0m\u001b[0;34m\u001b[0m\u001b[0m\n\u001b[0;32m--> 176\u001b[0;31m             \u001b[0mevent\u001b[0m \u001b[0;34m=\u001b[0m \u001b[0mself\u001b[0m\u001b[0;34m.\u001b[0m\u001b[0m_receive_event\u001b[0m\u001b[0;34m(\u001b[0m\u001b[0mtimeout\u001b[0m\u001b[0;34m=\u001b[0m\u001b[0mtimeout\u001b[0m\u001b[0;34m)\u001b[0m\u001b[0;34m\u001b[0m\u001b[0;34m\u001b[0m\u001b[0m\n\u001b[0m\u001b[1;32m    177\u001b[0m             \u001b[0;32mif\u001b[0m \u001b[0misinstance\u001b[0m\u001b[0;34m(\u001b[0m\u001b[0mevent\u001b[0m\u001b[0;34m,\u001b[0m \u001b[0mh11\u001b[0m\u001b[0;34m.\u001b[0m\u001b[0mResponse\u001b[0m\u001b[0;34m)\u001b[0m\u001b[0;34m:\u001b[0m\u001b[0;34m\u001b[0m\u001b[0;34m\u001b[0m\u001b[0m\n\u001b[1;32m    178\u001b[0m                 \u001b[0;32mbreak\u001b[0m\u001b[0;34m\u001b[0m\u001b[0;34m\u001b[0m\u001b[0m\n",
            "\u001b[0;32m~/opt/anaconda3/lib/python3.9/site-packages/httpcore/_sync/http11.py\u001b[0m in \u001b[0;36m_receive_event\u001b[0;34m(self, timeout)\u001b[0m\n\u001b[1;32m    210\u001b[0m \u001b[0;34m\u001b[0m\u001b[0m\n\u001b[1;32m    211\u001b[0m             \u001b[0;32mif\u001b[0m \u001b[0mevent\u001b[0m \u001b[0;32mis\u001b[0m \u001b[0mh11\u001b[0m\u001b[0;34m.\u001b[0m\u001b[0mNEED_DATA\u001b[0m\u001b[0;34m:\u001b[0m\u001b[0;34m\u001b[0m\u001b[0;34m\u001b[0m\u001b[0m\n\u001b[0;32m--> 212\u001b[0;31m                 data = self._network_stream.read(\n\u001b[0m\u001b[1;32m    213\u001b[0m                     \u001b[0mself\u001b[0m\u001b[0;34m.\u001b[0m\u001b[0mREAD_NUM_BYTES\u001b[0m\u001b[0;34m,\u001b[0m \u001b[0mtimeout\u001b[0m\u001b[0;34m=\u001b[0m\u001b[0mtimeout\u001b[0m\u001b[0;34m\u001b[0m\u001b[0;34m\u001b[0m\u001b[0m\n\u001b[1;32m    214\u001b[0m                 )\n",
            "\u001b[0;32m~/opt/anaconda3/lib/python3.9/site-packages/httpcore/_backends/sync.py\u001b[0m in \u001b[0;36mread\u001b[0;34m(self, max_bytes, timeout)\u001b[0m\n\u001b[1;32m    124\u001b[0m         \u001b[0;32mwith\u001b[0m \u001b[0mmap_exceptions\u001b[0m\u001b[0;34m(\u001b[0m\u001b[0mexc_map\u001b[0m\u001b[0;34m)\u001b[0m\u001b[0;34m:\u001b[0m\u001b[0;34m\u001b[0m\u001b[0;34m\u001b[0m\u001b[0m\n\u001b[1;32m    125\u001b[0m             \u001b[0mself\u001b[0m\u001b[0;34m.\u001b[0m\u001b[0m_sock\u001b[0m\u001b[0;34m.\u001b[0m\u001b[0msettimeout\u001b[0m\u001b[0;34m(\u001b[0m\u001b[0mtimeout\u001b[0m\u001b[0;34m)\u001b[0m\u001b[0;34m\u001b[0m\u001b[0;34m\u001b[0m\u001b[0m\n\u001b[0;32m--> 126\u001b[0;31m             \u001b[0;32mreturn\u001b[0m \u001b[0mself\u001b[0m\u001b[0;34m.\u001b[0m\u001b[0m_sock\u001b[0m\u001b[0;34m.\u001b[0m\u001b[0mrecv\u001b[0m\u001b[0;34m(\u001b[0m\u001b[0mmax_bytes\u001b[0m\u001b[0;34m)\u001b[0m\u001b[0;34m\u001b[0m\u001b[0;34m\u001b[0m\u001b[0m\n\u001b[0m\u001b[1;32m    127\u001b[0m \u001b[0;34m\u001b[0m\u001b[0m\n\u001b[1;32m    128\u001b[0m     \u001b[0;32mdef\u001b[0m \u001b[0mwrite\u001b[0m\u001b[0;34m(\u001b[0m\u001b[0mself\u001b[0m\u001b[0;34m,\u001b[0m \u001b[0mbuffer\u001b[0m\u001b[0;34m:\u001b[0m \u001b[0mbytes\u001b[0m\u001b[0;34m,\u001b[0m \u001b[0mtimeout\u001b[0m\u001b[0;34m:\u001b[0m \u001b[0mtyping\u001b[0m\u001b[0;34m.\u001b[0m\u001b[0mOptional\u001b[0m\u001b[0;34m[\u001b[0m\u001b[0mfloat\u001b[0m\u001b[0;34m]\u001b[0m \u001b[0;34m=\u001b[0m \u001b[0;32mNone\u001b[0m\u001b[0;34m)\u001b[0m \u001b[0;34m->\u001b[0m \u001b[0;32mNone\u001b[0m\u001b[0;34m:\u001b[0m\u001b[0;34m\u001b[0m\u001b[0;34m\u001b[0m\u001b[0m\n",
            "\u001b[0;32m~/opt/anaconda3/lib/python3.9/ssl.py\u001b[0m in \u001b[0;36mrecv\u001b[0;34m(self, buflen, flags)\u001b[0m\n\u001b[1;32m   1225\u001b[0m                     \u001b[0;34m\"non-zero flags not allowed in calls to recv() on %s\"\u001b[0m \u001b[0;34m%\u001b[0m\u001b[0;34m\u001b[0m\u001b[0;34m\u001b[0m\u001b[0m\n\u001b[1;32m   1226\u001b[0m                     self.__class__)\n\u001b[0;32m-> 1227\u001b[0;31m             \u001b[0;32mreturn\u001b[0m \u001b[0mself\u001b[0m\u001b[0;34m.\u001b[0m\u001b[0mread\u001b[0m\u001b[0;34m(\u001b[0m\u001b[0mbuflen\u001b[0m\u001b[0;34m)\u001b[0m\u001b[0;34m\u001b[0m\u001b[0;34m\u001b[0m\u001b[0m\n\u001b[0m\u001b[1;32m   1228\u001b[0m         \u001b[0;32melse\u001b[0m\u001b[0;34m:\u001b[0m\u001b[0;34m\u001b[0m\u001b[0;34m\u001b[0m\u001b[0m\n\u001b[1;32m   1229\u001b[0m             \u001b[0;32mreturn\u001b[0m \u001b[0msuper\u001b[0m\u001b[0;34m(\u001b[0m\u001b[0;34m)\u001b[0m\u001b[0;34m.\u001b[0m\u001b[0mrecv\u001b[0m\u001b[0;34m(\u001b[0m\u001b[0mbuflen\u001b[0m\u001b[0;34m,\u001b[0m \u001b[0mflags\u001b[0m\u001b[0;34m)\u001b[0m\u001b[0;34m\u001b[0m\u001b[0;34m\u001b[0m\u001b[0m\n",
            "\u001b[0;32m~/opt/anaconda3/lib/python3.9/ssl.py\u001b[0m in \u001b[0;36mread\u001b[0;34m(self, len, buffer)\u001b[0m\n\u001b[1;32m   1100\u001b[0m                 \u001b[0;32mreturn\u001b[0m \u001b[0mself\u001b[0m\u001b[0;34m.\u001b[0m\u001b[0m_sslobj\u001b[0m\u001b[0;34m.\u001b[0m\u001b[0mread\u001b[0m\u001b[0;34m(\u001b[0m\u001b[0mlen\u001b[0m\u001b[0;34m,\u001b[0m \u001b[0mbuffer\u001b[0m\u001b[0;34m)\u001b[0m\u001b[0;34m\u001b[0m\u001b[0;34m\u001b[0m\u001b[0m\n\u001b[1;32m   1101\u001b[0m             \u001b[0;32melse\u001b[0m\u001b[0;34m:\u001b[0m\u001b[0;34m\u001b[0m\u001b[0;34m\u001b[0m\u001b[0m\n\u001b[0;32m-> 1102\u001b[0;31m                 \u001b[0;32mreturn\u001b[0m \u001b[0mself\u001b[0m\u001b[0;34m.\u001b[0m\u001b[0m_sslobj\u001b[0m\u001b[0;34m.\u001b[0m\u001b[0mread\u001b[0m\u001b[0;34m(\u001b[0m\u001b[0mlen\u001b[0m\u001b[0;34m)\u001b[0m\u001b[0;34m\u001b[0m\u001b[0;34m\u001b[0m\u001b[0m\n\u001b[0m\u001b[1;32m   1103\u001b[0m         \u001b[0;32mexcept\u001b[0m \u001b[0mSSLError\u001b[0m \u001b[0;32mas\u001b[0m \u001b[0mx\u001b[0m\u001b[0;34m:\u001b[0m\u001b[0;34m\u001b[0m\u001b[0;34m\u001b[0m\u001b[0m\n\u001b[1;32m   1104\u001b[0m             \u001b[0;32mif\u001b[0m \u001b[0mx\u001b[0m\u001b[0;34m.\u001b[0m\u001b[0margs\u001b[0m\u001b[0;34m[\u001b[0m\u001b[0;36m0\u001b[0m\u001b[0;34m]\u001b[0m \u001b[0;34m==\u001b[0m \u001b[0mSSL_ERROR_EOF\u001b[0m \u001b[0;32mand\u001b[0m \u001b[0mself\u001b[0m\u001b[0;34m.\u001b[0m\u001b[0msuppress_ragged_eofs\u001b[0m\u001b[0;34m:\u001b[0m\u001b[0;34m\u001b[0m\u001b[0;34m\u001b[0m\u001b[0m\n",
            "\u001b[0;31mKeyboardInterrupt\u001b[0m: "
          ]
        }
      ],
      "source": [
        "drafts = []\n",
        "\n",
        "for idx in range(len(plot_points)):\n",
        "    if idx == 0:\n",
        "        previous = \"\"\n",
        "        immediately = \"\"\n",
        "    else:\n",
        "        previous = f\"Previous story summary:\\n{plot_points[idx-1]}\"\n",
        "        immediately = f\"Immediately before the current passage:\\n{drafts[idx-1]}\"\n",
        "\n",
        "    upcoming = f\"In the upcoming passage,\\n{plot_points[idx]}\"\n",
        "\n",
        "    draft_prompt = f\"Relevant context:\\n{characters}{previous}\\n\\n{immediately}\\n\\n{upcoming}\\n\\nFull text below:\"\n",
        "\n",
        "    draft_response = complete(draft_prompt)\n",
        "    draft_response = draft_response.strip()\n",
        "\n",
        "    print(f\"Plot Point {idx+1}\\n-----\\n\", draft_prompt, f\"\\n{draft_response}\\n-----\\n\\n\")\n",
        "    drafts.append(draft_response)"
      ]
    },
    {
      "cell_type": "code",
      "execution_count": null,
      "metadata": {
        "colab": {
          "base_uri": "https://localhost:8080/"
        },
        "id": "iX-_LsK5PjYR",
        "outputId": "533b698e-e6a2-4866-e830-e12e14f6cda8"
      },
      "outputs": [
        {
          "name": "stdout",
          "output_type": "stream",
          "text": [
            "Harper Davis couldn't believe her eyes. The idyllic town where she had grown up, where she had learned to ride a bike and found her first love, no longer seemed to exist. In its place, she found an unrecognizable landscape plagued by injustice and corruption. \n",
            "\n",
            "After graduating from an ivy league law school, Harper was ready to dive into the murky waters of her profession. It was her dream. Her goal. Law was the means by which she intended to provoke change. But upon returning to her hometown, that dream quickly turned into a nightmare.\n",
            "\n",
            "The justice system, which Harper held sacred, bore little resemblance to the one she had eagerly studied in law school. Instead of truth and equality, it leaned toward favoring the wealthy, shunning the needy, and bending to the will of those in power.\n",
            "\n",
            "Among these powerful figures was the charismatic, seemingly affable, councilman, Donovan \"Donny\" Grant. He once coached Harper's little league softball team, doling out joyful smiles and inspiring speeches that never failed to warm the hearts of the townspeople. But thoughtfulness no longer characterized the town councilman. His obsession now seemed to be maintaining the status quo, resisting change despite its blatant necessity.\n",
            "\n",
            "Donny had built a loyal following among those who would benefit from the preservation of a corrupt system, sowing seeds of discord among neighbors, and using his charisma to keep an iron grip on his position. \n",
            "\n",
            "But Harper wasn't ready to give in. She swore to expose the corruption nestled in the heart of her hometown, even if it meant going against the once-loved councilman. With her fierce determination, rigorous education, and steadfast belief in justice, she was ready to face whatever stood in her way. Each stride Harper took in this new, twisted version of her beloved hometown only strengthened her resolve.\n",
            "\n",
            "\"Time for some change around here,\" she murmured, her voice resolute, her eyes firmly set on her mission. Donovan Grant better be prepared. Harper Davis was back in town.The day Harper ran into councilman Donovan Grant was an unexpected encounter. He was stepping down from the stage at a town celebration, his electric charisma still warming the applause of the crowd. He spotted her in the corner, the \"prodigal daughter,\" as he enthusiastically referred to her.\n",
            "\n",
            "\"Well, if it isn't the famous Harper Davis,\" he drawled, his voice dripping with exaggerated affection. \"Back in town after mixing it up with the big city folks, eh? Law school and all that?” He winked at her, the twinkle in his eyes as disarming as ever.\n",
            "\n",
            "“Right.” Harper forced a thin smile, matching his overly sweet tone. “So, how are things here, councilman Grant?”\n",
            "\n",
            "“Ah, just as they always were, Harper, just as they always were. We try to keep things running smoothly around here.”\n",
            "\n",
            "Underneath his charming facade, Harper saw something else. A slickness, a cunning that was too shrewd for her liking. His words seem to echo those she had been hearing all along - flirting with the status quo, retaining the power, resisting change.\n",
            "\n",
            "Harper nodded in response, a nagging suspicion brewing in her mind. “I see well, things will have to change around here.”\n",
            "\n",
            "Donovan’s eyes flickered, his congenial smile replaced by an icy, wary expression. For the first time, he seemed to grasp the meaning behind Harper’s return.\n",
            "\n",
            "Seeing the new expression on his face, Harper knew right then that her hunch was correct. Donovan “Donny” Grant wasn’t just one of the privileged few enjoying a broken system. He was at the heart of it all. He was the architect of this power imbalance. Harper only hoped that she was ready for the battle that lay ahead.Back at her downtown office, Harper pored over case files, city records, and archives, laying out a blueprint of a deeply-rooted corruption that bled into the town's core systems. Every tie seemed to mysteriously lead back to councilman Donovan \"Donny\" Grant. Yet, every piece of concrete proof seemed to dance out of her grasp, as if shielded by an invisible and impenetrable layer of protection.\n",
            "\n",
            "Donny, on the other hand, seemed to be one step ahead. His charisma, laced with a hefty dose of intimidation, managed to disarm questions before they were even asked. His devout followers, captivated by his charm, defended him with a fierce loyalty that was hard to crack.\n",
            "\n",
            "At the town council meetings, Harper often found herself beating against a seemingly impenetrable wall of resistance. Every proposed reform, every challenge against the status quo was shot down, leaving her feeling like a lone soldier on a battlefield.\n",
            "\n",
            "\"Ms. Davis,\" Donny would often address her, a shard of coldness seeping through his sweet veneer, \"I believe in tradition, stability. Our town thrives when it holds on to its roots. Sudden change... well, that tends to lead to uncertainty, don't you think?\"\n",
            "\n",
            "But Harper was undeterred. “Maybe it's time we embrace uncertainty then. Maybe it's time we dug up these roots to plant better ones,\" she would retort, her voice clear and her eyes unwavering.\n",
            "\n",
            "And so, the battle raged on, a contest between an immovable object and an unstoppable force. Harper, with her intelligent and compassionate approach, endeavored to chip away at the massive, corrupt stone that stood in her path. She was determined to bring justice to the people of Blue Mountain, to bring an end to the oppressive reign of the status quo that benefitted the few at the expense of the many.\n",
            "\n",
            "As for Donny, he remained just as tenacious, fervently maintaining his image as the town's beloved councilman while fighting to protect a system he had spent years perfecting. Every backdoor, every loophole, he knew them all too well. And he was willing to do whatever it took to keep things just as they had always been.\n",
            "\n",
            "As the days turned into weeks, the tension simmered. A showdown between the new and the old was inevitable. A showdown that, one way or another, was destined to reshape Blue Mountain forever.Harper returned to her sea of documents every day, her resolve hardening against the bitter reality revealed by the musty pages. Each case file she reviewed, each unjust judgment that she uncovered only fueled her determination to expose the corruption that was rotting Blue Mountain from the inside.\n",
            "\n",
            "She started to make a name for herself as she took on cases of those wronged by the system, diligently gathering evidence and unearthing buried misdeeds. She fought tooth and nail, relentlessly advocating for justice in the town's courtroom and on the council floor.\n",
            "\n",
            "Meanwhile, Donny watched as Harper's popularity grew. He saw the spark igniting within the townspeople - a spark that threatened his iron grip on Blue Mountain. \"This town is doing just fine,\" Donny argued at the council meetings. His tone held a veneer of concern, of an undying love for his town. But beneath his falsely sweet words, a more sinister understanding lurked - Harper's fight for justice was upending the status quo that maintained his power.\n",
            "\n",
            "Incidents started happening around town. Vandalism at Harper's law office, rumors spread about her intentions, mysterious hurdles cropping up in her investigations. It all bore the unmistakable hallmark of those desperate to maintain the status quo. And at the helm of it all, Donny stood, the picture of affability, his seemingly innocent hands orchestrating the symphony of disruption.\n",
            "\n",
            "Despite the pushback, Harper remained unswerving. With every challenge, she became more resolute. She held town meetings, advocating for her vision for a fair and transparent town, inspiring more people to question the established order.\n",
            "\n",
            "Her mission began to make waves. Blue Mountain was no longer the sleepy town surrendered to corruption and vested interests. The townsfolk started to echo Harper's sentiment, demanding accountability and transparency. It was clear that Donny's days of easy governance were over. The conflict between him and Harper was coming to a head. It wasn't just a battle for justice anymore. It was a fight for the soul of Blue Mountain.It was a chilly morning when Harper stepped into the courtroom, her determination heating the air around her more than the failing heating system. Donny was already there, flashing his charming smile and greeting the jury members with a warmth that barely belied his true intentions. Even if the battlefield had shifted from the council floor to the court, their war had not ceased.\n",
            "\n",
            "The case revolved around a redevelopment plan that directly affected the town’s most vulnerable residents. Donny, as usual, was pushing for the status quo under the guise of tradition and progress. This time, however, Harper had an ace up her sleeve.\n",
            "\n",
            "The courtroom battle was grueling. Donny threw exaggerated accusations, seeking to undermine Harper's character rather than dispute her evidence. Flashes of Harper's law school debates flitted through her mind as she refuted each claim.\n",
            "\n",
            "But the decisive moment came when Harper presented her pièce de résistance - undeniable proof of Donny's corruption. She had found evidence tying him directly to inflated contracts, kickbacks, and the casual bulldozing of a low-income block for a luxury apartment building. Delivered with her deft legal skills and unwavering conviction, Harper's revelation sent shockwaves through the courtroom.\n",
            "\n",
            "Astounded, the jury had no choice but to find in favor of Harper's clients and against Donny. The victory was sweet, but what happened next was even sweeter. The tangible evidence of Donny's impropriety resulted in his impeachment from the town council. \n",
            "\n",
            "As Donny's reign came crashing down around him, Blue Mountain sighing a collective breath of relief. Harper had not only won a court battle, but she had also exposed a rotten core, initiating a much-needed purge in the town hall. The battle had been long and draining, but the struggles had finally borne fruit. Harper had started to reclaim a just and transparent Blue Mountain. Not for herself, but for all its inhabitants. \n",
            "\n",
            "The fight was far from over, though. Harper knew that the corruption she sought to eliminate was more deeply rooted than just one man. But for now, as she witnessed the dawn of change she had sparked, Harper allowed herself a moment of quiet satisfaction. She'd crossed the first major hurdle and shook Blue Mountain out of its complacency - and she was only getting started.Having finally managed to dethrone the charismatic yet scheming councilman Donovan \"Donny\" Grant in a grueling courtroom battle, Harper Davis felt a surge of satisfaction. This case had been about so much more than a redevelopment plan; it was a tangible manifestation of the deep-seated corruption poisoning Blue Mountain. Seeing Donny's downfall was a clear sign that her perseverance, her strength, and her commitment to justice had not been wasted. Yes, the town still had its problems, and yes, there was still so much work to be done, but this victory was a solid beacon of hope.\n",
            "\n",
            "Days after Donny’s impeachment, Harper was swamped with invitations for speaking engagements, interviews, and a plethora of other media requests. The townsfolk treated her like a hero, which she found a little overwhelming, but humbling. However, despite the chaos around her, Harper could not shake the deeper understanding she had unearthed regarding the town's politics during her research for the trial. \n",
            "\n",
            "Every document she read, every testimony she heard, and every case she had seen had peeled back the layers on how deeply rooted the corruption was in Blue Mountain. It wasn't just about Donny's schemes; he was merely a cog in the complex network of exploitation and greed.\n",
            "\n",
            "Humbled by her newfound understanding, Harper realized that there was no time to bask in public adulation. She had a responsibility to her town and its people, a duty imbibed in her through her legal training. Harper poured over every detail of her next steps on a chilly night, her eyes determined and relentless. She had bared one part of the rampant corruption; now she knew she wanted to suppress this mightier, larger monster of systematic impropriety lurking in her beloved Blue Mountain.\n",
            "\n",
            "After weeks of deliberation, Harper made up her mind. She decided to dedicate her career to correct the wrongs in her town, channeling her fierce intelligence and learned ardor into transforming the justice system of Blue Mountain. A hefty ambition, no doubt, but it was what she had been preparing for.\n",
            "\n",
            "This fight was what Harper went to law school for - justice for all, justice for Blue Mountain. She realized the words she'd philosophized so passionately in classrooms, college debates, and Alma Mater discussions now came with faces of her very own people. It was not just a concept for her anymore but a reality she was prepared to change.\n",
            "\n",
            "She breathed and looked out into the town square. Her Blue Mountain\n"
          ]
        }
      ],
      "source": [
        "print(\"\".join(drafts))"
      ]
    },
    {
      "cell_type": "markdown",
      "metadata": {
        "id": "sM3nQ26xQIzm"
      },
      "source": [
        "## Revision"
      ]
    },
    {
      "cell_type": "code",
      "execution_count": null,
      "metadata": {
        "colab": {
          "base_uri": "https://localhost:8080/"
        },
        "id": "p8qMKWLKQIjH",
        "outputId": "829e0273-eac8-4b42-e2cc-29d182d2fbc2"
      },
      "outputs": [
        {
          "name": "stdout",
          "output_type": "stream",
          "text": [
            "Draft Text 2\n",
            "-----\n",
            " The day Harper ran into councilman Donovan Grant was an unexpected encounter. He was stepping down from the stage at a town celebration, his electric charisma still warming the applause of the crowd. He spotted her in the corner, the \"prodigal daughter,\" as he enthusiastically referred to her.\n",
            "\n",
            "\"Well, if it isn't the famous Harper Davis,\" he drawled, his voice dripping with exaggerated affection. \"Back in town after mixing it up with the big city folks, eh? Law school and all that?” He winked at her, the twinkle in his eyes as disarming as ever.\n",
            "\n",
            "“Right.” Harper forced a thin smile, matching his overly sweet tone. “So, how are things here, councilman Grant?”\n",
            "\n",
            "“Ah, just as they always were, Harper, just as they always were. We try to keep things running smoothly around here.”\n",
            "\n",
            "Underneath his charming facade, Harper saw something else. A slickness, a cunning that was too shrewd for her liking. His words seem to echo those she had been hearing all along - flirting with the status quo, retaining the power, resisting change.\n",
            "\n",
            "Harper nodded in response, a nagging suspicion brewing in her mind. “I see well, things will have to change around here.”\n",
            "\n",
            "Donovan’s eyes flickered, his congenial smile replaced by an icy, wary expression. For the first time, he seemed to grasp the meaning behind Harper’s return.\n",
            "\n",
            "Seeing the new expression on his face, Harper knew right then that her hunch was correct. Donovan “Donny” Grant wasn’t just one of the privileged few enjoying a broken system. He was at the heart of it all. He was the architect of this power imbalance. Harper only hoped that she was ready for the battle that lay ahead. \n",
            "\n",
            "Old Facts:\n",
            "Harper Davis grew up in a town that has since become corrupt.\n",
            "- Harper Davis is a graduate from an ivy league law school.\n",
            "- After graduating, Harper returns to her hometown with the intention of provoking change through her profession in law.\n",
            "- The justice system in her hometown favor the wealthy, neglect the needy and bow to those in power.\n",
            "- Donovan \"Donny\" Grant is a town councilman, who was once Harper's little league softball coach.\n",
            "- Donovan \"Donny\" Grant is resistant to change and seeks to maintain the status quo.\n",
            "- Harper Davis is determined to expose the corruption in her hometown, even if it means going against the councilman, Donovan \"Donny\" Grant. \n",
            "\n",
            "New Facts:\n",
            "Harper ran into councilman Donovan Grant at a town celebration.\n",
            "- Donovan Grant recognized Harper and mentioned her time spent in the big city and law school.\n",
            "- Donovan Grant has a charismatic and charming personality, but Harper perceives him as slick and cunning.\n",
            "- Harper expresses to Donovan that things will have to change, which alters his congenial demeanor to a wary one.\n",
            "- Harper believes Donovan Grant to be a significant player in maintaining the power imbalance in their town.\n",
            "- Harper believes there will be a battle ahead due to her intent to change things. \n",
            "\n",
            "Consistency:\n",
            "There are no inconsistencies between the old facts and the new facts. \n",
            "\n",
            "Rewritten Text:\n",
            "The unexpected meeting of Harper with councilman Donovan Grant happened on the day of a town celebration, right as he was stepping down from the stage. His charisma, as electric as ever, had warmed the applause of the crowd which was still resonating in the air. In a corner, he spotted Harper, or as he was fond of calling her, the \"prodigal daughter\". \n",
            "\n",
            "\"Well, look what the cat dragged in—our renowned Harper Davis,\" he exclaimed, his voice weighty with exaggerated affection. \"Back from rubbing shoulders with the high-profile city folks, and a law school grad to boot?” His wink was just as disarming as his words. \n",
            "\n",
            "“Indeed,” Harper said, her smile thin and forced, mirroring his affected tone. “How have things been around here, Councilman Grant?”\n",
            "\n",
            "“Oh, everything's on an even keel, Harper; business as usual. It's all about maintaining the status quo.”\n",
            "\n",
            "Behind his disarming charm, Harper detected hints of a shrewd cunning that was unpalatable. His sugarcoated words seemed to mirror the same rhetoric she had heard so many times - maintaining the power, resisting change.\n",
            "\n",
            "Acknowledging his reply with a nod, Harper felt a suspicion growing within her. “I see... well, that will have to change.”\n",
            "\n",
            "A trace of sentiment flickered in Donovan’s eyes and his genial smile was quickly replaced by an icy, cautious look. For the first time, it seemed as though he fully comprehended the true motive behind Harper’s unexpected return.\n",
            "\n",
            "Seeing the sudden shift in his demeanor, Harper felt reassured that her suspicion was valid. Donovan “Donny” Grant was more than just a high-standing member benefitting from a flawed system. He was its mastermind, the one orchestrating the power imbalance masked under the guise of status quo. Harper could only hope that she was adequately prepared for the looming fight ahead.\n",
            "-----\n",
            "\n",
            "\n",
            "Draft Text 3\n",
            "-----\n",
            " Back at her downtown office, Harper pored over case files, city records, and archives, laying out a blueprint of a deeply-rooted corruption that bled into the town's core systems. Every tie seemed to mysteriously lead back to councilman Donovan \"Donny\" Grant. Yet, every piece of concrete proof seemed to dance out of her grasp, as if shielded by an invisible and impenetrable layer of protection.\n",
            "\n",
            "Donny, on the other hand, seemed to be one step ahead. His charisma, laced with a hefty dose of intimidation, managed to disarm questions before they were even asked. His devout followers, captivated by his charm, defended him with a fierce loyalty that was hard to crack.\n",
            "\n",
            "At the town council meetings, Harper often found herself beating against a seemingly impenetrable wall of resistance. Every proposed reform, every challenge against the status quo was shot down, leaving her feeling like a lone soldier on a battlefield.\n",
            "\n",
            "\"Ms. Davis,\" Donny would often address her, a shard of coldness seeping through his sweet veneer, \"I believe in tradition, stability. Our town thrives when it holds on to its roots. Sudden change... well, that tends to lead to uncertainty, don't you think?\"\n",
            "\n",
            "But Harper was undeterred. “Maybe it's time we embrace uncertainty then. Maybe it's time we dug up these roots to plant better ones,\" she would retort, her voice clear and her eyes unwavering.\n",
            "\n",
            "And so, the battle raged on, a contest between an immovable object and an unstoppable force. Harper, with her intelligent and compassionate approach, endeavored to chip away at the massive, corrupt stone that stood in her path. She was determined to bring justice to the people of Blue Mountain, to bring an end to the oppressive reign of the status quo that benefitted the few at the expense of the many.\n",
            "\n",
            "As for Donny, he remained just as tenacious, fervently maintaining his image as the town's beloved councilman while fighting to protect a system he had spent years perfecting. Every backdoor, every loophole, he knew them all too well. And he was willing to do whatever it took to keep things just as they had always been.\n",
            "\n",
            "As the days turned into weeks, the tension simmered. A showdown between the new and the old was inevitable. A showdown that, one way or another, was destined to reshape Blue Mountain forever. \n",
            "\n",
            "Old Facts:\n",
            "Harper Davis grew up in a town that has since become corrupt.\n",
            "- Harper Davis is a graduate from an ivy league law school.\n",
            "- After graduating, Harper returns to her hometown with the intention of provoking change through her profession in law.\n",
            "- The justice system in her hometown favor the wealthy, neglect the needy and bow to those in power.\n",
            "- Donovan \"Donny\" Grant is a town councilman, who was once Harper's little league softball coach.\n",
            "- Donovan \"Donny\" Grant is resistant to change and seeks to maintain the status quo.\n",
            "- Harper Davis is determined to expose the corruption in her hometown, even if it means going against the councilman, Donovan \"Donny\" Grant.\n",
            "Harper Davis had an unexpected encounter with councilman Donovan Grant.\n",
            "- The meeting took place at a town celebration where Donovan had been on stage.\n",
            "- Donovan referred to Harper as the \"prodigy daughter.\"\n",
            "- Harper had left the town, attended law school, and has now returned.\n",
            "- Harper has suspicions about Donovan maintaining the status quo and resisting change.\n",
            "- Donovan was initially friendly to Harper, but showed wariness when Harper suggested that things would have to change.\n",
            "- Harper believes Donovan is at the heart of a power imbalance in their town.\n",
            "- Harper anticipates a forthcoming battle related to this power imbalance. \n",
            "\n",
            "New Facts:\n",
            "Harper is investigating corruption that appears to be connected to councilman Donovan \"Donny\" Grant in her town.\n",
            "- Harper works in a downtown office and uses case files, city records, and archives for her investigation.\n",
            "- Donny Grant seems to constantly evade implicating proof and has a strong base of loyal followers. \n",
            "- Harper often opposes the majority, including Grant, at town council meetings.\n",
            "- Harper believes in the necessity of change and is determined to bring justice to the people of Blue Mountain.\n",
            "- Donny values tradition and stability and uses his knowledge of the system to maintain his position and power.\n",
            "- The situation between Harper and Donny is causing increasing tension, hinting at an inevitable showdown that could shape the future of Blue Mountain. \n",
            "\n",
            "Consistency:\n",
            "There are no inconsistencies between the old and new facts. Both sets of facts consistently establish Harper Davis as an ivy league law school graduate returning to her hometown to fight corruption, while Donovan \"Donny\" Grant - a town councilman and one-time softball coach - is resistant to change and possibly implicated in the corruption Harper is investigating. Both sets of facts also note the tension between Harper and Donovan and suggest an upcoming confrontation between them. \n",
            "\n",
            "Rewritten Text:\n",
            "In her downtown office, Harper meticulously examined case files, city records, and archives, revealing a comprehensive picture of deep-set corruption entwined within the town's core systems. Every trail seemed to eerily wind back to councilman Donovan \"Donny\" Grant. Yet, every instance of cold, hard evidence seemed to evade her grasp, as if sheltered by an unseen and invincible protective barrier.\n",
            "\n",
            "In contrast, Donny always seemed one step ahead. His charming allure, coupled with an intimidating aura, seemed regularly to deflect suspicions before they could even develop. His devoted followers, entranced by his charisma, staunchly defended him with a ferocity difficult to break.\n",
            "\n",
            "At the town council meetings, Harper often felt like she was banging against an insurmountable wall of resistance. Every proposed reform, every challenge to the status quo was dismissed, leaving her feeling like the sole warrior on a battlefield.\n",
            "\n",
            "\"Ms. Davis,\" Donny would often address her, a chill bitterness seeping through his otherwise pleasant demeanor, \"I advocate for tradition and stability. Our town flourishes by upholding its roots. Abrupt changes... well, they tend to breed uncertainty, don't you agree?\"\n",
            "\n",
            "Nonetheless, Harper was resilient. “Perhaps we should welcome uncertainty then. Perhaps it's time we unearth and replant better roots,\" she would counter, her voice steady and her gaze unflinching.\n",
            "\n",
            "Thus, the conflict persisted, a struggle between an immovable object and an irresistible force. Harper, with her intelligent and thoughtful strategy, strove to erode away the colossal, corrupt boulder obstructing her path. She was determined to deliver justice to the Blue Mountain citizens by ending the oppressive status quo that served the privileged few at the majority's expense.\n",
            "\n",
            "While Donny, he stayed equally obstinate, painstakingly preserving his image as the town's adored councilman while tirelessly protecting a system he had spent years refining. Every hidden passage, every legal loophole, he knew them all like the back of his hand. He was prepared to do whatever it took to maintain status quo.\n",
            "\n",
            "As days morphed into weeks, the tension escalated. A face-off between the novel and the traditional was impending. A face-off that would irrevocably reshape Blue Mountain, one way or the other.\n",
            "-----\n",
            "\n",
            "\n",
            "Draft Text 4\n",
            "-----\n",
            " Harper returned to her sea of documents every day, her resolve hardening against the bitter reality revealed by the musty pages. Each case file she reviewed, each unjust judgment that she uncovered only fueled her determination to expose the corruption that was rotting Blue Mountain from the inside.\n",
            "\n",
            "She started to make a name for herself as she took on cases of those wronged by the system, diligently gathering evidence and unearthing buried misdeeds. She fought tooth and nail, relentlessly advocating for justice in the town's courtroom and on the council floor.\n",
            "\n",
            "Meanwhile, Donny watched as Harper's popularity grew. He saw the spark igniting within the townspeople - a spark that threatened his iron grip on Blue Mountain. \"This town is doing just fine,\" Donny argued at the council meetings. His tone held a veneer of concern, of an undying love for his town. But beneath his falsely sweet words, a more sinister understanding lurked - Harper's fight for justice was upending the status quo that maintained his power.\n",
            "\n",
            "Incidents started happening around town. Vandalism at Harper's law office, rumors spread about her intentions, mysterious hurdles cropping up in her investigations. It all bore the unmistakable hallmark of those desperate to maintain the status quo. And at the helm of it all, Donny stood, the picture of affability, his seemingly innocent hands orchestrating the symphony of disruption.\n",
            "\n",
            "Despite the pushback, Harper remained unswerving. With every challenge, she became more resolute. She held town meetings, advocating for her vision for a fair and transparent town, inspiring more people to question the established order.\n",
            "\n",
            "Her mission began to make waves. Blue Mountain was no longer the sleepy town surrendered to corruption and vested interests. The townsfolk started to echo Harper's sentiment, demanding accountability and transparency. It was clear that Donny's days of easy governance were over. The conflict between him and Harper was coming to a head. It wasn't just a battle for justice anymore. It was a fight for the soul of Blue Mountain. \n",
            "\n",
            "Old Facts:\n",
            "Harper Davis grew up in a town that has since become corrupt.\n",
            "- Harper Davis is a graduate from an ivy league law school.\n",
            "- After graduating, Harper returns to her hometown with the intention of provoking change through her profession in law.\n",
            "- The justice system in her hometown favor the wealthy, neglect the needy and bow to those in power.\n",
            "- Donovan \"Donny\" Grant is a town councilman, who was once Harper's little league softball coach.\n",
            "- Donovan \"Donny\" Grant is resistant to change and seeks to maintain the status quo.\n",
            "- Harper Davis is determined to expose the corruption in her hometown, even if it means going against the councilman, Donovan \"Donny\" Grant.\n",
            "Harper Davis had an unexpected encounter with councilman Donovan Grant.\n",
            "- The meeting took place at a town celebration where Donovan had been on stage.\n",
            "- Donovan referred to Harper as the \"prodigy daughter.\"\n",
            "- Harper had left the town, attended law school, and has now returned.\n",
            "- Harper has suspicions about Donovan maintaining the status quo and resisting change.\n",
            "- Donovan was initially friendly to Harper, but showed wariness when Harper suggested that things would have to change.\n",
            "- Harper believes Donovan is at the heart of a power imbalance in their town.\n",
            "- Harper anticipates a forthcoming battle related to this power imbalance.\n",
            "Harper works in a downtown office where she has discovered significant corruption rooted in the town's systems.\n",
            "- Councilman Donovan \"Donny\" Grant is continually linked to the corruption Harper is uncovering, but definitive proof remains elusive.\n",
            "- Donny is charismatic, intimidating, and always seems to be a step ahead of Harper, using these traits to deflect questioning and maintain his followers' fierce loyalty.\n",
            "- Harper's suggestions for reform and challenges to the status quo are consistently dismissed at town council meetings, leaving her feeling isolated in her efforts.\n",
            "- Donny is aligned with preserving tradition, stability and maintaining the status quo, while Harper advocates for change.\n",
            "- The struggle between Harper and Donny is ongoing and intense, representing a clash between tradition and progress.\n",
            "- Harper is committed to dismantling the corrupt system and bringing justice to the residents of Blue Mountain.\n",
            "- Donny is equally determined to uphold the current system, which he has carefully maintained and manipulated for his benefit.\n",
            "- The situation in Blue Mountain is highly charged, with a conflict between old and new ways of doing things that is projected to significantly change the town. \n",
            "\n",
            "New Facts:\n",
            "Harper is reviewing case files and corruption in Blue Mountain.\n",
            "- Harper made a reputation for herself by taking on cases of injustice and advocating for those wronged by the system.\n",
            "- Her actions have increased her popularity in town and are threatening Donny's control over Blue Mountain.\n",
            "- Donny uses his affable appearance to argue that the town is doing well and to mask his manipulations to maintain his power.\n",
            "- Vandalism at Harper's office, rumors about her, and mysterious hurdles in her investigations are the tactics used by those who want to maintain the status quo.\n",
            "- Despite these challenges, Harper remains determined to advocate for fairness and transparency.\n",
            "- As a result of Harper's efforts, the townspeople are demanding accountability and transparency, and the quiet town of Blue Mountain is undergoing significant changes.\n",
            "- There is a conflict brewing between Harper and Donny, signaled by the changing views of the townspeople.\n",
            "- This conflict is not just about justice, but about the identity and future of Blue Mountain. \n",
            "\n",
            "Consistency:\n",
            "No inconsistencies are present. The new and old facts align cohesively in their portrayal of Harper Davis as a determined advocate for change and justice and Donovan \"Donny\" Grant as a stubborn upholder of the status quo, masking his corruption with charisma. Both sets of facts describe the escalating conflict between them and the dramatic changes occurring in their town, Blue Mountain. \n",
            "\n",
            "Rewritten Text:\n",
            "Harper delved into her ocean of case documents on a daily basis, her commitment hardening against the harsh truth unveiled by the weathered sheets. Each case file she analyzed, each grotesque expression of injustice she unearthed only intensified her unshakeable resolve to unveil the chronic corruption decaying Blue Mountain from its core.\n",
            "\n",
            "Her reputation grew as she dedicated herself to those victimized by corruption, persistently amassing evidence and revealing undisclosed wrongdoings. She was relentless, wholeheartedly advocating for justice in both the town's court of law and the council chamber.\n",
            "\n",
            "In contrast, Donny observed Harper's growing influence with apprehension. He watched the flames of change alight within the townspeople - a flame that endangered his monolithic reign over Blue Mountain. \"Our town is thriving as it is,\" Donny claimed in council meetings, his voice layered with faux concern and feigned love for his town. However, beneath his deceivingly sympathetic words lurked a vicious truth - Harper’s pursuit of justice was causing a seismic shift in the status quo that sustained his authority.\n",
            "\n",
            "Harper's law office became a target of vandalism and a swirling vortex of rumors questioned her motives, an unexpected barrage of obstructions began impeding her enquiries. All signs pointed towards those desperate to resist change. Amid the chaos, Donny retained his friendly facade, his seemingly pure hands manoeuvring the machinations of disruption.\n",
            "\n",
            "Yet, Harper remained steadfast despite the opposition. Each adversity only fortified her unwavering resolve. She hosted town meetings, passionately advocating for her vision of a transparent and fair community, inspiring others to question the existing order.\n",
            "\n",
            "Blue Mountain was awakening from its slumber of corruption and vested interests, largely due to her tireless efforts. The townsfolk echoed Harper's call for increased accountability and transparency. It became evident that Donovan's era of unchecked control was concluding. The dispute between Harper and Donny was reaching a boiling point. They were no longer merely contending for justice, but for the spirit and future of Blue Mountain.\n",
            "-----\n",
            "\n",
            "\n",
            "Draft Text 5\n",
            "-----\n",
            " It was a chilly morning when Harper stepped into the courtroom, her determination heating the air around her more than the failing heating system. Donny was already there, flashing his charming smile and greeting the jury members with a warmth that barely belied his true intentions. Even if the battlefield had shifted from the council floor to the court, their war had not ceased.\n",
            "\n",
            "The case revolved around a redevelopment plan that directly affected the town’s most vulnerable residents. Donny, as usual, was pushing for the status quo under the guise of tradition and progress. This time, however, Harper had an ace up her sleeve.\n",
            "\n",
            "The courtroom battle was grueling. Donny threw exaggerated accusations, seeking to undermine Harper's character rather than dispute her evidence. Flashes of Harper's law school debates flitted through her mind as she refuted each claim.\n",
            "\n",
            "But the decisive moment came when Harper presented her pièce de résistance - undeniable proof of Donny's corruption. She had found evidence tying him directly to inflated contracts, kickbacks, and the casual bulldozing of a low-income block for a luxury apartment building. Delivered with her deft legal skills and unwavering conviction, Harper's revelation sent shockwaves through the courtroom.\n",
            "\n",
            "Astounded, the jury had no choice but to find in favor of Harper's clients and against Donny. The victory was sweet, but what happened next was even sweeter. The tangible evidence of Donny's impropriety resulted in his impeachment from the town council. \n",
            "\n",
            "As Donny's reign came crashing down around him, Blue Mountain sighing a collective breath of relief. Harper had not only won a court battle, but she had also exposed a rotten core, initiating a much-needed purge in the town hall. The battle had been long and draining, but the struggles had finally borne fruit. Harper had started to reclaim a just and transparent Blue Mountain. Not for herself, but for all its inhabitants. \n",
            "\n",
            "The fight was far from over, though. Harper knew that the corruption she sought to eliminate was more deeply rooted than just one man. But for now, as she witnessed the dawn of change she had sparked, Harper allowed herself a moment of quiet satisfaction. She'd crossed the first major hurdle and shook Blue Mountain out of its complacency - and she was only getting started. \n",
            "\n",
            "Old Facts:\n",
            "Harper Davis grew up in a town that has since become corrupt.\n",
            "- Harper Davis is a graduate from an ivy league law school.\n",
            "- After graduating, Harper returns to her hometown with the intention of provoking change through her profession in law.\n",
            "- The justice system in her hometown favor the wealthy, neglect the needy and bow to those in power.\n",
            "- Donovan \"Donny\" Grant is a town councilman, who was once Harper's little league softball coach.\n",
            "- Donovan \"Donny\" Grant is resistant to change and seeks to maintain the status quo.\n",
            "- Harper Davis is determined to expose the corruption in her hometown, even if it means going against the councilman, Donovan \"Donny\" Grant.\n",
            "Harper Davis had an unexpected encounter with councilman Donovan Grant.\n",
            "- The meeting took place at a town celebration where Donovan had been on stage.\n",
            "- Donovan referred to Harper as the \"prodigy daughter.\"\n",
            "- Harper had left the town, attended law school, and has now returned.\n",
            "- Harper has suspicions about Donovan maintaining the status quo and resisting change.\n",
            "- Donovan was initially friendly to Harper, but showed wariness when Harper suggested that things would have to change.\n",
            "- Harper believes Donovan is at the heart of a power imbalance in their town.\n",
            "- Harper anticipates a forthcoming battle related to this power imbalance.\n",
            "Harper works in a downtown office where she has discovered significant corruption rooted in the town's systems.\n",
            "- Councilman Donovan \"Donny\" Grant is continually linked to the corruption Harper is uncovering, but definitive proof remains elusive.\n",
            "- Donny is charismatic, intimidating, and always seems to be a step ahead of Harper, using these traits to deflect questioning and maintain his followers' fierce loyalty.\n",
            "- Harper's suggestions for reform and challenges to the status quo are consistently dismissed at town council meetings, leaving her feeling isolated in her efforts.\n",
            "- Donny is aligned with preserving tradition, stability and maintaining the status quo, while Harper advocates for change.\n",
            "- The struggle between Harper and Donny is ongoing and intense, representing a clash between tradition and progress.\n",
            "- Harper is committed to dismantling the corrupt system and bringing justice to the residents of Blue Mountain.\n",
            "- Donny is equally determined to uphold the current system, which he has carefully maintained and manipulated for his benefit.\n",
            "- The situation in Blue Mountain is highly charged, with a conflict between old and new ways of doing things that is projected to significantly change the town.\n",
            "Harper is committed to fighting corruption in Blue Mountain.\n",
            "- Harper is a lawyer who takes on cases of those wronged by the system.\n",
            "- Harper's work is causing her to gain popularity within Blue Mountain.\n",
            "- Donny is a figure of power in Blue Mountain.\n",
            "- Donny perceives Harper's fight for justice as a threat to his power.\n",
            "- Incidents occur around the town that seem to be attempts to interfere with or discredit Harper’s work.\n",
            "- These incidents are believed to be orchestrated by Donny.\n",
            "- Despite difficulties, Harper continues to advocate for justice and transparency in the town.\n",
            "- The townsfolk have begun to support Harper's vision for Blue Mountain.\n",
            "- Harper's mission is causing significant conflict with Donny. \n",
            "- The conflict between Harper and Donny is depicted as a fight for the soul of Blue Mountain. \n",
            "\n",
            "New Facts:\n",
            "Harper and Donny were in a courtroom battle over a redevelopment plan affecting the town's vulnerable residents. \n",
            "- Donny supported the status quo under the argument of tradition and progress.\n",
            "- The case involved corruption, with Donny being tied to inflated contracts, kickbacks, and the demolition of low-income housing for a luxury apartment building. \n",
            "- As a result of Harper presenting evidence of Donny's corruption, he was impeached from the town council.\n",
            "- Harper's victory initiated a purge in the town hall and started the process of transition in Blue Mountain. \n",
            "- Harper believes that the corruption in Blue Mountain is not limited to Donny. \n",
            "- Harper is determined to continue her fight against corruption in Blue Mountain. \n",
            "\n",
            "Consistency:\n",
            "There are no inconsistencies between the old facts and new facts. The new facts build upon and continue the narrative outlined by the old facts, depicting ongoing conflicting dynamics between Harper Davis and Donovan \"Donny\" Grant. The fact that Harper triumphs in court over Donny and uncovering his part in an instance of corruption is an advancement in the story, but it does not contradict any of the previously provided facts. Harper's continued devotion to combating corruption is also compatible with the details previously given. \n",
            "\n",
            "Rewritten Text:\n",
            "On a brisk morning, Harper entered the courtroom, her resolute nature infusing warmth into the atmosphere more effectively than the lackluster heating unit. Donny was already present, distributing smiles and amiable greetings to the jury, his ulterior motives only faintly apparent below the surface. Despite the change in venue from the town council to the courtroom, their rivalry persisted. \n",
            "\n",
            "The lawsuit was focused on a redevelopment proposal that had significant consequences for the town's most disadvantaged citizens. Donny, as ever, advocated for maintaining the current situation, claiming that it represented both tradition and progress. However, this time Harper was armed with crucial evidence.\n",
            "\n",
            "The legal clash was intense. Donny resorted to making overblown accusations, trying to tarnish Harper's reputation rather than discrediting her factual evidence. Memories of law school debates flickered in Harper's mind as she skillfully responded to each allegation.\n",
            "\n",
            "The turning point arrived when Harper revealed her masterstroke - irrefutable evidence of Donny's corrupt activities. She had discovered proof linking him directly to inflated contracts, payoffs, and the reckless demolition of a low-income housing block to make way for a luxury apartment complex. Harper's revelation, delivered with her excellent legal expertise and immovable belief, sent shockwaves through the courtroom.\n",
            "\n",
            "Taken aback, the jury had no alternative but to rule in favor of Harper's clients and against Donny. The taste of victory was delightful, but what followed was even more satisfying. The tangible proof of Donny's misconduct led to his removal from the town council.\n",
            "\n",
            "As Donny's domination crumbled around him, Blue Mountain exhaled in collective relief. Harper had not only achieved a legal victory but she had also revealed an underlying corruption, setting in motion a much-needed cleansing of town hall. Despite the exhausting battle, the arduous efforts were proving fruitful. Harper had begun restoring justice and transparency to Blue Mountain on behalf of all its residents.\n",
            "\n",
            "The battle was far from over, however. Harper was aware that the corruption she strove to eradicate extended beyond a single individual. But for now, watching the onset of the change she had initiated, Harper allowed herself a moment of quiet pride. She'd overcome the first significant obstacle and stirred Blue Mountain from its indifference - and her mission had only just begun.\n",
            "-----\n",
            "\n",
            "\n",
            "Draft Text 6\n",
            "-----\n",
            " Having finally managed to dethrone the charismatic yet scheming councilman Donovan \"Donny\" Grant in a grueling courtroom battle, Harper Davis felt a surge of satisfaction. This case had been about so much more than a redevelopment plan; it was a tangible manifestation of the deep-seated corruption poisoning Blue Mountain. Seeing Donny's downfall was a clear sign that her perseverance, her strength, and her commitment to justice had not been wasted. Yes, the town still had its problems, and yes, there was still so much work to be done, but this victory was a solid beacon of hope.\n",
            "\n",
            "Days after Donny’s impeachment, Harper was swamped with invitations for speaking engagements, interviews, and a plethora of other media requests. The townsfolk treated her like a hero, which she found a little overwhelming, but humbling. However, despite the chaos around her, Harper could not shake the deeper understanding she had unearthed regarding the town's politics during her research for the trial. \n",
            "\n",
            "Every document she read, every testimony she heard, and every case she had seen had peeled back the layers on how deeply rooted the corruption was in Blue Mountain. It wasn't just about Donny's schemes; he was merely a cog in the complex network of exploitation and greed.\n",
            "\n",
            "Humbled by her newfound understanding, Harper realized that there was no time to bask in public adulation. She had a responsibility to her town and its people, a duty imbibed in her through her legal training. Harper poured over every detail of her next steps on a chilly night, her eyes determined and relentless. She had bared one part of the rampant corruption; now she knew she wanted to suppress this mightier, larger monster of systematic impropriety lurking in her beloved Blue Mountain.\n",
            "\n",
            "After weeks of deliberation, Harper made up her mind. She decided to dedicate her career to correct the wrongs in her town, channeling her fierce intelligence and learned ardor into transforming the justice system of Blue Mountain. A hefty ambition, no doubt, but it was what she had been preparing for.\n",
            "\n",
            "This fight was what Harper went to law school for - justice for all, justice for Blue Mountain. She realized the words she'd philosophized so passionately in classrooms, college debates, and Alma Mater discussions now came with faces of her very own people. It was not just a concept for her anymore but a reality she was prepared to change.\n",
            "\n",
            "She breathed and looked out into the town square. Her Blue Mountain \n",
            "\n",
            "Old Facts:\n",
            "Harper Davis grew up in a town that has since become corrupt.\n",
            "- Harper Davis is a graduate from an ivy league law school.\n",
            "- After graduating, Harper returns to her hometown with the intention of provoking change through her profession in law.\n",
            "- The justice system in her hometown favor the wealthy, neglect the needy and bow to those in power.\n",
            "- Donovan \"Donny\" Grant is a town councilman, who was once Harper's little league softball coach.\n",
            "- Donovan \"Donny\" Grant is resistant to change and seeks to maintain the status quo.\n",
            "- Harper Davis is determined to expose the corruption in her hometown, even if it means going against the councilman, Donovan \"Donny\" Grant.\n",
            "Harper Davis had an unexpected encounter with councilman Donovan Grant.\n",
            "- The meeting took place at a town celebration where Donovan had been on stage.\n",
            "- Donovan referred to Harper as the \"prodigy daughter.\"\n",
            "- Harper had left the town, attended law school, and has now returned.\n",
            "- Harper has suspicions about Donovan maintaining the status quo and resisting change.\n",
            "- Donovan was initially friendly to Harper, but showed wariness when Harper suggested that things would have to change.\n",
            "- Harper believes Donovan is at the heart of a power imbalance in their town.\n",
            "- Harper anticipates a forthcoming battle related to this power imbalance.\n",
            "Harper works in a downtown office where she has discovered significant corruption rooted in the town's systems.\n",
            "- Councilman Donovan \"Donny\" Grant is continually linked to the corruption Harper is uncovering, but definitive proof remains elusive.\n",
            "- Donny is charismatic, intimidating, and always seems to be a step ahead of Harper, using these traits to deflect questioning and maintain his followers' fierce loyalty.\n",
            "- Harper's suggestions for reform and challenges to the status quo are consistently dismissed at town council meetings, leaving her feeling isolated in her efforts.\n",
            "- Donny is aligned with preserving tradition, stability and maintaining the status quo, while Harper advocates for change.\n",
            "- The struggle between Harper and Donny is ongoing and intense, representing a clash between tradition and progress.\n",
            "- Harper is committed to dismantling the corrupt system and bringing justice to the residents of Blue Mountain.\n",
            "- Donny is equally determined to uphold the current system, which he has carefully maintained and manipulated for his benefit.\n",
            "- The situation in Blue Mountain is highly charged, with a conflict between old and new ways of doing things that is projected to significantly change the town.\n",
            "Harper is committed to fighting corruption in Blue Mountain.\n",
            "- Harper is a lawyer who takes on cases of those wronged by the system.\n",
            "- Harper's work is causing her to gain popularity within Blue Mountain.\n",
            "- Donny is a figure of power in Blue Mountain.\n",
            "- Donny perceives Harper's fight for justice as a threat to his power.\n",
            "- Incidents occur around the town that seem to be attempts to interfere with or discredit Harper’s work.\n",
            "- These incidents are believed to be orchestrated by Donny.\n",
            "- Despite difficulties, Harper continues to advocate for justice and transparency in the town.\n",
            "- The townsfolk have begun to support Harper's vision for Blue Mountain.\n",
            "- Harper's mission is causing significant conflict with Donny. \n",
            "- The conflict between Harper and Donny is depicted as a fight for the soul of Blue Mountain.\n",
            "The story takes place in a town called Blue Mountain.\n",
            "- Harper and Donny have a rivalry, which has moved from the council floor to the courtroom.\n",
            "- The court case revolves around a redevelopment plan affecting the town's most vulnerable residents.\n",
            "- Donny is in favor of maintaining the status quo under the pretense of tradition and progress. \n",
            "- Harper had undeniable proof of Donny's corruption, including inflating contracts, receiving kickbacks, and demolishing a low-income block for a luxury apartment building.\n",
            "- The evidence presented by Harper led to a court win, and Donny's impeachment from the town council.\n",
            "- Harper's aim is not only to win her cases but also to eliminate corruption in Blue Mountain.\n",
            "- Despite this victory, Harper acknowledges that the corruption in Blue Mountain extends beyond just Donny.\n",
            "- This was Harper's first major success in her fight against corruption in Blue Mountain. \n",
            "\n",
            "New Facts:\n",
            "Harper Davis defeated councilman Donovan \"Donny\" Grant in a courtroom battle.\n",
            "- This case was about deeper corruption in the town of Blue Mountain.\n",
            "- Harper was treated like a hero by the townsfolk after the trial. \n",
            "- She received many invitations to speaking engagements and interviews after the courtroom battle.\n",
            "- Harper Davis discovered a deeper level of corruption in Blue Mountain during her research for the trial.\n",
            "- She decided to dedicate her career to fight against the corruption and transform the justice system in Blue Mountain.\n",
            "- Harper Davis went to law school.\n",
            "- She was able to link her academic learnings with the reality of her town's situation.\n",
            "- The corruption in Blue Mountain involves a complex network of exploitation and greed, with Donny being a part of it. \n",
            "\n",
            "Consistency:\n",
            "There are no inconsistencies between the old and new facts. They both continue the narrative of Harper Davis fighting corruption in Blue Mountain and her opposition with councilman Donovan \"Donny\" Grant. The new facts provide further information about Harper's victory in court against Donny, the continuing corruption in the town, and her commitment to fight against it. \n",
            "\n",
            "Rewritten Text:\n",
            "Having finally achieved victory in court against the crafty councilman Donovan \"Donny\" Grant, Harper Davis felt an immense sense of accomplishment. The case had been about more than just a mere redevelopment plan; it was a physical embodiment of the entrenched corruption plaguing Blue Mountain. Witnessing Donny's defeat was a clear indication that her tenacity, her fortitude, and her dedication to justice had paid off. Notwithstanding, the town still faced numerous challenges, and much work was required, but this triumph was a solid ray of hope.\n",
            "\n",
            "In the aftermath of Donny’s removal, Harper was inundated with offers for speaking engagements, interviews, and countless media requests. The townsfolk hailed her as a hero, which she found slightly overwhelming, but humbling. Nevertheless, the turbulence surrounding her could not distract from the profound insight she obtained about the town's politics during her preparation for the trial.\n",
            "\n",
            "Every document she perused, every testimony she recorded, and every case she encountered, uncovered the extent of corruption entrenched within Blue Mountain. Donny's plots were merely a tiny component in the intricate web of exploitation and greed.\n",
            "\n",
            "Armed with this new knowledge, Harper understood there was no opportunity to revel in public acclaim. She bore an obligation to her town and its residents, an honor ingrained in her through her legal education. One cold night, Harper meticulously planned her next move, her gaze unyielding and persistent. She had exposed a portion of the widespread corruption, and now she was certain she wanted to combat this larger, formidable beast of systemic impropriety lurking in her cherished Blue Mountain.\n",
            "\n",
            "After weeks of contemplation, Harper reached a decision. She chose to commit her career to rectifying the wrongs in her town, directing her sharp intellect and scholarly vigor towards transforming Blue Mountain's justice system. A weighty aspiration, undoubtedly, but a purpose that she had been training for.\n",
            "\n",
            "This battle embodied Harper's reason for attending law school - justice for all, justice for Blue Mountain. She understood the theoretical discussions she passionately engaged in during classroom debates and alumni meetings, now bore a real connection with people she cared about. The import of justice had transcended academia and become a reality she was ready to transform.\n",
            "\n",
            "She drew a breath and looked out over the town square. Her Blue Mountain.\n",
            "-----\n",
            "\n",
            "\n"
          ]
        }
      ],
      "source": [
        "# Progressive extraction\n",
        "facts = []\n",
        "edits = []\n",
        "for idx in range(1, len(drafts)):\n",
        "    # Old Facts\n",
        "    facts_prompt = f\"What facts can be inferred from this text?\\n\\nText:\\n{drafts[idx-1]}\\n\\nFacts:\\n-\"\n",
        "    facts_response = complete(facts_prompt)\n",
        "    facts_response = facts_response.strip()\n",
        "    facts.append(facts_response)\n",
        "\n",
        "    # New Facts\n",
        "    facts_prompt = f\"What facts can be inferred from this text?\\n\\nText:\\n{drafts[idx]}\\n\\nFacts:\\n-\"\n",
        "    facts_response = complete(facts_prompt)\n",
        "    facts_response = facts_response.strip()\n",
        "\n",
        "    # Consistency\n",
        "    joined_facts = \"\\n\".join(facts)\n",
        "    consistency_prompt = f\"Are any New Facts inconsistent with Old Facts?:\\n\\Old facts:\\n{joined_facts}\\n\\nNew facts:{facts_response}\\n\\nInconsistencies:\\n-\"\n",
        "    consistency_response = complete(consistency_prompt)\n",
        "\n",
        "    # Rewriting\n",
        "    edit_prompt = f\"Edit so that any inconsistencies are addressed:\\nInconsistencies:{consistency_response}\\n\\nText:{drafts[idx]}\\n\\nRewritten Text:\"\n",
        "    edit_response = complete(edit_prompt)\n",
        "    edit_response = edit_response.strip()\n",
        "    edits.append(edit_response)\n",
        "\n",
        "    print(f\"Draft Text {idx+1}\\n-----\\n\", drafts[idx], f\"\\n\\nOld Facts:\\n{joined_facts}\", f\"\\n\\nNew Facts:\\n{facts_response}\", f\"\\n\\nConsistency:\\n{consistency_response}\", f\"\\n\\nRewritten Text:\\n{edit_response}\\n-----\\n\\n\")\n"
      ]
    },
    {
      "cell_type": "code",
      "execution_count": null,
      "metadata": {
        "colab": {
          "base_uri": "https://localhost:8080/",
          "height": 142
        },
        "id": "zY0iQZw8V1Vz",
        "outputId": "737f3f6f-4333-4b66-f448-848c91eceacf"
      },
      "outputs": [
        {
          "data": {
            "application/vnd.google.colaboratory.intrinsic+json": {
              "type": "string"
            },
            "text/plain": [
              "'The unexpected meeting of Harper with councilman Donovan Grant happened on the day of a town celebration, right as he was stepping down from the stage. His charisma, as electric as ever, had warmed the applause of the crowd which was still resonating in the air. In a corner, he spotted Harper, or as he was fond of calling her, the \"prodigal daughter\". \\n\\n\"Well, look what the cat dragged in—our renowned Harper Davis,\" he exclaimed, his voice weighty with exaggerated affection. \"Back from rubbing shoulders with the high-profile city folks, and a law school grad to boot?” His wink was just as disarming as his words. \\n\\n“Indeed,” Harper said, her smile thin and forced, mirroring his affected tone. “How have things been around here, Councilman Grant?”\\n\\n“Oh, everything\\'s on an even keel, Harper; business as usual. It\\'s all about maintaining the status quo.”\\n\\nBehind his disarming charm, Harper detected hints of a shrewd cunning that was unpalatable. His sugarcoated words seemed to mirror the same rhetoric she had heard so many times - maintaining the power, resisting change.\\n\\nAcknowledging his reply with a nod, Harper felt a suspicion growing within her. “I see... well, that will have to change.”\\n\\nA trace of sentiment flickered in Donovan’s eyes and his genial smile was quickly replaced by an icy, cautious look. For the first time, it seemed as though he fully comprehended the true motive behind Harper’s unexpected return.\\n\\nSeeing the sudden shift in his demeanor, Harper felt reassured that her suspicion was valid. Donovan “Donny” Grant was more than just a high-standing member benefitting from a flawed system. He was its mastermind, the one orchestrating the power imbalance masked under the guise of status quo. Harper could only hope that she was adequately prepared for the looming fight ahead./nIn her downtown office, Harper meticulously examined case files, city records, and archives, revealing a comprehensive picture of deep-set corruption entwined within the town\\'s core systems. Every trail seemed to eerily wind back to councilman Donovan \"Donny\" Grant. Yet, every instance of cold, hard evidence seemed to evade her grasp, as if sheltered by an unseen and invincible protective barrier.\\n\\nIn contrast, Donny always seemed one step ahead. His charming allure, coupled with an intimidating aura, seemed regularly to deflect suspicions before they could even develop. His devoted followers, entranced by his charisma, staunchly defended him with a ferocity difficult to break.\\n\\nAt the town council meetings, Harper often felt like she was banging against an insurmountable wall of resistance. Every proposed reform, every challenge to the status quo was dismissed, leaving her feeling like the sole warrior on a battlefield.\\n\\n\"Ms. Davis,\" Donny would often address her, a chill bitterness seeping through his otherwise pleasant demeanor, \"I advocate for tradition and stability. Our town flourishes by upholding its roots. Abrupt changes... well, they tend to breed uncertainty, don\\'t you agree?\"\\n\\nNonetheless, Harper was resilient. “Perhaps we should welcome uncertainty then. Perhaps it\\'s time we unearth and replant better roots,\" she would counter, her voice steady and her gaze unflinching.\\n\\nThus, the conflict persisted, a struggle between an immovable object and an irresistible force. Harper, with her intelligent and thoughtful strategy, strove to erode away the colossal, corrupt boulder obstructing her path. She was determined to deliver justice to the Blue Mountain citizens by ending the oppressive status quo that served the privileged few at the majority\\'s expense.\\n\\nWhile Donny, he stayed equally obstinate, painstakingly preserving his image as the town\\'s adored councilman while tirelessly protecting a system he had spent years refining. Every hidden passage, every legal loophole, he knew them all like the back of his hand. He was prepared to do whatever it took to maintain status quo.\\n\\nAs days morphed into weeks, the tension escalated. A face-off between the novel and the traditional was impending. A face-off that would irrevocably reshape Blue Mountain, one way or the other./nHarper delved into her ocean of case documents on a daily basis, her commitment hardening against the harsh truth unveiled by the weathered sheets. Each case file she analyzed, each grotesque expression of injustice she unearthed only intensified her unshakeable resolve to unveil the chronic corruption decaying Blue Mountain from its core.\\n\\nHer reputation grew as she dedicated herself to those victimized by corruption, persistently amassing evidence and revealing undisclosed wrongdoings. She was relentless, wholeheartedly advocating for justice in both the town\\'s court of law and the council chamber.\\n\\nIn contrast, Donny observed Harper\\'s growing influence with apprehension. He watched the flames of change alight within the townspeople - a flame that endangered his monolithic reign over Blue Mountain. \"Our town is thriving as it is,\" Donny claimed in council meetings, his voice layered with faux concern and feigned love for his town. However, beneath his deceivingly sympathetic words lurked a vicious truth - Harper’s pursuit of justice was causing a seismic shift in the status quo that sustained his authority.\\n\\nHarper\\'s law office became a target of vandalism and a swirling vortex of rumors questioned her motives, an unexpected barrage of obstructions began impeding her enquiries. All signs pointed towards those desperate to resist change. Amid the chaos, Donny retained his friendly facade, his seemingly pure hands manoeuvring the machinations of disruption.\\n\\nYet, Harper remained steadfast despite the opposition. Each adversity only fortified her unwavering resolve. She hosted town meetings, passionately advocating for her vision of a transparent and fair community, inspiring others to question the existing order.\\n\\nBlue Mountain was awakening from its slumber of corruption and vested interests, largely due to her tireless efforts. The townsfolk echoed Harper\\'s call for increased accountability and transparency. It became evident that Donovan\\'s era of unchecked control was concluding. The dispute between Harper and Donny was reaching a boiling point. They were no longer merely contending for justice, but for the spirit and future of Blue Mountain./nOn a brisk morning, Harper entered the courtroom, her resolute nature infusing warmth into the atmosphere more effectively than the lackluster heating unit. Donny was already present, distributing smiles and amiable greetings to the jury, his ulterior motives only faintly apparent below the surface. Despite the change in venue from the town council to the courtroom, their rivalry persisted. \\n\\nThe lawsuit was focused on a redevelopment proposal that had significant consequences for the town\\'s most disadvantaged citizens. Donny, as ever, advocated for maintaining the current situation, claiming that it represented both tradition and progress. However, this time Harper was armed with crucial evidence.\\n\\nThe legal clash was intense. Donny resorted to making overblown accusations, trying to tarnish Harper\\'s reputation rather than discrediting her factual evidence. Memories of law school debates flickered in Harper\\'s mind as she skillfully responded to each allegation.\\n\\nThe turning point arrived when Harper revealed her masterstroke - irrefutable evidence of Donny\\'s corrupt activities. She had discovered proof linking him directly to inflated contracts, payoffs, and the reckless demolition of a low-income housing block to make way for a luxury apartment complex. Harper\\'s revelation, delivered with her excellent legal expertise and immovable belief, sent shockwaves through the courtroom.\\n\\nTaken aback, the jury had no alternative but to rule in favor of Harper\\'s clients and against Donny. The taste of victory was delightful, but what followed was even more satisfying. The tangible proof of Donny\\'s misconduct led to his removal from the town council.\\n\\nAs Donny\\'s domination crumbled around him, Blue Mountain exhaled in collective relief. Harper had not only achieved a legal victory but she had also revealed an underlying corruption, setting in motion a much-needed cleansing of town hall. Despite the exhausting battle, the arduous efforts were proving fruitful. Harper had begun restoring justice and transparency to Blue Mountain on behalf of all its residents.\\n\\nThe battle was far from over, however. Harper was aware that the corruption she strove to eradicate extended beyond a single individual. But for now, watching the onset of the change she had initiated, Harper allowed herself a moment of quiet pride. She\\'d overcome the first significant obstacle and stirred Blue Mountain from its indifference - and her mission had only just begun./nHaving finally achieved victory in court against the crafty councilman Donovan \"Donny\" Grant, Harper Davis felt an immense sense of accomplishment. The case had been about more than just a mere redevelopment plan; it was a physical embodiment of the entrenched corruption plaguing Blue Mountain. Witnessing Donny\\'s defeat was a clear indication that her tenacity, her fortitude, and her dedication to justice had paid off. Notwithstanding, the town still faced numerous challenges, and much work was required, but this triumph was a solid ray of hope.\\n\\nIn the aftermath of Donny’s removal, Harper was inundated with offers for speaking engagements, interviews, and countless media requests. The townsfolk hailed her as a hero, which she found slightly overwhelming, but humbling. Nevertheless, the turbulence surrounding her could not distract from the profound insight she obtained about the town\\'s politics during her preparation for the trial.\\n\\nEvery document she perused, every testimony she recorded, and every case she encountered, uncovered the extent of corruption entrenched within Blue Mountain. Donny\\'s plots were merely a tiny component in the intricate web of exploitation and greed.\\n\\nArmed with this new knowledge, Harper understood there was no opportunity to revel in public acclaim. She bore an obligation to her town and its residents, an honor ingrained in her through her legal education. One cold night, Harper meticulously planned her next move, her gaze unyielding and persistent. She had exposed a portion of the widespread corruption, and now she was certain she wanted to combat this larger, formidable beast of systemic impropriety lurking in her cherished Blue Mountain.\\n\\nAfter weeks of contemplation, Harper reached a decision. She chose to commit her career to rectifying the wrongs in her town, directing her sharp intellect and scholarly vigor towards transforming Blue Mountain\\'s justice system. A weighty aspiration, undoubtedly, but a purpose that she had been training for.\\n\\nThis battle embodied Harper\\'s reason for attending law school - justice for all, justice for Blue Mountain. She understood the theoretical discussions she passionately engaged in during classroom debates and alumni meetings, now bore a real connection with people she cared about. The import of justice had transcended academia and become a reality she was ready to transform.\\n\\nShe drew a breath and looked out over the town square. Her Blue Mountain.'"
            ]
          },
          "execution_count": 18,
          "metadata": {},
          "output_type": "execute_result"
        }
      ],
      "source": [
        "\"/n\".join(edits)"
      ]
    }
  ],
  "metadata": {
    "colab": {
      "provenance": []
    },
    "kernelspec": {
      "display_name": "Python 3",
      "name": "python3"
    },
    "language_info": {
      "codemirror_mode": {
        "name": "ipython",
        "version": 3
      },
      "file_extension": ".py",
      "mimetype": "text/x-python",
      "name": "python",
      "nbconvert_exporter": "python",
      "pygments_lexer": "ipython3",
      "version": "3.9.13"
    }
  },
  "nbformat": 4,
  "nbformat_minor": 0
}
