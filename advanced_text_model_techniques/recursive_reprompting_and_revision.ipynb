{
  "cells": [
    {
      "cell_type": "markdown",
      "metadata": {
        "id": "FjTUqNDq-cVN"
      },
      "source": [
        "Source: https://arxiv.org/pdf/2210.06774.pdf"
      ]
    },
    {
      "cell_type": "markdown",
      "metadata": {
        "id": "aj_N2nXU3oF_"
      },
      "source": [
        "Get your openai api key from settings: https://platform.openai.com/account/api-keys"
      ]
    },
    {
      "cell_type": "code",
      "execution_count": null,
      "metadata": {},
      "outputs": [],
      "source": [
        "%pip install openai -- upgrade"
      ]
    },
    {
      "cell_type": "code",
      "execution_count": null,
      "metadata": {
        "colab": {
          "base_uri": "https://localhost:8080/"
        },
        "id": "-DcnuHyv3lKx",
        "outputId": "4fe8d0b1-e00f-4cec-a311-ef8b6cdc8099"
      },
      "outputs": [],
      "source": [
        "# Get the openai secret key\n",
        "import getpass\n",
        "from openai import OpenAI\n",
        "\n",
        "secret_key = getpass.getpass(\"Please enter your openai key: \")"
      ]
    },
    {
      "cell_type": "code",
      "execution_count": null,
      "metadata": {
        "colab": {
          "base_uri": "https://localhost:8080/",
          "height": 35
        },
        "id": "zTTAw81O6xs0",
        "outputId": "b7c6183f-f4cb-40e7-a363-0f2b221e46c2"
      },
      "outputs": [],
      "source": [
        "# OpenAI set up:\n",
        "client = OpenAI()\n",
        "client.api_key = secret_key\n",
        "\n",
        "def complete(prompt, stop=None):\n",
        "    response = client.chat.completions.create(\n",
        "        model=\"gpt-4\",\n",
        "        messages=[\n",
        "            {\n",
        "            \"role\": \"user\",\n",
        "            \"content\": prompt\n",
        "            }\n",
        "        ],\n",
        "        stop=stop\n",
        "    )\n",
        "    return response.choices[0].message.content\n",
        "\n",
        "complete(\"is this working?\")"
      ]
    },
    {
      "cell_type": "code",
      "execution_count": null,
      "metadata": {
        "colab": {
          "base_uri": "https://localhost:8080/",
          "height": 35
        },
        "id": "CAZ73OYK83Lb",
        "outputId": "1915e6f2-bd80-419d-d6f2-43236bcc142d"
      },
      "outputs": [],
      "source": [
        "# Add your premise:\n",
        "premise_input = \"A new law grad returns home to start her career, but struggles with the broken justice system.\" #@param {type:\"string\"}\n",
        "premise = f\"Premise: {premise_input}\"\n",
        "premise"
      ]
    },
    {
      "cell_type": "markdown",
      "metadata": {
        "id": "f1U0BFvp4nmv"
      },
      "source": [
        "## Plan Module"
      ]
    },
    {
      "cell_type": "code",
      "execution_count": null,
      "metadata": {
        "colab": {
          "base_uri": "https://localhost:8080/",
          "height": 35
        },
        "id": "ZIS1VmaT9WkP",
        "outputId": "0b0455f2-66f6-41de-e2ae-9e1c0deee8cc"
      },
      "outputs": [],
      "source": [
        "# Setting:\n",
        "setting_prompt = f\"{premise}\\nThe story is set in\"\n",
        "setting_response = complete(setting_prompt, stop=[\".\"])\n",
        "setting = f\"Setting: The story is set in {setting_response}.\"\n",
        "setting"
      ]
    },
    {
      "cell_type": "code",
      "execution_count": null,
      "metadata": {
        "colab": {
          "base_uri": "https://localhost:8080/"
        },
        "id": "1jRbxxbD92qi",
        "outputId": "30d173df-0288-4833-aade-ffb9c8ba6fb6"
      },
      "outputs": [],
      "source": [
        "# Characters\n",
        "num_characters = 2\n",
        "characters = \"\"\n",
        "character_format = \"Please invent characters for this story, in the format of [name] is [context]. For example 'Liza Turner is a 22-year-old woman' or 'Peyton Turner is Liza's older sister'. Each character is distinct and does not reuse the same name as these examples.\"\n",
        "character_prompt = f\"Premise: {premise}\\n\\nSetting: {setting}\\n\\n{character_format}\\n\\n\"\n",
        "for n in range(num_characters):\n",
        "    character_prompt += f\"{n+1}. Character Portrait:\\n\"\n",
        "    character_response = complete(f\"{character_prompt}\\n\\n{n+1}. Character Portrait:\\n\", stop=[\".\"])\n",
        "    character_prompt += f\"{character_response}\\n\\n\"\n",
        "    characters += f\"{n+1}. Character Portrait:\\n{character_response.strip()}.\\n\\n\"\n",
        "\n",
        "print(characters)"
      ]
    },
    {
      "cell_type": "code",
      "execution_count": null,
      "metadata": {
        "colab": {
          "base_uri": "https://localhost:8080/"
        },
        "id": "0tDLXTdH4q7W",
        "outputId": "411f0c4d-a8c6-4cd4-871c-19754ae37161"
      },
      "outputs": [],
      "source": [
        "# Plot\n",
        "plot_prompt = f\"{premise}\\n\\n{setting}\\n\\n{characters}Outline the main plot points of the story.\\n1.\"\n",
        "plot_response = complete(plot_prompt)\n",
        "plot = f\"{plot_response}\"\n",
        "print(\"Outline the main plot points of the story\\n\\n1. \", plot)"
      ]
    },
    {
      "cell_type": "code",
      "execution_count": null,
      "metadata": {
        "colab": {
          "base_uri": "https://localhost:8080/"
        },
        "id": "1J1TKVbhCGeV",
        "outputId": "315d7ee3-2fe5-43e2-e58b-f6a0246e2968"
      },
      "outputs": [],
      "source": [
        "# Full Plan Module\n",
        "print(f\"{premise}\\n\\n{setting}\\n\\n{characters}\\n\\nOutline the main plot points of the story\\n\\n1. {plot}\")"
      ]
    },
    {
      "cell_type": "markdown",
      "metadata": {
        "id": "vGPO-P0hHHUn"
      },
      "source": [
        "## Draft Module"
      ]
    },
    {
      "cell_type": "code",
      "execution_count": null,
      "metadata": {
        "colab": {
          "base_uri": "https://localhost:8080/"
        },
        "id": "yWrnj231HKFH",
        "outputId": "aace67b0-6b7d-42c3-c2bf-ca8f89a04bc3"
      },
      "outputs": [],
      "source": [
        "import re\n",
        "\n",
        "plot_points_raw = plot.split('\\n')\n",
        "plot_points = []\n",
        "\n",
        "for pp in plot_points_raw:\n",
        "    if pp == '':\n",
        "        continue\n",
        "    else:\n",
        "        stripped_pp = re.sub(r'^\\d+\\.\\s*', '', pp)\n",
        "        plot_points.append(stripped_pp)\n",
        "\n",
        "print(plot_points)"
      ]
    },
    {
      "cell_type": "code",
      "execution_count": null,
      "metadata": {
        "colab": {
          "base_uri": "https://localhost:8080/"
        },
        "id": "JYlKOW_iHie2",
        "outputId": "fefa297d-cb01-43f7-ac42-7522d93dde1e"
      },
      "outputs": [],
      "source": [
        "drafts = []\n",
        "\n",
        "for idx in range(len(plot_points)):\n",
        "    if idx == 0:\n",
        "        previous = \"\"\n",
        "        immediately = \"\"\n",
        "    else:\n",
        "        previous = f\"Previous story summary:\\n{plot_points[idx-1]}\"\n",
        "        immediately = f\"Immediately before the current passage:\\n{drafts[idx-1]}\"\n",
        "\n",
        "    upcoming = f\"In the upcoming passage,\\n{plot_points[idx]}\"\n",
        "\n",
        "    draft_prompt = f\"Relevant context:\\n{characters}{previous}\\n\\n{immediately}\\n\\n{upcoming}\\n\\nFull text below:\"\n",
        "\n",
        "    draft_response = complete(draft_prompt)\n",
        "    draft_response = draft_response.strip()\n",
        "\n",
        "    print(f\"Plot Point {idx+1}\\n-----\\n\", draft_prompt, f\"\\n{draft_response}\\n-----\\n\\n\")\n",
        "    drafts.append(draft_response)"
      ]
    },
    {
      "cell_type": "code",
      "execution_count": null,
      "metadata": {
        "colab": {
          "base_uri": "https://localhost:8080/"
        },
        "id": "iX-_LsK5PjYR",
        "outputId": "533b698e-e6a2-4866-e830-e12e14f6cda8"
      },
      "outputs": [],
      "source": [
        "print(\"\".join(drafts))"
      ]
    },
    {
      "cell_type": "markdown",
      "metadata": {
        "id": "sM3nQ26xQIzm"
      },
      "source": [
        "## Revision"
      ]
    },
    {
      "cell_type": "code",
      "execution_count": null,
      "metadata": {
        "colab": {
          "base_uri": "https://localhost:8080/"
        },
        "id": "p8qMKWLKQIjH",
        "outputId": "829e0273-eac8-4b42-e2cc-29d182d2fbc2"
      },
      "outputs": [],
      "source": [
        "# Progressive extraction\n",
        "facts = []\n",
        "edits = []\n",
        "for idx in range(1, len(drafts)):\n",
        "    # Old Facts\n",
        "    facts_prompt = f\"What facts can be inferred from this text?\\n\\nText:\\n{drafts[idx-1]}\\n\\nFacts:\\n-\"\n",
        "    facts_response = complete(facts_prompt)\n",
        "    facts_response = facts_response.strip()\n",
        "    facts.append(facts_response)\n",
        "\n",
        "    # New Facts\n",
        "    facts_prompt = f\"What facts can be inferred from this text?\\n\\nText:\\n{drafts[idx]}\\n\\nFacts:\\n-\"\n",
        "    facts_response = complete(facts_prompt)\n",
        "    facts_response = facts_response.strip()\n",
        "\n",
        "    # Consistency\n",
        "    joined_facts = \"\\n\".join(facts)\n",
        "    consistency_prompt = f\"Are any New Facts inconsistent with Old Facts?:\\n\\Old facts:\\n{joined_facts}\\n\\nNew facts:{facts_response}\\n\\nInconsistencies:\\n-\"\n",
        "    consistency_response = complete(consistency_prompt)\n",
        "\n",
        "    # Rewriting\n",
        "    edit_prompt = f\"Edit so that any inconsistencies are addressed:\\nInconsistencies:{consistency_response}\\n\\nText:{drafts[idx]}\\n\\nRewritten Text:\"\n",
        "    edit_response = complete(edit_prompt)\n",
        "    edit_response = edit_response.strip()\n",
        "    edits.append(edit_response)\n",
        "\n",
        "    print(f\"Draft Text {idx+1}\\n-----\\n\", drafts[idx], f\"\\n\\nOld Facts:\\n{joined_facts}\", f\"\\n\\nNew Facts:\\n{facts_response}\", f\"\\n\\nConsistency:\\n{consistency_response}\", f\"\\n\\nRewritten Text:\\n{edit_response}\\n-----\\n\\n\")\n"
      ]
    },
    {
      "cell_type": "code",
      "execution_count": null,
      "metadata": {
        "colab": {
          "base_uri": "https://localhost:8080/",
          "height": 142
        },
        "id": "zY0iQZw8V1Vz",
        "outputId": "737f3f6f-4333-4b66-f448-848c91eceacf"
      },
      "outputs": [],
      "source": [
        "\"/n\".join(edits)"
      ]
    }
  ],
  "metadata": {
    "colab": {
      "provenance": []
    },
    "kernelspec": {
      "display_name": "Python 3",
      "name": "python3"
    },
    "language_info": {
      "codemirror_mode": {
        "name": "ipython",
        "version": 3
      },
      "file_extension": ".py",
      "mimetype": "text/x-python",
      "name": "python",
      "nbconvert_exporter": "python",
      "pygments_lexer": "ipython3",
      "version": "3.9.13"
    }
  },
  "nbformat": 4,
  "nbformat_minor": 0
}
