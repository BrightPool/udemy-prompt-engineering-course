{
 "cells": [
  {
   "cell_type": "code",
   "execution_count": null,
   "metadata": {
    "vscode": {
     "languageId": "plaintext"
    }
   },
   "outputs": [],
   "source": [
    "To use pgvector in Python with Supabase, you can follow these steps:\n",
    "\n",
    "Install the necessary libraries: Make sure you have the supabase and pgvector libraries installed. You can do this using pip:\n",
    "\n",
    "pip install supabase pgvector\n",
    "\n",
    "Connect to your Supabase project: Use the Supabase client to connect to your database.\n",
    "\n",
    "1from supabase import create_client, Client\n",
    "2\n",
    "3url = \"your_supabase_url\"\n",
    "4key = \"your_supabase_key\"\n",
    "5supabase: Client = create_client(url, key)\n",
    "\n",
    "Create a table with a vector column: You need to create a table that includes a vector column. Here’s an example SQL command to create a table:\n",
    "\n",
    "1CREATE TABLE items (\n",
    "2    id serial PRIMARY KEY,\n",
    "3    embedding vector(3)  -- Adjust the dimension as needed\n",
    "4);\n",
    "\n",
    "Insert vectors into the table: You can insert vectors into your table using the Supabase client.\n",
    "\n",
    "1data = {\n",
    "2    \"embedding\": [0.1, 0.2, 0.3]  # Example vector\n",
    "3}\n",
    "4supabase.table(\"items\").insert(data).execute()\n",
    "\n",
    "Query vectors: You can perform similarity searches using the vector column. Here’s an example of how to query for similar vectors:\n",
    "\n",
    "1query_vector = [0.1, 0.2, 0.3]\n",
    "2results = supabase.table(\"items\").select(\"*\").filter(\"embedding\", \"similarity\", query_vector).execute()\n",
    "\n",
    "Make sure to adjust the dimensions of your vectors and the SQL commands according to your specific use case! Happy coding with Supabase and pgvector!\n",
    "\n"
   ]
  }
 ],
 "metadata": {
  "language_info": {
   "name": "python"
  }
 },
 "nbformat": 4,
 "nbformat_minor": 2
}
