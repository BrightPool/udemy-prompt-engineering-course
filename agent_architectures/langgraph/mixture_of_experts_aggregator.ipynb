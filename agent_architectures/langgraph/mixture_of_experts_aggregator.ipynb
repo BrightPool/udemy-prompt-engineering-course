{
 "cells": [
  {
   "cell_type": "markdown",
   "metadata": {},
   "source": [
    "# Mixture-of-Agents in 46 lines of code"
   ]
  },
  {
   "cell_type": "markdown",
   "metadata": {},
   "source": [
    "Reference to the Mixture of Experts (MoE) paper - https://github.com/togethercomputer/MoA"
   ]
  },
  {
   "cell_type": "markdown",
   "metadata": {},
   "source": [
    "\n",
    "<img src=\"https://github.com/togethercomputer/MoA/raw/main/assets/moa-explained.png\" height=400 width=600>"
   ]
  },
  {
   "cell_type": "code",
   "execution_count": 1,
   "metadata": {},
   "outputs": [
    {
     "name": "stdout",
     "output_type": "stream",
     "text": [
      "Requirement already satisfied: langchain-openai in /Users/jamesaphoenix/opt/anaconda3/lib/python3.9/site-packages (0.1.19)\n",
      "Requirement already satisfied: langchain-anthropic in /Users/jamesaphoenix/opt/anaconda3/lib/python3.9/site-packages (0.1.11)\n",
      "Requirement already satisfied: langchain-mistralai in /Users/jamesaphoenix/opt/anaconda3/lib/python3.9/site-packages (0.1.7)\n",
      "Requirement already satisfied: langchain in /Users/jamesaphoenix/opt/anaconda3/lib/python3.9/site-packages (0.1.15)\n",
      "\u001b[31mERROR: Could not find a version that satisfies the requirement getpass (from versions: none)\u001b[0m\u001b[31m\n",
      "\u001b[0m\u001b[31mERROR: No matching distribution found for getpass\u001b[0m\u001b[31m\n",
      "\u001b[0mNote: you may need to restart the kernel to use updated packages.\n"
     ]
    }
   ],
   "source": [
    "%pip install langchain-openai langchain-anthropic langchain-mistralai langchain getpass nest_asyncio"
   ]
  },
  {
   "cell_type": "code",
   "execution_count": 5,
   "metadata": {},
   "outputs": [],
   "source": [
    "import asyncio\n",
    "import os\n",
    "import getpass\n",
    "from langchain_openai.chat_models import ChatOpenAI\n",
    "from langchain_mistralai.chat_models import ChatMistralAI\n",
    "from langchain_anthropic import ChatAnthropic\n",
    "from langchain_core.messages import HumanMessage, SystemMessage"
   ]
  },
  {
   "cell_type": "code",
   "execution_count": 6,
   "metadata": {},
   "outputs": [],
   "source": [
    "from nest_asyncio import apply\n",
    "apply()"
   ]
  },
  {
   "cell_type": "code",
   "execution_count": 7,
   "metadata": {},
   "outputs": [],
   "source": [
    "# Set the API keys for the models\n",
    "if os.environ.get('OPENAI_API_KEY') is None:\n",
    "    os.environ['OPENAI_API_KEY'] = getpass.getpass(\"Enter your OpenAI API key: \")\n",
    "if os.environ.get('ANTHROPIC_API_KEY') is None:\n",
    "    os.environ['ANTHROPIC_API_KEY'] = getpass.getpass(\"Enter your Anthropic API key: \")\n",
    "if os.environ.get('MISTRAL_API_KEY') is None:\n",
    "    os.environ['MISTRAL_API_KEY'] = getpass.getpass(\"Enter your Mistral API key: \")"
   ]
  },
  {
   "cell_type": "code",
   "execution_count": 8,
   "metadata": {},
   "outputs": [],
   "source": [
    "user_prompt = \"What are 3 fun things to do in SF?\"\n",
    "reference_models = [\n",
    "    ChatOpenAI(model='gpt-4o'),\n",
    "    ChatAnthropic(model=\"claude-3-5-sonnet-20240620\"),\n",
    "    ChatMistralAI(),\n",
    "]\n",
    "aggregator_model = ChatOpenAI(model='gpt-4o')\n",
    "aggreagator_system_prompt = \"\"\"You have been provided with a set of responses from various open-source models to the latest user query. Your task is to synthesize these responses into a single, high-quality response. It is crucial to critically evaluate the information provided in these responses, recognizing that some of it may be biased or incorrect. Your response should not simply replicate the given answers but should offer a refined, accurate, and comprehensive reply to the instruction. Ensure your response is well-structured, coherent, and adheres to the highest standards of accuracy and reliability.\n",
    "\n",
    "Responses from models:\"\"\"\n",
    "\n",
    "async def run_llm(model):\n",
    "    \"\"\"Run a single LLM call with a reference model.\"\"\"\n",
    "    for sleep_time in [1, 2, 4]:\n",
    "        try:\n",
    "            response = await model.ainvoke([HumanMessage(content=user_prompt)])\n",
    "            return response.content\n",
    "        except Exception as e:\n",
    "            print(f\"Error with {model.__class__.__name__}: {e}\")\n",
    "            await asyncio.sleep(sleep_time)\n",
    "    return \"Failed to get response\""
   ]
  },
  {
   "cell_type": "code",
   "execution_count": 9,
   "metadata": {},
   "outputs": [
    {
     "name": "stdout",
     "output_type": "stream",
     "text": [
      "San Francisco is a city full of diverse attractions and activities that cater to a variety of interests. Here are three fun things to do that will give you a great taste of what the city has to offer:\n",
      "\n",
      "1. **Visit Alcatraz Island**:\n",
      "   - **Why**: Alcatraz Island, once a notorious federal prison, is one of San Francisco's most iconic landmarks. The island offers a fascinating audio tour that provides chilling insights into the lives of the prisoners and the history of the facility.\n",
      "   - **Highlights**: The ferry ride to the island provides stunning views of the San Francisco skyline and the Golden Gate Bridge. The tour itself is rich with historical anecdotes and engaging stories.\n",
      "\n",
      "2. **Explore Golden Gate Park**:\n",
      "   - **Why**: Spanning over 1,000 acres, Golden Gate Park is a massive urban oasis with a plethora of attractions and activities.\n",
      "   - **Highlights**: Key spots include the California Academy of Sciences, the de Young Museum, the Japanese Tea Garden, the San Francisco Botanical Garden, and the Conservatory of Flowers. You can also rent bikes, paddleboats, or simply enjoy a leisurely picnic.\n",
      "\n",
      "3. **Stroll Through Fisherman's Wharf and Pier 39**:\n",
      "   - **Why**: This bustling waterfront area is a hub of activity, perfect for families and tourists alike. It's a blend of entertainment, dining, and scenic beauty.\n",
      "   - **Highlights**: Watch sea lions lounging at Pier 39, savor fresh seafood, visit the Aquarium of the Bay, and enjoy street performances. Don’t miss trying the famous clam chowder in a sourdough bread bowl.\n",
      "\n",
      "These activities showcase the historical, cultural, and natural beauty of San Francisco, making them must-dos for any visitor.\n"
     ]
    }
   ],
   "source": [
    "async def main():\n",
    "    results = await asyncio.gather(*[run_llm(model) for model in reference_models])\n",
    "\n",
    "    final_response = await aggregator_model.ainvoke(\n",
    "        [\n",
    "            SystemMessage(\n",
    "                content=aggreagator_system_prompt\n",
    "                + \"\\n\"\n",
    "                + \"\\n\".join(\n",
    "                    [f\"{i+1}. {str(element)}\" for i, element in enumerate(results)]\n",
    "                )\n",
    "            ),\n",
    "            HumanMessage(content=user_prompt),\n",
    "        ]\n",
    "    )\n",
    "\n",
    "    print(final_response.content)\n",
    "\n",
    "asyncio.run(main())"
   ]
  }
 ],
 "metadata": {
  "kernelspec": {
   "display_name": "base",
   "language": "python",
   "name": "python3"
  },
  "language_info": {
   "codemirror_mode": {
    "name": "ipython",
    "version": 3
   },
   "file_extension": ".py",
   "mimetype": "text/x-python",
   "name": "python",
   "nbconvert_exporter": "python",
   "pygments_lexer": "ipython3",
   "version": "3.9.13"
  }
 },
 "nbformat": 4,
 "nbformat_minor": 2
}
