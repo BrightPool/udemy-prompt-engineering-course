{
 "cells": [
  {
   "cell_type": "markdown",
   "metadata": {},
   "source": [
    "# Mixture-of-Agents in 46 lines of code"
   ]
  },
  {
   "cell_type": "markdown",
   "metadata": {},
   "source": [
    "Reference to the Mixture of Experts (MoE) paper - https://github.com/togethercomputer/MoA"
   ]
  },
  {
   "cell_type": "markdown",
   "metadata": {},
   "source": [
    "\n",
    "<img src=\"https://github.com/togethercomputer/MoA/raw/main/assets/moa-explained.png\" height=400 width=600>"
   ]
  },
  {
   "cell_type": "code",
   "execution_count": 9,
   "metadata": {},
   "outputs": [
    {
     "name": "stdout",
     "output_type": "stream",
     "text": [
      "Requirement already satisfied: langchain-openai in /Users/jamesaphoenix/opt/anaconda3/lib/python3.9/site-packages (0.1.6)\n",
      "Requirement already satisfied: langchain-anthropic in /Users/jamesaphoenix/opt/anaconda3/lib/python3.9/site-packages (0.1.11)\n",
      "Requirement already satisfied: langchain-mistralai in /Users/jamesaphoenix/opt/anaconda3/lib/python3.9/site-packages (0.1.7)\n",
      "Requirement already satisfied: langchain in /Users/jamesaphoenix/opt/anaconda3/lib/python3.9/site-packages (0.1.15)\n",
      "Requirement already satisfied: tiktoken<1,>=0.5.2 in /Users/jamesaphoenix/opt/anaconda3/lib/python3.9/site-packages (from langchain-openai) (0.6.0)\n",
      "Requirement already satisfied: langchain-core<0.2.0,>=0.1.46 in /Users/jamesaphoenix/opt/anaconda3/lib/python3.9/site-packages (from langchain-openai) (0.1.52)\n",
      "Requirement already satisfied: openai<2.0.0,>=1.24.0 in /Users/jamesaphoenix/opt/anaconda3/lib/python3.9/site-packages (from langchain-openai) (1.35.7)\n",
      "Requirement already satisfied: defusedxml<0.8.0,>=0.7.1 in /Users/jamesaphoenix/opt/anaconda3/lib/python3.9/site-packages (from langchain-anthropic) (0.7.1)\n",
      "Requirement already satisfied: anthropic<1,>=0.23.0 in /Users/jamesaphoenix/opt/anaconda3/lib/python3.9/site-packages (from langchain-anthropic) (0.28.0)\n",
      "Requirement already satisfied: httpx-sse<1,>=0.3.1 in /Users/jamesaphoenix/opt/anaconda3/lib/python3.9/site-packages (from langchain-mistralai) (0.4.0)\n",
      "Requirement already satisfied: tokenizers<1,>=0.15.1 in /Users/jamesaphoenix/opt/anaconda3/lib/python3.9/site-packages (from langchain-mistralai) (0.19.1)\n",
      "Requirement already satisfied: httpx<1,>=0.25.2 in /Users/jamesaphoenix/opt/anaconda3/lib/python3.9/site-packages (from langchain-mistralai) (0.27.0)\n",
      "Requirement already satisfied: dataclasses-json<0.7,>=0.5.7 in /Users/jamesaphoenix/opt/anaconda3/lib/python3.9/site-packages (from langchain) (0.6.5)\n",
      "Requirement already satisfied: langsmith<0.2.0,>=0.1.17 in /Users/jamesaphoenix/opt/anaconda3/lib/python3.9/site-packages (from langchain) (0.1.82)\n",
      "Requirement already satisfied: async-timeout<5.0.0,>=4.0.0 in /Users/jamesaphoenix/opt/anaconda3/lib/python3.9/site-packages (from langchain) (4.0.3)\n",
      "Requirement already satisfied: pydantic<3,>=1 in /Users/jamesaphoenix/opt/anaconda3/lib/python3.9/site-packages (from langchain) (2.7.1)\n",
      "Requirement already satisfied: tenacity<9.0.0,>=8.1.0 in /Users/jamesaphoenix/opt/anaconda3/lib/python3.9/site-packages (from langchain) (8.3.0)\n",
      "Requirement already satisfied: aiohttp<4.0.0,>=3.8.3 in /Users/jamesaphoenix/opt/anaconda3/lib/python3.9/site-packages (from langchain) (3.9.5)\n",
      "Requirement already satisfied: jsonpatch<2.0,>=1.33 in /Users/jamesaphoenix/opt/anaconda3/lib/python3.9/site-packages (from langchain) (1.33)\n",
      "Requirement already satisfied: requests<3,>=2 in /Users/jamesaphoenix/opt/anaconda3/lib/python3.9/site-packages (from langchain) (2.31.0)\n",
      "Requirement already satisfied: PyYAML>=5.3 in /Users/jamesaphoenix/opt/anaconda3/lib/python3.9/site-packages (from langchain) (6.0.1)\n",
      "Requirement already satisfied: langchain-text-splitters<0.1,>=0.0.1 in /Users/jamesaphoenix/opt/anaconda3/lib/python3.9/site-packages (from langchain) (0.0.2)\n",
      "Requirement already satisfied: SQLAlchemy<3,>=1.4 in /Users/jamesaphoenix/opt/anaconda3/lib/python3.9/site-packages (from langchain) (2.0.25)\n",
      "Requirement already satisfied: numpy<2,>=1 in /Users/jamesaphoenix/opt/anaconda3/lib/python3.9/site-packages (from langchain) (1.26.4)\n",
      "Requirement already satisfied: langchain-community<0.1,>=0.0.32 in /Users/jamesaphoenix/opt/anaconda3/lib/python3.9/site-packages (from langchain) (0.0.38)\n",
      "Requirement already satisfied: yarl<2.0,>=1.0 in /Users/jamesaphoenix/opt/anaconda3/lib/python3.9/site-packages (from aiohttp<4.0.0,>=3.8.3->langchain) (1.8.2)\n",
      "Requirement already satisfied: multidict<7.0,>=4.5 in /Users/jamesaphoenix/opt/anaconda3/lib/python3.9/site-packages (from aiohttp<4.0.0,>=3.8.3->langchain) (6.0.4)\n",
      "Requirement already satisfied: frozenlist>=1.1.1 in /Users/jamesaphoenix/opt/anaconda3/lib/python3.9/site-packages (from aiohttp<4.0.0,>=3.8.3->langchain) (1.3.3)\n",
      "Requirement already satisfied: attrs>=17.3.0 in /Users/jamesaphoenix/opt/anaconda3/lib/python3.9/site-packages (from aiohttp<4.0.0,>=3.8.3->langchain) (23.2.0)\n",
      "Requirement already satisfied: aiosignal>=1.1.2 in /Users/jamesaphoenix/opt/anaconda3/lib/python3.9/site-packages (from aiohttp<4.0.0,>=3.8.3->langchain) (1.3.1)\n",
      "Requirement already satisfied: typing-extensions<5,>=4.7 in /Users/jamesaphoenix/opt/anaconda3/lib/python3.9/site-packages (from anthropic<1,>=0.23.0->langchain-anthropic) (4.9.0)\n",
      "Requirement already satisfied: anyio<5,>=3.5.0 in /Users/jamesaphoenix/opt/anaconda3/lib/python3.9/site-packages (from anthropic<1,>=0.23.0->langchain-anthropic) (3.5.0)\n",
      "Requirement already satisfied: sniffio in /Users/jamesaphoenix/opt/anaconda3/lib/python3.9/site-packages (from anthropic<1,>=0.23.0->langchain-anthropic) (1.2.0)\n",
      "Requirement already satisfied: distro<2,>=1.7.0 in /Users/jamesaphoenix/opt/anaconda3/lib/python3.9/site-packages (from anthropic<1,>=0.23.0->langchain-anthropic) (1.8.0)\n",
      "Requirement already satisfied: jiter<1,>=0.4.0 in /Users/jamesaphoenix/opt/anaconda3/lib/python3.9/site-packages (from anthropic<1,>=0.23.0->langchain-anthropic) (0.4.2)\n",
      "Requirement already satisfied: typing-inspect<1,>=0.4.0 in /Users/jamesaphoenix/opt/anaconda3/lib/python3.9/site-packages (from dataclasses-json<0.7,>=0.5.7->langchain) (0.9.0)\n",
      "Requirement already satisfied: marshmallow<4.0.0,>=3.18.0 in /Users/jamesaphoenix/opt/anaconda3/lib/python3.9/site-packages (from dataclasses-json<0.7,>=0.5.7->langchain) (3.19.0)\n",
      "Requirement already satisfied: certifi in /Users/jamesaphoenix/opt/anaconda3/lib/python3.9/site-packages (from httpx<1,>=0.25.2->langchain-mistralai) (2024.2.2)\n",
      "Requirement already satisfied: idna in /Users/jamesaphoenix/opt/anaconda3/lib/python3.9/site-packages (from httpx<1,>=0.25.2->langchain-mistralai) (3.7)\n",
      "Requirement already satisfied: httpcore==1.* in /Users/jamesaphoenix/opt/anaconda3/lib/python3.9/site-packages (from httpx<1,>=0.25.2->langchain-mistralai) (1.0.5)\n",
      "Requirement already satisfied: h11<0.15,>=0.13 in /Users/jamesaphoenix/opt/anaconda3/lib/python3.9/site-packages (from httpcore==1.*->httpx<1,>=0.25.2->langchain-mistralai) (0.14.0)\n",
      "Requirement already satisfied: jsonpointer>=1.9 in /Users/jamesaphoenix/opt/anaconda3/lib/python3.9/site-packages (from jsonpatch<2.0,>=1.33->langchain) (2.4)\n",
      "Requirement already satisfied: packaging<24.0,>=23.2 in /Users/jamesaphoenix/opt/anaconda3/lib/python3.9/site-packages (from langchain-core<0.2.0,>=0.1.46->langchain-openai) (23.2)\n",
      "Requirement already satisfied: orjson<4.0.0,>=3.9.14 in /Users/jamesaphoenix/opt/anaconda3/lib/python3.9/site-packages (from langsmith<0.2.0,>=0.1.17->langchain) (3.10.5)\n",
      "Requirement already satisfied: tqdm>4 in /Users/jamesaphoenix/opt/anaconda3/lib/python3.9/site-packages (from openai<2.0.0,>=1.24.0->langchain-openai) (4.66.4)\n",
      "Requirement already satisfied: pydantic-core==2.18.2 in /Users/jamesaphoenix/opt/anaconda3/lib/python3.9/site-packages (from pydantic<3,>=1->langchain) (2.18.2)\n",
      "Requirement already satisfied: annotated-types>=0.4.0 in /Users/jamesaphoenix/opt/anaconda3/lib/python3.9/site-packages (from pydantic<3,>=1->langchain) (0.5.0)\n",
      "Requirement already satisfied: charset-normalizer<4,>=2 in /Users/jamesaphoenix/opt/anaconda3/lib/python3.9/site-packages (from requests<3,>=2->langchain) (3.2.0)\n",
      "Requirement already satisfied: urllib3<3,>=1.21.1 in /Users/jamesaphoenix/opt/anaconda3/lib/python3.9/site-packages (from requests<3,>=2->langchain) (1.26.18)\n",
      "Requirement already satisfied: greenlet!=0.4.17 in /Users/jamesaphoenix/opt/anaconda3/lib/python3.9/site-packages (from SQLAlchemy<3,>=1.4->langchain) (3.0.3)\n",
      "Requirement already satisfied: regex>=2022.1.18 in /Users/jamesaphoenix/opt/anaconda3/lib/python3.9/site-packages (from tiktoken<1,>=0.5.2->langchain-openai) (2022.7.9)\n",
      "Requirement already satisfied: huggingface-hub<1.0,>=0.16.4 in /Users/jamesaphoenix/opt/anaconda3/lib/python3.9/site-packages (from tokenizers<1,>=0.15.1->langchain-mistralai) (0.23.3)\n",
      "Requirement already satisfied: filelock in /Users/jamesaphoenix/opt/anaconda3/lib/python3.9/site-packages (from huggingface-hub<1.0,>=0.16.4->tokenizers<1,>=0.15.1->langchain-mistralai) (3.12.4)\n",
      "Requirement already satisfied: fsspec>=2023.5.0 in /Users/jamesaphoenix/opt/anaconda3/lib/python3.9/site-packages (from huggingface-hub<1.0,>=0.16.4->tokenizers<1,>=0.15.1->langchain-mistralai) (2023.5.0)\n",
      "Requirement already satisfied: mypy-extensions>=0.3.0 in /Users/jamesaphoenix/opt/anaconda3/lib/python3.9/site-packages (from typing-inspect<1,>=0.4.0->dataclasses-json<0.7,>=0.5.7->langchain) (1.0.0)\n",
      "Note: you may need to restart the kernel to use updated packages.\n"
     ]
    }
   ],
   "source": [
    "%pip install langchain-openai langchain-anthropic langchain-mistralai langchain getpass nest_asyncio"
   ]
  },
  {
   "cell_type": "code",
   "execution_count": 1,
   "metadata": {},
   "outputs": [],
   "source": [
    "import asyncio\n",
    "import os\n",
    "import getpass\n",
    "from langchain_openai.chat_models import ChatOpenAI\n",
    "from langchain_mistralai.chat_models import ChatMistralAI\n",
    "from langchain_anthropic import ChatAnthropic\n",
    "from langchain_core.messages import HumanMessage, SystemMessage"
   ]
  },
  {
   "cell_type": "code",
   "execution_count": 5,
   "metadata": {},
   "outputs": [],
   "source": [
    "from nest_asyncio import apply\n",
    "apply()"
   ]
  },
  {
   "cell_type": "code",
   "execution_count": 6,
   "metadata": {},
   "outputs": [],
   "source": [
    "# Set the API keys for the models\n",
    "if os.environ.get('OPENAI_API_KEY') is None:\n",
    "    os.environ['OPENAI_API_KEY'] = getpass.getpass(\"Enter your OpenAI API key: \")\n",
    "if os.environ.get('ANTHROPIC_API_KEY') is None:\n",
    "    os.environ['ANTHROPIC_API_KEY'] = getpass.getpass(\"Enter your Anthropic API key: \")\n",
    "if os.environ.get('MISTRAL_API_KEY') is None:\n",
    "    os.environ['MISTRAL_API_KEY'] = getpass.getpass(\"Enter your Mistral API key: \")"
   ]
  },
  {
   "cell_type": "code",
   "execution_count": 10,
   "metadata": {},
   "outputs": [
    {
     "name": "stdout",
     "output_type": "stream",
     "text": [
      "San Francisco is a city rich in culture, history, and natural beauty. Here are three fun activities to consider during your visit:\n",
      "\n",
      "1. **Explore Golden Gate Park**: This expansive urban park offers something for everyone. Key attractions include the California Academy of Sciences, which houses an aquarium, planetarium, and natural history museum. You can also visit the de Young Museum for art exhibits, the Japanese Tea Garden for a serene experience, and the San Francisco Botanical Garden to enjoy a diverse range of plant species. Renting a bike is a great way to cover more ground and take in the park's lush scenery.\n",
      "\n",
      "2. **Visit Fisherman's Wharf and Pier 39**: This bustling waterfront area is a must-see for tourists. Enjoy fresh seafood at one of the many restaurants, watch sea lions lounging on the docks, and explore various shops and street performances. From here, you can also take a ferry to Alcatraz Island, where you can tour the infamous former prison and learn about its history.\n",
      "\n",
      "3. **Ride a Cable Car**: Experience a piece of San Francisco's history by riding one of its iconic cable cars. The Powell-Hyde and Powell-Mason lines offer scenic routes through some of the city's most famous neighborhoods, including Nob Hill and Fisherman's Wharf. It's a fun and unique way to see the city's hilly landscape and vibrant streets.\n",
      "\n",
      "These activities provide a well-rounded experience of San Francisco's cultural, historical, and natural attractions.\n"
     ]
    }
   ],
   "source": [
    "user_prompt = \"What are 3 fun things to do in SF?\"\n",
    "reference_models = [\n",
    "    ChatOpenAI(model='gpt-4o'),\n",
    "    ChatAnthropic(model=\"claude-3-5-sonnet-20240620\"),\n",
    "    ChatMistralAI(),\n",
    "]\n",
    "aggregator_model = ChatOpenAI(model='gpt-4o')\n",
    "aggreagator_system_prompt = \"\"\"You have been provided with a set of responses from various open-source models to the latest user query. Your task is to synthesize these responses into a single, high-quality response. It is crucial to critically evaluate the information provided in these responses, recognizing that some of it may be biased or incorrect. Your response should not simply replicate the given answers but should offer a refined, accurate, and comprehensive reply to the instruction. Ensure your response is well-structured, coherent, and adheres to the highest standards of accuracy and reliability.\n",
    "\n",
    "Responses from models:\"\"\"\n",
    "\n",
    "async def run_llm(model):\n",
    "    \"\"\"Run a single LLM call with a reference model.\"\"\"\n",
    "    for sleep_time in [1, 2, 4]:\n",
    "        try:\n",
    "            response = await model.ainvoke([HumanMessage(content=user_prompt)])\n",
    "            return response.content\n",
    "        except Exception as e:\n",
    "            print(f\"Error with {model.__class__.__name__}: {e}\")\n",
    "            await asyncio.sleep(sleep_time)\n",
    "    return \"Failed to get response\""
   ]
  },
  {
   "cell_type": "code",
   "execution_count": null,
   "metadata": {},
   "outputs": [],
   "source": [
    "async def main():\n",
    "    results = await asyncio.gather(*[run_llm(model) for model in reference_models])\n",
    "\n",
    "    final_response = await aggregator_model.ainvoke(\n",
    "        [\n",
    "            SystemMessage(\n",
    "                content=aggreagator_system_prompt\n",
    "                + \"\\n\"\n",
    "                + \"\\n\".join(\n",
    "                    [f\"{i+1}. {str(element)}\" for i, element in enumerate(results)]\n",
    "                )\n",
    "            ),\n",
    "            HumanMessage(content=user_prompt),\n",
    "        ]\n",
    "    )\n",
    "\n",
    "    print(final_response.content)\n",
    "\n",
    "\n",
    "asyncio.run(main())"
   ]
  }
 ],
 "metadata": {
  "kernelspec": {
   "display_name": "base",
   "language": "python",
   "name": "python3"
  },
  "language_info": {
   "codemirror_mode": {
    "name": "ipython",
    "version": 3
   },
   "file_extension": ".py",
   "mimetype": "text/x-python",
   "name": "python",
   "nbconvert_exporter": "python",
   "pygments_lexer": "ipython3",
   "version": "3.9.13"
  }
 },
 "nbformat": 4,
 "nbformat_minor": 2
}
