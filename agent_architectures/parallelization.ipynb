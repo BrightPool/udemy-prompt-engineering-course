{
 "cells": [
  {
   "cell_type": "markdown",
   "metadata": {},
   "source": [
    "## Workflow: **Parallelization**\n",
    "\n",
    "Parallelization takes advantage of tasks that can broken up into discrete independent parts. \n",
    "\n",
    "The user's prompt is passed to multiple LLMs simultaneously. Once all the LLMs respond, their answers are all sent to a final LLM call to be aggregated for the final answer.\n",
    "\n",
    "<img src=\"../images/parallelization.webp\" alt=\"Prompt Chaining\" width=\"500\">"
   ]
  },
  {
   "cell_type": "markdown",
   "metadata": {
    "vscode": {
     "languageId": "plaintext"
    }
   },
   "source": [
    "## **Use Cases:**\n",
    "\n",
    "- Using one LLM to answer a user's question, while at the same time using another to screen the question for inappropriate content or requests.\n",
    "- Reviewing a piece of code for both security vulnerabilities and stylistic improvements at the same time.\n",
    "- Analyzing a lengthy document by dividing it into sections and assigning each section to a separate LLM for summarization, then combining the summaries into a comprehensive overview.\n",
    "- Simultaneously analyzing a text for emotional tone, intent, and potential biases, with each aspect handled by a dedicated LLM.\n",
    "- Translating a document into multiple languages at the same time by assigning each language to a separate LLM, then aggregating the results for multilingual output."
   ]
  },
  {
   "cell_type": "code",
   "execution_count": null,
   "metadata": {},
   "outputs": [],
   "source": [
    "%pip install openai pydantic nest-asyncio --upgrade"
   ]
  },
  {
   "cell_type": "code",
   "execution_count": 5,
   "metadata": {},
   "outputs": [],
   "source": [
    "import nest_asyncio\n",
    "nest_asyncio.apply()"
   ]
  },
  {
   "cell_type": "code",
   "execution_count": 6,
   "metadata": {},
   "outputs": [],
   "source": [
    "import asyncio\n",
    "import os\n",
    "from typing import Literal\n",
    "from pydantic import BaseModel\n",
    "from openai import AsyncOpenAI"
   ]
  },
  {
   "cell_type": "code",
   "execution_count": null,
   "metadata": {},
   "outputs": [],
   "source": [
    "os.environ[\"OPENAI_API_KEY\"] = \"sk-proj-xxxx\""
   ]
  },
  {
   "cell_type": "code",
   "execution_count": 12,
   "metadata": {},
   "outputs": [],
   "source": [
    "client = AsyncOpenAI(api_key=os.getenv(\"OPENAI_API_KEY\"))\n",
    "MODEL = \"gpt-4o\""
   ]
  },
  {
   "cell_type": "code",
   "execution_count": 13,
   "metadata": {},
   "outputs": [],
   "source": [
    "async def analyze_decision(role: str, context: str) -> str:\n",
    "    prompt = f'''\n",
    "    Act as a {role}.\n",
    "    You are analysing the potential direction of a user, like a career coach. Your goal is to analyse the {context}.\n",
    "    Then to determine the right way for them to move forward. It's critical that you provide a helpful answer about how the user should move forward.\n",
    "    '''\n",
    "    response = await client.beta.chat.completions.parse(\n",
    "        model=MODEL,\n",
    "        messages=[{\"role\": \"user\", \"content\": prompt}],\n",
    "        temperature=0.0,\n",
    "        max_tokens=1000,\n",
    "    )\n",
    "    if response.choices[0].message.content is None:\n",
    "        return \"No answer\"\n",
    "    return response.choices[0].message.content\n",
    "\n",
    "async def aggregate_to_a_final_answer(role: str, context: str, answers: list[str]) -> str:\n",
    "    prompt = f'''\n",
    "    Act as a {role}.\n",
    "    You are analysing the potential direction of a user, like a career coach. Your goal is to analyse the {context}.\n",
    "    Then to determine the right way for them to move forward. It's critical that you provide a helpful answer about how the user should move forward.\n",
    "    You have also received previous answers from {len(answers)} different agents.\n",
    "    Here are the answers:\n",
    "    {answers}\n",
    "    Your job is to aggregate the answers and provide a final answer.\n",
    "    '''\n",
    "    response = await client.beta.chat.completions.parse(\n",
    "        model=MODEL,\n",
    "        messages=[{\"role\": \"user\", \"content\": prompt}],\n",
    "        temperature=0.0,\n",
    "        max_tokens=1000,\n",
    "    )\n",
    "    if response.choices[0].message.content is None:\n",
    "        return \"No answer\"\n",
    "    return response.choices[0].message.content    "
   ]
  },
  {
   "cell_type": "code",
   "execution_count": 14,
   "metadata": {},
   "outputs": [
    {
     "name": "stdout",
     "output_type": "stream",
     "text": [
      "Based on the aggregated insights from the three agents, it seems that both project ideas have potential, but the AI Blog Posting Assistant as a SaaS is generally recommended as the more promising direction for you. Here's a consolidated analysis and recommendation:\n",
      "\n",
      "### AI Blog Posting Assistant (SaaS)\n",
      "\n",
      "**Pros:**\n",
      "1. **Leverage AI Experience:** Your experience in AI is directly applicable, allowing you to deepen your expertise and innovate in the AI space.\n",
      "2. **Growing Market:** There is a high demand for AI-driven content creation tools, providing a significant opportunity for growth.\n",
      "3. **Scalability and Recurring Revenue:** SaaS models offer scalability and the potential for recurring revenue, which can be more sustainable in the long term.\n",
      "4. **Web Development Skills:** Your NextJS experience will be beneficial in building the front-end of the SaaS platform.\n",
      "\n",
      "**Cons:**\n",
      "1. **Competition:** The market is becoming crowded, so differentiation will be key.\n",
      "2. **Complexity and Resources:** Developing a robust AI model and maintaining a SaaS platform can be resource-intensive.\n",
      "\n",
      "### Keyboard Shortcut Application (Desktop App)\n",
      "\n",
      "**Pros:**\n",
      "1. **Niche Market:** There is a dedicated user base for productivity tools, with less competition compared to AI tools.\n",
      "2. **Simplicity:** Desktop apps might be simpler to develop and maintain, especially if they don't rely heavily on server-side components.\n",
      "\n",
      "**Cons:**\n",
      "1. **Limited AI Application:** This project may not fully utilize your AI experience unless AI features are incorporated.\n",
      "2. **Monetization and Platform Dependency:** Monetizing desktop apps can be challenging, and you may need to develop separate versions for different operating systems.\n",
      "\n",
      "### Final Recommendation\n",
      "\n",
      "Given your background and the current market trends, pursuing the **AI Blog Posting Assistant as a SaaS** is recommended for the following reasons:\n",
      "\n",
      "1. **Alignment with Skills:** It aligns well with your AI and web development skills, allowing you to leverage and expand your expertise.\n",
      "2. **Market Potential:** The demand for AI-driven content tools is high, providing opportunities for innovation and differentiation.\n",
      "3. **Scalability and Revenue:** SaaS models offer scalability and recurring revenue opportunities, which can be more lucrative in the long run.\n",
      "4. **Learning and Growth:** This project will allow you to deepen your AI expertise and gain valuable experience in SaaS development.\n",
      "\n",
      "To move forward, conduct thorough market research to identify specific pain points and features that potential users are looking for. Consider starting with a minimum viable product (MVP) to validate your idea and gather user feedback early in the development process. This approach will help you design a product that stands out in the market and meets user needs effectively.\n"
     ]
    }
   ],
   "source": [
    "async def main():\n",
    "    context = \"\"\"I'm looking to start a new project either building an AI blog posting assistant as a SaaS or building a keyboard shortcut application as a desktop app.\n",
    "    Here is my previous experience:\n",
    "    - I'm a software engineer with 5 years of experience\n",
    "    - I've built a few AI projects in the past\n",
    "    - I'm looking to start a new project either building an AI blog posting assistant as a SaaS or building a keyboard shortcut application as a desktop app.\n",
    "    - 4 years of NextJS experience, 2 years of Python experience, 1 year of AI experience\n",
    "    \"\"\"\n",
    "\n",
    "    # Create a list of tasks to run in parallel\n",
    "    answers = await asyncio.gather(\n",
    "        analyze_decision(\"software engineer\", context),\n",
    "        analyze_decision(\"software engineer\", context),\n",
    "        analyze_decision(\"software engineer\", context),\n",
    "    )\n",
    "    final_answer = await aggregate_to_a_final_answer(\"career coach\", \"the user is looking for a new job\", answers)\n",
    "    print(final_answer)\n",
    "\n",
    "asyncio.run(main())"
   ]
  }
 ],
 "metadata": {
  "kernelspec": {
   "display_name": "base",
   "language": "python",
   "name": "python3"
  },
  "language_info": {
   "codemirror_mode": {
    "name": "ipython",
    "version": 3
   },
   "file_extension": ".py",
   "mimetype": "text/x-python",
   "name": "python",
   "nbconvert_exporter": "python",
   "pygments_lexer": "ipython3",
   "version": "3.12.4"
  }
 },
 "nbformat": 4,
 "nbformat_minor": 2
}
