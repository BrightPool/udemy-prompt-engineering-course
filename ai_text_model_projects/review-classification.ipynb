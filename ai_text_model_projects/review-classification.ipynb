{
  "cells": [
    {
      "cell_type": "code",
      "execution_count": 1,
      "metadata": {},
      "outputs": [
        {
          "name": "stdout",
          "output_type": "stream",
          "text": [
            "Requirement already satisfied: langchain in /Users/jamesaphoenix/opt/anaconda3/lib/python3.9/site-packages (0.1.10)\n",
            "Requirement already satisfied: langchain_openai in /Users/jamesaphoenix/opt/anaconda3/lib/python3.9/site-packages (0.0.8)\n",
            "Requirement already satisfied: langchain-text-splitters<0.1,>=0.0.1 in /Users/jamesaphoenix/opt/anaconda3/lib/python3.9/site-packages (from langchain) (0.0.1)\n",
            "Requirement already satisfied: SQLAlchemy<3,>=1.4 in /Users/jamesaphoenix/opt/anaconda3/lib/python3.9/site-packages (from langchain) (2.0.25)\n",
            "Requirement already satisfied: langchain-community<0.1,>=0.0.25 in /Users/jamesaphoenix/opt/anaconda3/lib/python3.9/site-packages (from langchain) (0.0.25)\n",
            "Requirement already satisfied: langsmith<0.2.0,>=0.1.0 in /Users/jamesaphoenix/opt/anaconda3/lib/python3.9/site-packages (from langchain) (0.1.14)\n",
            "Requirement already satisfied: jsonpatch<2.0,>=1.33 in /Users/jamesaphoenix/opt/anaconda3/lib/python3.9/site-packages (from langchain) (1.33)\n",
            "Requirement already satisfied: tenacity<9.0.0,>=8.1.0 in /Users/jamesaphoenix/opt/anaconda3/lib/python3.9/site-packages (from langchain) (8.2.3)\n",
            "Requirement already satisfied: requests<3,>=2 in /Users/jamesaphoenix/opt/anaconda3/lib/python3.9/site-packages (from langchain) (2.31.0)\n",
            "Requirement already satisfied: async-timeout<5.0.0,>=4.0.0 in /Users/jamesaphoenix/opt/anaconda3/lib/python3.9/site-packages (from langchain) (4.0.3)\n",
            "Requirement already satisfied: dataclasses-json<0.7,>=0.5.7 in /Users/jamesaphoenix/opt/anaconda3/lib/python3.9/site-packages (from langchain) (0.5.7)\n",
            "Requirement already satisfied: PyYAML>=5.3 in /Users/jamesaphoenix/opt/anaconda3/lib/python3.9/site-packages (from langchain) (6.0.1)\n",
            "Requirement already satisfied: pydantic<3,>=1 in /Users/jamesaphoenix/opt/anaconda3/lib/python3.9/site-packages (from langchain) (2.6.1)\n",
            "Requirement already satisfied: numpy<2,>=1 in /Users/jamesaphoenix/opt/anaconda3/lib/python3.9/site-packages (from langchain) (1.26.3)\n",
            "Requirement already satisfied: langchain-core<0.2,>=0.1.28 in /Users/jamesaphoenix/opt/anaconda3/lib/python3.9/site-packages (from langchain) (0.1.28)\n",
            "Requirement already satisfied: aiohttp<4.0.0,>=3.8.3 in /Users/jamesaphoenix/opt/anaconda3/lib/python3.9/site-packages (from langchain) (3.9.1)\n",
            "Requirement already satisfied: tiktoken<1,>=0.5.2 in /Users/jamesaphoenix/opt/anaconda3/lib/python3.9/site-packages (from langchain_openai) (0.5.2)\n",
            "Requirement already satisfied: openai<2.0.0,>=1.10.0 in /Users/jamesaphoenix/opt/anaconda3/lib/python3.9/site-packages (from langchain_openai) (1.12.0)\n",
            "Requirement already satisfied: multidict<7.0,>=4.5 in /Users/jamesaphoenix/opt/anaconda3/lib/python3.9/site-packages (from aiohttp<4.0.0,>=3.8.3->langchain) (6.0.4)\n",
            "Requirement already satisfied: attrs>=17.3.0 in /Users/jamesaphoenix/opt/anaconda3/lib/python3.9/site-packages (from aiohttp<4.0.0,>=3.8.3->langchain) (21.4.0)\n",
            "Requirement already satisfied: aiosignal>=1.1.2 in /Users/jamesaphoenix/opt/anaconda3/lib/python3.9/site-packages (from aiohttp<4.0.0,>=3.8.3->langchain) (1.3.1)\n",
            "Requirement already satisfied: yarl<2.0,>=1.0 in /Users/jamesaphoenix/opt/anaconda3/lib/python3.9/site-packages (from aiohttp<4.0.0,>=3.8.3->langchain) (1.8.2)\n",
            "Requirement already satisfied: frozenlist>=1.1.1 in /Users/jamesaphoenix/opt/anaconda3/lib/python3.9/site-packages (from aiohttp<4.0.0,>=3.8.3->langchain) (1.3.3)\n",
            "Requirement already satisfied: marshmallow<4.0.0,>=3.3.0 in /Users/jamesaphoenix/opt/anaconda3/lib/python3.9/site-packages (from dataclasses-json<0.7,>=0.5.7->langchain) (3.19.0)\n",
            "Requirement already satisfied: marshmallow-enum<2.0.0,>=1.5.1 in /Users/jamesaphoenix/opt/anaconda3/lib/python3.9/site-packages (from dataclasses-json<0.7,>=0.5.7->langchain) (1.5.1)\n",
            "Requirement already satisfied: typing-inspect>=0.4.0 in /Users/jamesaphoenix/opt/anaconda3/lib/python3.9/site-packages (from dataclasses-json<0.7,>=0.5.7->langchain) (0.8.0)\n",
            "Requirement already satisfied: jsonpointer>=1.9 in /Users/jamesaphoenix/opt/anaconda3/lib/python3.9/site-packages (from jsonpatch<2.0,>=1.33->langchain) (2.4)\n",
            "Requirement already satisfied: anyio<5,>=3 in /Users/jamesaphoenix/opt/anaconda3/lib/python3.9/site-packages (from langchain-core<0.2,>=0.1.28->langchain) (3.5.0)\n",
            "Requirement already satisfied: packaging<24.0,>=23.2 in /Users/jamesaphoenix/opt/anaconda3/lib/python3.9/site-packages (from langchain-core<0.2,>=0.1.28->langchain) (23.2)\n",
            "Requirement already satisfied: orjson<4.0.0,>=3.9.14 in /Users/jamesaphoenix/opt/anaconda3/lib/python3.9/site-packages (from langsmith<0.2.0,>=0.1.0->langchain) (3.9.15)\n",
            "Requirement already satisfied: sniffio in /Users/jamesaphoenix/opt/anaconda3/lib/python3.9/site-packages (from openai<2.0.0,>=1.10.0->langchain_openai) (1.2.0)\n",
            "Requirement already satisfied: typing-extensions<5,>=4.7 in /Users/jamesaphoenix/opt/anaconda3/lib/python3.9/site-packages (from openai<2.0.0,>=1.10.0->langchain_openai) (4.9.0)\n",
            "Requirement already satisfied: distro<2,>=1.7.0 in /Users/jamesaphoenix/opt/anaconda3/lib/python3.9/site-packages (from openai<2.0.0,>=1.10.0->langchain_openai) (1.8.0)\n",
            "Requirement already satisfied: httpx<1,>=0.23.0 in /Users/jamesaphoenix/opt/anaconda3/lib/python3.9/site-packages (from openai<2.0.0,>=1.10.0->langchain_openai) (0.24.1)\n",
            "Requirement already satisfied: tqdm>4 in /Users/jamesaphoenix/opt/anaconda3/lib/python3.9/site-packages (from openai<2.0.0,>=1.10.0->langchain_openai) (4.66.1)\n",
            "Requirement already satisfied: annotated-types>=0.4.0 in /Users/jamesaphoenix/opt/anaconda3/lib/python3.9/site-packages (from pydantic<3,>=1->langchain) (0.5.0)\n",
            "Requirement already satisfied: pydantic-core==2.16.2 in /Users/jamesaphoenix/opt/anaconda3/lib/python3.9/site-packages (from pydantic<3,>=1->langchain) (2.16.2)\n",
            "Requirement already satisfied: urllib3<3,>=1.21.1 in /Users/jamesaphoenix/opt/anaconda3/lib/python3.9/site-packages (from requests<3,>=2->langchain) (2.0.7)\n",
            "Requirement already satisfied: charset-normalizer<4,>=2 in /Users/jamesaphoenix/opt/anaconda3/lib/python3.9/site-packages (from requests<3,>=2->langchain) (3.2.0)\n",
            "Requirement already satisfied: idna<4,>=2.5 in /Users/jamesaphoenix/opt/anaconda3/lib/python3.9/site-packages (from requests<3,>=2->langchain) (3.3)\n",
            "Requirement already satisfied: certifi>=2017.4.17 in /Users/jamesaphoenix/opt/anaconda3/lib/python3.9/site-packages (from requests<3,>=2->langchain) (2022.9.24)\n",
            "Requirement already satisfied: greenlet!=0.4.17 in /Users/jamesaphoenix/opt/anaconda3/lib/python3.9/site-packages (from SQLAlchemy<3,>=1.4->langchain) (2.0.2)\n",
            "Requirement already satisfied: regex>=2022.1.18 in /Users/jamesaphoenix/opt/anaconda3/lib/python3.9/site-packages (from tiktoken<1,>=0.5.2->langchain_openai) (2022.7.9)\n",
            "Requirement already satisfied: httpcore<0.18.0,>=0.15.0 in /Users/jamesaphoenix/opt/anaconda3/lib/python3.9/site-packages (from httpx<1,>=0.23.0->openai<2.0.0,>=1.10.0->langchain_openai) (0.17.3)\n",
            "Requirement already satisfied: mypy-extensions>=0.3.0 in /Users/jamesaphoenix/opt/anaconda3/lib/python3.9/site-packages (from typing-inspect>=0.4.0->dataclasses-json<0.7,>=0.5.7->langchain) (0.4.3)\n",
            "Requirement already satisfied: h11<0.15,>=0.13 in /Users/jamesaphoenix/opt/anaconda3/lib/python3.9/site-packages (from httpcore<0.18.0,>=0.15.0->httpx<1,>=0.23.0->openai<2.0.0,>=1.10.0->langchain_openai) (0.14.0)\n",
            "Note: you may need to restart the kernel to use updated packages.\n"
          ]
        }
      ],
      "source": [
        "%pip install langchain langchain_openai pandas --upgrade"
      ]
    },
    {
      "cell_type": "code",
      "execution_count": 2,
      "metadata": {},
      "outputs": [],
      "source": [
        "from langchain_openai.chat_models import ChatOpenAI\n",
        "from langchain_core.messages import SystemMessage, HumanMessage"
      ]
    },
    {
      "cell_type": "code",
      "execution_count": 2,
      "metadata": {},
      "outputs": [],
      "source": [
        "import os\n",
        "# Update your API key here:\n",
        "os.environ['OPENAI_API_KEY'] = 'API_KEY_HERE'"
      ]
    },
    {
      "cell_type": "code",
      "execution_count": 3,
      "metadata": {},
      "outputs": [],
      "source": [
        "reviews = [\n",
        "    {'review': 'This is a great movie. I will watch it again.'},\n",
        "    {'review': 'I love this movie!'},\n",
        "    {'review': 'I hate this movie.'},\n",
        "    {'review': 'That was a waste of my time.'},\n",
        "    {'review': 'I will never get that time back.'},\n",
        "    {'review': 'This is a waste of money.'},\n",
        "    {'review': 'I will never watch a movie by that director again.'},\n",
        "     {'review': 'This is a great movie. I will watch it again.'},\n",
        "    {'review': 'I love this movie!'},\n",
        "    {'review': 'I hate this movie.'},\n",
        "    {'review': 'That was a waste of my time.'},\n",
        "    {'review': 'I will never get that time back.'},\n",
        "    {'review': 'This is a waste of money.'},\n",
        "    {'review': 'I will never watch a movie by that director again.'},\n",
        "    {'review': 'Absolutely fantastic! A must-watch.'},\n",
        "    {'review': 'The storyline was captivating from start to finish.'},\n",
        "    {'review': 'The acting was subpar and the plot was predictable.'},\n",
        "    {'review': 'I was on the edge of my seat the whole time.'},\n",
        "    {'review': 'The cinematography was breathtaking.'},\n",
        "    {'review': 'I wouldn\\'t recommend this movie to anyone.'},\n",
        "    {'review': 'A cinematic masterpiece!'},\n",
        "    {'review': 'The characters lacked depth and the dialogue was cheesy.'},\n",
        "    {'review': 'A rollercoaster of emotions. Loved every minute of it.'},\n",
        "    {'review': 'I fell asleep halfway through.'},\n",
        "    {'review': 'The hype around this movie was undeserved.'},\n",
        "    {'review': 'A refreshing take on a classic story.'},\n",
        "    {'review': 'The pacing was slow and it dragged on.'},\n",
        "    {'review': 'A visual treat with a compelling narrative.'},\n",
        "    {'review': 'I regret buying a ticket for this.'},\n",
        "    {'review': 'The soundtrack was the only good thing about this movie.'},\n",
        "    {'review': 'A forgettable experience.'},\n",
        "    {'review': 'This movie left a lasting impression on me.'},\n",
        "]"
      ]
    },
    {
      "cell_type": "code",
      "execution_count": 4,
      "metadata": {},
      "outputs": [
        {
          "name": "stdout",
          "output_type": "stream",
          "text": [
            "Classifiying review: This is a great movie. I will watch it again.\n",
            "Classifiying review: I love this movie!\n",
            "Classifiying review: I hate this movie.\n",
            "Classifiying review: That was a waste of my time.\n",
            "Classifiying review: I will never get that time back.\n",
            "Classifiying review: This is a waste of money.\n",
            "Classifiying review: I will never watch a movie by that director again.\n",
            "Classifiying review: This is a great movie. I will watch it again.\n",
            "Classifiying review: I love this movie!\n",
            "Classifiying review: I hate this movie.\n",
            "Classifiying review: That was a waste of my time.\n",
            "Classifiying review: I will never get that time back.\n",
            "Classifiying review: This is a waste of money.\n",
            "Classifiying review: I will never watch a movie by that director again.\n",
            "Classifiying review: Absolutely fantastic! A must-watch.\n",
            "Classifiying review: The storyline was captivating from start to finish.\n",
            "Classifiying review: The acting was subpar and the plot was predictable.\n",
            "Classifiying review: I was on the edge of my seat the whole time.\n",
            "Classifiying review: The cinematography was breathtaking.\n",
            "Classifiying review: I wouldn't recommend this movie to anyone.\n",
            "Classifiying review: A cinematic masterpiece!\n",
            "Classifiying review: The characters lacked depth and the dialogue was cheesy.\n",
            "Classifiying review: A rollercoaster of emotions. Loved every minute of it.\n",
            "Classifiying review: I fell asleep halfway through.\n",
            "Classifiying review: The hype around this movie was undeserved.\n",
            "Classifiying review: A refreshing take on a classic story.\n",
            "Classifiying review: The pacing was slow and it dragged on.\n",
            "Classifiying review: A visual treat with a compelling narrative.\n",
            "Classifiying review: I regret buying a ticket for this.\n",
            "Classifiying review: The soundtrack was the only good thing about this movie.\n",
            "Classifiying review: A forgettable experience.\n",
            "Classifiying review: This movie left a lasting impression on me.\n",
            "['positive', 'positive', 'negative', 'negative', 'negative', 'negative', 'negative', 'positive', 'positive', 'negative', 'negative', 'negative', 'negative', 'negative', 'positive', 'positive', 'negative', 'positive', 'positive', 'negative', 'positive', 'negative', 'positive', 'negative', 'negative', 'positive', 'negative', 'positive', 'negative', 'positive', 'negative', 'positive']\n"
          ]
        }
      ],
      "source": [
        "chat = ChatOpenAI()\n",
        "classifications = []\n",
        "\n",
        "for review in reviews:\n",
        "    print('Classifiying review: ' + review['review'])\n",
        "    # Classifiy each review individually:\n",
        "    response = chat.invoke([SystemMessage(content='''You are responsible for classification of movie reviews. Please classify the following review as positive or negative. You must only use the following words:\n",
        "                                   negative\n",
        "                                   positive'''), HumanMessage(content=review['review'])])\n",
        "    if response.content not in ['negative', 'positive']:\n",
        "        # Throw an error:\n",
        "        raise Exception('Invalid classification: ' + response.content)\n",
        "    classifications.append(response.content)\n",
        "\n",
        "print(classifications)"
      ]
    },
    {
      "cell_type": "code",
      "execution_count": 7,
      "metadata": {},
      "outputs": [],
      "source": [
        "import pandas as pd\n",
        "\n",
        "df = pd.DataFrame(zip([r['review'] for r in reviews], classifications), columns=['Review', 'Classification'])"
      ]
    },
    {
      "cell_type": "code",
      "execution_count": 9,
      "metadata": {},
      "outputs": [
        {
          "data": {
            "text/plain": [
              "32"
            ]
          },
          "execution_count": 9,
          "metadata": {},
          "output_type": "execute_result"
        }
      ],
      "source": [
        "df['Classification'].count()"
      ]
    }
  ],
  "metadata": {
    "kernelspec": {
      "display_name": "base",
      "language": "python",
      "name": "python3"
    },
    "language_info": {
      "codemirror_mode": {
        "name": "ipython",
        "version": 3
      },
      "file_extension": ".py",
      "mimetype": "text/x-python",
      "name": "python",
      "nbconvert_exporter": "python",
      "pygments_lexer": "ipython3",
      "version": "3.9.13"
    },
    "orig_nbformat": 4
  },
  "nbformat": 4,
  "nbformat_minor": 2
}
