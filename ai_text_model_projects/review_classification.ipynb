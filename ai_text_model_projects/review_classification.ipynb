{
  "cells": [
    {
      "cell_type": "code",
      "execution_count": null,
      "metadata": {},
      "outputs": [],
      "source": [
        "%pip install langchain langchain_openai pandas --upgrade"
      ]
    },
    {
      "cell_type": "code",
      "execution_count": null,
      "metadata": {},
      "outputs": [],
      "source": [
        "from langchain_openai.chat_models import ChatOpenAI\n",
        "from langchain_core.messages import SystemMessage, HumanMessage"
      ]
    },
    {
      "cell_type": "code",
      "execution_count": null,
      "metadata": {},
      "outputs": [],
      "source": [
        "import os\n",
        "# Update your API key here:\n",
        "os.environ['OPENAI_API_KEY'] = 'API_KEY_HERE'"
      ]
    },
    {
      "cell_type": "code",
      "execution_count": null,
      "metadata": {},
      "outputs": [],
      "source": [
        "reviews = [\n",
        "    {'review': 'This is a great movie. I will watch it again.'},\n",
        "    {'review': 'I love this movie!'},\n",
        "    {'review': 'I hate this movie.'},\n",
        "    {'review': 'That was a waste of my time.'},\n",
        "    {'review': 'I will never get that time back.'},\n",
        "    {'review': 'This is a waste of money.'},\n",
        "    {'review': 'I will never watch a movie by that director again.'},\n",
        "     {'review': 'This is a great movie. I will watch it again.'},\n",
        "    {'review': 'I love this movie!'},\n",
        "    {'review': 'I hate this movie.'},\n",
        "    {'review': 'That was a waste of my time.'},\n",
        "    {'review': 'I will never get that time back.'},\n",
        "    {'review': 'This is a waste of money.'},\n",
        "    {'review': 'I will never watch a movie by that director again.'},\n",
        "    {'review': 'Absolutely fantastic! A must-watch.'},\n",
        "    {'review': 'The storyline was captivating from start to finish.'},\n",
        "    {'review': 'The acting was subpar and the plot was predictable.'},\n",
        "    {'review': 'I was on the edge of my seat the whole time.'},\n",
        "    {'review': 'The cinematography was breathtaking.'},\n",
        "    {'review': 'I wouldn\\'t recommend this movie to anyone.'},\n",
        "    {'review': 'A cinematic masterpiece!'},\n",
        "    {'review': 'The characters lacked depth and the dialogue was cheesy.'},\n",
        "    {'review': 'A rollercoaster of emotions. Loved every minute of it.'},\n",
        "    {'review': 'I fell asleep halfway through.'},\n",
        "    {'review': 'The hype around this movie was undeserved.'},\n",
        "    {'review': 'A refreshing take on a classic story.'},\n",
        "    {'review': 'The pacing was slow and it dragged on.'},\n",
        "    {'review': 'A visual treat with a compelling narrative.'},\n",
        "    {'review': 'I regret buying a ticket for this.'},\n",
        "    {'review': 'The soundtrack was the only good thing about this movie.'},\n",
        "    {'review': 'A forgettable experience.'},\n",
        "    {'review': 'This movie left a lasting impression on me.'},\n",
        "]"
      ]
    },
    {
      "cell_type": "code",
      "execution_count": null,
      "metadata": {},
      "outputs": [],
      "source": [
        "chat = ChatOpenAI()\n",
        "classifications = []\n",
        "\n",
        "for review in reviews:\n",
        "    print('Classifiying review: ' + review['review'])\n",
        "    # Classifiy each review individually:\n",
        "    response = chat.invoke([SystemMessage(content='''You are responsible for classification of movie reviews. Please classify the following review as positive or negative. You must only use the following words:\n",
        "                                   negative\n",
        "                                   positive'''), HumanMessage(content=review['review'])])\n",
        "    if response.content not in ['negative', 'positive']:\n",
        "        # Throw an error:\n",
        "        raise Exception('Invalid classification: ' + response.content)\n",
        "    classifications.append(response.content)\n",
        "\n",
        "print(classifications)"
      ]
    },
    {
      "cell_type": "code",
      "execution_count": null,
      "metadata": {},
      "outputs": [],
      "source": [
        "import pandas as pd\n",
        "\n",
        "df = pd.DataFrame(zip([r['review'] for r in reviews], classifications), columns=['Review', 'Classification'])"
      ]
    },
    {
      "cell_type": "code",
      "execution_count": null,
      "metadata": {},
      "outputs": [],
      "source": [
        "df['Classification'].count()"
      ]
    }
  ],
  "metadata": {
    "kernelspec": {
      "display_name": "base",
      "language": "python",
      "name": "python3"
    },
    "language_info": {
      "codemirror_mode": {
        "name": "ipython",
        "version": 3
      },
      "file_extension": ".py",
      "mimetype": "text/x-python",
      "name": "python",
      "nbconvert_exporter": "python",
      "pygments_lexer": "ipython3",
      "version": "3.9.13"
    },
    "orig_nbformat": 4
  },
  "nbformat": 4,
  "nbformat_minor": 2
}
