{
  "cells": [
    {
      "cell_type": "code",
      "execution_count": 1,
      "metadata": {
        "colab": {
          "base_uri": "https://localhost:8080/"
        },
        "id": "H4hRkzhIPcrQ",
        "outputId": "8f32bf3d-23a9-4a46-e693-840afe5dafbe"
      },
      "outputs": [
        {
          "name": "stdout",
          "output_type": "stream",
          "text": [
            "Note: you may need to restart the kernel to use updated packages.\n"
          ]
        }
      ],
      "source": [
        "%pip install langchain langchain_openai pypdf --quiet --upgrade"
      ]
    },
    {
      "cell_type": "code",
      "execution_count": 3,
      "metadata": {
        "id": "Ns63W0fmPcrS"
      },
      "outputs": [],
      "source": [
        "from langchain_openai.chat_models import ChatOpenAI\n",
        "from langchain_community.document_loaders import PyPDFLoader\n",
        "from langchain.text_splitter import RecursiveCharacterTextSplitter\n",
        "from langchain.chains.summarize import load_summarize_chain\n",
        "import requests"
      ]
    },
    {
      "cell_type": "code",
      "execution_count": 4,
      "metadata": {
        "id": "YAzwnbtiPcrS"
      },
      "outputs": [],
      "source": [
        "# Download the PDF from blob storage:\n",
        "url = (\n",
        "    \"https://storage.googleapis.com/strapi_cms_assets/principles_of_marketing_book.pdf\"\n",
        ")\n",
        "response = requests.get(url)\n",
        "with open(\"principles_of_marketing_book.pdf\", \"wb\") as f:\n",
        "    f.write(response.content)"
      ]
    },
    {
      "cell_type": "code",
      "execution_count": 5,
      "metadata": {
        "id": "7upsNpLkPcrS"
      },
      "outputs": [],
      "source": [
        "# Create a text splitter, load the PDF and split it:\n",
        "text_splitter = RecursiveCharacterTextSplitter(chunk_size=200)\n",
        "loader = PyPDFLoader(\"principles_of_marketing_book.pdf\")\n",
        "pages = loader.load_and_split()"
      ]
    },
    {
      "cell_type": "code",
      "execution_count": null,
      "metadata": {
        "id": "Ya9z1BEhPcrT"
      },
      "outputs": [],
      "source": [
        "# Setup a chat_model in LangChain:\n",
        "import os\n",
        "\n",
        "os.environ[\"OPENAI_API_KEY\"] = \"\"\n",
        "llm = ChatOpenAI()  # type: ignore"
      ]
    },
    {
      "cell_type": "markdown",
      "metadata": {
        "id": "YA8M9qfePcrT"
      },
      "source": [
        "```python\n",
        "def load_summarize_chain(\n",
        "    llm: BaseLanguageModel,\n",
        "    chain_type: str = \"stuff\",\n",
        "    verbose: bool | None = None,\n",
        "    **kwargs: Any\n",
        ") -> BaseCombineDocumentsChain\n",
        "```\n",
        "\n",
        "The chain type can be either:\n",
        "\n",
        "- stuff: Combine all of the documents into a single LLM call and then summarize.\n",
        "- map_reduce: Summarize each document individually and then combine the summaries.\n",
        "- refine: Summarize each document sequentially, refining the previous summary with each new document.\n"
      ]
    },
    {
      "cell_type": "code",
      "execution_count": null,
      "metadata": {
        "id": "PHpA2nTXPcrT"
      },
      "outputs": [],
      "source": [
        "summarization_chain = load_summarize_chain(llm=llm, chain_type=\"map_reduce\")"
      ]
    },
    {
      "cell_type": "code",
      "execution_count": null,
      "metadata": {
        "id": "HN5ozD6hPcrU",
        "outputId": "3a6a78d2-34a9-4f87-b977-3486af96b86f"
      },
      "outputs": [
        {
          "name": "stderr",
          "output_type": "stream",
          "text": [
            "Retrying langchain.chat_models.openai.ChatOpenAI.completion_with_retry.<locals>._completion_with_retry in 1.0 seconds as it raised ServiceUnavailableError: The server is overloaded or not ready yet..\n",
            "Retrying langchain.chat_models.openai.ChatOpenAI.completion_with_retry.<locals>._completion_with_retry in 1.0 seconds as it raised ServiceUnavailableError: The server is overloaded or not ready yet..\n",
            "Retrying langchain.chat_models.openai.ChatOpenAI.completion_with_retry.<locals>._completion_with_retry in 1.0 seconds as it raised ServiceUnavailableError: The server is overloaded or not ready yet..\n"
          ]
        }
      ],
      "source": [
        "# Summarize the document using the summarization chain:\n",
        "result = summarization_chain.inoke(pages)"
      ]
    },
    {
      "cell_type": "code",
      "execution_count": null,
      "metadata": {
        "id": "sPfTzLE0PcrU",
        "outputId": "a023036f-e149-43b9-a086-d47f00f10c01"
      },
      "outputs": [
        {
          "data": {
            "text/plain": [
              "'This passage covers a range of topics related to marketing, including defining marketing, strategic planning, consumer behavior, and business buying behavior. It emphasizes the importance of creating value for customers, building relationships, and understanding the internal and external environments. The passage also discusses market segmentation, targeting, and positioning, as well as branding, packaging, and the development of new products. It covers aspects of supply chain management, marketing research, and integrated marketing communications. The passage also touches on public relations, sales, social media, and ethical considerations in marketing. Overall, it provides an overview of key marketing concepts and strategies.'"
            ]
          },
          "execution_count": 13,
          "metadata": {},
          "output_type": "execute_result"
        }
      ],
      "source": [
        "result"
      ]
    },
    {
      "cell_type": "code",
      "execution_count": null,
      "metadata": {
        "id": "0GGUH4OVPcrU"
      },
      "outputs": [],
      "source": [
        "# Doing a smaller summarization using the same chain:\n",
        "smaller_amount_of_pages = pages[:10]\n",
        "second_result = summarization_chain.invoke(smaller_amount_of_pages)"
      ]
    },
    {
      "cell_type": "code",
      "execution_count": null,
      "metadata": {
        "id": "CHIFqbu1PcrU",
        "outputId": "fa6cf5f6-001a-478c-e028-71b1418aa203"
      },
      "outputs": [
        {
          "data": {
            "text/plain": [
              "'\"Principles of Marketing\" is a comprehensive book that covers various marketing concepts and strategies such as market segmentation, target marketing, advertising, and branding. It is designed to help individuals effectively promote products and services. The book is an adapted version of a work released under a Creative Commons license in 2010, with minor changes made by the University of Minnesota Libraries. It includes chapters on topics like target marketing, product development, marketing channels, and supply chains. Additionally, there is a chapter on pricing and another on the marketing plan. The book defines marketing and discusses its importance, and also provides discussion questions and activities for further engagement. However, it notes that the traditional four Ps of marketing (product, promotion, place, price) do not fully capture all the activities of marketing.'"
            ]
          },
          "execution_count": 44,
          "metadata": {},
          "output_type": "execute_result"
        }
      ],
      "source": [
        "second_result"
      ]
    },
    {
      "cell_type": "markdown",
      "metadata": {
        "id": "EIe7M43CPcrU"
      },
      "source": [
        "# Doing a custom `MapReduceChain` to generate a summary in Spanish:\n"
      ]
    },
    {
      "cell_type": "code",
      "execution_count": null,
      "metadata": {
        "id": "S81xHRjUPcrU"
      },
      "outputs": [],
      "source": [
        "from langchain.chains.combine_documents.map_reduce import MapReduceDocumentsChain\n",
        "from langchain.chains.combine_documents.stuff import StuffDocumentsChain\n",
        "from langchain.chains import LLMChain\n",
        "from langchain_core.prompts import PromptTemplate\n",
        "from langchain.chains.mapreduce import MapReduceChain\n",
        "from langchain.text_splitter import CharacterTextSplitter\n",
        "\n",
        "\n",
        "map_template_string = \"\"\"Give the following pages of a marketing book. Generate a summary in Spanish:\n",
        "Pages:\n",
        "{pages}\n",
        "\n",
        "Summary:\n",
        "\"\"\"\n",
        "\n",
        "reduce_template_string = \"\"\"Given the following Spanish summaries of pages of a marketing book, generate a high level description of the book in Spanish:\n",
        "Summaries:\n",
        "{summaries}\n",
        "\"\"\"\n",
        "\n",
        "# Prompt to use in map and reduce stages\n",
        "MAP_PROMPT = PromptTemplate(input_variables=[\"pages\"], template=map_template_string)\n",
        "REDUCE_PROMPT = PromptTemplate(\n",
        "    input_variables=[\"summaries\"], template=reduce_template_string\n",
        ")\n",
        "\n",
        "# LLM to use in map and reduce stages\n",
        "map_llm_chain = LLMChain(llm=llm, prompt=MAP_PROMPT)\n",
        "reduce_llm_chain = LLMChain(llm=llm, prompt=REDUCE_PROMPT)\n",
        "\n",
        "# Takes a list of documents and combines them into a single string\n",
        "combine_documents_chain = StuffDocumentsChain(\n",
        "    llm_chain=reduce_llm_chain,\n",
        "    document_variable_name=\"summaries\",\n",
        ")\n",
        "\n",
        "# Combining documents by mapping a chain over them, then combining results with reduce chain\n",
        "combine_documents = MapReduceDocumentsChain(\n",
        "    # Map chain\n",
        "    llm_chain=map_llm_chain,\n",
        "    # Reduce chain\n",
        "    # The variable name in the llm_chain to put the documents in:\n",
        "    document_variable_name=\"pages\",\n",
        "    combine_document_chain=combine_documents_chain,\n",
        ")\n",
        "\n",
        "map_reduce = MapReduceChain(\n",
        "    combine_documents_chain=combine_documents,\n",
        "    text_splitter=CharacterTextSplitter(\n",
        "        separator=\"\\n##\\n\", chunk_size=100, chunk_overlap=0\n",
        "    ),\n",
        ")"
      ]
    },
    {
      "cell_type": "code",
      "execution_count": null,
      "metadata": {
        "id": "Y0Ng6aEnPcrU",
        "outputId": "73c94bba-10e4-464d-be40-5e8e128000f9"
      },
      "outputs": [
        {
          "data": {
            "text/plain": [
              "{'output_text': 'El libro de marketing proporciona una introducción a los principios fundamentales del marketing y su aplicación en el mundo empresarial. El autor destaca la importancia de conocer al cliente, segmentar el mercado y dirigirse a diferentes segmentos de clientes de manera efectiva. También explora conceptos como el posicionamiento y la diferenciación, así como el papel del marketing en la creación de valor y la construcción de relaciones sólidas con los clientes. En resumen, el libro establece las bases para comprender y aplicar con éxito las estrategias de marketing en el mundo empresarial actual.'}"
            ]
          },
          "execution_count": 33,
          "metadata": {},
          "output_type": "execute_result"
        }
      ],
      "source": [
        "map_reduce_result = map_reduce(\n",
        "    {\"input_text\": \"\\n\".join([doc.page_content for doc in pages])[0:100]}\n",
        ")"
      ]
    }
  ],
  "metadata": {
    "colab": {
      "provenance": []
    },
    "kernelspec": {
      "display_name": "base",
      "language": "python",
      "name": "python3"
    },
    "language_info": {
      "codemirror_mode": {
        "name": "ipython",
        "version": 3
      },
      "file_extension": ".py",
      "mimetype": "text/x-python",
      "name": "python",
      "nbconvert_exporter": "python",
      "pygments_lexer": "ipython3",
      "version": "3.9.13"
    },
    "orig_nbformat": 4
  },
  "nbformat": 4,
  "nbformat_minor": 0
}
