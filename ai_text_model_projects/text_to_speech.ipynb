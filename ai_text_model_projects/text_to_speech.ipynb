{
 "cells": [
  {
   "cell_type": "code",
   "execution_count": null,
   "metadata": {},
   "outputs": [],
   "source": [
    "%pip install langchain langchain_openai openai --upgrade"
   ]
  },
  {
   "cell_type": "code",
   "execution_count": null,
   "metadata": {},
   "outputs": [],
   "source": [
    "import os \n",
    "\n",
    "# Update your API key here:\n",
    "os.environ[\"OPENAI_API_KEY\"] = \"API_KEY_HERE\""
   ]
  },
  {
   "cell_type": "code",
   "execution_count": 1,
   "metadata": {},
   "outputs": [
    {
     "name": "stderr",
     "output_type": "stream",
     "text": [
      "/var/folders/_y/20jl658s4jl0zvy5c0x0c5140000gn/T/ipykernel_41345/3752778934.py:12: DeprecationWarning: Due to a bug, this method doesn't actually stream the response content, `.with_streaming_response.method()` should be used instead\n",
      "  response.stream_to_file(speech_file_path)\n"
     ]
    }
   ],
   "source": [
    "from openai import OpenAI\n",
    "\n",
    "client = OpenAI()\n",
    "\n",
    "speech_file_path = \"speech.mp3\"\n",
    "response = client.audio.speech.create(\n",
    "    model=\"tts-1\",\n",
    "    voice=\"alloy\",\n",
    "    input=\"Today is a wonderful day to build something people love!\",\n",
    ")\n",
    "\n",
    "response.stream_to_file(speech_file_path)"
   ]
  },
  {
   "cell_type": "code",
   "execution_count": 3,
   "metadata": {},
   "outputs": [],
   "source": [
    "# Let's automate a BBC News Article and Generate The Audio for It:\n",
    "from langchain_community.document_loaders import WebBaseLoader\n",
    "\n",
    "url = 'https://www.bbc.co.uk/news/uk-politics-68889342'\n",
    "\n",
    "loader = WebBaseLoader(\"https://www.bbc.co.uk/news/uk-politics-68889342\")\n",
    "\n",
    "# Extract the text:\n",
    "data = loader.load()"
   ]
  },
  {
   "cell_type": "code",
   "execution_count": 8,
   "metadata": {},
   "outputs": [],
   "source": [
    "# Joining all of the documents and removing any redundant characters:\n",
    "web_text = \" \".join([doc.page_content for doc in data]).replace('\\n', '')"
   ]
  },
  {
   "cell_type": "code",
   "execution_count": 9,
   "metadata": {},
   "outputs": [
    {
     "data": {
      "text/plain": [
       "7768"
      ]
     },
     "execution_count": 9,
     "metadata": {},
     "output_type": "execute_result"
    }
   ],
   "source": [
    "len(web_text) # Checking the character length."
   ]
  },
  {
   "cell_type": "code",
   "execution_count": 12,
   "metadata": {},
   "outputs": [],
   "source": [
    "from langchain_openai import ChatOpenAI\n",
    "from langchain.chains.summarize import load_summarize_chain\n",
    "from langchain_core.documents import Document\n",
    "from langchain_core.prompts import ChatPromptTemplate\n",
    "\n",
    "# Map\n",
    "map_template = \"\"\"The following is a set of documents for a BBC News Article:\n",
    "{text}\n",
    "Based on this list of docs, please extract the story and make it sound engaging:\n",
    "\"\"\"\n",
    "map_prompt = ChatPromptTemplate.from_template(map_template)\n",
    "\n",
    "# If over 4090 characters, then summarize:\n",
    "if len(web_text) > 4090:\n",
    "    chain = load_summarize_chain(ChatOpenAI(), \n",
    "                                 chain_type=\"map_reduce\", \n",
    "                                 map_prompt=map_prompt, \n",
    "                                 combine_prompt=map_prompt)\n",
    "    \n",
    "    result = chain.invoke({\"input_documents\": [Document(page_content=web_text)]})\n",
    "    web_text = result['output_text']\n",
    "\n",
    "# TODO - You might also want to clean up the text anyway to ensure an effective story is generated through the \n",
    "# text to speech"
   ]
  },
  {
   "cell_type": "code",
   "execution_count": 13,
   "metadata": {},
   "outputs": [
    {
     "name": "stdout",
     "output_type": "stream",
     "text": [
      "Labour Deputy Leader Angela Rayner has accused the government of reneging on its promise to ban no-fault evictions in England, claiming they have \"caved into vested interests.\" Despite her pressing questions to Deputy PM Oliver Dowden, the government has failed to provide a timeline for the implementation of the ban, sparking criticism from Rayner.\n",
      "\n",
      "The Housing Secretary has conceded that the ban may not be in place by the next general election, as the Renters (Reform) Bill faces scrutiny in the House of Lords. This bill, which aims to restrict landlords' ability to evict tenants without a valid reason, has faced delays and amendments due to concerns raised by Conservative MPs about potential burdens on landlords.\n",
      "\n",
      "In a heated exchange at Prime Minister's Questions, Rayner challenged Dowden to prioritize the ban on no-fault evictions, highlighting the risk of homelessness for nearly a million families. She also lambasted the government's efforts to ban leaseholds, arguing it would not benefit the majority of leaseholders.\n",
      "\n",
      "Dowden defended the government's commitment to delivering on its manifesto promises and accused Labour of neglecting housing issues during its time in power. The debate underscored the ongoing tensions between the two parties over housing policies and the impact on vulnerable tenants.\n",
      "\n",
      "As the fate of the eviction ban hangs in the balance, the political showdown between Labour and the Conservatives rages on, with the housing crisis taking center stage. Will the government uphold its pledge to protect tenants from no-fault evictions, or will further delays leave vulnerable families at risk? Stay tuned as the battle for housing rights unfolds in Westminster.\n"
     ]
    }
   ],
   "source": [
    "print(web_text)"
   ]
  },
  {
   "cell_type": "code",
   "execution_count": 14,
   "metadata": {},
   "outputs": [
    {
     "name": "stderr",
     "output_type": "stream",
     "text": [
      "/var/folders/_y/20jl658s4jl0zvy5c0x0c5140000gn/T/ipykernel_41345/453047679.py:8: DeprecationWarning: Due to a bug, this method doesn't actually stream the response content, `.with_streaming_response.method()` should be used instead\n",
      "  response.stream_to_file(speech_file_path)\n"
     ]
    }
   ],
   "source": [
    "speech_file_path = \"speech.mp3\"\n",
    "response = client.audio.speech.create(\n",
    "    model=\"tts-1\",\n",
    "    voice=\"alloy\",\n",
    "    input=web_text,\n",
    ")\n",
    "\n",
    "response.stream_to_file(speech_file_path)"
   ]
  }
 ],
 "metadata": {
  "kernelspec": {
   "display_name": "base",
   "language": "python",
   "name": "python3"
  },
  "language_info": {
   "codemirror_mode": {
    "name": "ipython",
    "version": 3
   },
   "file_extension": ".py",
   "mimetype": "text/x-python",
   "name": "python",
   "nbconvert_exporter": "python",
   "pygments_lexer": "ipython3",
   "version": "3.9.13"
  }
 },
 "nbformat": 4,
 "nbformat_minor": 2
}
