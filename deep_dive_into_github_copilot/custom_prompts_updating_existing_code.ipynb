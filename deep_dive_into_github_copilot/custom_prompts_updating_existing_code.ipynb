{
 "cells": [
  {
   "cell_type": "code",
   "execution_count": null,
   "metadata": {},
   "outputs": [],
   "source": [
    "# Updated Function with Type Annotations\n",
    "def greet(name: str) -> str:\n",
    "    return f\"Hello, {name}!\"\n"
   ]
  },
  {
   "cell_type": "code",
   "execution_count": null,
   "metadata": {},
   "outputs": [],
   "source": [
    "# Updated Function with Type Annotations\n",
    "def calculate_sum_of_squares(n: int) -> int:\n",
    "    \"\"\"\n",
    "    This function calculates the sum of squares of the first n natural numbers.\n",
    "    \"\"\"\n",
    "    # Using the formula for sum of squares of first n natural numbers\n",
    "    return (n * (n + 1) * (2 * n + 1)) // 6\n"
   ]
  },
  {
   "cell_type": "code",
   "execution_count": null,
   "metadata": {},
   "outputs": [],
   "source": [
    "def factorial(n):\n",
    "    if n == 0:\n",
    "        return 1\n",
    "    return n * factorial(n - 1)\n"
   ]
  },
  {
   "cell_type": "code",
   "execution_count": null,
   "metadata": {},
   "outputs": [],
   "source": [
    "from typing import Union\n",
    "\n",
    "def divide(a: float, b: float) -> Union[float, str]:\n",
    "    \"\"\"\n",
    "    This function divides two numbers and returns the result.\n",
    "    If division by zero occurs, it returns an error message.\n",
    "    \"\"\"\n",
    "    if b == 0:\n",
    "        return \"Error: division by zero\"\n",
    "    else:\n",
    "        return a / b\n"
   ]
  },
  {
   "cell_type": "code",
   "execution_count": null,
   "metadata": {},
   "outputs": [],
   "source": [
    "def bubble_sort(arr):\n",
    "    n = len(arr)\n",
    "\n",
    "    # Traverse through all array elements\n",
    "    for i in range(n):\n",
    "        # Last i elements are already in place\n",
    "        for j in range(0, n - i - 1):\n",
    "            # Traverse the array from 0 to n-i-1\n",
    "            # Swap if the element found is greater than the next element\n",
    "            if arr[j] > arr[j + 1]:\n",
    "                arr[j], arr[j + 1] = arr[j + 1], arr[j]\n",
    "    return arr"
   ]
  }
 ],
 "metadata": {
  "language_info": {
   "name": "python"
  }
 },
 "nbformat": 4,
 "nbformat_minor": 2
}
