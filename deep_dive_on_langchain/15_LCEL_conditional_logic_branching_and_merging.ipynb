{
 "cells": [
  {
   "cell_type": "markdown",
   "metadata": {},
   "source": [
    "# LangChain Expression Language"
   ]
  },
  {
   "cell_type": "code",
   "execution_count": null,
   "metadata": {},
   "outputs": [],
   "source": [
    "%pip install langchain langchain_openai langchain-community --upgrade"
   ]
  },
  {
   "cell_type": "code",
   "execution_count": null,
   "metadata": {},
   "outputs": [],
   "source": [
    "import os\n",
    "\n",
    "os.environ[\"OPENAI_API_KEY\"] = \"API_KEY_HERE\""
   ]
  },
  {
   "cell_type": "code",
   "execution_count": 6,
   "metadata": {},
   "outputs": [],
   "source": [
    "from operator import itemgetter\n",
    "from langchain_openai.chat_models import ChatOpenAI\n",
    "from langchain_core.prompts import ChatPromptTemplate\n",
    "from langchain_core.output_parsers import StrOutputParser\n",
    "from langchain_core.runnables import RunnableBranch, RunnablePassthrough"
   ]
  },
  {
   "cell_type": "markdown",
   "metadata": {},
   "source": [
    "------------------------------------------"
   ]
  },
  {
   "cell_type": "markdown",
   "metadata": {},
   "source": [
    "## Branching Out with _Conditional Logic:_\n",
    "The runnable is initialized with a list of (condition, runnable) pairs and a default branch.\n",
    "\n",
    "When operating on an input, the first condition that evaluates to True is selected, and the corresponding runnable is run on the input.\n",
    "\n",
    "If no condition evaluates to True, the default branch is run on the input."
   ]
  },
  {
   "cell_type": "code",
   "execution_count": 8,
   "metadata": {},
   "outputs": [
    {
     "name": "stdout",
     "output_type": "stream",
     "text": [
      "hello\n",
      "This is the default case, in case no above lambda functions match.\n"
     ]
    }
   ],
   "source": [
    "branch = RunnableBranch(\n",
    "                (lambda x: x == 'hello', lambda x: x),\n",
    "                (lambda x: isinstance(x, str), lambda x: x.upper()),\n",
    "                (lambda x: \"This is the default case, in case no above lambda functions match.\"),\n",
    "            )\n",
    "\n",
    "print(branch.invoke(\"hello\")) # \"hello\"\n",
    "print(branch.invoke(None)) # \"This is the default case\""
   ]
  },
  {
   "cell_type": "markdown",
   "metadata": {},
   "source": [
    "---\n",
    "\n",
    "## Branching and _Merging_\n",
    "\n",
    "```\n",
    "     Input\n",
    "      / \\\n",
    "     /   \\\n",
    " Branch1 Branch2\n",
    "     \\   /\n",
    "      \\ /\n",
    "    Combine\n",
    "\n",
    "```"
   ]
  },
  {
   "cell_type": "markdown",
   "metadata": {},
   "source": [
    "### First Example:"
   ]
  },
  {
   "cell_type": "code",
   "execution_count": 3,
   "metadata": {},
   "outputs": [],
   "source": [
    "planner = (\n",
    "    ChatPromptTemplate.from_template(\"Generate an argument about: {input}\")\n",
    "    | ChatOpenAI()\n",
    "    | StrOutputParser()\n",
    "    | {\"base_response\": RunnablePassthrough()}\n",
    ")\n",
    "\n",
    "arguments_for = (\n",
    "    ChatPromptTemplate.from_template(\n",
    "        \"List the pros or positive aspects of {base_response}\"\n",
    "    )\n",
    "    | ChatOpenAI()\n",
    "    | StrOutputParser()\n",
    ")\n",
    "\n",
    "arguments_against = (\n",
    "    ChatPromptTemplate.from_template(\n",
    "        \"List the cons or negative aspects of {base_response}\"\n",
    "    )\n",
    "    | ChatOpenAI()\n",
    "    | StrOutputParser()\n",
    ")\n",
    "\n",
    "final_responder = (\n",
    "    ChatPromptTemplate.from_messages(\n",
    "        [\n",
    "            (\"ai\", \"{original_response}\"),\n",
    "            (\"human\", \"Pros:\\n{results_1}\\n\\nCons:\\n{results_2}\"),\n",
    "            (\"system\", \"Generate a final response given the critique\"),\n",
    "        ]\n",
    "    )\n",
    "    | ChatOpenAI()\n",
    "    | StrOutputParser()\n",
    ")\n",
    "\n",
    "chain = (\n",
    "    planner\n",
    "    | {\n",
    "        \"results_1\": arguments_for,\n",
    "        \"results_2\": arguments_against,\n",
    "        \"original_response\": itemgetter(\"base_response\"),\n",
    "    }\n",
    "    | final_responder\n",
    ")"
   ]
  },
  {
   "cell_type": "code",
   "execution_count": 4,
   "metadata": {},
   "outputs": [
    {
     "data": {
      "text/plain": [
       "\"Overall, while Scrum has many advantages, it is important to consider the potential drawbacks and assess whether they may impact the specific needs and requirements of a project or organization.\\n\\nThe lack of predictability in Scrum can be mitigated by implementing proper project tracking and communication mechanisms, such as regular updates and transparent reporting. This can help stakeholders and clients stay informed about the project's progress and manage expectations effectively.\\n\\nWhile Scrum may place less emphasis on documentation, it is still essential to maintain clear and concise documentation to ensure knowledge transfer and project maintainability. Agile practices like user stories and acceptance criteria can help capture important project details and requirements.\\n\\nThe dependency on team dynamics can be addressed through effective team building and collaboration strategies. Regular team-building exercises, open communication channels, and conflict resolution mechanisms can help foster a positive and productive team environment.\\n\\nWhile Scrum may not be suitable for all project types, organizations can tailor and adapt the framework to fit their specific needs. They can combine Scrum with other methodologies or frameworks to address regulatory constraints or strict deadlines while still reaping the benefits of Scrum's flexibility and collaboration.\\n\\nTo address the potential overemphasis on speed, organizations can prioritize quality by incorporating robust testing practices, ensuring adequate time for technical debt management, and encouraging a culture of continuous improvement.\\n\\nInvesting in trained and experienced Scrum Masters can help ensure the effective implementation and adherence to Scrum principles. Organizations can provide training and support to Scrum Masters to enhance their skills and knowledge.\\n\\nResistance to change can be addressed through proper change management strategies, including clear communication, education, and involvement of stakeholders in the decision-making process. Demonstrating the benefits of Scrum through successful pilot projects can also help alleviate resistance.\\n\\nIn conclusion, while Scrum has its cons, they can be mitigated with proper planning, communication, and adaptation. By understanding the potential drawbacks and implementing strategies to address them, organizations can leverage the advantages of Scrum and achieve successful project outcomes.\""
      ]
     },
     "execution_count": 4,
     "metadata": {},
     "output_type": "execute_result"
    }
   ],
   "source": [
    "chain.invoke({\"input\": \"scrum\"})"
   ]
  },
  {
   "cell_type": "markdown",
   "metadata": {},
   "source": [
    "### Example Two:"
   ]
  },
  {
   "cell_type": "code",
   "execution_count": 5,
   "metadata": {},
   "outputs": [
    {
     "data": {
      "text/plain": [
       "'The joke \"Why don\\'t bears wear shoes? Because they have bear feet!\" is a lighthearted play on words that relies on a pun to create humor. The analysis of this joke can be broken down as follows:\\n\\n1. Wordplay: The joke cleverly uses the homophonic words \"bear\" and \"bare\" to create a pun. By substituting \"bear\" for \"bare,\" the joke suggests that bears do not wear shoes because their natural paws, referred to as \"bear feet,\" are already suitable for walking.\\n\\n2. Unexpected Twist: The humor in this joke lies in the unexpected twist of words. Initially, the setup leads the listener to expect a straightforward answer to the question. However, the punchline introduces the pun, catching the listener off guard and eliciting a humorous response.\\n\\n3. Visual Imagery: The joke evokes a mental image of bears walking around without shoes, emphasizing the absurdity of the idea. This visualization adds to the comedic effect by creating a playful and whimsical scenario.\\n\\n4. Simplicity: The joke\\'s simplicity contributes to its accessibility and ease of understanding. The straightforward nature of the punchline allows for a quick and immediate response, making it suitable for various audiences and social settings.\\n\\n5. Cultural Associations: The joke relies on the common knowledge of bears being associated with their distinctive paws, further enhancing the humor for those familiar with this characteristic of the animal.\\n\\nOverall, this joke relies on wordplay, surprise, and vivid imagery to create a lighthearted and amusing moment. Its simplicity and cultural associations make it a suitable choice for casual conversation, social interactions, or as an icebreaker.'"
      ]
     },
     "execution_count": 5,
     "metadata": {},
     "output_type": "execute_result"
    }
   ],
   "source": [
    "joke_chain = (\n",
    "    ChatPromptTemplate.from_template(\"Tell me a joke about {topic}\")\n",
    "    | ChatOpenAI()\n",
    "    | StrOutputParser()\n",
    "    | {\"joke\": RunnablePassthrough(), \"topic\": RunnablePassthrough()}\n",
    ")\n",
    "\n",
    "explain_joke = (\n",
    "    ChatPromptTemplate.from_template(\"Explain the joke: {joke}\")\n",
    "    | ChatOpenAI()\n",
    "    | StrOutputParser()\n",
    ")\n",
    "\n",
    "benefits_of_joke = (\n",
    "    ChatPromptTemplate.from_template(\"List the benefits of this joke: {joke}\")\n",
    "    | ChatOpenAI()\n",
    "    | StrOutputParser()\n",
    ")\n",
    "\n",
    "final_responder = (\n",
    "    ChatPromptTemplate.from_messages(\n",
    "        [   \n",
    "            (\"system\", \"You are responsible for generating a small analysis of a joke. The topic will be: {topic}\"),\n",
    "            (\"ai\", \"{joke}. The benefits of this joke are: {benefits}\"),\n",
    "            (\"human\", \"The explanation of the joke is: {explanation}\"),\n",
    "            (\"human\", \"Generate a small analysis of the joke. Analysis: \"),\n",
    "        ]\n",
    "    )\n",
    "    | ChatOpenAI()\n",
    "    | StrOutputParser()\n",
    ")\n",
    "\n",
    "final_chain = (\n",
    "    {\"topic\": RunnablePassthrough()}\n",
    "    | joke_chain\n",
    "    | {\n",
    "        \"explanation\": explain_joke,\n",
    "        \"benefits\": benefits_of_joke,\n",
    "        \"joke\": itemgetter(\"joke\"),\n",
    "        \"topic\": itemgetter(\"topic\"),\n",
    "    }\n",
    "    | final_responder\n",
    ")\n",
    "\n",
    "final_chain.invoke({\"topic\": \"bears\"})"
   ]
  }
 ],
 "metadata": {
  "kernelspec": {
   "display_name": "base",
   "language": "python",
   "name": "python3"
  },
  "language_info": {
   "codemirror_mode": {
    "name": "ipython",
    "version": 3
   },
   "file_extension": ".py",
   "mimetype": "text/x-python",
   "name": "python",
   "nbconvert_exporter": "python",
   "pygments_lexer": "ipython3",
   "version": "3.9.13"
  }
 },
 "nbformat": 4,
 "nbformat_minor": 2
}
