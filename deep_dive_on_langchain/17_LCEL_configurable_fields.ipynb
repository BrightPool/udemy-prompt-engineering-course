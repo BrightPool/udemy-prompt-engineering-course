{
 "cells": [
  {
   "cell_type": "code",
   "execution_count": 1,
   "metadata": {},
   "outputs": [
    {
     "name": "stdout",
     "output_type": "stream",
     "text": [
      "Requirement already satisfied: langchain in /Users/jamesaphoenix/opt/anaconda3/lib/python3.9/site-packages (0.1.16)\n",
      "Requirement already satisfied: langchain_openai in /Users/jamesaphoenix/opt/anaconda3/lib/python3.9/site-packages (0.1.3)\n",
      "Requirement already satisfied: langchain-text-splitters<0.1,>=0.0.1 in /Users/jamesaphoenix/opt/anaconda3/lib/python3.9/site-packages (from langchain) (0.0.1)\n",
      "Requirement already satisfied: requests<3,>=2 in /Users/jamesaphoenix/opt/anaconda3/lib/python3.9/site-packages (from langchain) (2.31.0)\n",
      "Requirement already satisfied: async-timeout<5.0.0,>=4.0.0 in /Users/jamesaphoenix/opt/anaconda3/lib/python3.9/site-packages (from langchain) (4.0.3)\n",
      "Requirement already satisfied: langchain-core<0.2.0,>=0.1.42 in /Users/jamesaphoenix/opt/anaconda3/lib/python3.9/site-packages (from langchain) (0.1.45)\n",
      "Requirement already satisfied: PyYAML>=5.3 in /Users/jamesaphoenix/opt/anaconda3/lib/python3.9/site-packages (from langchain) (6.0.1)\n",
      "Requirement already satisfied: langsmith<0.2.0,>=0.1.17 in /Users/jamesaphoenix/opt/anaconda3/lib/python3.9/site-packages (from langchain) (0.1.40)\n",
      "Requirement already satisfied: tenacity<9.0.0,>=8.1.0 in /Users/jamesaphoenix/opt/anaconda3/lib/python3.9/site-packages (from langchain) (8.2.3)\n",
      "Requirement already satisfied: aiohttp<4.0.0,>=3.8.3 in /Users/jamesaphoenix/opt/anaconda3/lib/python3.9/site-packages (from langchain) (3.9.3)\n",
      "Requirement already satisfied: numpy<2,>=1 in /Users/jamesaphoenix/opt/anaconda3/lib/python3.9/site-packages (from langchain) (1.26.4)\n",
      "Requirement already satisfied: SQLAlchemy<3,>=1.4 in /Users/jamesaphoenix/opt/anaconda3/lib/python3.9/site-packages (from langchain) (2.0.25)\n",
      "Requirement already satisfied: dataclasses-json<0.7,>=0.5.7 in /Users/jamesaphoenix/opt/anaconda3/lib/python3.9/site-packages (from langchain) (0.5.7)\n",
      "Requirement already satisfied: jsonpatch<2.0,>=1.33 in /Users/jamesaphoenix/opt/anaconda3/lib/python3.9/site-packages (from langchain) (1.33)\n",
      "Requirement already satisfied: langchain-community<0.1,>=0.0.32 in /Users/jamesaphoenix/opt/anaconda3/lib/python3.9/site-packages (from langchain) (0.0.34)\n",
      "Requirement already satisfied: pydantic<3,>=1 in /Users/jamesaphoenix/opt/anaconda3/lib/python3.9/site-packages (from langchain) (1.10.15)\n",
      "Requirement already satisfied: openai<2.0.0,>=1.10.0 in /Users/jamesaphoenix/opt/anaconda3/lib/python3.9/site-packages (from langchain_openai) (1.23.2)\n",
      "Requirement already satisfied: tiktoken<1,>=0.5.2 in /Users/jamesaphoenix/opt/anaconda3/lib/python3.9/site-packages (from langchain_openai) (0.6.0)\n",
      "Requirement already satisfied: yarl<2.0,>=1.0 in /Users/jamesaphoenix/opt/anaconda3/lib/python3.9/site-packages (from aiohttp<4.0.0,>=3.8.3->langchain) (1.8.2)\n",
      "Requirement already satisfied: aiosignal>=1.1.2 in /Users/jamesaphoenix/opt/anaconda3/lib/python3.9/site-packages (from aiohttp<4.0.0,>=3.8.3->langchain) (1.3.1)\n",
      "Requirement already satisfied: multidict<7.0,>=4.5 in /Users/jamesaphoenix/opt/anaconda3/lib/python3.9/site-packages (from aiohttp<4.0.0,>=3.8.3->langchain) (6.0.4)\n",
      "Requirement already satisfied: attrs>=17.3.0 in /Users/jamesaphoenix/opt/anaconda3/lib/python3.9/site-packages (from aiohttp<4.0.0,>=3.8.3->langchain) (23.2.0)\n",
      "Requirement already satisfied: frozenlist>=1.1.1 in /Users/jamesaphoenix/opt/anaconda3/lib/python3.9/site-packages (from aiohttp<4.0.0,>=3.8.3->langchain) (1.3.3)\n",
      "Requirement already satisfied: marshmallow-enum<2.0.0,>=1.5.1 in /Users/jamesaphoenix/opt/anaconda3/lib/python3.9/site-packages (from dataclasses-json<0.7,>=0.5.7->langchain) (1.5.1)\n",
      "Requirement already satisfied: marshmallow<4.0.0,>=3.3.0 in /Users/jamesaphoenix/opt/anaconda3/lib/python3.9/site-packages (from dataclasses-json<0.7,>=0.5.7->langchain) (3.19.0)\n",
      "Requirement already satisfied: typing-inspect>=0.4.0 in /Users/jamesaphoenix/opt/anaconda3/lib/python3.9/site-packages (from dataclasses-json<0.7,>=0.5.7->langchain) (0.8.0)\n",
      "Requirement already satisfied: jsonpointer>=1.9 in /Users/jamesaphoenix/opt/anaconda3/lib/python3.9/site-packages (from jsonpatch<2.0,>=1.33->langchain) (2.4)\n",
      "Requirement already satisfied: packaging<24.0,>=23.2 in /Users/jamesaphoenix/opt/anaconda3/lib/python3.9/site-packages (from langchain-core<0.2.0,>=0.1.42->langchain) (23.2)\n",
      "Requirement already satisfied: orjson<4.0.0,>=3.9.14 in /Users/jamesaphoenix/opt/anaconda3/lib/python3.9/site-packages (from langsmith<0.2.0,>=0.1.17->langchain) (3.9.15)\n",
      "Requirement already satisfied: distro<2,>=1.7.0 in /Users/jamesaphoenix/opt/anaconda3/lib/python3.9/site-packages (from openai<2.0.0,>=1.10.0->langchain_openai) (1.8.0)\n",
      "Requirement already satisfied: sniffio in /Users/jamesaphoenix/opt/anaconda3/lib/python3.9/site-packages (from openai<2.0.0,>=1.10.0->langchain_openai) (1.2.0)\n",
      "Requirement already satisfied: httpx<1,>=0.23.0 in /Users/jamesaphoenix/opt/anaconda3/lib/python3.9/site-packages (from openai<2.0.0,>=1.10.0->langchain_openai) (0.27.0)\n",
      "Requirement already satisfied: tqdm>4 in /Users/jamesaphoenix/opt/anaconda3/lib/python3.9/site-packages (from openai<2.0.0,>=1.10.0->langchain_openai) (4.66.1)\n",
      "Requirement already satisfied: typing-extensions<5,>=4.7 in /Users/jamesaphoenix/opt/anaconda3/lib/python3.9/site-packages (from openai<2.0.0,>=1.10.0->langchain_openai) (4.9.0)\n",
      "Requirement already satisfied: anyio<5,>=3.5.0 in /Users/jamesaphoenix/opt/anaconda3/lib/python3.9/site-packages (from openai<2.0.0,>=1.10.0->langchain_openai) (3.5.0)\n",
      "Requirement already satisfied: idna<4,>=2.5 in /Users/jamesaphoenix/opt/anaconda3/lib/python3.9/site-packages (from requests<3,>=2->langchain) (3.3)\n",
      "Requirement already satisfied: certifi>=2017.4.17 in /Users/jamesaphoenix/opt/anaconda3/lib/python3.9/site-packages (from requests<3,>=2->langchain) (2024.2.2)\n",
      "Requirement already satisfied: charset-normalizer<4,>=2 in /Users/jamesaphoenix/opt/anaconda3/lib/python3.9/site-packages (from requests<3,>=2->langchain) (3.2.0)\n",
      "Requirement already satisfied: urllib3<3,>=1.21.1 in /Users/jamesaphoenix/opt/anaconda3/lib/python3.9/site-packages (from requests<3,>=2->langchain) (2.2.1)\n",
      "Requirement already satisfied: greenlet!=0.4.17 in /Users/jamesaphoenix/opt/anaconda3/lib/python3.9/site-packages (from SQLAlchemy<3,>=1.4->langchain) (2.0.2)\n",
      "Requirement already satisfied: regex>=2022.1.18 in /Users/jamesaphoenix/opt/anaconda3/lib/python3.9/site-packages (from tiktoken<1,>=0.5.2->langchain_openai) (2022.7.9)\n",
      "Requirement already satisfied: httpcore==1.* in /Users/jamesaphoenix/opt/anaconda3/lib/python3.9/site-packages (from httpx<1,>=0.23.0->openai<2.0.0,>=1.10.0->langchain_openai) (1.0.5)\n",
      "Requirement already satisfied: h11<0.15,>=0.13 in /Users/jamesaphoenix/opt/anaconda3/lib/python3.9/site-packages (from httpcore==1.*->httpx<1,>=0.23.0->openai<2.0.0,>=1.10.0->langchain_openai) (0.14.0)\n",
      "Requirement already satisfied: mypy-extensions>=0.3.0 in /Users/jamesaphoenix/opt/anaconda3/lib/python3.9/site-packages (from typing-inspect>=0.4.0->dataclasses-json<0.7,>=0.5.7->langchain) (0.4.3)\n",
      "Note: you may need to restart the kernel to use updated packages.\n"
     ]
    }
   ],
   "source": [
    "%pip install langchain langchain_openai langchain-community --upgrade"
   ]
  },
  {
   "cell_type": "code",
   "execution_count": null,
   "metadata": {},
   "outputs": [],
   "source": [
    "import os\n",
    "\n",
    "os.environ[\"OPENAI_API_KEY\"] = \"API_KEY_HERE\""
   ]
  },
  {
   "cell_type": "markdown",
   "metadata": {},
   "source": [
    "Oftentimes you may want to experiment with, or even expose to the end user, multiple different ways of doing things. In order to make this experience as easy as possible, we have defined two methods.\n",
    "\n",
    "First, a `configurable_fields` method. This lets you configure particular fields of a runnable.\n",
    "\n",
    "Second, a `configurable_alternatives` method. With this method, you can list out alternatives for any particular runnable that can be set during runtime."
   ]
  },
  {
   "cell_type": "code",
   "execution_count": 2,
   "metadata": {},
   "outputs": [],
   "source": [
    "from langchain_core.prompts import PromptTemplate\n",
    "from langchain_core.runnables import ConfigurableField\n",
    "from langchain_openai.chat_models import ChatOpenAI\n",
    "\n",
    "model = ChatOpenAI(temperature=0).configurable_fields(\n",
    "    temperature=ConfigurableField(\n",
    "        id=\"llm_temperature\",\n",
    "        name=\"LLM Temperature\",\n",
    "        description=\"The temperature of the LLM\",\n",
    "    )\n",
    ")"
   ]
  },
  {
   "cell_type": "code",
   "execution_count": 3,
   "metadata": {},
   "outputs": [
    {
     "data": {
      "text/plain": [
       "AIMessage(content='17', response_metadata={'token_usage': {'completion_tokens': 1, 'prompt_tokens': 11, 'total_tokens': 12}, 'model_name': 'gpt-3.5-turbo', 'system_fingerprint': 'fp_c2295e73ad', 'finish_reason': 'stop', 'logprobs': None}, id='run-17f337c4-93b6-406d-b78d-9ee2c188b73f-0')"
      ]
     },
     "execution_count": 3,
     "metadata": {},
     "output_type": "execute_result"
    }
   ],
   "source": [
    "model.invoke(\"pick a random number\")"
   ]
  },
  {
   "cell_type": "code",
   "execution_count": 4,
   "metadata": {},
   "outputs": [
    {
     "data": {
      "text/plain": [
       "AIMessage(content='27', response_metadata={'token_usage': {'completion_tokens': 1, 'prompt_tokens': 11, 'total_tokens': 12}, 'model_name': 'gpt-3.5-turbo', 'system_fingerprint': 'fp_c2295e73ad', 'finish_reason': 'stop', 'logprobs': None}, id='run-053d586e-f1d0-4d80-9f91-115bbe7e60a4-0')"
      ]
     },
     "execution_count": 4,
     "metadata": {},
     "output_type": "execute_result"
    }
   ],
   "source": [
    "model.with_config(configurable={\"llm_temperature\": 0.9}).invoke(\"pick a random number\")"
   ]
  },
  {
   "cell_type": "markdown",
   "metadata": {},
   "source": [
    "## Configuring Prompts"
   ]
  },
  {
   "cell_type": "code",
   "execution_count": 5,
   "metadata": {},
   "outputs": [],
   "source": [
    "llm = ChatOpenAI(temperature=0)\n",
    "prompt = PromptTemplate.from_template(\n",
    "    \"Tell me a joke about {topic}\"\n",
    ").configurable_alternatives(\n",
    "    # This gives this field an id\n",
    "    # When configuring the end runnable, we can then use this id to configure this field\n",
    "    ConfigurableField(id=\"prompt\"),\n",
    "    # This sets a default_key.\n",
    "    # If we specify this key, the default LLM (ChatAnthropic initialized above) will be used\n",
    "    default_key=\"joke\",\n",
    "    # This adds a new option, with name `poem`\n",
    "    poem=PromptTemplate.from_template(\"Write a short poem about {topic}\"),\n",
    "    # You can add more configuration options here\n",
    ")\n",
    "chain = prompt | llm"
   ]
  },
  {
   "cell_type": "code",
   "execution_count": 6,
   "metadata": {},
   "outputs": [
    {
     "data": {
      "text/plain": [
       "AIMessage(content=\"Why did the bear break up with his girlfriend? \\n\\nBecause he couldn't bear the relationship any longer!\", response_metadata={'token_usage': {'completion_tokens': 21, 'prompt_tokens': 13, 'total_tokens': 34}, 'model_name': 'gpt-3.5-turbo', 'system_fingerprint': 'fp_c2295e73ad', 'finish_reason': 'stop', 'logprobs': None}, id='run-eb2be3f4-df43-437f-8dc7-94053170ab30-0')"
      ]
     },
     "execution_count": 6,
     "metadata": {},
     "output_type": "execute_result"
    }
   ],
   "source": [
    "# By default it will write a joke\n",
    "chain.invoke({\"topic\": \"bears\"})"
   ]
  },
  {
   "cell_type": "code",
   "execution_count": 7,
   "metadata": {},
   "outputs": [
    {
     "data": {
      "text/plain": [
       "AIMessage(content=\"In the forest deep and wide,\\nWhere the shadows dance and hide,\\nThere roams a creature strong and grand,\\nWith fur as dark as midnight's hand.\\n\\nThe bear, with paws like mighty claws,\\nStands tall and proud, without a pause,\\nIn search of food and shelter warm,\\nIn the wild, where it was born.\\n\\nWith a growl that shakes the earth,\\nAnd eyes that hold both fear and mirth,\\nThe bear is a symbol of strength and might,\\nA guardian of the day and night.\\n\\nSo let us respect this noble beast,\\nAnd in its presence, be at peace,\\nFor in the wild, where it roams free,\\nThe bear is a wonder to see.\", response_metadata={'token_usage': {'completion_tokens': 142, 'prompt_tokens': 13, 'total_tokens': 155}, 'model_name': 'gpt-3.5-turbo', 'system_fingerprint': 'fp_c2295e73ad', 'finish_reason': 'stop', 'logprobs': None}, id='run-48a7d22d-047b-4d56-8531-b297c70c87b6-0')"
      ]
     },
     "execution_count": 7,
     "metadata": {},
     "output_type": "execute_result"
    }
   ],
   "source": [
    "# We can configure it write a poem\n",
    "chain.with_config(configurable={\"prompt\": \"poem\"}).invoke({\"topic\": \"bears\"})"
   ]
  },
  {
   "cell_type": "markdown",
   "metadata": {},
   "source": [
    "## Saving Configurations"
   ]
  },
  {
   "cell_type": "code",
   "execution_count": 14,
   "metadata": {},
   "outputs": [
    {
     "data": {
      "text/plain": [
       "'{\"name\": null, \"bound\": {\"name\": null, \"first\": {\"name\": null, \"default\": {\"name\": null, \"input_variables\": [\"topic\"], \"input_types\": {}, \"output_parser\": null, \"partial_variables\": {}, \"metadata\": null, \"tags\": null, \"template\": \"Tell me a joke about {topic}\", \"template_format\": \"f-string\", \"validate_template\": false, \"_type\": \"prompt\"}, \"config\": null, \"which\": [\"prompt\", null, null, null, false], \"alternatives\": {\"poem\": {\"name\": null, \"input_variables\": [\"topic\"], \"input_types\": {}, \"output_parser\": null, \"partial_variables\": {}, \"metadata\": null, \"tags\": null, \"template\": \"Write a short poem about {topic}\", \"template_format\": \"f-string\", \"validate_template\": false, \"_type\": \"prompt\"}}, \"default_key\": \"joke\", \"prefix_keys\": false}, \"middle\": [], \"last\": {\"model_name\": \"gpt-3.5-turbo\", \"model\": \"gpt-3.5-turbo\", \"stream\": false, \"n\": 1, \"temperature\": 0.0, \"_type\": \"openai-chat\"}}, \"kwargs\": {}, \"config\": {\"configurable\": {\"llm\": \"openai\"}}, \"config_factories\": [], \"custom_input_type\": null, \"custom_output_type\": null}'"
      ]
     },
     "execution_count": 14,
     "metadata": {},
     "output_type": "execute_result"
    }
   ],
   "source": [
    "openai_joke = chain.with_config(configurable={\"llm\": \"openai\"})"
   ]
  }
 ],
 "metadata": {
  "kernelspec": {
   "display_name": "base",
   "language": "python",
   "name": "python3"
  },
  "language_info": {
   "codemirror_mode": {
    "name": "ipython",
    "version": 3
   },
   "file_extension": ".py",
   "mimetype": "text/x-python",
   "name": "python",
   "nbconvert_exporter": "python",
   "pygments_lexer": "ipython3",
   "version": "3.9.13"
  }
 },
 "nbformat": 4,
 "nbformat_minor": 2
}
