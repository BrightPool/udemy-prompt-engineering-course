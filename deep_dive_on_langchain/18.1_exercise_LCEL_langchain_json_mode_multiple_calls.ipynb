{
 "cells": [
  {
   "cell_type": "code",
   "execution_count": null,
   "metadata": {},
   "outputs": [],
   "source": [
    "%pip install langchain langchain_openai langchain-community --upgrade"
   ]
  },
  {
   "cell_type": "code",
   "execution_count": null,
   "metadata": {},
   "outputs": [],
   "source": [
    "import os\n",
    "\n",
    "os.environ[\"OPENAI_API_KEY\"] = \"API_KEY_HERE\""
   ]
  },
  {
   "cell_type": "code",
   "execution_count": 1,
   "metadata": {},
   "outputs": [],
   "source": [
    "from langchain_openai.chat_models import ChatOpenAI\n",
    "from langchain_core.prompts import ChatPromptTemplate\n",
    "from langchain_core.output_parsers.json import SimpleJsonOutputParser "
   ]
  },
  {
   "cell_type": "code",
   "execution_count": 2,
   "metadata": {},
   "outputs": [],
   "source": [
    "# 0. Update the model name and model kwargs:\n",
    "chat = ChatOpenAI(model=\"<<model name>>\", model_kwargs={})"
   ]
  },
  {
   "cell_type": "code",
   "execution_count": 14,
   "metadata": {},
   "outputs": [],
   "source": [
    "# 1. Write a ChatPromptTemplate which includes the JSON schema and also the message you would like to extract within {} braces.\n",
    "chat_prompt = "
   ]
  },
  {
   "cell_type": "code",
   "execution_count": 15,
   "metadata": {},
   "outputs": [],
   "source": [
    "# 2. Create a pipeline with the chat prompt, the chat model, and the output parser.\n",
    "chain = (\n",
    ")"
   ]
  },
  {
   "cell_type": "code",
   "execution_count": 16,
   "metadata": {},
   "outputs": [
    {
     "name": "stdout",
     "output_type": "stream",
     "text": [
      "{'persons': [{'name': 'James', 'age': 30, 'description': 'James is a software engineer who likes to play tennis and lives in London.'}, {'name': 'John', 'age': 35, 'description': 'John is a data engineer who likes to play football and lives in New York.'}, {'name': 'Mark', 'age': 40, 'description': \"Mark is a Java Developer who lives in London and doesn't have many hobbies.\"}]}\n"
     ]
    }
   ],
   "source": [
    "# 3. Invoke the pipeline with the message you would like to extract.\n",
    "multiple_results = chain.invoke({\n",
    "\n",
    "})\n",
    "\n",
    "print(multiple_results)"
   ]
  }
 ],
 "metadata": {
  "kernelspec": {
   "display_name": "base",
   "language": "python",
   "name": "python3"
  },
  "language_info": {
   "codemirror_mode": {
    "name": "ipython",
    "version": 3
   },
   "file_extension": ".py",
   "mimetype": "text/x-python",
   "name": "python",
   "nbconvert_exporter": "python",
   "pygments_lexer": "ipython3",
   "version": "3.9.13"
  }
 },
 "nbformat": 4,
 "nbformat_minor": 2
}
