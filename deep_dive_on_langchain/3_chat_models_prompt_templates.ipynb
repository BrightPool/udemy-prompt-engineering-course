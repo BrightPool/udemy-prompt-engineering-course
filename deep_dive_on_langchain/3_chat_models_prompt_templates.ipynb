{
 "cells": [
  {
   "cell_type": "markdown",
   "metadata": {},
   "source": [
    "## Chat Models - Prompt Templates"
   ]
  },
  {
   "cell_type": "code",
   "execution_count": null,
   "metadata": {},
   "outputs": [],
   "source": [
    "%pip install langchain langchain_openai langchain-community --upgrade --quiet"
   ]
  },
  {
   "cell_type": "code",
   "execution_count": null,
   "metadata": {},
   "outputs": [],
   "source": [
    "import os \n",
    "os.environ['OPENAI_API_KEY'] = 'API_KEY_HERE'"
   ]
  },
  {
   "cell_type": "code",
   "execution_count": 34,
   "metadata": {},
   "outputs": [
    {
     "name": "stdout",
     "output_type": "stream",
     "text": [
      "Here are some creative name ideas for a company that specializes in colorful socks:\n",
      "\n",
      "1. **Sock Spectrum**\n",
      "2. **Vibrant Threads**\n",
      "3. **Colorful Comforts**\n",
      "4. **Socktastic Colors**\n",
      "5. **Rainbow Footwear**\n",
      "6. **Chroma Socks**\n",
      "7. **Happy Feet Socks**\n",
      "8. **Sock Pop!**\n",
      "9. **Dazzle Socks**\n",
      "10. **Funky Footprints**\n",
      "\n",
      "Feel free to mix and match or modify any of these suggestions to find the perfect name for your company!\n"
     ]
    }
   ],
   "source": [
    "from langchain_openai import ChatOpenAI\n",
    "from langchain_core.prompts.chat import ChatPromptTemplate\n",
    "\n",
    "\n",
    "chat_prompt_template = ChatPromptTemplate.from_messages([\n",
    "    (\"system\", \"You are a helpful assistant that generates company names\"),\n",
    "    (\"human\", \"{text}\")\n",
    "])\n",
    "\n",
    "result = chat_prompt_template.invoke({\n",
    "    \"text\": \"What would be a good company name for a company that makes colorful socks?\"\n",
    "})\n",
    "\n",
    "model = ChatOpenAI(model='gpt-4o-mini')\n",
    "\n",
    "ai_llm_result = model.invoke(result)\n",
    "print(ai_llm_result.content)"
   ]
  }
 ],
 "metadata": {
  "kernelspec": {
   "display_name": "base",
   "language": "python",
   "name": "python3"
  },
  "language_info": {
   "codemirror_mode": {
    "name": "ipython",
    "version": 3
   },
   "file_extension": ".py",
   "mimetype": "text/x-python",
   "name": "python",
   "nbconvert_exporter": "python",
   "pygments_lexer": "ipython3",
   "version": "3.12.4"
  }
 },
 "nbformat": 4,
 "nbformat_minor": 2
}
