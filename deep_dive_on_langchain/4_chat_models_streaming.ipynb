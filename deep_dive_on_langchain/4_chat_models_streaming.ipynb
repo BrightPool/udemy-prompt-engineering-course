{
 "cells": [
  {
   "attachments": {},
   "cell_type": "markdown",
   "metadata": {},
   "source": [
    "## Chat Models - Streaming\n",
    "\n",
    "Some Chat models provide a streaming response. This means that instead of waiting for the entire response to be returned, you can start processing it as soon as it's available. This is useful if you want to display the response to the user as it's being generated, or if you want to process the response as it's being generated.\n"
   ]
  },
  {
   "cell_type": "code",
   "execution_count": null,
   "metadata": {},
   "outputs": [],
   "source": [
    "%pip install langchain langchain_openai langchain-community --upgrade"
   ]
  },
  {
   "cell_type": "code",
   "execution_count": null,
   "metadata": {},
   "outputs": [],
   "source": [
    "import os\n",
    "os.environ['OPENAI_API_KEY'] = 'API_KEY_HERE'"
   ]
  },
  {
   "cell_type": "code",
   "execution_count": 1,
   "metadata": {},
   "outputs": [
    {
     "name": "stdout",
     "output_type": "stream",
     "text": [
      "(Verse 1)\n",
      "In a world of thirst, where the sun shines bright,\n",
      "There's a drink that brings delight, day or night.\n",
      "Bubbles dancing, effervescent delight,\n",
      "It's the magic in a bottle, sparkling water's light.\n",
      "\n",
      "(Pre-Chorus)\n",
      "Clear as crystal, refreshing to the core,\n",
      "Quenching our souls, leaving us wanting more.\n",
      "With every sip, a burst of pure bliss,\n",
      "Sparkling water, a taste we can't resist.\n",
      "\n",
      "(Chorus)\n",
      "Oh, sparkling water, you're a sparkling dream,\n",
      "A symphony of bubbles, like stars that gleam.\n",
      "You lift us up, with your fizzy embrace,\n",
      "Oh, sparkling water, you light up our space.\n",
      "\n",
      "(Verse 2)\n",
      "From the mountains high, where springs do flow,\n",
      "Comes a drink that makes our spirits glow.\n",
      "With no sugar or calories to weigh us down,\n",
      "Sparkling water, you're the talk of the town.\n",
      "\n",
      "(Pre-Chorus)\n",
      "A burst of freshness, a tingle on our tongue,\n",
      "You hydrate our bodies, keep us forever young.\n",
      "With every sip, a burst of pure bliss,\n",
      "Sparkling water, a taste we can't resist.\n",
      "\n",
      "(Chorus)\n",
      "Oh, sparkling water, you're a sparkling dream,\n",
      "A symphony of bubbles, like stars that gleam.\n",
      "You lift us up, with your fizzy embrace,\n",
      "Oh, sparkling water, you light up our space.\n",
      "\n",
      "(Bridge)\n",
      "In a world of flavors, you're a sparkling surprise,\n",
      "Lemon, lime, or berry, you tantalize.\n",
      "With each sip, a journey to paradise,\n",
      "Sparkling water, you're the ultimate prize.\n",
      "\n",
      "(Chorus)\n",
      "Oh, sparkling water, you're a sparkling dream,\n",
      "A symphony of bubbles, like stars that gleam.\n",
      "You lift us up, with your fizzy embrace,\n",
      "Oh, sparkling water, you light up our space.\n",
      "\n",
      "(Outro)\n",
      "So let's raise a glass, to this sparkling delight,\n",
      "A drink that brings joy, morning, noon, and night.\n",
      "Sparkling water, you're the sparkle in our eyes,\n",
      "Forever cherished, as our thirst's sweetest prize."
     ]
    }
   ],
   "source": [
    "from langchain_openai.chat_models import ChatOpenAI\n",
    "from langchain_core.messages import (\n",
    "    HumanMessage,\n",
    ")\n",
    "\n",
    "from langchain.callbacks.streaming_stdout import StreamingStdOutCallbackHandler\n",
    "\n",
    "# You must add the openai_api_key if you don't have an environment variable set:\n",
    "# chat = ChatOpenAI(openai_api_key=\"...\", ...)\n",
    "\n",
    "# If you have an envionrment variable set for OPENAI_API_KEY, you can just do:\n",
    "chat = ChatOpenAI(\n",
    "    streaming=True, callbacks=[StreamingStdOutCallbackHandler()], temperature=0\n",
    ")\n",
    "resp = chat([HumanMessage(content=\"Write me a song about sparkling water.\")])"
   ]
  }
 ],
 "metadata": {
  "kernelspec": {
   "display_name": "base",
   "language": "python",
   "name": "python3"
  },
  "language_info": {
   "codemirror_mode": {
    "name": "ipython",
    "version": 3
   },
   "file_extension": ".py",
   "mimetype": "text/x-python",
   "name": "python",
   "nbconvert_exporter": "python",
   "pygments_lexer": "ipython3",
   "version": "3.9.13"
  },
  "orig_nbformat": 4
 },
 "nbformat": 4,
 "nbformat_minor": 2
}
