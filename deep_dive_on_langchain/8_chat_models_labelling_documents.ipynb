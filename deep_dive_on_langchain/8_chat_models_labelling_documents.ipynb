{
 "cells": [
  {
   "attachments": {},
   "cell_type": "markdown",
   "metadata": {},
   "source": [
    "## Chat Models - Tagging Documents"
   ]
  },
  {
   "cell_type": "code",
   "execution_count": null,
   "metadata": {},
   "outputs": [],
   "source": [
    "%pip install langchain langchain_openai nest_asyncio lxml beautifulsoup4 --upgrade"
   ]
  },
  {
   "cell_type": "code",
   "execution_count": null,
   "metadata": {},
   "outputs": [],
   "source": [
    "import os\n",
    "os.environ['OPENAI_API_KEY'] = 'API_KEY_HERE'"
   ]
  },
  {
   "cell_type": "code",
   "execution_count": 1,
   "metadata": {},
   "outputs": [],
   "source": [
    "# fixes a bug with asyncio and jupyter\n",
    "import nest_asyncio\n",
    "\n",
    "nest_asyncio.apply()"
   ]
  },
  {
   "cell_type": "code",
   "execution_count": 2,
   "metadata": {},
   "outputs": [
    {
     "name": "stderr",
     "output_type": "stream",
     "text": [
      "/Users/jamesaphoenix/opt/anaconda3/lib/python3.9/site-packages/pandas/core/arrays/masked.py:60: UserWarning: Pandas requires version '1.3.6' or newer of 'bottleneck' (version '1.3.5' currently installed).\n",
      "  from pandas.core import (\n"
     ]
    }
   ],
   "source": [
    "from langchain.document_loaders.sitemap import SitemapLoader\n",
    "from langchain_openai.chat_models import ChatOpenAI\n",
    "from langchain.chains import create_tagging_chain, create_tagging_chain_pydantic\n",
    "import pandas as pd"
   ]
  },
  {
   "cell_type": "code",
   "execution_count": 3,
   "metadata": {},
   "outputs": [
    {
     "name": "stderr",
     "output_type": "stream",
     "text": [
      "Fetching pages: 100%|##########| 101/101 [00:06<00:00, 16.38it/s]\n"
     ]
    }
   ],
   "source": [
    "sitemap_loader = SitemapLoader(web_path=\"https://understandingdata.com/sitemap.xml\")\n",
    "sitemap_loader.requests_per_second = 5\n",
    "docs = sitemap_loader.load()"
   ]
  },
  {
   "cell_type": "code",
   "execution_count": 4,
   "metadata": {},
   "outputs": [],
   "source": [
    "# Schema\n",
    "schema = {\n",
    "    \"properties\": {\n",
    "        \"sentiment\": {\"type\": \"string\" },\n",
    "        \"aggressiveness\": {\"type\": \"integer\"},\n",
    "        \"primary_topic\": {\"type\": \"string\", \"description\": \"The main topic of the document.\"},\n",
    "    },\n",
    "     \"required\": [\"primary_topic\", \"sentiment\", \"aggressiveness\"],\n",
    "}\n",
    "\n",
    "# LLM\n",
    "llm = ChatOpenAI(temperature=0, model=\"gpt-3.5-turbo-0613\")\n",
    "chain = create_tagging_chain(schema, llm, output_key='output')"
   ]
  },
  {
   "cell_type": "code",
   "execution_count": 7,
   "metadata": {},
   "outputs": [
    {
     "name": "stdout",
     "output_type": "stream",
     "text": [
      "page_content='Software Engineer and Data Engineer - James PhoenixMenuAboutProjectsServicesPostsContactGrow Your Marketing Organisation With Custom Technology & Workflows.I'm James, a full stack software developer with specialist skills in data engineering and digital marketing. I work exclusively with marketing organizations to streamline their operations and grow their business.Book a Free ConsultationWhat I doTrusted by the world’s most innovative teamsServicesData EngineeringReact DevelopmentPython Programming DevelopmentPrompt EngineeringWeb ScrapingSaaS ApplicationsTechnology StackI use the most robust and latest technologies to build digital products. We are experts in React.js, Node.js, Python, Postgres and Google Cloud Platform.Our ReviewsSee more reviews hereRhys FisherJames has been a key measurement partner for a number of years. While running a boutique analytics agency, I would bring Just Understanding Data into a number of growth transformation projects at a time, across a portfolio of B2B SaaS and D2C E-commerce clients. These projects involved solving a diverse set of challenges. Together we worked on bespoke data collection solutions, applying machine learning models to marketing challenges, and surfacing often complex ideas into easy to digest actionables that clients could act on. James is well spoken and handles client communications well. His super power is being able to create a shared understanding around the insights drawn with analytics. Without James, you’ll be leaving growth on the table. 5* recommendation from me.Jeanne Keith FelipeJames is a very nice and professional person to do business with. He doesn't mind explaining technical information to give you a clearer picture of how online business works. He has a great work ethic and I'm sure Insight Jar will go farShuaib AhmedJames is literally a legend! I asked him to perform a web scraping task that was quite tedious revolving academic abstracts and he literally did it within a week after posting the gig. He also went above and beyond and gave me tips on applying NLP techniques which worked out quite well for my solution the month after. I would highly recommend working with him for any of your data collection needs or if you just need tips/help solving any Data Science issues!Software & Data Engineering Done Right.I build software that is easy to use, easy to maintain, and easy to scale. Start your project with a free consultationLatest ArticlesSee more postsSoft Skills for Programmers: Why They Matter and How to Develop ThemWhat Are Webhooks? And How Do They Relate to Data Engineering?What is an API? And How Do They Relate to Data Engineering?AboutProjectsServicesPostsContact© 2024 JustUnderstandingData. All rights reserved.' metadata={'source': 'https://understandingdata.com/', 'loc': 'https://understandingdata.com/', 'lastmod': '2024-08-05T08:17:24.958Z', 'changefreq': 'monthly', 'priority': '1.0'}\n",
      "page_content='James PhoenixMenuAboutProjectsServicesPostsContactJames PhoenixI'm passionate about creating innovative solutions that will\n",
      "shape the future. I specialize in utilizing cutting-edge\n",
      "technologies and data to develop products and services that will\n",
      "power the digital world of tomorrow.With my expertise in programming, machine learning, artificial intelligence, and data engineering, I strive to develop products and services that will revolutionize the way we interact with technology.I'm constantly pushing the boundaries of what is possible and\n",
      "dreaming up new ways to make our lives better using the power of\n",
      "technology.Book a Free ConsultationFollow on GitHubFollow on LinkedInFollow on TwitterFollow on Instagram[email protected]AboutProjectsServicesPostsContact© 2024 JustUnderstandingData. All rights reserved.' metadata={'source': 'https://understandingdata.com/about/', 'loc': 'https://understandingdata.com/about/', 'lastmod': '2024-08-05T08:17:24.958Z', 'changefreq': 'monthly', 'priority': '1.0'}\n",
      "page_content='Contact Me - James PhoenixMenuAboutProjectsServicesPostsContactContact[email protected]I am always happy to hear from you. If you have any questions or want\n",
      "to scope out a project, feel free to email me directly or fill out the form below.NameCompanyEmailPhone numberMessageLet's talkAboutProjectsServicesPostsContact© 2024 JustUnderstandingData. All rights reserved.' metadata={'source': 'https://understandingdata.com/contact/', 'loc': 'https://understandingdata.com/contact/', 'lastmod': '2024-08-05T08:17:24.958Z', 'changefreq': 'monthly', 'priority': '1.0'}\n",
      "page_content='Software & Data Engineering Services - UnderstandingDataMenuAboutProjectsServicesPostsContactServices Are you looking for a software/data engineer who can help you develop reliable, scalable solutions for your business? Look no further! I offer a range of services to help you achieve your goals, including data analysis, software development, database design and implementation, and system integration. With my experience, you can be sure that your projects will be completed on time and to the highest standards.Data EngineeringReact DevelopmentPython Programming DevelopmentPrompt EngineeringWeb ScrapingSaaS ApplicationsOur ReviewsSee more reviews hereRhys FisherJames has been a key measurement partner for a number of years. While running a boutique analytics agency, I would bring Just Understanding Data into a number of growth transformation projects at a time, across a portfolio of B2B SaaS and D2C E-commerce clients. These projects involved solving a diverse set of challenges. Together we worked on bespoke data collection solutions, applying machine learning models to marketing challenges, and surfacing often complex ideas into easy to digest actionables that clients could act on. James is well spoken and handles client communications well. His super power is being able to create a shared understanding around the insights drawn with analytics. Without James, you’ll be leaving growth on the table. 5* recommendation from me.Jeanne Keith FelipeJames is a very nice and professional person to do business with. He doesn't mind explaining technical information to give you a clearer picture of how online business works. He has a great work ethic and I'm sure Insight Jar will go farShuaib AhmedJames is literally a legend! I asked him to perform a web scraping task that was quite tedious revolving academic abstracts and he literally did it within a week after posting the gig. He also went above and beyond and gave me tips on applying NLP techniques which worked out quite well for my solution the month after. I would highly recommend working with him for any of your data collection needs or if you just need tips/help solving any Data Science issues!Software & Data Engineering Done Right.I build software that is easy to use, easy to maintain, and easy to scale. Start your project with a free consultationAboutProjectsServicesPostsContact© 2024 JustUnderstandingData. All rights reserved.' metadata={'source': 'https://understandingdata.com/services/', 'loc': 'https://understandingdata.com/services/', 'lastmod': '2024-08-05T08:17:24.958Z', 'changefreq': 'monthly', 'priority': '1.0'}\n",
      "page_content='Projects - James PhoenixMenuAboutProjectsServicesPostsContactMarketing Software I’ve built As a software/data engineer, I have designed and built a suite of powerful marketing tools to help businesses maximize their marketing efforts. With the right marketing tools, businesses can unlock their true potential and take their team to the next level.Vexpower - EdTech Course PlatformLearn to be more data-driven with realistic training scenarios.vexpower.comSingularityDigital - Industry SEO DataA marketing platform for SEO companies to track their industry with data.data.singularity.digitalPython for SEO - Training CourseA Python course for SEOs to learn how to scrape and analyze data.python-for-seoFAQ Generation - NLP & Data EngineeringSERP scraping and NLP to generate FAQ content for SEO companies.private projectOur ReviewsSee more reviews hereRhys FisherJames has been a key measurement partner for a number of years. While running a boutique analytics agency, I would bring Just Understanding Data into a number of growth transformation projects at a time, across a portfolio of B2B SaaS and D2C E-commerce clients. These projects involved solving a diverse set of challenges. Together we worked on bespoke data collection solutions, applying machine learning models to marketing challenges, and surfacing often complex ideas into easy to digest actionables that clients could act on. James is well spoken and handles client communications well. His super power is being able to create a shared understanding around the insights drawn with analytics. Without James, you’ll be leaving growth on the table. 5* recommendation from me.Jeanne Keith FelipeJames is a very nice and professional person to do business with. He doesn't mind explaining technical information to give you a clearer picture of how online business works. He has a great work ethic and I'm sure Insight Jar will go farShuaib AhmedJames is literally a legend! I asked him to perform a web scraping task that was quite tedious revolving academic abstracts and he literally did it within a week after posting the gig. He also went above and beyond and gave me tips on applying NLP techniques which worked out quite well for my solution the month after. I would highly recommend working with him for any of your data collection needs or if you just need tips/help solving any Data Science issues!Software & Data Engineering Done Right.I build software that is easy to use, easy to maintain, and easy to scale. Start your project with a free consultationAboutProjectsServicesPostsContact© 2024 JustUnderstandingData. All rights reserved.' metadata={'source': 'https://understandingdata.com/projects/', 'loc': 'https://understandingdata.com/projects/', 'lastmod': '2024-08-05T08:17:24.958Z', 'changefreq': 'monthly', 'priority': '1.0'}\n",
      "page_content='MenuAboutProjectsServicesPostsContactPostsA collection of posts I've written, about data engineering, software engineering and more.Soft Skills for Programmers: Why They Matter and How to Develop ThemWhat Are Webhooks? And How Do They Relate to Data Engineering?What is an API? And How Do They Relate to Data Engineering?How To Convert A .csv File Into A .json FileHow To Extract The Text From Multiple Webpages In PythonHow To Easily Find All Of The Sitemap.xml Files In PythonAsynchronous Web Scraping In PythonWeb Scraping With BeautifulSoupHow To Install Screaming Frog In The Cloud – Remote Desktop VersionThe Comprehensive Guide To Automating Screaming FrogHow To Convert Your Images Into Next Generation Formats (.WebP) In PythonHow To Easily Resize & Compress Your Images In PythonHow To Compress Multiple Images In PythonHow To Download Multiple Images In PythonThe Comprehensive Guide To Google Sheets With PythonHow To Easily Setup A Google Cloud Project With APIsHow To Easily Delete Multiple Files And Folders In PythonHow To Combine Multiple CSV Files In PythonDe-duplicating Keywords with Python, Pandas And Fuzzy WuzzyHow to export data from a postgres container inside of DockerTop 10 Books on Agile Software DevelopmentHow To Successfully Lead A Training Bootcamp/Course (in-person or online)Ultimate Source of Datasets for Machine Learning ProjectsHow to Switch From Data Science to Data EngineeringProtecting Data Science Projects From Ransomware What Are the Benefits of Machine Learning in Software Testing Processes?Apache Airflow vs PrefectBest 10 Python Books for Beginners & Advanced ProgrammersApache Kafka 101: What are Kafka Streams + 5 UsesTop 10 Data Visualisation BooksTop 10 Software Architecture Books11 Feature Engineering Tactics For Your Machine Learning ProjectHow To Clean And Process DataThe Data Engineer’s RoadmapMain Differences Between Data Engineers vs Software EngineersOverfitting and Underfitting in Machine LearningIntroduction to the Bias-Variance Trade-Off in Machine LearningHow to Scrape Twitter DataWebsites to Find Data for Data Science ProjectsWhat is Data Validation and When Do You Do It?Salary of Data Engineers: Complete GuideThe Future of the Modern Data StackWhat is Event Data, And How Do You Use It?How Do Entities Link To Event Data?Event Data: How Do You Decide Which Events To Track?How Do You Create a Data Tracking Plan?Data Types And Their Importance In AnalyticsWhat is a Modern Data Stack for Businesses?What Are Customer Data Platforms?What is Customer Data?Top 10 Data Engineering BooksWhat is Data Democratisation? What is Behavioural Data And How Do You Use It?Top 15 Data Analysis and Data Science BooksHow Can You Become Anonymous Online?Advantages and Disadvantages of PythonHow To Use Whoer to Cover Your Tracks When Using Proxies?What is a Digital Fingerprint?What are the Benefits of Learning a Programming Language?AI in Manufacturing and IndustryTop Data Science Problems and How to Avoid ThemMachine learning in the Healthcare IndustryWhat Is Data Modelling In Software Engineering?Are Coding Bootcamps Worth It?Data Science Vs Data EngineeringWhat Is A Data Engineer?What Is A Data Pipeline?How To Hire The Right AI Consulting FirmHow is Machine Learning Used In Marketing?Best Practices On How To Scrape The Web Without Getting BlockedMachine Learning For The Finance IndustryThe Complete List Of Python Assert StatementsWhat Is Data Wrangling?The Pros and Cons of Artificial IntelligenceThe Complete Guide to Residential, Backconnect and Rotating Proxies for Web ScrapingIs Web Scraping Legal?The Essential Guide To Web Scraping ToolsInstagram # Community Detection With Machine LearningWhat is Web Scraping?How To Install Google Chrome, Selenium & Chromedriver For AWS EC2 InstancesHow To Easily Install Anaconda Distribution on Mac Os X (Video + Article)Web Scraping NinjaOutreach At ScaleThe Advantages & Disadvantages of Web Scraping DataEffective Local SEO Client Prospecting With 2180 GMB Categories & Python 🐍Redefining Traffic Opportunity Analysis With Ahrefs & PythonHow To Prospect For Companies Without Google My Business Using PythonClick Through Rate Optimisation With Machine Learning & Google Search Console DataPredicting Article Shares With Machine Learning In The Digital Marketing IndustryAboutProjectsServicesPostsContact© 2024 JustUnderstandingData. All rights reserved.' metadata={'source': 'https://understandingdata.com/posts/', 'loc': 'https://understandingdata.com/posts/', 'lastmod': '2024-08-05T08:17:24.958Z', 'changefreq': 'monthly', 'priority': '1.0'}\n",
      "page_content='Effective Data Engineering Services | Start Your Project!MenuAboutProjectsServicesPostsContactData Engineering ServicesData engineering services cover the full range of activities related to transforming raw data into useful and meaningful insights. From data collection and integration, to data cleansing and transformation, to data mining and analysis, understandingdata has the experience and expertise to help you make the most of your data. Our team of data engineers is well-versed in the latest technologies and techniques, and our years of experience in the industry ensure that we can deliver the best results.Book a Free ConsultationTrusted by the world’s most innovative teamsData engineering services we provideData PipelinesData pipelines are a powerful tool for businesses to move data between different systems quickly and efficiently. A data pipeline can help companies collect, process, and analyze data in real-time, enabling them to make decisions faster and more accurately. With a data pipeline, organizations can automate data flows and ensure that the data they need is always up-to-date. Data pipelines also help simplify data management, making it easier to monitor and maintain data quality. Data engineering services can help businesses create and maintain data pipelines, giving them the ability to take advantage of the power of data.Big Data StorageBig data storage is a critical component of any data engineering services team. Having the right storage solutions can help ensure that your data is safe and secure, and can be accessed quickly and easily when needed. With the right setup, you can store and access vast amounts of data in an efficient and cost-effective manner. Modern big data storage solutions are designed to scale up and down quickly, so you can adjust your storage needs as your business grows. With the right data engineering services team, you can find the perfect storage solution that meets your needs.Automated ReportingAutomated reporting is an invaluable tool for data engineering services. It allows companies to quickly and easily access data-driven insights, which can be used to make smarter decisions and improve their operations. Automated reporting can provide a wide range of benefits, from increased efficiency and accuracy to improved customer service and cost savings. Automated reporting can also reduce manual labor and free up valuable resources, allowing companies to focus on more important tasks. With automated reporting, data engineering services can help businesses gain a better understanding of their data, allowing them to make more informed decisions and optimize their operations.Data WarehousingData warehousing is a critical component of any data engineering service. It is a process of storing and organizing large amounts of data in a central repository, allowing data to be accessed and analyzed quickly and effectively. Data warehousing provides a way to store data in a structured format, making it easy to query, report on, and analyze. By leveraging data warehousing techniques, organizations can gain better insights into their data and make more informed decisions. Data warehousing also helps organizations streamline their business processes, increase efficiency, and reduce costs. With the right data warehousing services, businesses can maximize the value of their data and stay ahead of the competition.Other Data Engineering Services we provideData MigrationData IntegrationData Quality ManagementData SecurityData VisualizationBusiness IntelligenceData MiningData Modeling Data AnalyticsETL DevelopmentData Lake SolutionsCloud Data ServicesAI and ML Solutions Custom Data SolutionsOur ReviewsSee more reviews hereRhys FisherJames has been a key measurement partner for a number of years. While running a boutique analytics agency, I would bring Just Understanding Data into a number of growth transformation projects at a time, across a portfolio of B2B SaaS and D2C E-commerce clients. These projects involved solving a diverse set of challenges. Together we worked on bespoke data collection solutions, applying machine learning models to marketing challenges, and surfacing often complex ideas into easy to digest actionables that clients could act on. James is well spoken and handles client communications well. His super power is being able to create a shared understanding around the insights drawn with analytics. Without James, you’ll be leaving growth on the table. 5* recommendation from me.Jeanne Keith FelipeJames is a very nice and professional person to do business with. He doesn't mind explaining technical information to give you a clearer picture of how online business works. He has a great work ethic and I'm sure Insight Jar will go farShuaib AhmedJames is literally a legend! I asked him to perform a web scraping task that was quite tedious revolving academic abstracts and he literally did it within a week after posting the gig. He also went above and beyond and gave me tips on applying NLP techniques which worked out quite well for my solution the month after. I would highly recommend working with him for any of your data collection needs or if you just need tips/help solving any Data Science issues!Software & Data Engineering Done Right.I build software that is easy to use, easy to maintain, and easy to scale. Start your project with a free consultationThe benefits of our Data Engineering Services1. Accessible DataEnsuring that data is accessible to all who require it promptly.2. Trustworthy DataUtilizing dynamic cleansing and profiling in order to enhance the quality of the data.3. Valuable DataBy quickly identifying the most suitable tools and environments for the task at hand, businesses can capitalize on the potential of their data right away.Frequently asked questionsWhat is the difference between Data Engineering and Data Science?What is Big Data?Do I need data engineering?What is data engineering?What skills do I need for data engineering? What is the difference between data engineering and data science?What tools do data engineers use?What kind of companies hire data engineers?Latest ArticlesSee more postsSoft Skills for Programmers: Why They Matter and How to Develop ThemWhat Are Webhooks? And How Do They Relate to Data Engineering?What is an API? And How Do They Relate to Data Engineering?AboutProjectsServicesPostsContact© 2024 JustUnderstandingData. All rights reserved.' metadata={'source': 'https://understandingdata.com/services/data-engineering-services/', 'loc': 'https://understandingdata.com/services/data-engineering-services/', 'lastmod': '2024-08-05T08:17:24.958Z', 'changefreq': 'monthly', 'priority': '1.0'}\n",
      "page_content='React Software Development | Expert Solutions from UnderstandingdataMenuAboutProjectsServicesPostsContactReact Software DevelopmentAt UnderstandingData, we specialize in creating web and mobile applications using React. Our team of experienced developers are experts in the React framework, and are dedicated to providing the highest quality of service. We have a proven track record of success with our projects, and have worked with many organizations to create custom React applications.Book a Free ConsultationTrusted by the world’s most innovative teamsReact software development we provideReact.js Development From ScratchReact.js is a powerful JavaScript library that allows developers to create complex user interfaces with minimal effort. With React.js, developers can rapidly create robust, scalable, and reusable web applications. React.js development from scratch allows developers to create custom web applications tailored to their specific needs, giving them more control over their web development process. React.js is a great choice for developers looking to create dynamic, interactive web applications.Migration to ReactMigrating to React can provide your business with a streamlined, robust architecture for software development. React's component-based approach allows for faster application development, improved scalability, and better maintainability, making it the perfect choice for a modern software development environment. React's powerful tools and libraries make it easier to develop complex applications, while its virtual DOM helps to ensure faster performance. With React, you can create an efficient, high-performance development environment that is capable of handling any type of application.ReactJS UI/UX DevelopmentReactJS UI/UX Development is a cutting-edge technology that allows developers to create interactive user interfaces with unparalleled speed and efficiency. ReactJS enables developers to build dynamic, responsive web applications with intuitive, user-friendly designs that give users a smooth and engaging experience. With the power of ReactJS, developers can create stunning visuals that are highly customized and can be easily adapted to fit any device. ReactJS also helps to reduce development time and cost, allowing businesses to stay competitive.React NativeReact Native is a powerful cross-platform development framework that enables developers to create powerful, interactive mobile applications. React Native makes it easy to build mobile applications for both Android and iOS platforms quickly and efficiently, with one codebase. It also helps developers to maintain codebase consistency across multiple platforms and devices, reducing development time and costs. With React Native, developers can create mobile applications that are highly responsive, efficient, and user-friendly.Other React Software Development we provideCustom React Software Development SolutionsWeb Application Development with ReactResponsive Web Design with React Third-Party API Integration ServicesMaintenance and Support Services for React Applications Quality Assurance Testing for React Apps Cloud Computing Solutions for React AppsOur ReviewsSee more reviews hereRhys FisherJames has been a key measurement partner for a number of years. While running a boutique analytics agency, I would bring Just Understanding Data into a number of growth transformation projects at a time, across a portfolio of B2B SaaS and D2C E-commerce clients. These projects involved solving a diverse set of challenges. Together we worked on bespoke data collection solutions, applying machine learning models to marketing challenges, and surfacing often complex ideas into easy to digest actionables that clients could act on. James is well spoken and handles client communications well. His super power is being able to create a shared understanding around the insights drawn with analytics. Without James, you’ll be leaving growth on the table. 5* recommendation from me.Jeanne Keith FelipeJames is a very nice and professional person to do business with. He doesn't mind explaining technical information to give you a clearer picture of how online business works. He has a great work ethic and I'm sure Insight Jar will go farShuaib AhmedJames is literally a legend! I asked him to perform a web scraping task that was quite tedious revolving academic abstracts and he literally did it within a week after posting the gig. He also went above and beyond and gave me tips on applying NLP techniques which worked out quite well for my solution the month after. I would highly recommend working with him for any of your data collection needs or if you just need tips/help solving any Data Science issues!Software & Data Engineering Done Right.I build software that is easy to use, easy to maintain, and easy to scale. Start your project with a free consultationThe benefits of our React Software Development1. ExpertiseOur React developers have deep expertise in the language, enabling them to craft custom solutions that meet your business needs.2. ScalabilityOur software development services are designed to scale as your business grows, ensuring that you never have to worry about outgrowing your system.3. Ease of UseOur React software development solutions are designed to be simple and intuitive for users, making them easy to use and navigate.Frequently asked questionsWhat is ReactJS software development?What types of features can be built using ReactJS software development?Does ReactJS software development require any additional libraries or frameworks?Does ReactJS software development offer any customization options?Does ReactJS software development require any maintenance?Is ReactJS software development suitable for large-scale applications?Is ReactJS software development suitable for beginners?How secure is ReactJS software development? How long does it take to develop a ReactJS application? What makes ReactJS software development different from other JavaScript libraries?What types of applications can be built using ReactJS software development?What are the benefits of using ReactJS software development?What type of expertise is required to use ReactJS software development?Latest ArticlesSee more postsSoft Skills for Programmers: Why They Matter and How to Develop ThemWhat Are Webhooks? And How Do They Relate to Data Engineering?What is an API? And How Do They Relate to Data Engineering?AboutProjectsServicesPostsContact© 2024 JustUnderstandingData. All rights reserved.' metadata={'source': 'https://understandingdata.com/services/react-software-development/', 'loc': 'https://understandingdata.com/services/react-software-development/', 'lastmod': '2024-08-05T08:17:24.958Z', 'changefreq': 'monthly', 'priority': '1.0'}\n",
      "page_content='Professional Python Development Services | Get High-Quality Solutions NowMenuAboutProjectsServicesPostsContactPython Software DevelopmentAre you looking for a reliable and experienced Python software development team to help you take your project to the next level? Look no further! Our team of highly-skilled developers specializes in Python software development and can help you meet any of your software development needs.\n",
      "We understand that Python software development can be a complex process, and our goal is to make it as easy and stress-free as possible. Our team of experienced professionals have the knowledge and expertise to help you achieve the results you are looking for. We use the latest tools and technologies to ensure that your project is delivered on time and within budget.Book a Free ConsultationTrusted by the world’s most innovative teamsPython development services we provideWeb Application DevelopmentPython Web Application Development is an efficient and cost-effective way to create applications for the web. With the help of Python, developers can quickly build dynamic and interactive websites and web applications. Python has extensive libraries and frameworks that allow developers to create powerful solutions. With its scalability, flexibility and extensibility, Python is the perfect language for developing web applications. API DevelopmentAPI development is a key part of modern software development, allowing businesses to create customized applications that connect to a variety of data sources and systems. With Python, developers can create robust APIs that can handle large amounts of data quickly and efficiently. Python's wide range of libraries, frameworks, and tools make it an ideal language for API development, providing developers with the flexibility they need to build the perfect API for their specific needs. Desktop GUIs\n",
      "Desktop GUIs provide users with a graphical interface to interact with their computers, making complex tasks simpler and more intuitive. With desktop GUIs, users can drag and drop files, create windows, and open and close applications with ease. Desktop GUIs also allow users to customize their desktops, making it easier to find the information they need quickly. Desktop GUIs are ideal for tasks such as data analysis, software development, and automation, giving users the ability to manage large amounts of data with ease. Python ScriptsPython Scripts are a powerful tool to automate tasks and streamline workflows. With Python Scripts, you can write a script to automate processes, create data sets, and even build custom applications. Python Scripts are versatile, easy to learn, and require minimal coding. They allow you to quickly and efficiently analyze data and make decisions based on the results.Other Python Software Development we provideCustom Python Application DevelopmentAutomation Solutions with PythonDatabase Management with PythonWeb Scraping and Data Mining using PythonIntegration of Third-Party APIs with PythonMachine Learning and Artificial Intelligence Solutions in PythonApplication Maintenance and Support Services for PythonConsulting Services for Python ProjectsOur ReviewsSee more reviews hereRhys FisherJames has been a key measurement partner for a number of years. While running a boutique analytics agency, I would bring Just Understanding Data into a number of growth transformation projects at a time, across a portfolio of B2B SaaS and D2C E-commerce clients. These projects involved solving a diverse set of challenges. Together we worked on bespoke data collection solutions, applying machine learning models to marketing challenges, and surfacing often complex ideas into easy to digest actionables that clients could act on. James is well spoken and handles client communications well. His super power is being able to create a shared understanding around the insights drawn with analytics. Without James, you’ll be leaving growth on the table. 5* recommendation from me.Jeanne Keith FelipeJames is a very nice and professional person to do business with. He doesn't mind explaining technical information to give you a clearer picture of how online business works. He has a great work ethic and I'm sure Insight Jar will go farShuaib AhmedJames is literally a legend! I asked him to perform a web scraping task that was quite tedious revolving academic abstracts and he literally did it within a week after posting the gig. He also went above and beyond and gave me tips on applying NLP techniques which worked out quite well for my solution the month after. I would highly recommend working with him for any of your data collection needs or if you just need tips/help solving any Data Science issues!Software & Data Engineering Done Right.I build software that is easy to use, easy to maintain, and easy to scale. Start your project with a free consultationThe benefits of our Python Software Development1. ExpertiseOur python developers have deep expertise in the language, enabling them to craft custom solutions that meet your business needs.2. ScalabilityOur software development services are designed to scale as your business grows, ensuring that you never have to worry about outgrowing your system.3. SecurityWe employ the latest security measures to ensure that your software and data is kept safe and secure.Frequently asked questionsWhat tools are used for Python software development?What are the benefits of Python software development?Is Python software development suitable for my business?What are the different types of Python software development projects?How long does it take to develop a Python software application?What is Python software development?How do I get started with Python software development?What is the difference between Python and other programming languages?What are the best practices for Python software development? What is the cost of Python software development?What is the best way to learn Python software development? What libraries are available for Python software development?Latest ArticlesSee more postsSoft Skills for Programmers: Why They Matter and How to Develop ThemWhat Are Webhooks? And How Do They Relate to Data Engineering?What is an API? And How Do They Relate to Data Engineering?AboutProjectsServicesPostsContact© 2024 JustUnderstandingData. All rights reserved.' metadata={'source': 'https://understandingdata.com/services/python-software-development/', 'loc': 'https://understandingdata.com/services/python-software-development/', 'lastmod': '2024-08-05T08:17:24.958Z', 'changefreq': 'monthly', 'priority': '1.0'}\n",
      "page_content='Professional Python Development Services | Get High-Quality Solutions NowMenuAboutProjectsServicesPostsContactPython Software DevelopmentAre you looking for a reliable and experienced Python software development team to help you take your project to the next level? Look no further! Our team of highly-skilled developers specializes in Python software development and can help you meet any of your software development needs.\n",
      "We understand that Python software development can be a complex process, and our goal is to make it as easy and stress-free as possible. Our team of experienced professionals have the knowledge and expertise to help you achieve the results you are looking for. We use the latest tools and technologies to ensure that your project is delivered on time and within budget.Book a Free ConsultationTrusted by the world’s most innovative teamsPython development services we provideWeb Application DevelopmentPython Web Application Development is an efficient and cost-effective way to create applications for the web. With the help of Python, developers can quickly build dynamic and interactive websites and web applications. Python has extensive libraries and frameworks that allow developers to create powerful solutions. With its scalability, flexibility and extensibility, Python is the perfect language for developing web applications. API DevelopmentAPI development is a key part of modern software development, allowing businesses to create customized applications that connect to a variety of data sources and systems. With Python, developers can create robust APIs that can handle large amounts of data quickly and efficiently. Python's wide range of libraries, frameworks, and tools make it an ideal language for API development, providing developers with the flexibility they need to build the perfect API for their specific needs. Desktop GUIs\n",
      "Desktop GUIs provide users with a graphical interface to interact with their computers, making complex tasks simpler and more intuitive. With desktop GUIs, users can drag and drop files, create windows, and open and close applications with ease. Desktop GUIs also allow users to customize their desktops, making it easier to find the information they need quickly. Desktop GUIs are ideal for tasks such as data analysis, software development, and automation, giving users the ability to manage large amounts of data with ease. Python ScriptsPython Scripts are a powerful tool to automate tasks and streamline workflows. With Python Scripts, you can write a script to automate processes, create data sets, and even build custom applications. Python Scripts are versatile, easy to learn, and require minimal coding. They allow you to quickly and efficiently analyze data and make decisions based on the results.Other Python Software Development we provideCustom Python Application DevelopmentAutomation Solutions with PythonDatabase Management with PythonWeb Scraping and Data Mining using PythonIntegration of Third-Party APIs with PythonMachine Learning and Artificial Intelligence Solutions in PythonApplication Maintenance and Support Services for PythonConsulting Services for Python ProjectsOur ReviewsSee more reviews hereRhys FisherJames has been a key measurement partner for a number of years. While running a boutique analytics agency, I would bring Just Understanding Data into a number of growth transformation projects at a time, across a portfolio of B2B SaaS and D2C E-commerce clients. These projects involved solving a diverse set of challenges. Together we worked on bespoke data collection solutions, applying machine learning models to marketing challenges, and surfacing often complex ideas into easy to digest actionables that clients could act on. James is well spoken and handles client communications well. His super power is being able to create a shared understanding around the insights drawn with analytics. Without James, you’ll be leaving growth on the table. 5* recommendation from me.Jeanne Keith FelipeJames is a very nice and professional person to do business with. He doesn't mind explaining technical information to give you a clearer picture of how online business works. He has a great work ethic and I'm sure Insight Jar will go farShuaib AhmedJames is literally a legend! I asked him to perform a web scraping task that was quite tedious revolving academic abstracts and he literally did it within a week after posting the gig. He also went above and beyond and gave me tips on applying NLP techniques which worked out quite well for my solution the month after. I would highly recommend working with him for any of your data collection needs or if you just need tips/help solving any Data Science issues!Software & Data Engineering Done Right.I build software that is easy to use, easy to maintain, and easy to scale. Start your project with a free consultationThe benefits of our Python Software Development1. ExpertiseOur python developers have deep expertise in the language, enabling them to craft custom solutions that meet your business needs.2. ScalabilityOur software development services are designed to scale as your business grows, ensuring that you never have to worry about outgrowing your system.3. SecurityWe employ the latest security measures to ensure that your software and data is kept safe and secure.Frequently asked questionsWhat tools are used for Python software development?What are the benefits of Python software development?Is Python software development suitable for my business?What are the different types of Python software development projects?How long does it take to develop a Python software application?What is Python software development?How do I get started with Python software development?What is the difference between Python and other programming languages?What are the best practices for Python software development? What is the cost of Python software development?What is the best way to learn Python software development? What libraries are available for Python software development?Latest ArticlesSee more postsSoft Skills for Programmers: Why They Matter and How to Develop ThemWhat Are Webhooks? And How Do They Relate to Data Engineering?What is an API? And How Do They Relate to Data Engineering?AboutProjectsServicesPostsContact© 2024 JustUnderstandingData. All rights reserved.' metadata={'source': 'https://understandingdata.com/services/python-software-development/', 'loc': 'https://understandingdata.com/services/python-software-development/', 'lastmod': '2024-08-05T08:17:24.958Z', 'changefreq': 'monthly', 'priority': '1.0'}\n"
     ]
    }
   ],
   "source": [
    "results = []\n",
    "\n",
    "# Remove the 0:10 to run on all documents:\n",
    "for doc in docs[0:10]:\n",
    "    print(doc)\n",
    "    chain_result = chain.invoke({'input': doc.page_content})\n",
    "    results.append(chain_result['output'])"
   ]
  },
  {
   "cell_type": "code",
   "execution_count": 6,
   "metadata": {},
   "outputs": [
    {
     "data": {
      "text/plain": [
       "[{'sentiment': 'positive',\n",
       "  'aggressiveness': 0.5,\n",
       "  'primary_topic': 'software engineering'},\n",
       " {'sentiment': 'passionate',\n",
       "  'aggressiveness': 0,\n",
       "  'primary_topic': 'innovative solutions'},\n",
       " {'sentiment': 'positive', 'aggressiveness': 0.5, 'primary_topic': 'contact'},\n",
       " {'sentiment': 'positive',\n",
       "  'aggressiveness': 0.5,\n",
       "  'primary_topic': 'Software & Data Engineering Services'},\n",
       " {'sentiment': 'positive',\n",
       "  'aggressiveness': 0.2,\n",
       "  'primary_topic': 'software and data engineering'},\n",
       " {'sentiment': 'positive',\n",
       "  'aggressiveness': 0.5,\n",
       "  'primary_topic': 'data engineering'},\n",
       " {'sentiment': 'positive',\n",
       "  'aggressiveness': 0.5,\n",
       "  'primary_topic': 'data engineering services'},\n",
       " {'sentiment': 'positive',\n",
       "  'aggressiveness': 0.5,\n",
       "  'primary_topic': 'React Software Development'},\n",
       " {'sentiment': 'positive',\n",
       "  'aggressiveness': 0.5,\n",
       "  'primary_topic': 'Python software development'},\n",
       " {'sentiment': 'positive',\n",
       "  'aggressiveness': 0.5,\n",
       "  'primary_topic': 'Python software development'}]"
      ]
     },
     "execution_count": 6,
     "metadata": {},
     "output_type": "execute_result"
    }
   ],
   "source": [
    "results"
   ]
  },
  {
   "cell_type": "code",
   "execution_count": 35,
   "metadata": {},
   "outputs": [],
   "source": [
    "df = pd.DataFrame(results)"
   ]
  },
  {
   "cell_type": "code",
   "execution_count": 39,
   "metadata": {},
   "outputs": [
    {
     "data": {
      "text/plain": [
       "{'source': 'https://understandingdata.com/',\n",
       " 'loc': 'https://understandingdata.com/',\n",
       " 'lastmod': '2023-09-28T14:18:53.466Z',\n",
       " 'changefreq': 'monthly',\n",
       " 'priority': '1.0'}"
      ]
     },
     "execution_count": 39,
     "metadata": {},
     "output_type": "execute_result"
    }
   ],
   "source": [
    "docs[0].metadata"
   ]
  },
  {
   "cell_type": "code",
   "execution_count": 43,
   "metadata": {},
   "outputs": [],
   "source": [
    "# Combine the URLs with the results\n",
    "df['url'] = [doc.metadata['source'] for doc in docs[0:10]]\n"
   ]
  },
  {
   "cell_type": "code",
   "execution_count": 44,
   "metadata": {},
   "outputs": [
    {
     "data": {
      "text/html": [
       "<div>\n",
       "<style scoped>\n",
       "    .dataframe tbody tr th:only-of-type {\n",
       "        vertical-align: middle;\n",
       "    }\n",
       "\n",
       "    .dataframe tbody tr th {\n",
       "        vertical-align: top;\n",
       "    }\n",
       "\n",
       "    .dataframe thead th {\n",
       "        text-align: right;\n",
       "    }\n",
       "</style>\n",
       "<table border=\"1\" class=\"dataframe\">\n",
       "  <thead>\n",
       "    <tr style=\"text-align: right;\">\n",
       "      <th></th>\n",
       "      <th>sentiment</th>\n",
       "      <th>aggressiveness</th>\n",
       "      <th>primary_topic</th>\n",
       "      <th>url</th>\n",
       "    </tr>\n",
       "  </thead>\n",
       "  <tbody>\n",
       "    <tr>\n",
       "      <th>0</th>\n",
       "      <td>positive</td>\n",
       "      <td>0.5</td>\n",
       "      <td>software engineering</td>\n",
       "      <td>https://understandingdata.com/</td>\n",
       "    </tr>\n",
       "    <tr>\n",
       "      <th>1</th>\n",
       "      <td>passionate</td>\n",
       "      <td>0.0</td>\n",
       "      <td>innovative solutions</td>\n",
       "      <td>https://understandingdata.com/about/</td>\n",
       "    </tr>\n",
       "    <tr>\n",
       "      <th>2</th>\n",
       "      <td>positive</td>\n",
       "      <td>0.5</td>\n",
       "      <td>contact</td>\n",
       "      <td>https://understandingdata.com/contact/</td>\n",
       "    </tr>\n",
       "    <tr>\n",
       "      <th>3</th>\n",
       "      <td>positive</td>\n",
       "      <td>0.5</td>\n",
       "      <td>software &amp; data engineering services</td>\n",
       "      <td>https://understandingdata.com/services/</td>\n",
       "    </tr>\n",
       "    <tr>\n",
       "      <th>4</th>\n",
       "      <td>positive</td>\n",
       "      <td>0.5</td>\n",
       "      <td>software and data engineering</td>\n",
       "      <td>https://understandingdata.com/projects/</td>\n",
       "    </tr>\n",
       "    <tr>\n",
       "      <th>5</th>\n",
       "      <td>positive</td>\n",
       "      <td>0.5</td>\n",
       "      <td>data engineering</td>\n",
       "      <td>https://understandingdata.com/posts/</td>\n",
       "    </tr>\n",
       "    <tr>\n",
       "      <th>6</th>\n",
       "      <td>positive</td>\n",
       "      <td>0.5</td>\n",
       "      <td>data engineering services</td>\n",
       "      <td>https://understandingdata.com/services/data-en...</td>\n",
       "    </tr>\n",
       "    <tr>\n",
       "      <th>7</th>\n",
       "      <td>positive</td>\n",
       "      <td>0.5</td>\n",
       "      <td>React Software Development</td>\n",
       "      <td>https://understandingdata.com/services/react-s...</td>\n",
       "    </tr>\n",
       "    <tr>\n",
       "      <th>8</th>\n",
       "      <td>positive</td>\n",
       "      <td>0.5</td>\n",
       "      <td>Python software development</td>\n",
       "      <td>https://understandingdata.com/services/python-...</td>\n",
       "    </tr>\n",
       "    <tr>\n",
       "      <th>9</th>\n",
       "      <td>positive</td>\n",
       "      <td>0.5</td>\n",
       "      <td>Python software development</td>\n",
       "      <td>https://understandingdata.com/services/python-...</td>\n",
       "    </tr>\n",
       "  </tbody>\n",
       "</table>\n",
       "</div>"
      ],
      "text/plain": [
       "    sentiment  aggressiveness                         primary_topic  \\\n",
       "0    positive             0.5                  software engineering   \n",
       "1  passionate             0.0                  innovative solutions   \n",
       "2    positive             0.5                               contact   \n",
       "3    positive             0.5  software & data engineering services   \n",
       "4    positive             0.5         software and data engineering   \n",
       "5    positive             0.5                      data engineering   \n",
       "6    positive             0.5             data engineering services   \n",
       "7    positive             0.5            React Software Development   \n",
       "8    positive             0.5           Python software development   \n",
       "9    positive             0.5           Python software development   \n",
       "\n",
       "                                                 url  \n",
       "0                     https://understandingdata.com/  \n",
       "1               https://understandingdata.com/about/  \n",
       "2             https://understandingdata.com/contact/  \n",
       "3            https://understandingdata.com/services/  \n",
       "4            https://understandingdata.com/projects/  \n",
       "5               https://understandingdata.com/posts/  \n",
       "6  https://understandingdata.com/services/data-en...  \n",
       "7  https://understandingdata.com/services/react-s...  \n",
       "8  https://understandingdata.com/services/python-...  \n",
       "9  https://understandingdata.com/services/python-...  "
      ]
     },
     "execution_count": 44,
     "metadata": {},
     "output_type": "execute_result"
    }
   ],
   "source": [
    "df"
   ]
  }
 ],
 "metadata": {
  "kernelspec": {
   "display_name": "base",
   "language": "python",
   "name": "python3"
  },
  "language_info": {
   "codemirror_mode": {
    "name": "ipython",
    "version": 3
   },
   "file_extension": ".py",
   "mimetype": "text/x-python",
   "name": "python",
   "nbconvert_exporter": "python",
   "pygments_lexer": "ipython3",
   "version": "3.9.13"
  },
  "orig_nbformat": 4
 },
 "nbformat": 4,
 "nbformat_minor": 2
}
