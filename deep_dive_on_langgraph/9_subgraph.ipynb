{
 "cells": [
  {
   "cell_type": "markdown",
   "metadata": {},
   "source": [
    "# How to create subgraphs\n",
    "\n",
    "Graphs such as [StateGraph](https://langchain-ai.github.io/langgraph/reference/graphs/#langgraph.graph.StateGraph)'s naturally can be composed. Creating subgraphs lets you build things like [multi-agent teams](./multi_agent/hierarchical_agent_teams.ipynb), where each team can track its own separate state.\n",
    "\n",
    "You can add a `StateGraph` instance as a node by first [compiling](https://langchain-ai.github.io/langgraph/reference/graphs/#langgraph.graph.MessageGraph.compile) it to translate it to its lower-level Pregel operations.\n",
    "\n",
    "The main thing you should note is ensuring the \"handoff\" from the calling graph to the called graph behaves as expected.\n",
    "\n",
    "Below are a couple of examples showing how to do so!\n",
    "\n",
    "First, install LangGraph."
   ]
  },
  {
   "cell_type": "code",
   "execution_count": null,
   "metadata": {},
   "outputs": [],
   "source": [
    "%%capture --no-stderr\n",
    "%pip install -U langgraph"
   ]
  },
  {
   "cell_type": "markdown",
   "metadata": {},
   "source": [
    "Optionally, we can set API key for [LangSmith tracing](https://smith.langchain.com/), which will give us best-in-class observability."
   ]
  },
  {
   "cell_type": "code",
   "execution_count": null,
   "metadata": {},
   "outputs": [],
   "source": [
    "import getpass\n",
    "import os\n",
    "\n",
    "\n",
    "def _set_env(var: str):\n",
    "    if not os.environ.get(var):\n",
    "        os.environ[var] = getpass.getpass(f\"{var}: \")\n",
    "\n",
    "\n",
    "os.environ[\"LANGCHAIN_TRACING_V2\"] = \"true\"\n",
    "_set_env(\"LANGCHAIN_API_KEY\")"
   ]
  },
  {
   "cell_type": "markdown",
   "metadata": {},
   "source": [
    "## Create Parent + Child Graphs\n",
    "\n",
    "For this example, we will create two graphs: a parent graph with a few nodes, and a child graph that is added as a node in the parent.\n",
    "\n",
    "For this example we will use the same `State` in both graphs, though we will show how using the same keys can be a stumbling block if you're not careful."
   ]
  },
  {
   "cell_type": "code",
   "execution_count": null,
   "metadata": {},
   "outputs": [],
   "source": [
    "from typing import Annotated\n",
    "\n",
    "from typing_extensions import TypedDict\n",
    "\n",
    "from langgraph.graph import StateGraph\n",
    "\n",
    "\n",
    "def reduce_list(left: list | None, right: list | None) -> list:\n",
    "    if not left:\n",
    "        left = []\n",
    "    if not right:\n",
    "        right = []\n",
    "    return left + right\n",
    "\n",
    "\n",
    "class ChildState(TypedDict):\n",
    "    name: str\n",
    "    path: Annotated[list[str], reduce_list]\n",
    "\n",
    "\n",
    "class ParentState(TypedDict):\n",
    "    name: str\n",
    "    path: Annotated[list[str], reduce_list]\n",
    "\n",
    "\n",
    "child_builder = StateGraph(ChildState)\n",
    "\n",
    "child_builder.add_node(\"child_start\", lambda state: {\"path\": [\"child_start\"]})\n",
    "child_builder.set_entry_point(\"child_start\")\n",
    "child_builder.add_node(\"child_middle\", lambda state: {\"path\": [\"child_middle\"]})\n",
    "child_builder.add_node(\"child_end\", lambda state: {\"path\": [\"child_end\"]})\n",
    "child_builder.add_edge(\"child_start\", \"child_middle\")\n",
    "child_builder.add_edge(\"child_middle\", \"child_end\")\n",
    "child_builder.set_finish_point(\"child_end\")\n",
    "\n",
    "builder = StateGraph(ParentState)\n",
    "\n",
    "builder.add_node(\"grandparent\", lambda state: {\"path\": [\"grandparent\"]})\n",
    "builder.set_entry_point(\"grandparent\")\n",
    "builder.add_node(\"parent\", lambda state: {\"path\": [\"parent\"]})\n",
    "builder.add_node(\"child\", child_builder.compile())\n",
    "builder.add_node(\"sibling\", lambda state: {\"path\": [\"sibling\"]})\n",
    "builder.add_node(\"fin\", lambda state: {\"path\": [\"fin\"]})\n",
    "\n",
    "# Add connections\n",
    "builder.add_edge(\"grandparent\", \"parent\")\n",
    "builder.add_edge(\"parent\", \"child\")\n",
    "builder.add_edge(\"parent\", \"sibling\")\n",
    "builder.add_edge(\"child\", \"fin\")\n",
    "builder.add_edge(\"sibling\", \"fin\")\n",
    "builder.set_finish_point(\"fin\")\n",
    "graph = builder.compile()"
   ]
  },
  {
   "cell_type": "code",
   "execution_count": null,
   "metadata": {},
   "outputs": [],
   "source": [
    "from IPython.display import Image, display\n",
    "\n",
    "# Setting xray to 1 will show the internal structure of the nested graph\n",
    "display(Image(graph.get_graph(xray=1).draw_mermaid_png()))"
   ]
  },
  {
   "cell_type": "code",
   "execution_count": null,
   "metadata": {},
   "outputs": [],
   "source": [
    "graph.invoke({\"name\": \"test\"}, debug=True)"
   ]
  },
  {
   "cell_type": "markdown",
   "metadata": {},
   "source": [
    "Notice here that the `[\"grandparent\", \"parent\"]` sequence is duplicated! This is because our child state has received the full parent state and returns the full parent state once it terminates. To avoid duplication or conflicts in state, you typically would do one or more of the following:\n",
    "\n",
    "1. Handle duplicates in your `reducer` function.\n",
    "2. Call the child graph from within a python function. In that function, handle the state as needed.  \n",
    "3. Update the child graph keys to avoid conflicts. You would still need to ensure the output can be interpreted by the parent, however.\n",
    "\n",
    "Let's re-implement the graph using technique (1) and add unique IDs for every value in the list. This is what is done in [`MessageGraph`](https://langchain-ai.github.io/langgraph/reference/graphs/#langgraph.graph.MessageGraph)."
   ]
  },
  {
   "cell_type": "code",
   "execution_count": null,
   "metadata": {},
   "outputs": [],
   "source": [
    "import uuid\n",
    "\n",
    "\n",
    "def reduce_list(left: list | None, right: list | None) -> list:\n",
    "    \"\"\"Append the right-hand list, replacing any elements with the same id in the left-hand list.\"\"\"\n",
    "    if not left:\n",
    "        left = []\n",
    "    if not right:\n",
    "        right = []\n",
    "    left_, right_ = [], []\n",
    "    for orig, new in [(left, left_), (right, right_)]:\n",
    "        for val in orig:\n",
    "            if not isinstance(val, dict):\n",
    "                val = {\"val\": val}\n",
    "            if \"id\" not in val:\n",
    "                val[\"id\"] = str(uuid.uuid4())\n",
    "            new.append(val)\n",
    "    # Merge the two lists\n",
    "    left_idx_by_id = {val[\"id\"]: i for i, val in enumerate(left_)}\n",
    "    merged = left_.copy()\n",
    "    for val in right_:\n",
    "        if (existing_idx := left_idx_by_id.get(val[\"id\"])) is not None:\n",
    "            merged[existing_idx] = val\n",
    "        else:\n",
    "            merged.append(val)\n",
    "    return merged\n",
    "\n",
    "\n",
    "class ChildState(TypedDict):\n",
    "    name: str\n",
    "    path: Annotated[list[str], reduce_list]\n",
    "\n",
    "\n",
    "class ParentState(TypedDict):\n",
    "    name: str\n",
    "    path: Annotated[list[str], reduce_list]"
   ]
  },
  {
   "cell_type": "code",
   "execution_count": null,
   "metadata": {},
   "outputs": [],
   "source": [
    "child_builder = StateGraph(ChildState)\n",
    "\n",
    "child_builder.add_node(\"child_start\", lambda state: {\"path\": [\"child_start\"]})\n",
    "child_builder.set_entry_point(\"child_start\")\n",
    "child_builder.add_node(\"child_middle\", lambda state: {\"path\": [\"child_middle\"]})\n",
    "child_builder.add_node(\"child_end\", lambda state: {\"path\": [\"child_end\"]})\n",
    "child_builder.add_edge(\"child_start\", \"child_middle\")\n",
    "child_builder.add_edge(\"child_middle\", \"child_end\")\n",
    "child_builder.set_finish_point(\"child_end\")\n",
    "\n",
    "builder = StateGraph(ParentState)\n",
    "\n",
    "builder.add_node(\"grandparent\", lambda state: {\"path\": [\"grandparent\"]})\n",
    "builder.set_entry_point(\"grandparent\")\n",
    "builder.add_node(\"parent\", lambda state: {\"path\": [\"parent\"]})\n",
    "builder.add_node(\"child\", child_builder.compile())\n",
    "builder.add_node(\"sibling\", lambda state: {\"path\": [\"sibling\"]})\n",
    "builder.add_node(\"fin\", lambda state: {\"path\": [\"fin\"]})\n",
    "\n",
    "# Add connections\n",
    "builder.add_edge(\"grandparent\", \"parent\")\n",
    "builder.add_edge(\"parent\", \"child\")\n",
    "builder.add_edge(\"parent\", \"sibling\")\n",
    "builder.add_edge(\"child\", \"fin\")\n",
    "builder.add_edge(\"sibling\", \"fin\")\n",
    "builder.set_finish_point(\"fin\")\n",
    "graph = builder.compile()"
   ]
  },
  {
   "cell_type": "code",
   "execution_count": null,
   "metadata": {},
   "outputs": [],
   "source": [
    "from IPython.display import Image, display\n",
    "\n",
    "# Setting xray to 1 will show the internal structure of the nested graph\n",
    "display(Image(graph.get_graph(xray=1).draw_mermaid_png()))"
   ]
  },
  {
   "cell_type": "code",
   "execution_count": null,
   "metadata": {},
   "outputs": [],
   "source": [
    "graph.invoke({\"name\": \"test\"}, debug=True)"
   ]
  }
 ],
 "metadata": {
  "kernelspec": {
   "display_name": "Python 3 (ipykernel)",
   "language": "python",
   "name": "python3"
  },
  "language_info": {
   "codemirror_mode": {
    "name": "ipython",
    "version": 3
   },
   "file_extension": ".py",
   "mimetype": "text/x-python",
   "name": "python",
   "nbconvert_exporter": "python",
   "pygments_lexer": "ipython3",
   "version": "3.11.2"
  }
 },
 "nbformat": 4,
 "nbformat_minor": 4
}
