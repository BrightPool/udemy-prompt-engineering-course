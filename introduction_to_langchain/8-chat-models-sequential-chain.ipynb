{
 "cells": [
  {
   "attachments": {},
   "cell_type": "markdown",
   "metadata": {},
   "source": [
    "## Chat Models - Sequential Chain\n"
   ]
  },
  {
   "cell_type": "code",
   "execution_count": null,
   "metadata": {},
   "outputs": [],
   "source": [
    "import os\n",
    "%pip install langchain\n",
    "os.environ['OPENAI_API_KEY'] = 'API_KEY_HERE'"
   ]
  },
  {
   "attachments": {},
   "cell_type": "markdown",
   "metadata": {},
   "source": [
    "Once you've initiated a call to a language model, it's often useful to make subsequent calls. This method, where the output of one call serves as the input to the next, is especially valuable for more complex tasks.\n",
    "\n",
    "In this notebook, we'll explore how to implement this using 'sequential chains'. These chains help you link multiple calls together, creating pipelines tailored for specific scenarios.\n"
   ]
  },
  {
   "cell_type": "code",
   "execution_count": 2,
   "metadata": {},
   "outputs": [],
   "source": [
    "from langchain.chat_models import ChatOpenAI\n",
    "from langchain.chains import LLMChain, SequentialChain\n",
    "from langchain.prompts.chat import ChatPromptTemplate, SystemMessagePromptTemplate\n",
    "from langchain.prompts import PromptTemplate"
   ]
  },
  {
   "cell_type": "code",
   "execution_count": 3,
   "metadata": {},
   "outputs": [],
   "source": [
    "# Defining a chat model:\n",
    "chat = ChatOpenAI(temperature=0.7)"
   ]
  },
  {
   "cell_type": "code",
   "execution_count": 8,
   "metadata": {},
   "outputs": [],
   "source": [
    "# Brainstorming Chain:\n",
    "template = \"\"\"Act as a social marketer. You are responsible for generating a list of blog post ideas.\n",
    "Here is some company context to help with your brainstorming: {context}\n",
    "\"\"\"\n",
    "\n",
    "system_message_prompt = SystemMessagePromptTemplate(\n",
    "    prompt=PromptTemplate(template=template, input_variables=[\"context\"]),\n",
    ")\n",
    "chat_prompt = ChatPromptTemplate.from_messages([system_message_prompt])\n",
    "\n",
    "# Create the chain:\n",
    "brainstorming_chain = LLMChain(llm=chat, prompt=chat_prompt, output_key=\"ideas\")"
   ]
  },
  {
   "cell_type": "code",
   "execution_count": 6,
   "metadata": {},
   "outputs": [],
   "source": [
    "# Outline Chain:\n",
    "template = \"\"\"You are a content writer. Your task is to pick an idea from {ideas} and then write a blog post outline.\n",
    "Here is some company context to help with your outline: {context}\n",
    "\"\"\"\n",
    "system_message_prompt = SystemMessagePromptTemplate(\n",
    "    prompt=PromptTemplate(template=template, input_variables=[\"context\", \"ideas\"]),\n",
    ")\n",
    "chat_prompt = ChatPromptTemplate.from_messages([system_message_prompt])\n",
    "\n",
    "outline_chain = LLMChain(llm=chat, prompt=chat_prompt, output_key=\"outline\")"
   ]
  },
  {
   "cell_type": "code",
   "execution_count": 9,
   "metadata": {},
   "outputs": [],
   "source": [
    "# Create the chain:\n",
    "outline_chain = SequentialChain(\n",
    "    chains=[brainstorming_chain, outline_chain],\n",
    "    input_variables=[\"context\"],\n",
    ")"
   ]
  },
  {
   "cell_type": "code",
   "execution_count": 10,
   "metadata": {},
   "outputs": [
    {
     "data": {
      "text/plain": [
       "'Title: The Top 10 Tools Every Developer Should Have in Their Toolkit\\n\\nI. Introduction\\n    A. Importance of having the right tools for developers\\n    B. Overview of the top 10 tools to be discussed\\n\\nII. Integrated Development Environment (IDE)\\n    A. Definition and benefits of using an IDE\\n    B. Examples of popular IDEs and their features\\n    C. How an IDE enhances productivity and code quality\\n\\nIII. Version Control System (VCS)\\n    A. Explanation of version control and its significance\\n    B. Benefits of using a VCS in software development\\n    C. Introduction to popular VCS tools like Git and SVN\\n\\nIV. Code Editor\\n    A. Differentiating between IDE and code editor\\n    B. Advantages of using a code editor for lightweight tasks\\n    C. Examples of code editors and their key features\\n\\nV. Debugging and Testing Tools\\n    A. Importance of debugging and testing in software development\\n    B. Overview of popular debugging and testing tools\\n    C. How these tools aid in identifying and fixing issues\\n\\nVI. Package Managers\\n    A. Definition and purpose of package managers\\n    B. Benefits of using package managers for dependency management\\n    C. Introduction to popular package managers like npm and pip\\n\\nVII. Continuous Integration/Continuous Deployment (CI/CD) Tools\\n    A. Explanation of CI/CD and its role in software development\\n    B. Benefits of using CI/CD tools for automation and deployment\\n    C. Examples of CI/CD tools and their features\\n\\nVIII. Documentation Tools\\n    A. Importance of documentation in software development\\n    B. Overview of documentation tools for generating and maintaining documentation\\n    C. How these tools streamline the documentation process\\n\\nIX. Collaboration Tools\\n    A. Significance of collaboration in software development\\n    B. Introduction to collaboration tools for remote teams\\n    C. Examples of collaboration tools and their functionalities\\n\\nX. Performance Monitoring Tools\\n    A. Why monitoring performance is crucial for software applications\\n    B. Overview of performance monitoring tools for identifying bottlenecks\\n    C. How these tools help in optimizing code and improving application performance\\n\\nXI. Security Tools\\n    A. Growing importance of security in software development\\n    B. Explanation of security tools for vulnerability scanning and code analysis\\n    C. Examples of security tools and their capabilities\\n\\nXII. Conclusion\\n    A. Recap of the top 10 tools every developer should have in their toolkit\\n    B. Importance of continuously exploring and adopting new tools\\n    C. Encouragement for developers to build a robust toolkit for enhanced productivity and code quality.'"
      ]
     },
     "execution_count": 10,
     "metadata": {},
     "output_type": "execute_result"
    }
   ],
   "source": [
    "# Run the chain:\n",
    "outline_chain.run(\n",
    "    {\n",
    "        \"context\": \"Our company is a software company that builds products for developers.\",\n",
    "    }\n",
    ")"
   ]
  },
  {
   "attachments": {},
   "cell_type": "markdown",
   "metadata": {},
   "source": [
    "## Increasing the chain by a length of 1\n",
    "\n",
    "You could then increase the sequential chain by adding more chains.\n"
   ]
  },
  {
   "cell_type": "code",
   "execution_count": 38,
   "metadata": {},
   "outputs": [],
   "source": [
    "import langchain\n",
    "\n",
    "langchain.verbose = True\n",
    "\n",
    "# Translation chain:\n",
    "template = \"Translate the article outline into {language}: {outline}\"\n",
    "prompt = PromptTemplate.from_template(template)\n",
    "translation_chain = LLMChain(\n",
    "    llm=chat, prompt=prompt, output_key=\"translation\", verbose=True\n",
    ")\n",
    "\n",
    "# Create the a new SeqwentialChain with the translation chain added:\n",
    "translated_article_outline_chain = SequentialChain(\n",
    "    chains=[brainstorming_chain, outline_chain, translation_chain],\n",
    "    input_variables=[\"context\", \"language\"],\n",
    "    verbose=True,\n",
    ")"
   ]
  },
  {
   "cell_type": "code",
   "execution_count": 39,
   "metadata": {},
   "outputs": [
    {
     "name": "stdout",
     "output_type": "stream",
     "text": [
      "\n",
      "\n",
      "\u001b[1m> Entering new SequentialChain chain...\u001b[0m\n"
     ]
    }
   ],
   "source": [
    "translated_article_outline_chain.run(\n",
    "    {\n",
    "        \"context\": \"Our company is a software company that builds products for developers.\",\n",
    "        \"language\": \"French\",\n",
    "    }\n",
    ")"
   ]
  }
 ],
 "metadata": {
  "kernelspec": {
   "display_name": "base",
   "language": "python",
   "name": "python3"
  },
  "language_info": {
   "codemirror_mode": {
    "name": "ipython",
    "version": 3
   },
   "file_extension": ".py",
   "mimetype": "text/x-python",
   "name": "python",
   "nbconvert_exporter": "python",
   "pygments_lexer": "ipython3",
   "version": "3.9.13"
  },
  "orig_nbformat": 4
 },
 "nbformat": 4,
 "nbformat_minor": 2
}
