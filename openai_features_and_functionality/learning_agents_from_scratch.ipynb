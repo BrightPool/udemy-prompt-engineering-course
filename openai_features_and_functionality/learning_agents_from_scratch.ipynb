{
 "cells": [
  {
   "cell_type": "code",
   "execution_count": null,
   "id": "4111226d",
   "metadata": {},
   "outputs": [],
   "source": [
    "%pip install openai numpy matplotlib pydantic --upgrade --quiet"
   ]
  },
  {
   "cell_type": "markdown",
   "id": "31edb044-9542-431b-b1e2-4c8d7bb5ad74",
   "metadata": {},
   "source": [
    "# Simple Agentic Loop Example with the Responses API\n",
    "\n",
    "This notebook demonstrates how to build a simple agent using the OpenAI Responses API with an agentic loop.\n",
    "\n",
    "We create **two agents**:\n",
    "\n",
    "1. **Simple Agent:**\n",
    "   - The agent enters a loop where it sends a request and checks whether the response contains a tool call. \n",
    "   - If so, it executes the function (e.g. _get_weather_) and appends the result to the conversation.\n",
    "   - The loop stops when there are no more tool calls and the response contains final text (`output_text`).\n",
    "\n",
    "2. **Objective-Based Agent:**\n",
    "   - The agent is given a custom objective function (e.g. check whether the phrase \"task complete\" is in the output).\n",
    "   - It loops until the objective function returns `True`.\n",
    "\n",
    "Below, you'll see the code for each agent along with explanations."
   ]
  },
  {
   "cell_type": "markdown",
   "id": "c5d4cd2e-a072-4d0b-8d1f-ddf6e5c4e2a1",
   "metadata": {},
   "source": [
    "## Prerequisites\n",
    "\n",
    "Make sure you have the OpenAI Python package installed and have set up authentication with your API key. Also, you should have any supporting code (for example, a real implementation of `get_weather`) ready.\n",
    "\n",
    "For demonstration, we'll define a simple `get_weather` function which calls a public weather API."
   ]
  },
  {
   "cell_type": "code",
   "execution_count": 1,
   "id": "3625b112",
   "metadata": {},
   "outputs": [],
   "source": [
    "from openai import OpenAI\n",
    "import json\n",
    "import requests"
   ]
  },
  {
   "cell_type": "code",
   "execution_count": null,
   "id": "c8755f2e",
   "metadata": {},
   "outputs": [],
   "source": [
    "MODEL = \"gpt-4.1-mini\""
   ]
  },
  {
   "cell_type": "code",
   "execution_count": 2,
   "id": "7645c517-f11e-4a8b-b375-6a2bdc90b213",
   "metadata": {},
   "outputs": [],
   "source": [
    "def get_weather(latitude, longitude):\n",
    "    # For demonstration we use a public weather API\n",
    "    response = requests.get(\n",
    "        f\"https://api.open-meteo.com/v1/forecast?latitude={latitude}&longitude={longitude}&current=temperature_2m\"\n",
    "    )\n",
    "    data = response.json()\n",
    "    return data['current']['temperature_2m']\n",
    "\n",
    "\n",
    "# Initialize the client\n",
    "# Note: In a real application, you would use an environment variable or secure method\n",
    "# to store your API key. This is just for demonstration.\n",
    "client = OpenAI(\n",
    "    # Replace with your actual API key or use: api_key=os.environ.get(\"OPENAI_API_KEY\")\n",
    "    api_key=\"YOUR_API_KEY_HERE\"\n",
    ")\n",
    "\n",
    "# Define the get_weather tool with a strict JSON schema\n",
    "weather_tool = {\n",
    "    \"type\": \"function\",\n",
    "    \"name\": \"get_weather\",\n",
    "    \"description\": \"Get current temperature for provided coordinates in celsius.\",\n",
    "    \"parameters\": {\n",
    "        \"type\": \"object\",\n",
    "        \"properties\": {\n",
    "            \"latitude\": { \"type\": \"number\", \"description\": \"Latitude of the location.\" },\n",
    "            \"longitude\": { \"type\": \"number\", \"description\": \"Longitude of the location.\" }\n",
    "        },\n",
    "        \"required\": [\"latitude\", \"longitude\"],\n",
    "        \"additionalProperties\": False\n",
    "    },\n",
    "    \"strict\": True\n",
    "}\n",
    "\n",
    "# We can also define more tools such as send_email or search_knowledge_base if desired.\n",
    "# For the purpose of these examples, we will use just the weather tool.\n",
    "\n",
    "tools = [weather_tool]"
   ]
  },
  {
   "cell_type": "markdown",
   "id": "34d16527-c9fc-41b1-90f8-9f1427bd254e",
   "metadata": {},
   "source": [
    "## Agent 1: Simple Agent Loop\n",
    "\n",
    "This agent sends a prompt (asking about the weather), then enters an agentic loop. \n",
    "\n",
    "At each turn, it calls the Responses API:\n",
    "\n",
    "- **If the response contains a tool call:** The agent executes the function (using our `get_weather` tool) and appends the function result to the conversation as a new message.\n",
    "- **If the response provides output text:** The agent stops, printing the final output.\n",
    "\n",
    "Below is the code for the simple agent."
   ]
  },
  {
   "cell_type": "code",
   "execution_count": 16,
   "id": "7dafb74f-5a71-4f7e-a0a1-859a4d6c1a2c",
   "metadata": {},
   "outputs": [
    {
     "name": "stdout",
     "output_type": "stream",
     "text": [
      "Executed get_weather: Result = 13.2°C\n",
      "Final Agent Output: The current temperature in Paris today is approximately 13.2°C. If you need more detailed weather information, such as conditions or forecast, let me know!\n"
     ]
    }
   ],
   "source": [
    "# Initialize the conversation with a user prompt\n",
    "messages = [{\"role\": \"developer\", \"content\": \"What's the weather like in Paris today?\"}]\n",
    "\n",
    "while True:\n",
    "    response = client.responses.create(\n",
    "        model=MODEL,\n",
    "        input=messages,\n",
    "        tools=tools\n",
    "    )\n",
    "    \n",
    "    # Process all function calls in the response\n",
    "    if response.output:\n",
    "        for output_item in response.output:\n",
    "            if hasattr(output_item, 'type') and output_item.type == \"function_call\":\n",
    "                # Append the function call to the messages:\n",
    "                messages.append(output_item)\n",
    "\n",
    "                tool_call = output_item\n",
    "                args = json.loads(tool_call.arguments)\n",
    "                \n",
    "                # Execute the function, e.g. get_weather (simulate using our get_weather function)\n",
    "                result = get_weather(args['latitude'], args['longitude'])\n",
    "                print(f\"Executed {tool_call.name}: Result = {result}°C\")\n",
    "\n",
    "                # Append the function call output to the conversation\n",
    "                messages.append({\n",
    "                    \"type\": \"function_call_output\",\n",
    "                    \"call_id\": tool_call.call_id,\n",
    "                    \"output\": str(result)\n",
    "                })\n",
    "    \n",
    "    # If the final output text is provided, break the loop\n",
    "    if hasattr(response, 'output_text') and response.output_text:\n",
    "        print(\"Final Agent Output:\", response.output_text)\n",
    "        break\n",
    "\n",
    "    # Otherwise, continue the loop (in a full implementation, you might update the conversation further)\n",
    "    \n",
    "    # For simplicity, break if no further tool calls are made\n",
    "    if not response.output:\n",
    "        break"
   ]
  },
  {
   "cell_type": "code",
   "execution_count": 17,
   "id": "e7655211",
   "metadata": {},
   "outputs": [],
   "source": [
    "def agent_loop(messages, tools):\n",
    "    while True:\n",
    "        response = client.responses.create(\n",
    "            model=MODEL,\n",
    "            input=messages,\n",
    "            tools=tools\n",
    "        )\n",
    "        \n",
    "        # Process all function calls in the response\n",
    "        if response.output:\n",
    "            for output_item in response.output:\n",
    "                if hasattr(output_item, 'type') and output_item.type == \"function_call\":\n",
    "                    # Append the function call to the messages:\n",
    "                    messages.append(output_item)\n",
    "\n",
    "                    tool_call = output_item\n",
    "                    args = json.loads(tool_call.arguments)\n",
    "                    \n",
    "                    # Execute the function, e.g. get_weather (simulate using our get_weather function)\n",
    "                    result = get_weather(args['latitude'], args['longitude'])\n",
    "                    print(f\"Executed {tool_call.name}: Result = {result}°C\")\n",
    "\n",
    "                    # Append the function call output to the conversation\n",
    "                    messages.append({\n",
    "                        \"type\": \"function_call_output\",\n",
    "                        \"call_id\": tool_call.call_id,\n",
    "                        \"output\": str(result)\n",
    "                    })\n",
    "        \n",
    "        # If the final output text is provided, break the loop\n",
    "        if hasattr(response, 'output_text') and response.output_text:\n",
    "            print(\"Final Agent Output:\", response.output_text)\n",
    "            break\n",
    "\n",
    "        # Otherwise, continue the loop (in a full implementation, you might update the conversation further)\n",
    "        \n",
    "        # For simplicity, break if no further tool calls are made\n",
    "        if not response.output:\n",
    "            break"
   ]
  },
  {
   "cell_type": "code",
   "execution_count": 18,
   "id": "0bd289eb",
   "metadata": {},
   "outputs": [],
   "source": [
    "# Initialize the conversation with a user prompt\n",
    "messages = [{\"role\": \"developer\", \"content\": \"What's the weather like in Paris today? Before replying I want you to also get the weather for Berlin.\"}]"
   ]
  },
  {
   "cell_type": "code",
   "execution_count": 19,
   "id": "49e422ff",
   "metadata": {},
   "outputs": [
    {
     "name": "stdout",
     "output_type": "stream",
     "text": [
      "Executed get_weather: Result = 13.2°C\n",
      "Executed get_weather: Result = 23.8°C\n",
      "Final Agent Output: Today, the weather in Paris is 13.2°C, while in Berlin it is warmer at 23.8°C.\n"
     ]
    }
   ],
   "source": [
    "agent_loop(messages=messages, tools=tools)"
   ]
  },
  {
   "cell_type": "markdown",
   "id": "ed857dce-9b25-4490-8516-1a043d6b2ff8",
   "metadata": {},
   "source": [
    "---\n",
    "\n",
    "## Agent 2: Agent with Custom Objective Function\n",
    "\n",
    "This agent uses a custom objective function to decide whether to continue looping. In this example, the objective function checks if the agent's output text contains the phrase \"task complete\".\n",
    "\n",
    "The agent will continue to request responses (and execute any tool calls) until the objective is met. Note that this is a simplified demonstration intended for teaching purposes."
   ]
  },
  {
   "cell_type": "code",
   "execution_count": 25,
   "id": "0f937e76-c5e3-4b04-b3c3-395fd103ae3b",
   "metadata": {},
   "outputs": [
    {
     "name": "stdout",
     "output_type": "stream",
     "text": [
      "Executed get_weather: 23.8°C\n",
      "Executed get_weather: 13.2°C\n",
      "Executed get_weather: 18.1°C\n",
      "Executed get_weather: 8.2°C\n",
      "Executed get_weather: 9.9°C\n",
      "Executed get_weather: 15.4°C\n",
      "Objective met: searched 6 cities. Task complete.\n"
     ]
    }
   ],
   "source": [
    "import json\n",
    "\n",
    "def objective_met(search_count, max_searches=5):\n",
    "    # Stop once we've searched more than max_searches cities\n",
    "    return search_count > max_searches\n",
    "\n",
    "# Initial conversation: developer sets the task, user gives the first city\n",
    "messages= [\n",
    "    {\n",
    "        \"role\": \"developer\",\n",
    "        \"content\": (\n",
    "            \"Your goal is to gather weather for at least 5 different cities. \"\n",
    "            \"Once you've done that, respond with 'task complete'.\"\n",
    "        )\n",
    "    },\n",
    "    {\"role\": \"user\", \"content\": \"Search the weather in Berlin.\"}\n",
    "]\n",
    "\n",
    "search_count = 0\n",
    "\n",
    "while True:\n",
    "    response = client.responses.create(\n",
    "        model=MODEL,\n",
    "        input=messages,\n",
    "        tools=tools\n",
    "    )\n",
    "    \n",
    "    # 1) Handle any function calls (e.g. get_weather)\n",
    "    for item in response.output or []:\n",
    "        if getattr(item, 'type', None) == \"function_call\":\n",
    "            messages.append(item)  # pass the function call back into context\n",
    "            \n",
    "            # parse and execute\n",
    "            args = json.loads(item.arguments)\n",
    "            temp = get_weather(args['latitude'], args['longitude'])\n",
    "            print(f\"Executed {item.name}: {temp}°C\")\n",
    "            \n",
    "            # append function result\n",
    "            messages.append({\n",
    "                \"type\": \"function_call_output\",\n",
    "                \"call_id\": item.call_id,\n",
    "                \"output\": str(temp)\n",
    "            })\n",
    "            \n",
    "            search_count += 1\n",
    "    \n",
    "    # 2) Check for assistant output_text\n",
    "    if hasattr(response, 'output_text') and response.output_text:\n",
    "        text = response.output_text\n",
    "        print(\"Agent says:\", text)\n",
    "        messages.append({\"role\": \"assistant\", \"content\": text})\n",
    "    \n",
    "    # 3) Check objective\n",
    "    if objective_met(search_count):\n",
    "        print(f\"Objective met: searched {search_count} cities. Task complete.\")\n",
    "        break\n",
    "    \n",
    "    # 4) If not done, prompt for the next city\n",
    "    messages.append({\n",
    "        \"role\": \"user\",\n",
    "        \"content\": f\"We've searched {search_count} so far. Please search another city.\"\n",
    "    })\n"
   ]
  },
  {
   "cell_type": "code",
   "execution_count": 28,
   "id": "8f57fd6f",
   "metadata": {},
   "outputs": [
    {
     "name": "stdout",
     "output_type": "stream",
     "text": [
      "{'type': 'function_call_output', 'call_id': 'call_ktvU8fMFC6uilq92QA2bKeYX', 'output': '15.4'}\n"
     ]
    }
   ],
   "source": [
    "print(messages[-1])"
   ]
  },
  {
   "cell_type": "markdown",
   "id": "c9e0e6c0-5e20-488f-8d8e-0d7718af3bf0",
   "metadata": {},
   "source": [
    "## Summary\n",
    "\n",
    "- **Agent 1 (Simple Agent):**\n",
    "  - Uses a while loop to repeatedly call the Responses API.\n",
    "  - Checks for tool (function) calls, executes them, and appends the output to the conversation.\n",
    "  - The loop stops when a final response (output_text) is provided and there are no more tool calls.\n",
    "\n",
    "- **Agent 2 (Objective-Based Agent):**\n",
    "  - Uses a custom objective function (`objective_met`) to decide when to stop the loop.\n",
    "  - Continues to gather responses and execute tools until the agent's output includes a key phrase (\"task complete\").\n",
    "\n",
    "Both agents illustrate how you can build agentic loops from scratch using the Responses API and custom tools. Adapt and extend these examples as needed for more complex tasks!"
   ]
  }
 ],
 "metadata": {
  "kernelspec": {
   "display_name": "base",
   "language": "python",
   "name": "python3"
  },
  "language_info": {
   "codemirror_mode": {
    "name": "ipython",
    "version": 3
   },
   "file_extension": ".py",
   "mimetype": "text/x-python",
   "name": "python",
   "nbconvert_exporter": "python",
   "pygments_lexer": "ipython3",
   "version": "3.12.4"
  }
 },
 "nbformat": 4,
 "nbformat_minor": 5
}
