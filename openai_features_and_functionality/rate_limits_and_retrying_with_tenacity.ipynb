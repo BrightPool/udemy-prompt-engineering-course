{
  "cells": [
    {
      "cell_type": "markdown",
      "id": "e39db541",
      "metadata": {},
      "source": [
        "# Handling Rate Limits & Retrying with the Responses API\n",
        "\n",
        "This notebook covers:\n",
        "1. **Rate Limits** – understanding, inspecting, and proactively respecting API rate limits.\n",
        "2. **Retrying** – strategies for automatically retrying failed requests using exponential backoff.\n",
        "\n",
        "*All examples use the new `Responses API` via `client.responses.create(...)`.*"
      ]
    },
    {
      "cell_type": "markdown",
      "id": "a51f843b",
      "metadata": {},
      "source": [
        "## Install Dependencies\n",
        "Make sure you have the latest OpenAI client and retry libraries."
      ]
    },
    {
      "cell_type": "code",
      "execution_count": 24,
      "id": "d14750ab",
      "metadata": {},
      "outputs": [
        {
          "name": "stdout",
          "output_type": "stream",
          "text": [
            "Note: you may need to restart the kernel to use updated packages.\n"
          ]
        }
      ],
      "source": [
        "%pip install openai tenacity backoff --quiet --upgrade\n"
      ]
    },
    {
      "cell_type": "markdown",
      "id": "1d53bf99",
      "metadata": {},
      "source": [
        "## Initialize Client\n",
        "Use your `OPENAI_API_KEY` environment variable or pass `api_key=` explicitly."
      ]
    },
    {
      "cell_type": "code",
      "execution_count": 25,
      "id": "55f54988",
      "metadata": {},
      "outputs": [],
      "source": [
        "from openai import OpenAI"
      ]
    },
    {
      "cell_type": "code",
      "execution_count": 26,
      "id": "d82124ae",
      "metadata": {},
      "outputs": [],
      "source": [
        "MODEL = \"gpt-4.1-mini\"\n",
        "API_KEY= \"\""
      ]
    },
    {
      "cell_type": "code",
      "execution_count": 27,
      "id": "0001dc8e",
      "metadata": {},
      "outputs": [],
      "source": [
        "# Create an OpenAI client instance\n",
        "client = OpenAI(\n",
        "    # Replace with your actual API key or use: api_key=os.environ.get(\"OPENAI_API_KEY\")\n",
        "    api_key=API_KEY,\n",
        "    # Configure the number of retries, the default is 2\n",
        "    max_retries=6\n",
        ")"
      ]
    },
    {
      "cell_type": "markdown",
      "id": "70327ae9",
      "metadata": {},
      "source": [
        "## 1. Rate Limits Overview\n",
        "\n",
        "- **RPM**: requests per minute\n",
        "- **TPM**: tokens per minute\n",
        "- **RPD**, **TPD**, **IPM** etc.\n",
        "\n",
        "Rate limits protect fairness and stability. You can view your current limits in your account dashboard."
      ]
    },
    {
      "cell_type": "markdown",
      "id": "460d0c93",
      "metadata": {},
      "source": [
        "### Inspecting Rate Limit Headers\n",
        "Each response exposes headers like `x-ratelimit-remaining-requests`. Let's see how to access them."
      ]
    },
    {
      "cell_type": "code",
      "execution_count": 28,
      "id": "b5ec9603",
      "metadata": {},
      "outputs": [
        {
          "name": "stdout",
          "output_type": "stream",
          "text": [
            "Remaining requests:  499\n"
          ]
        }
      ],
      "source": [
        "import requests\n",
        "\n",
        "headers = {\n",
        "    'Authorization': f'Bearer {API_KEY}',\n",
        "    'Content-Type': 'application/json'\n",
        "}\n",
        "\n",
        "messages = [\n",
        "    {\"role\": \"user\", \"content\": \"j\"}\n",
        "]\n",
        "data = {\n",
        "    'model': MODEL, \n",
        "    'messages': messages,  # List of message dictionaries\n",
        "    'max_tokens': 1,\n",
        "}\n",
        "\n",
        "response = requests.post('https://api.openai.com/v1/chat/completions', headers=headers, json=data)\n",
        "response_headers = response.headers['x-ratelimit-remaining-requests']\n",
        "print(\"Remaining requests: \", response_headers)"
      ]
    },
    {
      "cell_type": "markdown",
      "id": "48115423",
      "metadata": {},
      "source": [
        "## 2. Retrying Strategies\n",
        "When you do hit a rate limit (`429`), automatic retries with exponential backoff help smooth over spikes."
      ]
    },
    {
      "cell_type": "markdown",
      "id": "049d5b0c",
      "metadata": {},
      "source": [
        "### 2.0 With the client itself"
      ]
    },
    {
      "cell_type": "code",
      "execution_count": 34,
      "id": "caa1319e",
      "metadata": {},
      "outputs": [
        {
          "data": {
            "text/plain": [
              "ChatCompletion(id='chatcmpl-BNGvsrH0r03LiTrOJV1ka4n4mXQ6N', choices=[Choice(finish_reason='stop', index=0, logprobs=None, message=ChatCompletionMessage(content='To get the name of the current day in JavaScript, you can use the `Date` object along with an array of day names. Here\\'s a simple example:\\n\\n```javascript\\n// Create a new Date object for the current date and time\\nconst today = new Date();\\n\\n// Array of day names\\nconst days = [\\'Sunday\\', \\'Monday\\', \\'Tuesday\\', \\'Wednesday\\', \\'Thursday\\', \\'Friday\\', \\'Saturday\\'];\\n\\n// Get the current day index (0 = Sunday, 1 = Monday, etc.)\\nconst dayIndex = today.getDay();\\n\\n// Get the name of the current day\\nconst dayName = days[dayIndex];\\n\\nconsole.log(dayName);  // e.g., \"Monday\"\\n```\\n\\n### Explanation:\\n- `Date.prototype.getDay()` returns an integer between 0 and 6 representing the day of the week (0 for Sunday, 1 for Monday, etc.).\\n- You use this index to access the corresponding day name from the `days` array.\\n\\nAlternatively, you can also use the [`toLocaleDateString`](https://developer.mozilla.org/en-US/docs/Web/JavaScript/Reference/Global_Objects/Date/toLocaleDateString) method with options to get the localized day name:\\n\\n```javascript\\nconst today = new Date();\\n\\n// Get the day name using toLocaleDateString\\nconst dayName = today.toLocaleDateString(\\'en-US\\', { weekday: \\'long\\' });\\n\\nconsole.log(dayName);  // e.g., \"Monday\"\\n```\\n\\nThis method is helpful if you want the day name in a specific locale or language.', refusal=None, role='assistant', annotations=[], audio=None, function_call=None, tool_calls=None))], created=1744886332, model='gpt-4.1-mini-2025-04-14', object='chat.completion', service_tier='default', system_fingerprint='fp_38647f5e19', usage=CompletionUsage(completion_tokens=317, prompt_tokens=21, total_tokens=338, completion_tokens_details=CompletionTokensDetails(accepted_prediction_tokens=0, audio_tokens=0, reasoning_tokens=0, rejected_prediction_tokens=0), prompt_tokens_details=PromptTokensDetails(audio_tokens=0, cached_tokens=0)))"
            ]
          },
          "execution_count": 34,
          "metadata": {},
          "output_type": "execute_result"
        }
      ],
      "source": [
        "# Or, configure per-request:\n",
        "client.with_options(max_retries=5).chat.completions.create(\n",
        "    messages=[\n",
        "        {\n",
        "            \"role\": \"user\",\n",
        "            \"content\": \"How can I get the name of the current day in JavaScript?\",\n",
        "        }\n",
        "    ],\n",
        "    model=MODEL,\n",
        ")"
      ]
    },
    {
      "cell_type": "markdown",
      "id": "8dd2d4fa",
      "metadata": {},
      "source": [
        "### 2.1 Tenacity Example\n",
        "Use `tenacity` to retry on `RateLimitError`."
      ]
    },
    {
      "cell_type": "code",
      "execution_count": 30,
      "id": "5175df77",
      "metadata": {},
      "outputs": [
        {
          "name": "stdout",
          "output_type": "stream",
          "text": [
            "Sure! Here’s a joke for you:\n",
            "\n",
            "Why don't scientists trust atoms?\n",
            "\n",
            "Because they make up everything!\n"
          ]
        }
      ],
      "source": [
        "from tenacity import retry, stop_after_attempt, wait_random_exponential\n",
        "\n",
        "@retry(\n",
        "    reraise=True,\n",
        "    stop=stop_after_attempt(6),\n",
        "    wait=wait_random_exponential(min=1, max=60)\n",
        ")\n",
        "def create_with_backoff(**kwargs):\n",
        "    return client.responses.create(**kwargs)\n",
        "\n",
        "# call with retry logic\n",
        "resp = create_with_backoff(\n",
        "    model=MODEL,\n",
        "    input=[{\"role\":\"user\",\"content\":\"Tell me a joke.\"}]\n",
        ")\n",
        "print(resp.output_text)"
      ]
    },
    {
      "cell_type": "markdown",
      "id": "8eb99057",
      "metadata": {},
      "source": [
        "### 2.2 Manual Exponential Backoff\n",
        "Implement your own retry decorator."
      ]
    },
    {
      "cell_type": "code",
      "execution_count": 32,
      "id": "c963850c",
      "metadata": {},
      "outputs": [
        {
          "name": "stdout",
          "output_type": "stream",
          "text": [
            "Kubernetes, often abbreviated as **K8s**, is an open-source platform designed for automating the deployment, scaling, and management of containerized applications. Originally developed by Google, it is now maintained by the Cloud Native Computing Foundation (CNCF).\n",
            "\n",
            "### Key Concepts of Kubernetes\n",
            "\n",
            "1. **Containers**: Containers package an application and its dependencies into a single unit that can run reliably on any computing environment. Kubernetes is built specifically to orchestrate containers, often using Docker or other container runtimes.\n",
            "\n",
            "2. **Cluster**: A Kubernetes cluster consists of a set of worker machines, called **nodes**, that run containerized applications. One or more master nodes manage the cluster.\n",
            "\n",
            "3. **Pods**: The smallest deployable units in Kubernetes. A pod can contain one or more tightly coupled containers that share storage/network and a specification for how to run them.\n",
            "\n",
            "4. **Nodes**: Machines that run your containers. Each node runs a container runtime and the Kubernetes node agent (**kubelet**).\n",
            "\n",
            "5. **Master Components** (Control Plane):\n",
            "   - **API Server**: The front-end for the Kubernetes control plane, it exposes the Kubernetes API.\n",
            "   - **Scheduler**: Assigns workloads (pods) to nodes based on resource availability.\n",
            "   - **Controller Manager**: Manages controllers that regulate the state of the cluster.\n",
            "   - **etcd**: A distributed key-value store used as Kubernetes’ backing store for all cluster data.\n",
            "\n",
            "6. **Services**: A stable networking endpoint to expose a set of pods, abstracting the details of pod IPs which can change.\n",
            "\n",
            "7. **Deployments**: Define the desired state of your application, such as the number of replicas (pods) to run. Kubernetes continuously works to maintain this state.\n",
            "\n",
            "8. **Scaling and Self-Healing**: Kubernetes can automatically scale applications up or down and restart failed containers to ensure application availability.\n",
            "\n",
            "### Benefits of Kubernetes\n",
            "\n",
            "- **Portability and Flexibility**: Runs on many environments—cloud providers like AWS, GCP, Azure, on-premises, or hybrid.\n",
            "- **Automated Rollouts and Rollbacks**: Manage application changes with minimal downtime.\n",
            "- **Efficient Resource Utilization**: Automatically places containers based on resources and policies.\n",
            "- **Service Discovery and Load Balancing**: Facilitates communication within the cluster and external access.\n",
            "- **Declarative Configuration and Automation**: Define the system state using YAML or JSON configuration files.\n",
            "\n",
            "### Summary\n",
            "\n",
            "Kubernetes is a powerful tool that helps developers and operations teams efficiently deploy, manage, and scale containerized applications in diverse environments. It abstracts the underlying infrastructure, allowing teams to focus more on developing applications rather than managing servers or containers individually.\n"
          ]
        }
      ],
      "source": [
        "import random\n",
        "import time\n",
        "import openai\n",
        "\n",
        "def retry_with_backoff(\n",
        "    func,\n",
        "    initial_delay=1,\n",
        "    factor=2,\n",
        "    jitter=True,\n",
        "    max_retries=5\n",
        "):\n",
        "    def wrapper(*args, **kwargs):\n",
        "        delay = initial_delay\n",
        "        for i in range(max_retries):\n",
        "            try:\n",
        "                return func(*args, **kwargs)\n",
        "            except openai.RateLimitError as e:\n",
        "                sleep = delay * (1 + (random.random() if jitter else 0))\n",
        "                print(f\"Rate limited, retrying in {sleep:.1f}s...\")\n",
        "                time.sleep(sleep)\n",
        "                delay *= factor\n",
        "        raise Exception(\"Max retries exceeded.\")\n",
        "    return wrapper\n",
        "\n",
        "@retry_with_backoff\n",
        "def create_manual(**kwargs):\n",
        "    return client.responses.create(**kwargs)\n",
        "\n",
        "# Call with manual backoff\n",
        "resp3 = create_manual(\n",
        "    model=MODEL,\n",
        "    input=[{\"role\":\"user\",\"content\":\"Explain Kubernetes.\"}]\n",
        ")\n",
        "print(resp3.output_text)"
      ]
    },
    {
      "cell_type": "markdown",
      "id": "bcddf3a9",
      "metadata": {},
      "source": [
        "### Next Steps & Best Practices\n",
        "- Monitor your usage dashboard regularly.\n",
        "- Surface rate‑limit headers in your UI/logs.\n",
        "- Tune your backoff parameters for your workload.\n",
        "- Consider model fallback if certain models hit limits.\n",
        "\n",
        "> **Pro Tip:** Jitter + exponential backoff avoids thundering‑herd issues."
      ]
    }
  ],
  "metadata": {
    "kernelspec": {
      "display_name": "base",
      "language": "python",
      "name": "python3"
    },
    "language_info": {
      "codemirror_mode": {
        "name": "ipython",
        "version": 3
      },
      "file_extension": ".py",
      "mimetype": "text/x-python",
      "name": "python",
      "nbconvert_exporter": "python",
      "pygments_lexer": "ipython3",
      "version": "3.12.4"
    }
  },
  "nbformat": 4,
  "nbformat_minor": 5
}
