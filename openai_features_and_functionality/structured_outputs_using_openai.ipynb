{
 "cells": [
  {
   "cell_type": "code",
   "execution_count": null,
   "metadata": {},
   "outputs": [],
   "source": [
    "%pip install openai numpy matplotlib pydantic --upgrade --quiet"
   ]
  },
  {
   "cell_type": "code",
   "execution_count": null,
   "metadata": {},
   "outputs": [],
   "source": [
    "from enum import Enum\n",
    "from pydantic import BaseModel, Field\n",
    "import os\n",
    "from openai import OpenAI\n",
    "import openai\n",
    "from typing import Union"
   ]
  },
  {
   "cell_type": "code",
   "execution_count": null,
   "metadata": {},
   "outputs": [],
   "source": [
    "os.environ[\"OPENAI_API_KEY\"] = \"set your API key here\"\n",
    "MODEL = \"gpt-4.1-mini\""
   ]
  },
  {
   "cell_type": "code",
   "execution_count": 6,
   "metadata": {},
   "outputs": [
    {
     "name": "stdout",
     "output_type": "stream",
     "text": [
      "ParsedChatCompletion[KeyPointsAndSummary](id='chatcmpl-ADDmMRySmjQ0wltxarGQYpBc0CvMR', choices=[ParsedChoice[KeyPointsAndSummary](finish_reason='stop', index=0, logprobs=None, message=ParsedChatCompletionMessage[KeyPointsAndSummary](content='{\"key_points\":[\"James is a positive person.\",\"He enjoys learning about coding.\",\"James is interested in acquiring new skills.\"],\"summary\":\"James is an enthusiastic individual who has a passion for learning, particularly in the field of coding and other new subjects.\"}', refusal=None, role='assistant', function_call=None, tool_calls=[], parsed=KeyPointsAndSummary(key_points=['James is a positive person.', 'He enjoys learning about coding.', 'James is interested in acquiring new skills.'], summary='James is an enthusiastic individual who has a passion for learning, particularly in the field of coding and other new subjects.')))], created=1727714594, model='gpt-4o-mini-2024-07-18', object='chat.completion', service_tier=None, system_fingerprint='fp_f85bea6784', usage=CompletionUsage(completion_tokens=51, prompt_tokens=105, total_tokens=156, completion_tokens_details=CompletionTokensDetails(reasoning_tokens=0)))\n"
     ]
    }
   ],
   "source": [
    "class KeyPoints(BaseModel):\n",
    "    key_points: list[str] = Field(description=\"A list of key points extracted from the text.\")\n",
    "\n",
    "class KeyPointsAndSummary(KeyPoints):\n",
    "    summary: str = Field(description=\"A summary of this text.\")\n",
    "\n",
    "client = OpenAI()\n",
    "\n",
    "completion = client.beta.chat.completions.parse(\n",
    "    model=MODEL,\n",
    "    messages=[\n",
    "        {\"role\": \"user\", \"content\": \"James is awesome, and likes to learn code and new things!\"}\n",
    "    ],\n",
    "    response_format=KeyPointsAndSummary\n",
    ")\n",
    "\n",
    "print(completion)"
   ]
  },
  {
   "cell_type": "code",
   "execution_count": 7,
   "metadata": {},
   "outputs": [
    {
     "name": "stdout",
     "output_type": "stream",
     "text": [
      "key_points=['James is a positive person.', 'He enjoys learning about coding.', 'James is interested in acquiring new skills.'] summary='James is an enthusiastic individual who has a passion for learning, particularly in the field of coding and other new subjects.'\n"
     ]
    }
   ],
   "source": [
    "key_points = KeyPointsAndSummary.model_validate_json(completion.choices[0].message.content)\n",
    "print(key_points)"
   ]
  },
  {
   "cell_type": "code",
   "execution_count": 10,
   "metadata": {},
   "outputs": [],
   "source": [
    "class Table(str, Enum):\n",
    "    fruits = \"fruits\"\n",
    "\n",
    "class Column(str, Enum):\n",
    "    id = \"id\"\n",
    "    color = \"color\"\n",
    "    ripeness = \"ripeness\"\n",
    "    picked_at = \"picked_at\"\n",
    "    sold_at = \"sold_at\"\n",
    "    stored_at = \"stored_at\"\n",
    "    discarded_at = \"discarded_at\""
   ]
  },
  {
   "cell_type": "code",
   "execution_count": 12,
   "metadata": {},
   "outputs": [],
   "source": [
    "class Operator(str, Enum):\n",
    "    eq = \"eq\"\n",
    "    gt = \">\"\n",
    "    lt = \"<\"\n",
    "    le = \"<=\"\n",
    "    ge = \">=\"\n",
    "    ne = \"!=\""
   ]
  },
  {
   "cell_type": "code",
   "execution_count": 14,
   "metadata": {},
   "outputs": [],
   "source": [
    "class OrderBy(str, Enum):\n",
    "    asc = \"asc\"\n",
    "    desc = \"desc\"\n",
    "\n",
    "class DynamicValue(BaseModel):\n",
    "    column_name: str\n",
    "\n",
    "class Condition(BaseModel):\n",
    "    column: str\n",
    "    operator: Operator\n",
    "    value: Union[str, int, DynamicValue]\n",
    "\n",
    "class Query(BaseModel):\n",
    "    table_name: Table\n",
    "    columns: list[Column]\n",
    "    conditions: list[Condition]\n",
    "    order_by: OrderBy"
   ]
  },
  {
   "cell_type": "code",
   "execution_count": 24,
   "metadata": {},
   "outputs": [],
   "source": [
    "completion = client.chat.completions.create(model=MODEL, messages=[\n",
    "    {'role': 'system', 'content': \"You are a helpful assistant that extracts information from a user's request.\"},\n",
    "    {'role': 'user', 'content': \"I want to query the 'fruits' table to get all the apples that are ripe and sold after 2024-01-01.\"}\n",
    "], tools=[openai.pydantic_function_tool(Query)])\n"
   ]
  },
  {
   "cell_type": "code",
   "execution_count": 31,
   "metadata": {},
   "outputs": [
    {
     "data": {
      "text/plain": [
       "{'table_name': 'fruits',\n",
       " 'columns': ['id',\n",
       "  'color',\n",
       "  'ripeness',\n",
       "  'picked_at',\n",
       "  'sold_at',\n",
       "  'stored_at',\n",
       "  'discarded_at'],\n",
       " 'conditions': [{'column': 'type', 'operator': 'eq', 'value': 'apple'},\n",
       "  {'column': 'ripeness', 'operator': 'eq', 'value': 'ripe'},\n",
       "  {'column': 'sold_at', 'operator': '>', 'value': '2024-01-01'}],\n",
       " 'order_by': 'asc'}"
      ]
     },
     "execution_count": 31,
     "metadata": {},
     "output_type": "execute_result"
    }
   ],
   "source": [
    "import json\n",
    "json.loads(completion.choices[0].message.tool_calls[0].function.arguments) "
   ]
  },
  {
   "cell_type": "code",
   "execution_count": 33,
   "metadata": {},
   "outputs": [
    {
     "name": "stdout",
     "output_type": "stream",
     "text": [
      "I'm doing great, thank you! How can I assist you today?\n"
     ]
    }
   ],
   "source": [
    "completion = client.chat.completions.create(model=MODEL, messages=[\n",
    "    {'role': 'system', 'content': \"You are a helpful assistant that extracts information from a user's request.\"},\n",
    "    {'role': 'user', 'content': \"Hi how are you?\"}\n",
    "], tools=[openai.pydantic_function_tool(Query)])\n",
    "\n",
    "print(completion.choices[0].message.content)"
   ]
  }
 ],
 "metadata": {
  "kernelspec": {
   "display_name": "base",
   "language": "python",
   "name": "python3"
  },
  "language_info": {
   "codemirror_mode": {
    "name": "ipython",
    "version": 3
   },
   "file_extension": ".py",
   "mimetype": "text/x-python",
   "name": "python",
   "nbconvert_exporter": "python",
   "pygments_lexer": "ipython3",
   "version": "3.12.4"
  }
 },
 "nbformat": 4,
 "nbformat_minor": 2
}
