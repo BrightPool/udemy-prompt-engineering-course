{
 "cells": [
  {
   "cell_type": "code",
   "execution_count": null,
   "id": "8de5e7a8",
   "metadata": {},
   "outputs": [],
   "source": [
    "%pip install openai pydantic --quiet"
   ]
  },
  {
   "cell_type": "markdown",
   "id": "6a34c6b7-9f60-4b68-a32d-948d3d8fa089",
   "metadata": {},
   "source": [
    "# Tool Calling (Function Calling) with OpenAI\n",
    "\n",
    "Function calling provides a powerful and flexible way for OpenAI models to interface with your code or external services. It allows models to fetch data and take actions by calling functions you define—effectively extending the model’s capabilities. In this notebook, we cover several examples:\n",
    "\n",
    "- **Get Weather:** Retrieve the current temperature using provided coordinates.\n",
    "- **Send Email:** Simulate sending an email message.\n",
    "- **Search Knowledge Base:** Query a knowledge base for information.\n",
    "- **Web Search:** Use a web search tool to retrieve recent news or other content.\n",
    "\n",
    "We also explain how to handle function call events when streaming. \n",
    "\n",
    "Let's get started!"
   ]
  },
  {
   "cell_type": "markdown",
   "id": "a5689a98-c56d-4429-9b1d-164e183a4d44",
   "metadata": {},
   "source": [
    "## Example 1: Get Weather Function\n",
    "\n",
    "In this example, we define a `get_weather` tool that retrieves the current temperature for provided coordinates. Notice how the tool is defined using a JSON schema in the `tools` list (with strict mode enabled). \n",
    "\n",
    "The API call returns a tool call object. To fix the error you saw, we access its attributes (e.g. `.type` and `.arguments`) rather than subscript it like a dictionary.\n",
    "\n",
    "**Python Code Example:**"
   ]
  },
  {
   "cell_type": "code",
   "execution_count": 2,
   "id": "18e454f0",
   "metadata": {},
   "outputs": [],
   "source": [
    "from openai import OpenAI\n",
    "import json\n",
    "import requests"
   ]
  },
  {
   "cell_type": "code",
   "execution_count": null,
   "id": "dfd3213c",
   "metadata": {},
   "outputs": [],
   "source": [
    "MODEL = \"gpt-4.1-mini\""
   ]
  },
  {
   "cell_type": "code",
   "execution_count": 3,
   "id": "51520e9e",
   "metadata": {},
   "outputs": [],
   "source": [
    "# Create an OpenAI client instance\n",
    "client = OpenAI(\n",
    "    # Replace with your actual API key or use: api_key=os.environ.get(\"OPENAI_API_KEY\")\n",
    "    api_key=\"YOUR_API_KEY_HERE\"\n",
    ")"
   ]
  },
  {
   "cell_type": "code",
   "execution_count": 4,
   "id": "0bc2e24e-7040-4298-9971-6530b0f3c39a",
   "metadata": {},
   "outputs": [
    {
     "name": "stdout",
     "output_type": "stream",
     "text": [
      "Get Weather Response Output: [ResponseFunctionToolCall(arguments='{\"latitude\":48.8566,\"longitude\":2.3522}', call_id='call_KJThMN9cz0pJLesi3fnxjB17', name='get_weather', type='function_call', id='fc_67fff71414b48192b5d5e16832325e0805a286687b3e5c09', status='completed')]\n",
      "Weather Result: 13.2°C\n",
      "Get Weather Response Output: The weather in Paris today is approximately 13.2°C. If you need more details such as forecasts or conditions (e.g., sunny, rainy), let me know!\n"
     ]
    }
   ],
   "source": [
    "# Sample implementation for the get_weather function\n",
    "def get_weather(latitude, longitude):\n",
    "    response = requests.get(\n",
    "        f\"https://api.open-meteo.com/v1/forecast?latitude={latitude}&longitude={longitude}&current=temperature_2m,wind_speed_10m&hourly=temperature_2m,relative_humidity_2m,wind_speed_10m\"\n",
    "    )\n",
    "    data = response.json()\n",
    "    return data['current']['temperature_2m']\n",
    "\n",
    "# Define the get_weather tool with strict mode\n",
    "tools = [{\n",
    "    \"type\": \"function\",\n",
    "    \"name\": \"get_weather\",\n",
    "    \"description\": \"Get current temperature for provided coordinates in celsius.\",\n",
    "    \"parameters\": {\n",
    "        \"type\": \"object\",\n",
    "        \"properties\": {\n",
    "            \"latitude\": {\"type\": \"number\", \"description\": \"Latitude of the location.\"},\n",
    "            \"longitude\": {\"type\": \"number\", \"description\": \"Longitude of the location.\"}\n",
    "        },\n",
    "        \"required\": [\"latitude\", \"longitude\"],\n",
    "        \"additionalProperties\": False\n",
    "    },\n",
    "    \"strict\": True\n",
    "}]\n",
    "\n",
    "# Input message asking about the weather in Paris\n",
    "input_messages = [{\"role\": \"user\", \"content\": \"What's the weather like in Paris today?\"}]\n",
    "\n",
    "# Call the API\n",
    "response = client.responses.create(\n",
    "    model=MODEL,\n",
    "    input=input_messages,\n",
    "    tools=tools\n",
    ")\n",
    "\n",
    "# Print the model's output (expected to include a function call)\n",
    "print(\"Get Weather Response Output:\", response.output)\n",
    "\n",
    "# If the model calls the function, access its attributes (note the use of dot-access).\n",
    "if response.output and response.output[0].type == \"function_call\":\n",
    "    tool_call = response.output[0]\n",
    "    args = json.loads(tool_call.arguments)\n",
    "    weather_result = get_weather(args['latitude'], args['longitude'])\n",
    "    print(f\"Weather Result: {weather_result}°C\")\n",
    "\n",
    "# Add the function call output to the input messages and call the API again.\n",
    "input_messages.append(tool_call)  # append model's function call message\n",
    "input_messages.append({                               # append result message\n",
    "    \"type\": \"function_call_output\",\n",
    "    \"call_id\": tool_call.call_id,\n",
    "    \"output\": str(json.dumps(weather_result) )\n",
    "})\n",
    "\n",
    "# Call the API again with the updated input messages\n",
    "response = client.responses.create(\n",
    "    model=MODEL,\n",
    "    input=input_messages,\n",
    "    tools=tools\n",
    ")\n",
    "\n",
    "print(\"Get Weather Response Output:\", response.output_text)"
   ]
  },
  {
   "cell_type": "markdown",
   "id": "c9e0e6c0-5e20-488f-8d8e-0d7718af3bf0",
   "metadata": {},
   "source": [
    "## Example 2: Web Search Tool\n",
    "\n",
    "Finally, we add a web search tool. This tool lets the model retrieve the latest online information. It can be used to fetch timely data such as news or restaurant recommendations. \n",
    "\n",
    "The following example shows how to use the `web_search_preview` tool with the Responses API. Note that you can also customize user location and search context size if needed.\n",
    "\n",
    "**Python Code Example:**"
   ]
  },
  {
   "cell_type": "code",
   "execution_count": 5,
   "id": "f05b9be1-3893-4f90-b8fe-1b1fd5058f53",
   "metadata": {},
   "outputs": [
    {
     "name": "stdout",
     "output_type": "stream",
     "text": [
      "Web Search Tool Response Output: As of April 16, 2025, one notable positive news story is the Democratic Republic of Congo's (DRC) commitment to establish the world's largest protected tropical reserve, known as the Couloir Vert or 'Green Corridor'. This expansive reserve will cover an area approximately the size of France, aiming to conserve vast tracts of the Congo Basin, including forests and peatlands. The Congo Basin is recognized as the largest tropical carbon sink globally and is home to a diverse array of species, such as the eastern lowland gorillas. This initiative underscores the DRC's dedication to addressing climate change and preserving biodiversity. ([positive.news](https://www.positive.news/society/good-news-stories-from-week-04-of-2025/?utm_source=openai)) \n",
      "Web Search with Location Response Output: Granary Square in London's King's Cross area boasts a vibrant dining scene. Here are some top-rated restaurants you might consider:\n",
      "\n",
      "**[Caravan King's Cross](https://www.google.com/maps/search/Caravan+King%27s+Cross%2C+London%2C+UK)**\n",
      "_London, UK_\n",
      "Known for its eclectic menu featuring European and healthy dishes, Caravan offers a diverse dining experience in a stylish setting.\n",
      "\n",
      "**[Granary Square Brasserie](https://www.google.com/maps/search/Granary+Square+Brasserie%2C+London%2C+UK)**\n",
      "_London, UK_\n",
      "This brasserie serves a variety of European and British cuisine in an elegant atmosphere, making it a popular choice among locals and visitors alike.\n",
      "\n",
      "**[The Lighterman](https://www.google.com/maps/search/The+Lighterman%2C+London%2C+UK)**\n",
      "_London, UK_\n",
      "Offering European and British fare, The Lighterman provides a modern dining experience with views overlooking the canal.\n",
      "\n",
      "**[Dishoom King's Cross](https://www.google.com/maps/search/Dishoom+King%27s+Cross%2C+London%2C+UK)**\n",
      "_London, UK_\n",
      "Celebrated for its Indian and Asian cuisine, Dishoom brings the flavors of Bombay to London in a vibrant setting.\n",
      "\n",
      "**[Camino King's Cross](https://www.google.com/maps/search/Camino+King%27s+Cross%2C+London%2C+UK)**\n",
      "_London, UK_\n",
      "Specializing in Spanish tapas, Camino offers a lively atmosphere and a menu full of authentic flavors.\n",
      "\n",
      "**[Rails Restaurant & Little Bar](https://www.google.com/maps/search/Rails+Restaurant+%26+Little+Bar%2C+London%2C+UK)**\n",
      "_London, UK_\n",
      "Located within the Great Northern Hotel, Rails offers European cuisine in a sophisticated setting.\n",
      "\n",
      "These establishments offer a range of cuisines and atmospheres, ensuring a delightful dining experience near Granary Square. \n"
     ]
    }
   ],
   "source": [
    "# Define the web search tool (with default configuration)\n",
    "tools = [{\n",
    "    \"type\": \"web_search_preview\"\n",
    "}]\n",
    "\n",
    "# Input message for web search\n",
    "input_message = \"What was a positive news story from today?\"\n",
    "\n",
    "# Call the API with the web search tool\n",
    "response = client.responses.create(\n",
    "    model=MODEL,\n",
    "    tools=tools,\n",
    "    input=[{\"role\": \"user\", \"content\": input_message}]\n",
    ")\n",
    "\n",
    "print(\"Web Search Tool Response Output:\", response.output_text)\n",
    "\n",
    "# Optionally, you can force lower latency using the tool_choice parameter or customize user location\n",
    "\n",
    "# Example with user location and low search context size\n",
    "tools_with_location = [{\n",
    "    \"type\": \"web_search_preview\",\n",
    "    \"user_location\": {\n",
    "         \"type\": \"approximate\",\n",
    "         \"country\": \"GB\",\n",
    "         \"city\": \"London\",\n",
    "         \"region\": \"London\"\n",
    "    },\n",
    "    \"search_context_size\": \"low\"\n",
    "}]\n",
    "\n",
    "response = client.responses.create(\n",
    "    model=MODEL,\n",
    "    tools=tools_with_location,\n",
    "    input=[{\"role\": \"user\", \"content\": \"What are the best restaurants around Granary Square?\"}]\n",
    ")\n",
    "\n",
    "print(\"Web Search with Location Response Output:\", response.output_text)"
   ]
  },
  {
   "cell_type": "markdown",
   "id": "a37c7bf2",
   "metadata": {},
   "source": [
    "---\n",
    "\n",
    "## Streaming with Tool Calling"
   ]
  },
  {
   "cell_type": "code",
   "execution_count": 6,
   "id": "cf00fe00",
   "metadata": {},
   "outputs": [
    {
     "name": "stdout",
     "output_type": "stream",
     "text": [
      "ResponseCreatedEvent(response=Response(id='resp_67fff72f2ac8819282380ffece5c6be00f20e5195cc62e4a', created_at=1744828207.0, error=None, incomplete_details=None, instructions=None, metadata={}, model='gpt-4.1-2025-04-14', object='response', output=[], parallel_tool_calls=True, temperature=1.0, tool_choice='auto', tools=[FunctionTool(name='get_weather', parameters={'type': 'object', 'properties': {'location': {'type': 'string', 'description': 'City and country e.g. Bogotá, Colombia'}}, 'required': ['location'], 'additionalProperties': False}, strict=True, type='function', description='Get current temperature for a given location.')], top_p=1.0, max_output_tokens=None, previous_response_id=None, reasoning=Reasoning(effort=None, generate_summary=None, summary=None), status='in_progress', text=ResponseTextConfig(format=ResponseFormatText(type='text')), truncation='disabled', usage=None, user=None, store=True), type='response.created')\n",
      "ResponseInProgressEvent(response=Response(id='resp_67fff72f2ac8819282380ffece5c6be00f20e5195cc62e4a', created_at=1744828207.0, error=None, incomplete_details=None, instructions=None, metadata={}, model='gpt-4.1-2025-04-14', object='response', output=[], parallel_tool_calls=True, temperature=1.0, tool_choice='auto', tools=[FunctionTool(name='get_weather', parameters={'type': 'object', 'properties': {'location': {'type': 'string', 'description': 'City and country e.g. Bogotá, Colombia'}}, 'required': ['location'], 'additionalProperties': False}, strict=True, type='function', description='Get current temperature for a given location.')], top_p=1.0, max_output_tokens=None, previous_response_id=None, reasoning=Reasoning(effort=None, generate_summary=None, summary=None), status='in_progress', text=ResponseTextConfig(format=ResponseFormatText(type='text')), truncation='disabled', usage=None, user=None, store=True), type='response.in_progress')\n",
      "ResponseOutputItemAddedEvent(item=ResponseFunctionToolCall(arguments='', call_id='call_el5ytc2zmi339JaXHZ7EZZxU', name='get_weather', type='function_call', id='fc_67fff72ff0308192b292ce90e25b83990f20e5195cc62e4a', status='in_progress'), output_index=0, type='response.output_item.added')\n",
      "ResponseFunctionCallArgumentsDeltaEvent(delta='{\"', item_id='fc_67fff72ff0308192b292ce90e25b83990f20e5195cc62e4a', output_index=0, type='response.function_call_arguments.delta')\n",
      "ResponseFunctionCallArgumentsDeltaEvent(delta='location', item_id='fc_67fff72ff0308192b292ce90e25b83990f20e5195cc62e4a', output_index=0, type='response.function_call_arguments.delta')\n",
      "ResponseFunctionCallArgumentsDeltaEvent(delta='\":\"', item_id='fc_67fff72ff0308192b292ce90e25b83990f20e5195cc62e4a', output_index=0, type='response.function_call_arguments.delta')\n",
      "ResponseFunctionCallArgumentsDeltaEvent(delta='Paris', item_id='fc_67fff72ff0308192b292ce90e25b83990f20e5195cc62e4a', output_index=0, type='response.function_call_arguments.delta')\n",
      "ResponseFunctionCallArgumentsDeltaEvent(delta=',', item_id='fc_67fff72ff0308192b292ce90e25b83990f20e5195cc62e4a', output_index=0, type='response.function_call_arguments.delta')\n",
      "ResponseFunctionCallArgumentsDeltaEvent(delta=' France', item_id='fc_67fff72ff0308192b292ce90e25b83990f20e5195cc62e4a', output_index=0, type='response.function_call_arguments.delta')\n",
      "ResponseFunctionCallArgumentsDeltaEvent(delta='\"}', item_id='fc_67fff72ff0308192b292ce90e25b83990f20e5195cc62e4a', output_index=0, type='response.function_call_arguments.delta')\n",
      "ResponseFunctionCallArgumentsDoneEvent(arguments='{\"location\":\"Paris, France\"}', item_id='fc_67fff72ff0308192b292ce90e25b83990f20e5195cc62e4a', output_index=0, type='response.function_call_arguments.done')\n",
      "ResponseOutputItemDoneEvent(item=ResponseFunctionToolCall(arguments='{\"location\":\"Paris, France\"}', call_id='call_el5ytc2zmi339JaXHZ7EZZxU', name='get_weather', type='function_call', id='fc_67fff72ff0308192b292ce90e25b83990f20e5195cc62e4a', status='completed'), output_index=0, type='response.output_item.done')\n",
      "ResponseCompletedEvent(response=Response(id='resp_67fff72f2ac8819282380ffece5c6be00f20e5195cc62e4a', created_at=1744828207.0, error=None, incomplete_details=None, instructions=None, metadata={}, model='gpt-4.1-2025-04-14', object='response', output=[ResponseFunctionToolCall(arguments='{\"location\":\"Paris, France\"}', call_id='call_el5ytc2zmi339JaXHZ7EZZxU', name='get_weather', type='function_call', id='fc_67fff72ff0308192b292ce90e25b83990f20e5195cc62e4a', status='completed')], parallel_tool_calls=True, temperature=1.0, tool_choice='auto', tools=[FunctionTool(name='get_weather', parameters={'type': 'object', 'properties': {'location': {'type': 'string', 'description': 'City and country e.g. Bogotá, Colombia'}}, 'required': ['location'], 'additionalProperties': False}, strict=True, type='function', description='Get current temperature for a given location.')], top_p=1.0, max_output_tokens=None, previous_response_id=None, reasoning=Reasoning(effort=None, generate_summary=None, summary=None), status='completed', text=ResponseTextConfig(format=ResponseFormatText(type='text')), truncation='disabled', usage=ResponseUsage(input_tokens=58, input_tokens_details=InputTokensDetails(cached_tokens=0), output_tokens=17, output_tokens_details=OutputTokensDetails(reasoning_tokens=0), total_tokens=75), user=None, store=True), type='response.completed')\n"
     ]
    }
   ],
   "source": [
    "tools = [{\n",
    "    \"type\": \"function\",\n",
    "    \"name\": \"get_weather\",\n",
    "    \"description\": \"Get current temperature for a given location.\",\n",
    "    \"parameters\": {\n",
    "        \"type\": \"object\",\n",
    "        \"properties\": {\n",
    "            \"location\": {\n",
    "                \"type\": \"string\",\n",
    "                \"description\": \"City and country e.g. Bogotá, Colombia\"\n",
    "            }\n",
    "        },\n",
    "        \"required\": [\n",
    "            \"location\"\n",
    "        ],\n",
    "        \"additionalProperties\": False\n",
    "    }\n",
    "}]\n",
    "\n",
    "stream = client.responses.create(\n",
    "    model=MODEL,\n",
    "    input=[{\"role\": \"user\", \"content\": \"What's the weather like in Paris today?\"}],\n",
    "    tools=tools,\n",
    "    stream=True\n",
    ")\n",
    "\n",
    "for event in stream:\n",
    "    print(event)"
   ]
  },
  {
   "cell_type": "markdown",
   "id": "b3c02da7-a3e2-4903-ba48-1857ddfc9afc",
   "metadata": {},
   "source": [
    "## Summary and Best Practices\n",
    "\n",
    "- **Tool Calling Overview:** Tool calling enables your model to trigger custom functions based on conversation context. Use it to fetch data or perform actions.\n",
    "\n",
    "- **Defining Functions:** Define your functions in the `tools` parameter using JSON schema. Always set `additionalProperties` to false and enable strict mode for more reliable results.\n",
    "\n",
    "- **Handling Responses:** When the model calls a function, it returns a function call object (with attributes like `type` and `arguments`). Access attributes with dot notation (e.g. `tool_call.arguments`).\n",
    "\n",
    "- **Web Search Tool:** You can add web search functionality as another tool. Customize user location and search context size as needed.\n",
    "\n",
    "This notebook demonstrates several tools and best practices for function calling in OpenAI's Responses API. Use and modify these examples for high-quality integrations in your applications or teaching materials."
   ]
  }
 ],
 "metadata": {
  "kernelspec": {
   "display_name": "base",
   "language": "python",
   "name": "python3"
  },
  "language_info": {
   "codemirror_mode": {
    "name": "ipython",
    "version": 3
   },
   "file_extension": ".py",
   "mimetype": "text/x-python",
   "name": "python",
   "nbconvert_exporter": "python",
   "pygments_lexer": "ipython3",
   "version": "3.12.4"
  }
 },
 "nbformat": 4,
 "nbformat_minor": 5
}
