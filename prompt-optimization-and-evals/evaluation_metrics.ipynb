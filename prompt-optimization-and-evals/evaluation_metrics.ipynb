{
  "cells": [
    {
      "cell_type": "markdown",
      "metadata": {
        "id": "ouobrFTgVZX3"
      },
      "source": [
        "# Evaluating LLMs (large language models)\n",
        "\n",
        "There are several methodologies for evaluating the results of LLMs. Each with their own set of trade offs and advantages."
      ]
    },
    {
      "cell_type": "markdown",
      "metadata": {
        "id": "pLqN7gMqVZX5"
      },
      "source": [
        "1. **Programmatic Rule-based Evaluation**:\n",
        "    - **Description**: This method involves setting specific, objective rules for evaluating Large Language Model (LLM) outputs. For instance, if the task is to write a blog post, a straightforward metric could be setting a minimum word count of 300 words.\n",
        "    - **Advantages**: Quick feedback loop and cost-effective, as it does not require extensive resources.\n",
        "    - **Disadvantages**: Developing metrics can be challenging for complex tasks, especially those with nuanced or subjective criteria.\n",
        "    - **When to Use**: Ideal for tasks with easily definable rules that significantly improve LLM accuracy.\n",
        "\n",
        "2. **LLM-Based Evaluation**:\n",
        "    - **Description**: Uses another LLM to assess the quality of a previous LLM's output, particularly for subjective attributes like helpfulness or readability. This approach leverages the LLM as a classifier to determine the quality of results.\n",
        "    - **Advantages**: Effective for subjective or nuanced criteria, eliminating the need for manual metric creation.\n",
        "    - **Disadvantages**: Increased evaluation time and cost due to the use of additional LLMs.\n",
        "    - **When to Use**: Suitable when rule-based methods fall short, especially for nuanced or context-rich tasks. Also it's useful for bootstrapping data for fine-tuning, as demonstrated when labeling training data with GPT-4 before comparing it with outputs from a model like Mistral.\n",
        "\n",
        "3. **Human-Based Evaluation**:\n",
        "    - **Description**: Relies on human judgment to assess LLM outputs, either through simple approval/disapproval ratings or by choosing the best result from multiple options.\n",
        "    - **Advantages**: Offers the highest accuracy due to human intelligence, reducing the likelihood of false positives and negatives (excluding human error).\n",
        "    - **Disadvantages**: Prone to human error, and is the most expensive and time-consuming method due to the need for substantial human input.\n",
        "    - **When to Use**: Best for high-stakes tasks requiring utmost accuracy. Using a data labeling service (e.g., on AWS, Azure, or GCP) can reduce time but at a higher cost.\n",
        "\n",
        "These methods allow you to tailor your evaluation strategy to your specific needs, ensuring that your LLM produces results that are both accurate and relevant to your audience. By understanding the strengths and limitations of each approach, you can choose the most effective method for your particular project, making you the master of your LLM's performance."
      ]
    },
    {
      "cell_type": "code",
      "execution_count": null,
      "metadata": {
        "id": "u8zVqsYiVZX6",
        "colab": {
          "base_uri": "https://localhost:8080/"
        },
        "outputId": "5d91b267-bc79-40d6-c07e-e0aa27764760"
      },
      "outputs": [
        {
          "output_type": "stream",
          "name": "stdout",
          "text": [
            "Collecting langchain\n",
            "  Downloading langchain-0.1.16-py3-none-any.whl (817 kB)\n",
            "\u001b[2K     \u001b[90m━━━━━━━━━━━━━━━━━━━━━━━━━━━━━━━━━━━━━━━━\u001b[0m \u001b[32m817.7/817.7 kB\u001b[0m \u001b[31m6.9 MB/s\u001b[0m eta \u001b[36m0:00:00\u001b[0m\n",
            "\u001b[?25hCollecting langchain_openai\n",
            "  Downloading langchain_openai-0.1.3-py3-none-any.whl (33 kB)\n",
            "Requirement already satisfied: numpy in /usr/local/lib/python3.10/dist-packages (1.25.2)\n",
            "Collecting numpy\n",
            "  Downloading numpy-1.26.4-cp310-cp310-manylinux_2_17_x86_64.manylinux2014_x86_64.whl (18.2 MB)\n",
            "\u001b[2K     \u001b[90m━━━━━━━━━━━━━━━━━━━━━━━━━━━━━━━━━━━━━━━━\u001b[0m \u001b[32m18.2/18.2 MB\u001b[0m \u001b[31m34.2 MB/s\u001b[0m eta \u001b[36m0:00:00\u001b[0m\n",
            "\u001b[?25hRequirement already satisfied: pandas in /usr/local/lib/python3.10/dist-packages (2.0.3)\n",
            "Collecting pandas\n",
            "  Downloading pandas-2.2.2-cp310-cp310-manylinux_2_17_x86_64.manylinux2014_x86_64.whl (13.0 MB)\n",
            "\u001b[2K     \u001b[90m━━━━━━━━━━━━━━━━━━━━━━━━━━━━━━━━━━━━━━━━\u001b[0m \u001b[32m13.0/13.0 MB\u001b[0m \u001b[31m36.7 MB/s\u001b[0m eta \u001b[36m0:00:00\u001b[0m\n",
            "\u001b[?25hCollecting openai\n",
            "  Downloading openai-1.23.1-py3-none-any.whl (310 kB)\n",
            "\u001b[2K     \u001b[90m━━━━━━━━━━━━━━━━━━━━━━━━━━━━━━━━━━━━━━━━\u001b[0m \u001b[32m311.0/311.0 kB\u001b[0m \u001b[31m7.8 MB/s\u001b[0m eta \u001b[36m0:00:00\u001b[0m\n",
            "\u001b[?25hRequirement already satisfied: ipywidgets in /usr/local/lib/python3.10/dist-packages (7.7.1)\n",
            "Collecting ipywidgets\n",
            "  Downloading ipywidgets-8.1.2-py3-none-any.whl (139 kB)\n",
            "\u001b[2K     \u001b[90m━━━━━━━━━━━━━━━━━━━━━━━━━━━━━━━━━━━━━━━━\u001b[0m \u001b[32m139.4/139.4 kB\u001b[0m \u001b[31m3.7 MB/s\u001b[0m eta \u001b[36m0:00:00\u001b[0m\n",
            "\u001b[?25hRequirement already satisfied: tqdm in /usr/local/lib/python3.10/dist-packages (4.66.2)\n",
            "Requirement already satisfied: PyYAML>=5.3 in /usr/local/lib/python3.10/dist-packages (from langchain) (6.0.1)\n",
            "Requirement already satisfied: SQLAlchemy<3,>=1.4 in /usr/local/lib/python3.10/dist-packages (from langchain) (2.0.29)\n",
            "Requirement already satisfied: aiohttp<4.0.0,>=3.8.3 in /usr/local/lib/python3.10/dist-packages (from langchain) (3.9.5)\n",
            "Requirement already satisfied: async-timeout<5.0.0,>=4.0.0 in /usr/local/lib/python3.10/dist-packages (from langchain) (4.0.3)\n",
            "Collecting dataclasses-json<0.7,>=0.5.7 (from langchain)\n",
            "  Downloading dataclasses_json-0.6.4-py3-none-any.whl (28 kB)\n",
            "Collecting jsonpatch<2.0,>=1.33 (from langchain)\n",
            "  Downloading jsonpatch-1.33-py2.py3-none-any.whl (12 kB)\n",
            "Collecting langchain-community<0.1,>=0.0.32 (from langchain)\n",
            "  Downloading langchain_community-0.0.33-py3-none-any.whl (1.9 MB)\n",
            "\u001b[2K     \u001b[90m━━━━━━━━━━━━━━━━━━━━━━━━━━━━━━━━━━━━━━━━\u001b[0m \u001b[32m1.9/1.9 MB\u001b[0m \u001b[31m24.6 MB/s\u001b[0m eta \u001b[36m0:00:00\u001b[0m\n",
            "\u001b[?25hCollecting langchain-core<0.2.0,>=0.1.42 (from langchain)\n",
            "  Downloading langchain_core-0.1.44-py3-none-any.whl (290 kB)\n",
            "\u001b[2K     \u001b[90m━━━━━━━━━━━━━━━━━━━━━━━━━━━━━━━━━━━━━━━━\u001b[0m \u001b[32m290.2/290.2 kB\u001b[0m \u001b[31m12.6 MB/s\u001b[0m eta \u001b[36m0:00:00\u001b[0m\n",
            "\u001b[?25hCollecting langchain-text-splitters<0.1,>=0.0.1 (from langchain)\n",
            "  Downloading langchain_text_splitters-0.0.1-py3-none-any.whl (21 kB)\n",
            "Collecting langsmith<0.2.0,>=0.1.17 (from langchain)\n",
            "  Downloading langsmith-0.1.49-py3-none-any.whl (115 kB)\n",
            "\u001b[2K     \u001b[90m━━━━━━━━━━━━━━━━━━━━━━━━━━━━━━━━━━━━━━━━\u001b[0m \u001b[32m115.2/115.2 kB\u001b[0m \u001b[31m647.3 kB/s\u001b[0m eta \u001b[36m0:00:00\u001b[0m\n",
            "\u001b[?25hRequirement already satisfied: pydantic<3,>=1 in /usr/local/lib/python3.10/dist-packages (from langchain) (2.7.0)\n",
            "Requirement already satisfied: requests<3,>=2 in /usr/local/lib/python3.10/dist-packages (from langchain) (2.31.0)\n",
            "Requirement already satisfied: tenacity<9.0.0,>=8.1.0 in /usr/local/lib/python3.10/dist-packages (from langchain) (8.2.3)\n",
            "Collecting tiktoken<1,>=0.5.2 (from langchain_openai)\n",
            "  Downloading tiktoken-0.6.0-cp310-cp310-manylinux_2_17_x86_64.manylinux2014_x86_64.whl (1.8 MB)\n",
            "\u001b[2K     \u001b[90m━━━━━━━━━━━━━━━━━━━━━━━━━━━━━━━━━━━━━━━━\u001b[0m \u001b[32m1.8/1.8 MB\u001b[0m \u001b[31m22.5 MB/s\u001b[0m eta \u001b[36m0:00:00\u001b[0m\n",
            "\u001b[?25hRequirement already satisfied: python-dateutil>=2.8.2 in /usr/local/lib/python3.10/dist-packages (from pandas) (2.8.2)\n",
            "Requirement already satisfied: pytz>=2020.1 in /usr/local/lib/python3.10/dist-packages (from pandas) (2023.4)\n",
            "Requirement already satisfied: tzdata>=2022.7 in /usr/local/lib/python3.10/dist-packages (from pandas) (2024.1)\n",
            "Requirement already satisfied: anyio<5,>=3.5.0 in /usr/local/lib/python3.10/dist-packages (from openai) (3.7.1)\n",
            "Requirement already satisfied: distro<2,>=1.7.0 in /usr/lib/python3/dist-packages (from openai) (1.7.0)\n",
            "Collecting httpx<1,>=0.23.0 (from openai)\n",
            "  Downloading httpx-0.27.0-py3-none-any.whl (75 kB)\n",
            "\u001b[2K     \u001b[90m━━━━━━━━━━━━━━━━━━━━━━━━━━━━━━━━━━━━━━━━\u001b[0m \u001b[32m75.6/75.6 kB\u001b[0m \u001b[31m3.7 MB/s\u001b[0m eta \u001b[36m0:00:00\u001b[0m\n",
            "\u001b[?25hRequirement already satisfied: sniffio in /usr/local/lib/python3.10/dist-packages (from openai) (1.3.1)\n",
            "Requirement already satisfied: typing-extensions<5,>=4.7 in /usr/local/lib/python3.10/dist-packages (from openai) (4.11.0)\n",
            "Collecting comm>=0.1.3 (from ipywidgets)\n",
            "  Downloading comm-0.2.2-py3-none-any.whl (7.2 kB)\n",
            "Requirement already satisfied: ipython>=6.1.0 in /usr/local/lib/python3.10/dist-packages (from ipywidgets) (7.34.0)\n",
            "Requirement already satisfied: traitlets>=4.3.1 in /usr/local/lib/python3.10/dist-packages (from ipywidgets) (5.7.1)\n",
            "Collecting widgetsnbextension~=4.0.10 (from ipywidgets)\n",
            "  Downloading widgetsnbextension-4.0.10-py3-none-any.whl (2.3 MB)\n",
            "\u001b[2K     \u001b[90m━━━━━━━━━━━━━━━━━━━━━━━━━━━━━━━━━━━━━━━━\u001b[0m \u001b[32m2.3/2.3 MB\u001b[0m \u001b[31m23.3 MB/s\u001b[0m eta \u001b[36m0:00:00\u001b[0m\n",
            "\u001b[?25hRequirement already satisfied: jupyterlab-widgets~=3.0.10 in /usr/local/lib/python3.10/dist-packages (from ipywidgets) (3.0.10)\n",
            "Requirement already satisfied: aiosignal>=1.1.2 in /usr/local/lib/python3.10/dist-packages (from aiohttp<4.0.0,>=3.8.3->langchain) (1.3.1)\n",
            "Requirement already satisfied: attrs>=17.3.0 in /usr/local/lib/python3.10/dist-packages (from aiohttp<4.0.0,>=3.8.3->langchain) (23.2.0)\n",
            "Requirement already satisfied: frozenlist>=1.1.1 in /usr/local/lib/python3.10/dist-packages (from aiohttp<4.0.0,>=3.8.3->langchain) (1.4.1)\n",
            "Requirement already satisfied: multidict<7.0,>=4.5 in /usr/local/lib/python3.10/dist-packages (from aiohttp<4.0.0,>=3.8.3->langchain) (6.0.5)\n",
            "Requirement already satisfied: yarl<2.0,>=1.0 in /usr/local/lib/python3.10/dist-packages (from aiohttp<4.0.0,>=3.8.3->langchain) (1.9.4)\n",
            "Requirement already satisfied: idna>=2.8 in /usr/local/lib/python3.10/dist-packages (from anyio<5,>=3.5.0->openai) (3.7)\n",
            "Requirement already satisfied: exceptiongroup in /usr/local/lib/python3.10/dist-packages (from anyio<5,>=3.5.0->openai) (1.2.0)\n",
            "Collecting marshmallow<4.0.0,>=3.18.0 (from dataclasses-json<0.7,>=0.5.7->langchain)\n",
            "  Downloading marshmallow-3.21.1-py3-none-any.whl (49 kB)\n",
            "\u001b[2K     \u001b[90m━━━━━━━━━━━━━━━━━━━━━━━━━━━━━━━━━━━━━━━━\u001b[0m \u001b[32m49.4/49.4 kB\u001b[0m \u001b[31m2.8 MB/s\u001b[0m eta \u001b[36m0:00:00\u001b[0m\n",
            "\u001b[?25hCollecting typing-inspect<1,>=0.4.0 (from dataclasses-json<0.7,>=0.5.7->langchain)\n",
            "  Downloading typing_inspect-0.9.0-py3-none-any.whl (8.8 kB)\n",
            "Requirement already satisfied: certifi in /usr/local/lib/python3.10/dist-packages (from httpx<1,>=0.23.0->openai) (2024.2.2)\n",
            "Collecting httpcore==1.* (from httpx<1,>=0.23.0->openai)\n",
            "  Downloading httpcore-1.0.5-py3-none-any.whl (77 kB)\n",
            "\u001b[2K     \u001b[90m━━━━━━━━━━━━━━━━━━━━━━━━━━━━━━━━━━━━━━━━\u001b[0m \u001b[32m77.9/77.9 kB\u001b[0m \u001b[31m3.3 MB/s\u001b[0m eta \u001b[36m0:00:00\u001b[0m\n",
            "\u001b[?25hCollecting h11<0.15,>=0.13 (from httpcore==1.*->httpx<1,>=0.23.0->openai)\n",
            "  Downloading h11-0.14.0-py3-none-any.whl (58 kB)\n",
            "\u001b[2K     \u001b[90m━━━━━━━━━━━━━━━━━━━━━━━━━━━━━━━━━━━━━━━━\u001b[0m \u001b[32m58.3/58.3 kB\u001b[0m \u001b[31m3.0 MB/s\u001b[0m eta \u001b[36m0:00:00\u001b[0m\n",
            "\u001b[?25hRequirement already satisfied: setuptools>=18.5 in /usr/local/lib/python3.10/dist-packages (from ipython>=6.1.0->ipywidgets) (67.7.2)\n",
            "Collecting jedi>=0.16 (from ipython>=6.1.0->ipywidgets)\n",
            "  Downloading jedi-0.19.1-py2.py3-none-any.whl (1.6 MB)\n",
            "\u001b[2K     \u001b[90m━━━━━━━━━━━━━━━━━━━━━━━━━━━━━━━━━━━━━━━━\u001b[0m \u001b[32m1.6/1.6 MB\u001b[0m \u001b[31m8.4 MB/s\u001b[0m eta \u001b[36m0:00:00\u001b[0m\n",
            "\u001b[?25hRequirement already satisfied: decorator in /usr/local/lib/python3.10/dist-packages (from ipython>=6.1.0->ipywidgets) (4.4.2)\n",
            "Requirement already satisfied: pickleshare in /usr/local/lib/python3.10/dist-packages (from ipython>=6.1.0->ipywidgets) (0.7.5)\n",
            "Requirement already satisfied: prompt-toolkit!=3.0.0,!=3.0.1,<3.1.0,>=2.0.0 in /usr/local/lib/python3.10/dist-packages (from ipython>=6.1.0->ipywidgets) (3.0.43)\n",
            "Requirement already satisfied: pygments in /usr/local/lib/python3.10/dist-packages (from ipython>=6.1.0->ipywidgets) (2.16.1)\n",
            "Requirement already satisfied: backcall in /usr/local/lib/python3.10/dist-packages (from ipython>=6.1.0->ipywidgets) (0.2.0)\n",
            "Requirement already satisfied: matplotlib-inline in /usr/local/lib/python3.10/dist-packages (from ipython>=6.1.0->ipywidgets) (0.1.7)\n",
            "Requirement already satisfied: pexpect>4.3 in /usr/local/lib/python3.10/dist-packages (from ipython>=6.1.0->ipywidgets) (4.9.0)\n",
            "Collecting jsonpointer>=1.9 (from jsonpatch<2.0,>=1.33->langchain)\n",
            "  Downloading jsonpointer-2.4-py2.py3-none-any.whl (7.8 kB)\n",
            "Collecting packaging<24.0,>=23.2 (from langchain-core<0.2.0,>=0.1.42->langchain)\n",
            "  Downloading packaging-23.2-py3-none-any.whl (53 kB)\n",
            "\u001b[2K     \u001b[90m━━━━━━━━━━━━━━━━━━━━━━━━━━━━━━━━━━━━━━━━\u001b[0m \u001b[32m53.0/53.0 kB\u001b[0m \u001b[31m1.6 MB/s\u001b[0m eta \u001b[36m0:00:00\u001b[0m\n",
            "\u001b[?25hCollecting orjson<4.0.0,>=3.9.14 (from langsmith<0.2.0,>=0.1.17->langchain)\n",
            "  Downloading orjson-3.10.1-cp310-cp310-manylinux_2_17_x86_64.manylinux2014_x86_64.whl (141 kB)\n",
            "\u001b[2K     \u001b[90m━━━━━━━━━━━━━━━━━━━━━━━━━━━━━━━━━━━━━━━━\u001b[0m \u001b[32m141.1/141.1 kB\u001b[0m \u001b[31m5.7 MB/s\u001b[0m eta \u001b[36m0:00:00\u001b[0m\n",
            "\u001b[?25hRequirement already satisfied: annotated-types>=0.4.0 in /usr/local/lib/python3.10/dist-packages (from pydantic<3,>=1->langchain) (0.6.0)\n",
            "Requirement already satisfied: pydantic-core==2.18.1 in /usr/local/lib/python3.10/dist-packages (from pydantic<3,>=1->langchain) (2.18.1)\n",
            "Requirement already satisfied: six>=1.5 in /usr/local/lib/python3.10/dist-packages (from python-dateutil>=2.8.2->pandas) (1.16.0)\n",
            "Requirement already satisfied: charset-normalizer<4,>=2 in /usr/local/lib/python3.10/dist-packages (from requests<3,>=2->langchain) (3.3.2)\n",
            "Requirement already satisfied: urllib3<3,>=1.21.1 in /usr/local/lib/python3.10/dist-packages (from requests<3,>=2->langchain) (2.0.7)\n",
            "Requirement already satisfied: greenlet!=0.4.17 in /usr/local/lib/python3.10/dist-packages (from SQLAlchemy<3,>=1.4->langchain) (3.0.3)\n",
            "Requirement already satisfied: regex>=2022.1.18 in /usr/local/lib/python3.10/dist-packages (from tiktoken<1,>=0.5.2->langchain_openai) (2023.12.25)\n",
            "Requirement already satisfied: parso<0.9.0,>=0.8.3 in /usr/local/lib/python3.10/dist-packages (from jedi>=0.16->ipython>=6.1.0->ipywidgets) (0.8.4)\n",
            "Requirement already satisfied: ptyprocess>=0.5 in /usr/local/lib/python3.10/dist-packages (from pexpect>4.3->ipython>=6.1.0->ipywidgets) (0.7.0)\n",
            "Requirement already satisfied: wcwidth in /usr/local/lib/python3.10/dist-packages (from prompt-toolkit!=3.0.0,!=3.0.1,<3.1.0,>=2.0.0->ipython>=6.1.0->ipywidgets) (0.2.13)\n",
            "Collecting mypy-extensions>=0.3.0 (from typing-inspect<1,>=0.4.0->dataclasses-json<0.7,>=0.5.7->langchain)\n",
            "  Downloading mypy_extensions-1.0.0-py3-none-any.whl (4.7 kB)\n",
            "Installing collected packages: widgetsnbextension, packaging, orjson, numpy, mypy-extensions, jsonpointer, jedi, h11, comm, typing-inspect, tiktoken, pandas, marshmallow, jsonpatch, httpcore, langsmith, ipywidgets, httpx, dataclasses-json, openai, langchain-core, langchain-text-splitters, langchain_openai, langchain-community, langchain\n",
            "  Attempting uninstall: widgetsnbextension\n",
            "    Found existing installation: widgetsnbextension 3.6.6\n",
            "    Uninstalling widgetsnbextension-3.6.6:\n",
            "      Successfully uninstalled widgetsnbextension-3.6.6\n",
            "  Attempting uninstall: packaging\n",
            "    Found existing installation: packaging 24.0\n",
            "    Uninstalling packaging-24.0:\n",
            "      Successfully uninstalled packaging-24.0\n",
            "  Attempting uninstall: numpy\n",
            "    Found existing installation: numpy 1.25.2\n",
            "    Uninstalling numpy-1.25.2:\n",
            "      Successfully uninstalled numpy-1.25.2\n",
            "  Attempting uninstall: pandas\n",
            "    Found existing installation: pandas 2.0.3\n",
            "    Uninstalling pandas-2.0.3:\n",
            "      Successfully uninstalled pandas-2.0.3\n",
            "  Attempting uninstall: ipywidgets\n",
            "    Found existing installation: ipywidgets 7.7.1\n",
            "    Uninstalling ipywidgets-7.7.1:\n",
            "      Successfully uninstalled ipywidgets-7.7.1\n",
            "\u001b[31mERROR: pip's dependency resolver does not currently take into account all the packages that are installed. This behaviour is the source of the following dependency conflicts.\n",
            "google-colab 1.0.0 requires pandas==2.0.3, but you have pandas 2.2.2 which is incompatible.\u001b[0m\u001b[31m\n",
            "\u001b[0mSuccessfully installed comm-0.2.2 dataclasses-json-0.6.4 h11-0.14.0 httpcore-1.0.5 httpx-0.27.0 ipywidgets-8.1.2 jedi-0.19.1 jsonpatch-1.33 jsonpointer-2.4 langchain-0.1.16 langchain-community-0.0.33 langchain-core-0.1.44 langchain-text-splitters-0.0.1 langchain_openai-0.1.3 langsmith-0.1.49 marshmallow-3.21.1 mypy-extensions-1.0.0 numpy-1.26.4 openai-1.23.1 orjson-3.10.1 packaging-23.2 pandas-2.2.2 tiktoken-0.6.0 typing-inspect-0.9.0 widgetsnbextension-4.0.10\n"
          ]
        }
      ],
      "source": [
        "%pip install langchain langchain_openai numpy pandas openai ipywidgets tqdm --upgrade"
      ]
    },
    {
      "cell_type": "code",
      "execution_count": null,
      "metadata": {
        "id": "nmnq8OXbVZX6"
      },
      "outputs": [],
      "source": [
        "import os\n",
        "\n",
        "os.environ[\"OPENAI_API_KEY\"] = \"API_KEY_HERE\""
      ]
    },
    {
      "cell_type": "markdown",
      "metadata": {
        "id": "mAp5yrHfVZX7"
      },
      "source": [
        "---\n",
        "\n",
        "## Enhancing Evaluation Strategies with Combined Techniques\n",
        "\n",
        "Combining different evaluation methods can optimize your results. Start with an LLM-based evaluation, such as using GPT-4 for initial labeling. This approach rapidly generates a baseline of labels and helps in comparing various models or prompts against a set standard.\n",
        "\n",
        "Next, introduce human oversight. Have experts review the labels created by GPT-4, focusing on identifying and correcting any inaccuracies, such as false positives or negatives. This step ensures a higher level of precision in your evaluation process.\n",
        "\n",
        "## Minimizing Human Error for Superior Accuracy\n",
        "\n",
        "To achieve even greater accuracy and minimize human error, consider a multi-evaluator approach. Instead of relying on a single individual's judgment for each label, involve three reviewers and use the majority decision (at least 2 out of 3 agreeing) as the final label. This method significantly reduces the likelihood of errors.\n",
        "\n",
        "Moreover, refining the guidelines for evaluators can make a substantial difference. Clear, well-defined criteria help reviewers make more confident and accurate decisions, especially in ambiguous cases. Enhancing the clarity and distinction between different classes or outcomes in your guidelines can lead to a noticeable decrease in false positives and negatives, elevating the overall quality of your evaluation."
      ]
    },
    {
      "cell_type": "markdown",
      "metadata": {
        "id": "w5aeNLFlVZX7"
      },
      "source": [
        "--------------------------------------------------------"
      ]
    },
    {
      "cell_type": "markdown",
      "metadata": {
        "id": "-QhqWwM8VZX7"
      },
      "source": [
        "In the sections below, you'll find all three of these techniques shown using mocked data and the simplest implementation to help build your intuition with evaluation."
      ]
    },
    {
      "cell_type": "markdown",
      "metadata": {
        "id": "9Qc_hbbgVZX7"
      },
      "source": [
        "---\n",
        "\n",
        "## Programmatic Rule-based Evaluation"
      ]
    },
    {
      "cell_type": "code",
      "execution_count": null,
      "metadata": {
        "id": "swPGy0GAVZX7"
      },
      "outputs": [],
      "source": [
        "import pandas as pd\n",
        "import numpy as np\n",
        "from tqdm import tqdm"
      ]
    },
    {
      "cell_type": "code",
      "execution_count": null,
      "metadata": {
        "id": "UrduKh4JVZX8"
      },
      "outputs": [],
      "source": [
        "llm_results = [\n",
        "    \"Coding is fun.\",\n",
        "    \"I am learning about coding and I wanted to know how to write a for loop, so I decided to learn JavaScript\",\n",
        "    \"Using strong types in code is the way forward #dev\",\n",
        "    \"learning about data engineering is fun and I had a great time at the conference! #devOps\",\n",
        "    \"Have you ever considered that learning DevOps might be useful for your career? See this thread #DevOps #Software\",\n",
        "    \"I love making software #dev\",\n",
        "    \"I love my dog. #dogs\",\n",
        "    \"Cats are awesome. #cats\",\n",
        "    \"It's always good to be with your family and friends.\"\n",
        "    \"Software is awesome #software\"\n",
        "    \"Data science is really fun and I can't wait to share what I've learned with you at DataScienceCon! #data\"\n",
        "]"
      ]
    },
    {
      "cell_type": "code",
      "execution_count": null,
      "metadata": {
        "id": "qJb__zYwVZX8"
      },
      "outputs": [],
      "source": [
        "# Social media post text length:\n",
        "social_post_df = pd.DataFrame(\n",
        "    {\"generated_social_media_post\": llm_results}  # Adding a toy dataset for LLM results\n",
        ")"
      ]
    },
    {
      "cell_type": "markdown",
      "metadata": {
        "id": "uv3dfRKsVZX8"
      },
      "source": [
        "Let's make 2x rule based evaluation metrics for your social media posts for X. You'll define that good social media posts must contain:\n",
        "- At least 1 hashtag.\n",
        "- Have be greater or equal to 30 characters, but not more than 200 characters (demonstrating a sufficient length).\n"
      ]
    },
    {
      "cell_type": "code",
      "execution_count": null,
      "metadata": {
        "id": "BOoQTTjiVZX8"
      },
      "outputs": [],
      "source": [
        "def eval_has_hashtag(text: str) -> bool:\n",
        "    if \"#\" in text:\n",
        "        return True\n",
        "    else:\n",
        "        return False\n",
        "\n",
        "def eval_length_of_social_post(text: str) -> bool:\n",
        "    if len(text) >= 30 and len(text) <= 150:\n",
        "        return True\n",
        "    else:\n",
        "        return False\n",
        "\n",
        "# This is used for one-hot encoding the boolean results into an integer\n",
        "# so that it can be counted when calculating accuracy.\n",
        "def convert_boolean_to_one_hot_encoding(bool_result: bool) -> int:\n",
        "    if bool_result: return 1\n",
        "    return 0"
      ]
    },
    {
      "cell_type": "markdown",
      "metadata": {
        "id": "8xyUF8rGVZX8"
      },
      "source": [
        "Then, you need to evaluate the dataset and find out the accuracy rate for each eval:"
      ]
    },
    {
      "cell_type": "code",
      "execution_count": null,
      "metadata": {
        "id": "WlpNN1f9VZX8",
        "outputId": "e33f65bf-e00f-4f7b-b3e9-fbcf6b779599",
        "colab": {
          "base_uri": "https://localhost:8080/",
          "height": 206
        }
      },
      "outputs": [
        {
          "output_type": "execute_result",
          "data": {
            "text/plain": [
              "                         generated_social_media_post  eval_has_hashtag  \\\n",
              "0                                     Coding is fun.               0.0   \n",
              "1  I am learning about coding and I wanted to kno...               0.0   \n",
              "2  Using strong types in code is the way forward ...               1.0   \n",
              "3  learning about data engineering is fun and I h...               1.0   \n",
              "4  Have you ever considered that learning DevOps ...               1.0   \n",
              "\n",
              "   eval_length_of_social_post  \n",
              "0                         0.0  \n",
              "1                         1.0  \n",
              "2                         1.0  \n",
              "3                         1.0  \n",
              "4                         1.0  "
            ],
            "text/html": [
              "\n",
              "  <div id=\"df-c8b62b2e-903c-43b7-849d-b21ad3103f7c\" class=\"colab-df-container\">\n",
              "    <div>\n",
              "<style scoped>\n",
              "    .dataframe tbody tr th:only-of-type {\n",
              "        vertical-align: middle;\n",
              "    }\n",
              "\n",
              "    .dataframe tbody tr th {\n",
              "        vertical-align: top;\n",
              "    }\n",
              "\n",
              "    .dataframe thead th {\n",
              "        text-align: right;\n",
              "    }\n",
              "</style>\n",
              "<table border=\"1\" class=\"dataframe\">\n",
              "  <thead>\n",
              "    <tr style=\"text-align: right;\">\n",
              "      <th></th>\n",
              "      <th>generated_social_media_post</th>\n",
              "      <th>eval_has_hashtag</th>\n",
              "      <th>eval_length_of_social_post</th>\n",
              "    </tr>\n",
              "  </thead>\n",
              "  <tbody>\n",
              "    <tr>\n",
              "      <th>0</th>\n",
              "      <td>Coding is fun.</td>\n",
              "      <td>0.0</td>\n",
              "      <td>0.0</td>\n",
              "    </tr>\n",
              "    <tr>\n",
              "      <th>1</th>\n",
              "      <td>I am learning about coding and I wanted to kno...</td>\n",
              "      <td>0.0</td>\n",
              "      <td>1.0</td>\n",
              "    </tr>\n",
              "    <tr>\n",
              "      <th>2</th>\n",
              "      <td>Using strong types in code is the way forward ...</td>\n",
              "      <td>1.0</td>\n",
              "      <td>1.0</td>\n",
              "    </tr>\n",
              "    <tr>\n",
              "      <th>3</th>\n",
              "      <td>learning about data engineering is fun and I h...</td>\n",
              "      <td>1.0</td>\n",
              "      <td>1.0</td>\n",
              "    </tr>\n",
              "    <tr>\n",
              "      <th>4</th>\n",
              "      <td>Have you ever considered that learning DevOps ...</td>\n",
              "      <td>1.0</td>\n",
              "      <td>1.0</td>\n",
              "    </tr>\n",
              "  </tbody>\n",
              "</table>\n",
              "</div>\n",
              "    <div class=\"colab-df-buttons\">\n",
              "\n",
              "  <div class=\"colab-df-container\">\n",
              "    <button class=\"colab-df-convert\" onclick=\"convertToInteractive('df-c8b62b2e-903c-43b7-849d-b21ad3103f7c')\"\n",
              "            title=\"Convert this dataframe to an interactive table.\"\n",
              "            style=\"display:none;\">\n",
              "\n",
              "  <svg xmlns=\"http://www.w3.org/2000/svg\" height=\"24px\" viewBox=\"0 -960 960 960\">\n",
              "    <path d=\"M120-120v-720h720v720H120Zm60-500h600v-160H180v160Zm220 220h160v-160H400v160Zm0 220h160v-160H400v160ZM180-400h160v-160H180v160Zm440 0h160v-160H620v160ZM180-180h160v-160H180v160Zm440 0h160v-160H620v160Z\"/>\n",
              "  </svg>\n",
              "    </button>\n",
              "\n",
              "  <style>\n",
              "    .colab-df-container {\n",
              "      display:flex;\n",
              "      gap: 12px;\n",
              "    }\n",
              "\n",
              "    .colab-df-convert {\n",
              "      background-color: #E8F0FE;\n",
              "      border: none;\n",
              "      border-radius: 50%;\n",
              "      cursor: pointer;\n",
              "      display: none;\n",
              "      fill: #1967D2;\n",
              "      height: 32px;\n",
              "      padding: 0 0 0 0;\n",
              "      width: 32px;\n",
              "    }\n",
              "\n",
              "    .colab-df-convert:hover {\n",
              "      background-color: #E2EBFA;\n",
              "      box-shadow: 0px 1px 2px rgba(60, 64, 67, 0.3), 0px 1px 3px 1px rgba(60, 64, 67, 0.15);\n",
              "      fill: #174EA6;\n",
              "    }\n",
              "\n",
              "    .colab-df-buttons div {\n",
              "      margin-bottom: 4px;\n",
              "    }\n",
              "\n",
              "    [theme=dark] .colab-df-convert {\n",
              "      background-color: #3B4455;\n",
              "      fill: #D2E3FC;\n",
              "    }\n",
              "\n",
              "    [theme=dark] .colab-df-convert:hover {\n",
              "      background-color: #434B5C;\n",
              "      box-shadow: 0px 1px 3px 1px rgba(0, 0, 0, 0.15);\n",
              "      filter: drop-shadow(0px 1px 2px rgba(0, 0, 0, 0.3));\n",
              "      fill: #FFFFFF;\n",
              "    }\n",
              "  </style>\n",
              "\n",
              "    <script>\n",
              "      const buttonEl =\n",
              "        document.querySelector('#df-c8b62b2e-903c-43b7-849d-b21ad3103f7c button.colab-df-convert');\n",
              "      buttonEl.style.display =\n",
              "        google.colab.kernel.accessAllowed ? 'block' : 'none';\n",
              "\n",
              "      async function convertToInteractive(key) {\n",
              "        const element = document.querySelector('#df-c8b62b2e-903c-43b7-849d-b21ad3103f7c');\n",
              "        const dataTable =\n",
              "          await google.colab.kernel.invokeFunction('convertToInteractive',\n",
              "                                                    [key], {});\n",
              "        if (!dataTable) return;\n",
              "\n",
              "        const docLinkHtml = 'Like what you see? Visit the ' +\n",
              "          '<a target=\"_blank\" href=https://colab.research.google.com/notebooks/data_table.ipynb>data table notebook</a>'\n",
              "          + ' to learn more about interactive tables.';\n",
              "        element.innerHTML = '';\n",
              "        dataTable['output_type'] = 'display_data';\n",
              "        await google.colab.output.renderOutput(dataTable, element);\n",
              "        const docLink = document.createElement('div');\n",
              "        docLink.innerHTML = docLinkHtml;\n",
              "        element.appendChild(docLink);\n",
              "      }\n",
              "    </script>\n",
              "  </div>\n",
              "\n",
              "\n",
              "<div id=\"df-ca824dc2-12de-4029-8f62-4e8aced19244\">\n",
              "  <button class=\"colab-df-quickchart\" onclick=\"quickchart('df-ca824dc2-12de-4029-8f62-4e8aced19244')\"\n",
              "            title=\"Suggest charts\"\n",
              "            style=\"display:none;\">\n",
              "\n",
              "<svg xmlns=\"http://www.w3.org/2000/svg\" height=\"24px\"viewBox=\"0 0 24 24\"\n",
              "     width=\"24px\">\n",
              "    <g>\n",
              "        <path d=\"M19 3H5c-1.1 0-2 .9-2 2v14c0 1.1.9 2 2 2h14c1.1 0 2-.9 2-2V5c0-1.1-.9-2-2-2zM9 17H7v-7h2v7zm4 0h-2V7h2v10zm4 0h-2v-4h2v4z\"/>\n",
              "    </g>\n",
              "</svg>\n",
              "  </button>\n",
              "\n",
              "<style>\n",
              "  .colab-df-quickchart {\n",
              "      --bg-color: #E8F0FE;\n",
              "      --fill-color: #1967D2;\n",
              "      --hover-bg-color: #E2EBFA;\n",
              "      --hover-fill-color: #174EA6;\n",
              "      --disabled-fill-color: #AAA;\n",
              "      --disabled-bg-color: #DDD;\n",
              "  }\n",
              "\n",
              "  [theme=dark] .colab-df-quickchart {\n",
              "      --bg-color: #3B4455;\n",
              "      --fill-color: #D2E3FC;\n",
              "      --hover-bg-color: #434B5C;\n",
              "      --hover-fill-color: #FFFFFF;\n",
              "      --disabled-bg-color: #3B4455;\n",
              "      --disabled-fill-color: #666;\n",
              "  }\n",
              "\n",
              "  .colab-df-quickchart {\n",
              "    background-color: var(--bg-color);\n",
              "    border: none;\n",
              "    border-radius: 50%;\n",
              "    cursor: pointer;\n",
              "    display: none;\n",
              "    fill: var(--fill-color);\n",
              "    height: 32px;\n",
              "    padding: 0;\n",
              "    width: 32px;\n",
              "  }\n",
              "\n",
              "  .colab-df-quickchart:hover {\n",
              "    background-color: var(--hover-bg-color);\n",
              "    box-shadow: 0 1px 2px rgba(60, 64, 67, 0.3), 0 1px 3px 1px rgba(60, 64, 67, 0.15);\n",
              "    fill: var(--button-hover-fill-color);\n",
              "  }\n",
              "\n",
              "  .colab-df-quickchart-complete:disabled,\n",
              "  .colab-df-quickchart-complete:disabled:hover {\n",
              "    background-color: var(--disabled-bg-color);\n",
              "    fill: var(--disabled-fill-color);\n",
              "    box-shadow: none;\n",
              "  }\n",
              "\n",
              "  .colab-df-spinner {\n",
              "    border: 2px solid var(--fill-color);\n",
              "    border-color: transparent;\n",
              "    border-bottom-color: var(--fill-color);\n",
              "    animation:\n",
              "      spin 1s steps(1) infinite;\n",
              "  }\n",
              "\n",
              "  @keyframes spin {\n",
              "    0% {\n",
              "      border-color: transparent;\n",
              "      border-bottom-color: var(--fill-color);\n",
              "      border-left-color: var(--fill-color);\n",
              "    }\n",
              "    20% {\n",
              "      border-color: transparent;\n",
              "      border-left-color: var(--fill-color);\n",
              "      border-top-color: var(--fill-color);\n",
              "    }\n",
              "    30% {\n",
              "      border-color: transparent;\n",
              "      border-left-color: var(--fill-color);\n",
              "      border-top-color: var(--fill-color);\n",
              "      border-right-color: var(--fill-color);\n",
              "    }\n",
              "    40% {\n",
              "      border-color: transparent;\n",
              "      border-right-color: var(--fill-color);\n",
              "      border-top-color: var(--fill-color);\n",
              "    }\n",
              "    60% {\n",
              "      border-color: transparent;\n",
              "      border-right-color: var(--fill-color);\n",
              "    }\n",
              "    80% {\n",
              "      border-color: transparent;\n",
              "      border-right-color: var(--fill-color);\n",
              "      border-bottom-color: var(--fill-color);\n",
              "    }\n",
              "    90% {\n",
              "      border-color: transparent;\n",
              "      border-bottom-color: var(--fill-color);\n",
              "    }\n",
              "  }\n",
              "</style>\n",
              "\n",
              "  <script>\n",
              "    async function quickchart(key) {\n",
              "      const quickchartButtonEl =\n",
              "        document.querySelector('#' + key + ' button');\n",
              "      quickchartButtonEl.disabled = true;  // To prevent multiple clicks.\n",
              "      quickchartButtonEl.classList.add('colab-df-spinner');\n",
              "      try {\n",
              "        const charts = await google.colab.kernel.invokeFunction(\n",
              "            'suggestCharts', [key], {});\n",
              "      } catch (error) {\n",
              "        console.error('Error during call to suggestCharts:', error);\n",
              "      }\n",
              "      quickchartButtonEl.classList.remove('colab-df-spinner');\n",
              "      quickchartButtonEl.classList.add('colab-df-quickchart-complete');\n",
              "    }\n",
              "    (() => {\n",
              "      let quickchartButtonEl =\n",
              "        document.querySelector('#df-ca824dc2-12de-4029-8f62-4e8aced19244 button');\n",
              "      quickchartButtonEl.style.display =\n",
              "        google.colab.kernel.accessAllowed ? 'block' : 'none';\n",
              "    })();\n",
              "  </script>\n",
              "</div>\n",
              "    </div>\n",
              "  </div>\n"
            ],
            "application/vnd.google.colaboratory.intrinsic+json": {
              "type": "dataframe",
              "variable_name": "social_post_df",
              "summary": "{\n  \"name\": \"social_post_df\",\n  \"rows\": 9,\n  \"fields\": [\n    {\n      \"column\": \"generated_social_media_post\",\n      \"properties\": {\n        \"dtype\": \"string\",\n        \"num_unique_values\": 9,\n        \"samples\": [\n          \"Cats are awesome. #cats\",\n          \"I am learning about coding and I wanted to know how to write a for loop, so I decided to learn JavaScript\",\n          \"I love making software #dev\"\n        ],\n        \"semantic_type\": \"\",\n        \"description\": \"\"\n      }\n    },\n    {\n      \"column\": \"eval_has_hashtag\",\n      \"properties\": {\n        \"dtype\": \"number\",\n        \"std\": 0.44095855184409843,\n        \"min\": 0.0,\n        \"max\": 1.0,\n        \"num_unique_values\": 2,\n        \"samples\": [\n          1.0,\n          0.0\n        ],\n        \"semantic_type\": \"\",\n        \"description\": \"\"\n      }\n    },\n    {\n      \"column\": \"eval_length_of_social_post\",\n      \"properties\": {\n        \"dtype\": \"number\",\n        \"std\": 0.5270462766947299,\n        \"min\": 0.0,\n        \"max\": 1.0,\n        \"num_unique_values\": 2,\n        \"samples\": [\n          1.0,\n          0.0\n        ],\n        \"semantic_type\": \"\",\n        \"description\": \"\"\n      }\n    }\n  ]\n}"
            }
          },
          "metadata": {},
          "execution_count": 7
        }
      ],
      "source": [
        "# Add all of your evaluation functions here:\n",
        "eval_functions = {\n",
        "    \"eval_has_hashtag\": eval_has_hashtag,\n",
        "    \"eval_length_of_social_post\": eval_length_of_social_post,\n",
        "}\n",
        "\n",
        "# For each row, loop through:\n",
        "for index, row in social_post_df.iterrows():\n",
        "    # For each eval, run the eval and store the output in a new column for that row:\n",
        "    for key, value in eval_functions.items():\n",
        "        # Find the right eval function:\n",
        "        eval_function_to_call = eval_functions[key]\n",
        "\n",
        "        # Call the eval function and save to a column in the original df:\n",
        "        eval_result = eval_function_to_call(row[\"generated_social_media_post\"])\n",
        "\n",
        "        # Save to column at index position,\n",
        "        # this also converts the boolean to 1 for success and 0 for failure on the evaluation:\n",
        "        social_post_df.loc[index, key] = convert_boolean_to_one_hot_encoding(\n",
        "            eval_result\n",
        "        )\n",
        "\n",
        "social_post_df.head(5)"
      ]
    },
    {
      "cell_type": "markdown",
      "metadata": {
        "id": "DOi2zfh6VZX8"
      },
      "source": [
        "Let's now calculate the accuracy for each evaluation column within the `pandas` dataframe:"
      ]
    },
    {
      "cell_type": "code",
      "execution_count": null,
      "metadata": {
        "id": "KbrMtU_fVZX8",
        "outputId": "673a9410-10ae-4609-d508-25fda657375d",
        "colab": {
          "base_uri": "https://localhost:8080/"
        }
      },
      "outputs": [
        {
          "output_type": "stream",
          "name": "stdout",
          "text": [
            "['eval_has_hashtag', 'eval_length_of_social_post']\n"
          ]
        }
      ],
      "source": [
        "eval_columns = [col for col in social_post_df.columns if \"eval\" in col]\n",
        "print(eval_columns)"
      ]
    },
    {
      "cell_type": "code",
      "execution_count": null,
      "metadata": {
        "id": "3vg_F4AEVZX9"
      },
      "outputs": [],
      "source": [
        "eval_accuracy_results = {}\n",
        "\n",
        "for col in eval_columns:\n",
        "    # Get that eval column:\n",
        "    single_eval_results = social_post_df[col]\n",
        "\n",
        "    # Compare to the length and calculate the accuracy:\n",
        "    single_eval_accuracy = single_eval_results.sum() / len(single_eval_results)\n",
        "\n",
        "    # Save to the eval_accuracy_results dictionary:\n",
        "    eval_accuracy_results[col] = single_eval_accuracy"
      ]
    },
    {
      "cell_type": "code",
      "execution_count": null,
      "metadata": {
        "id": "6B0SzRDyVZX9",
        "outputId": "818fb972-3377-4a41-ba08-0405b2f186a6",
        "colab": {
          "base_uri": "https://localhost:8080/"
        }
      },
      "outputs": [
        {
          "output_type": "stream",
          "name": "stdout",
          "text": [
            "{'eval_has_hashtag': 0.7777777777777778, 'eval_length_of_social_post': 0.4444444444444444}\n"
          ]
        }
      ],
      "source": [
        "print(eval_accuracy_results)"
      ]
    },
    {
      "cell_type": "markdown",
      "metadata": {
        "id": "wQpGKWmBVZX9"
      },
      "source": [
        "---\n",
        "\n",
        "## Blending Multiple Evaluation Metrics into a Single Score\n",
        "\n",
        "If you want to optimize across multiple metrics, you can:\n",
        "- Calculate the mean across multiple evaluation metrics to get a balanced result.\n",
        "- Weight multiple evaluation metrics by a certain percentage, depending upon what metrics are more important."
      ]
    },
    {
      "cell_type": "markdown",
      "metadata": {
        "id": "1eVo-U80VZX9"
      },
      "source": [
        "Let's look at calculating the mean of the two previous evals:"
      ]
    },
    {
      "cell_type": "code",
      "execution_count": null,
      "metadata": {
        "id": "f5_bcTqqVZX9",
        "outputId": "7e03f78f-0257-4bfe-ecf5-23969db62827",
        "colab": {
          "base_uri": "https://localhost:8080/"
        }
      },
      "outputs": [
        {
          "output_type": "stream",
          "name": "stdout",
          "text": [
            "0.6111111111111112\n"
          ]
        }
      ],
      "source": [
        "mean_evals_accuracy = np.mean(list(eval_accuracy_results.values()))\n",
        "print(mean_evals_accuracy) # 61% accuracy"
      ]
    },
    {
      "cell_type": "markdown",
      "metadata": {
        "id": "i6oDTWPaVZX9"
      },
      "source": [
        "To demonstrate weighting multiple evaluation metrics by different percentages based on their importance, let's assume we have two evaluation metrics: `eval_has_hashtag` and `eval_length_of_social_post`. We'll assign a weight of 70% to `eval_has_hashtag` (as it might be more critical for social media engagement) and 30% to `eval_length_of_social_post`.\n",
        "\n",
        "Here's a simple example illustrating this approach:"
      ]
    },
    {
      "cell_type": "code",
      "execution_count": null,
      "metadata": {
        "id": "OdfcKBPTVZX9",
        "outputId": "aefd317f-5bfc-4b8d-d451-ac7d35b51568",
        "colab": {
          "base_uri": "https://localhost:8080/"
        }
      },
      "outputs": [
        {
          "output_type": "stream",
          "name": "stdout",
          "text": [
            "The weighted average accuracy: 0.68\n"
          ]
        }
      ],
      "source": [
        "# Define weights for each evaluation metric\n",
        "weights = {\n",
        "    \"eval_has_hashtag\": 0.7,  # 70% weight\n",
        "    \"eval_length_of_social_post\": 0.3,  # 30% weight\n",
        "}\n",
        "\n",
        "# Initialize a variable to store the weighted average\n",
        "weighted_avg_accuracy = 0\n",
        "\n",
        "# Calculate the weighted average accuracy\n",
        "for eval_metric, accuracy in eval_accuracy_results.items():\n",
        "    weighted_avg_accuracy += accuracy * weights[eval_metric]\n",
        "\n",
        "print(f\"The weighted average accuracy: {weighted_avg_accuracy:.2f}\")"
      ]
    },
    {
      "cell_type": "markdown",
      "metadata": {
        "id": "AVD8RxNEVZX9"
      },
      "source": [
        "In this example, the final `weighted_avg_accuracy` represents the overall accuracy of your LLM results, taking into account the relative importance of each evaluation metric. This method provides a more nuanced view of performance, especially when some aspects of the evaluation are prioritized over others."
      ]
    },
    {
      "cell_type": "markdown",
      "metadata": {
        "id": "0FddmwF1VZX9"
      },
      "source": [
        "---\n",
        "\n",
        "## LLM Based Evaluation\n",
        "\n",
        "Let's assume you wanted to figure out if some of the social media posts generated were on the topic of coding/software. Using a known list of keywords would suffice, however it would likely not contain all of the known coding keywords and wouldn't generalise for different languages.\n",
        "\n",
        "Instead let's create a GPT-4 classifer that's responsible for identifying whether the _topic is related to coding_.\n",
        "\n",
        "First, you'll add all of the true labels to the `pandas` dataframe:"
      ]
    },
    {
      "cell_type": "code",
      "execution_count": null,
      "metadata": {
        "id": "Wo96itHCVZX9"
      },
      "outputs": [],
      "source": [
        "# Adding the true labels to the dataframe (based on whether the topic is coding or not):\n",
        "true_labels = [1, 1, 1, 1, 1, 1, 0, 0, 0]\n",
        "social_post_df[\"is_coding_true_labels\"] = true_labels"
      ]
    },
    {
      "cell_type": "code",
      "source": [
        "social_post_df"
      ],
      "metadata": {
        "id": "jPVMxGB8PUAn",
        "outputId": "1971dc55-736c-485f-81fb-d99defe95342",
        "colab": {
          "base_uri": "https://localhost:8080/",
          "height": 332
        }
      },
      "execution_count": null,
      "outputs": [
        {
          "output_type": "execute_result",
          "data": {
            "text/plain": [
              "                         generated_social_media_post  eval_has_hashtag  \\\n",
              "0                                     Coding is fun.               0.0   \n",
              "1  I am learning about coding and I wanted to kno...               0.0   \n",
              "2  Using strong types in code is the way forward ...               1.0   \n",
              "3  learning about data engineering is fun and I h...               1.0   \n",
              "4  Have you ever considered that learning DevOps ...               1.0   \n",
              "5                        I love making software #dev               1.0   \n",
              "6                               I love my dog. #dogs               1.0   \n",
              "7                            Cats are awesome. #cats               1.0   \n",
              "8  It's always good to be with your family and fr...               1.0   \n",
              "\n",
              "   eval_length_of_social_post  is_coding_true_labels  \n",
              "0                         0.0                      1  \n",
              "1                         1.0                      1  \n",
              "2                         1.0                      1  \n",
              "3                         1.0                      1  \n",
              "4                         1.0                      1  \n",
              "5                         0.0                      1  \n",
              "6                         0.0                      0  \n",
              "7                         0.0                      0  \n",
              "8                         0.0                      0  "
            ],
            "text/html": [
              "\n",
              "  <div id=\"df-8879377b-15d3-4f56-9fb9-b0c9ba45d49c\" class=\"colab-df-container\">\n",
              "    <div>\n",
              "<style scoped>\n",
              "    .dataframe tbody tr th:only-of-type {\n",
              "        vertical-align: middle;\n",
              "    }\n",
              "\n",
              "    .dataframe tbody tr th {\n",
              "        vertical-align: top;\n",
              "    }\n",
              "\n",
              "    .dataframe thead th {\n",
              "        text-align: right;\n",
              "    }\n",
              "</style>\n",
              "<table border=\"1\" class=\"dataframe\">\n",
              "  <thead>\n",
              "    <tr style=\"text-align: right;\">\n",
              "      <th></th>\n",
              "      <th>generated_social_media_post</th>\n",
              "      <th>eval_has_hashtag</th>\n",
              "      <th>eval_length_of_social_post</th>\n",
              "      <th>is_coding_true_labels</th>\n",
              "    </tr>\n",
              "  </thead>\n",
              "  <tbody>\n",
              "    <tr>\n",
              "      <th>0</th>\n",
              "      <td>Coding is fun.</td>\n",
              "      <td>0.0</td>\n",
              "      <td>0.0</td>\n",
              "      <td>1</td>\n",
              "    </tr>\n",
              "    <tr>\n",
              "      <th>1</th>\n",
              "      <td>I am learning about coding and I wanted to kno...</td>\n",
              "      <td>0.0</td>\n",
              "      <td>1.0</td>\n",
              "      <td>1</td>\n",
              "    </tr>\n",
              "    <tr>\n",
              "      <th>2</th>\n",
              "      <td>Using strong types in code is the way forward ...</td>\n",
              "      <td>1.0</td>\n",
              "      <td>1.0</td>\n",
              "      <td>1</td>\n",
              "    </tr>\n",
              "    <tr>\n",
              "      <th>3</th>\n",
              "      <td>learning about data engineering is fun and I h...</td>\n",
              "      <td>1.0</td>\n",
              "      <td>1.0</td>\n",
              "      <td>1</td>\n",
              "    </tr>\n",
              "    <tr>\n",
              "      <th>4</th>\n",
              "      <td>Have you ever considered that learning DevOps ...</td>\n",
              "      <td>1.0</td>\n",
              "      <td>1.0</td>\n",
              "      <td>1</td>\n",
              "    </tr>\n",
              "    <tr>\n",
              "      <th>5</th>\n",
              "      <td>I love making software #dev</td>\n",
              "      <td>1.0</td>\n",
              "      <td>0.0</td>\n",
              "      <td>1</td>\n",
              "    </tr>\n",
              "    <tr>\n",
              "      <th>6</th>\n",
              "      <td>I love my dog. #dogs</td>\n",
              "      <td>1.0</td>\n",
              "      <td>0.0</td>\n",
              "      <td>0</td>\n",
              "    </tr>\n",
              "    <tr>\n",
              "      <th>7</th>\n",
              "      <td>Cats are awesome. #cats</td>\n",
              "      <td>1.0</td>\n",
              "      <td>0.0</td>\n",
              "      <td>0</td>\n",
              "    </tr>\n",
              "    <tr>\n",
              "      <th>8</th>\n",
              "      <td>It's always good to be with your family and fr...</td>\n",
              "      <td>1.0</td>\n",
              "      <td>0.0</td>\n",
              "      <td>0</td>\n",
              "    </tr>\n",
              "  </tbody>\n",
              "</table>\n",
              "</div>\n",
              "    <div class=\"colab-df-buttons\">\n",
              "\n",
              "  <div class=\"colab-df-container\">\n",
              "    <button class=\"colab-df-convert\" onclick=\"convertToInteractive('df-8879377b-15d3-4f56-9fb9-b0c9ba45d49c')\"\n",
              "            title=\"Convert this dataframe to an interactive table.\"\n",
              "            style=\"display:none;\">\n",
              "\n",
              "  <svg xmlns=\"http://www.w3.org/2000/svg\" height=\"24px\" viewBox=\"0 -960 960 960\">\n",
              "    <path d=\"M120-120v-720h720v720H120Zm60-500h600v-160H180v160Zm220 220h160v-160H400v160Zm0 220h160v-160H400v160ZM180-400h160v-160H180v160Zm440 0h160v-160H620v160ZM180-180h160v-160H180v160Zm440 0h160v-160H620v160Z\"/>\n",
              "  </svg>\n",
              "    </button>\n",
              "\n",
              "  <style>\n",
              "    .colab-df-container {\n",
              "      display:flex;\n",
              "      gap: 12px;\n",
              "    }\n",
              "\n",
              "    .colab-df-convert {\n",
              "      background-color: #E8F0FE;\n",
              "      border: none;\n",
              "      border-radius: 50%;\n",
              "      cursor: pointer;\n",
              "      display: none;\n",
              "      fill: #1967D2;\n",
              "      height: 32px;\n",
              "      padding: 0 0 0 0;\n",
              "      width: 32px;\n",
              "    }\n",
              "\n",
              "    .colab-df-convert:hover {\n",
              "      background-color: #E2EBFA;\n",
              "      box-shadow: 0px 1px 2px rgba(60, 64, 67, 0.3), 0px 1px 3px 1px rgba(60, 64, 67, 0.15);\n",
              "      fill: #174EA6;\n",
              "    }\n",
              "\n",
              "    .colab-df-buttons div {\n",
              "      margin-bottom: 4px;\n",
              "    }\n",
              "\n",
              "    [theme=dark] .colab-df-convert {\n",
              "      background-color: #3B4455;\n",
              "      fill: #D2E3FC;\n",
              "    }\n",
              "\n",
              "    [theme=dark] .colab-df-convert:hover {\n",
              "      background-color: #434B5C;\n",
              "      box-shadow: 0px 1px 3px 1px rgba(0, 0, 0, 0.15);\n",
              "      filter: drop-shadow(0px 1px 2px rgba(0, 0, 0, 0.3));\n",
              "      fill: #FFFFFF;\n",
              "    }\n",
              "  </style>\n",
              "\n",
              "    <script>\n",
              "      const buttonEl =\n",
              "        document.querySelector('#df-8879377b-15d3-4f56-9fb9-b0c9ba45d49c button.colab-df-convert');\n",
              "      buttonEl.style.display =\n",
              "        google.colab.kernel.accessAllowed ? 'block' : 'none';\n",
              "\n",
              "      async function convertToInteractive(key) {\n",
              "        const element = document.querySelector('#df-8879377b-15d3-4f56-9fb9-b0c9ba45d49c');\n",
              "        const dataTable =\n",
              "          await google.colab.kernel.invokeFunction('convertToInteractive',\n",
              "                                                    [key], {});\n",
              "        if (!dataTable) return;\n",
              "\n",
              "        const docLinkHtml = 'Like what you see? Visit the ' +\n",
              "          '<a target=\"_blank\" href=https://colab.research.google.com/notebooks/data_table.ipynb>data table notebook</a>'\n",
              "          + ' to learn more about interactive tables.';\n",
              "        element.innerHTML = '';\n",
              "        dataTable['output_type'] = 'display_data';\n",
              "        await google.colab.output.renderOutput(dataTable, element);\n",
              "        const docLink = document.createElement('div');\n",
              "        docLink.innerHTML = docLinkHtml;\n",
              "        element.appendChild(docLink);\n",
              "      }\n",
              "    </script>\n",
              "  </div>\n",
              "\n",
              "\n",
              "<div id=\"df-690297a9-9652-49cc-890d-e57a3c300867\">\n",
              "  <button class=\"colab-df-quickchart\" onclick=\"quickchart('df-690297a9-9652-49cc-890d-e57a3c300867')\"\n",
              "            title=\"Suggest charts\"\n",
              "            style=\"display:none;\">\n",
              "\n",
              "<svg xmlns=\"http://www.w3.org/2000/svg\" height=\"24px\"viewBox=\"0 0 24 24\"\n",
              "     width=\"24px\">\n",
              "    <g>\n",
              "        <path d=\"M19 3H5c-1.1 0-2 .9-2 2v14c0 1.1.9 2 2 2h14c1.1 0 2-.9 2-2V5c0-1.1-.9-2-2-2zM9 17H7v-7h2v7zm4 0h-2V7h2v10zm4 0h-2v-4h2v4z\"/>\n",
              "    </g>\n",
              "</svg>\n",
              "  </button>\n",
              "\n",
              "<style>\n",
              "  .colab-df-quickchart {\n",
              "      --bg-color: #E8F0FE;\n",
              "      --fill-color: #1967D2;\n",
              "      --hover-bg-color: #E2EBFA;\n",
              "      --hover-fill-color: #174EA6;\n",
              "      --disabled-fill-color: #AAA;\n",
              "      --disabled-bg-color: #DDD;\n",
              "  }\n",
              "\n",
              "  [theme=dark] .colab-df-quickchart {\n",
              "      --bg-color: #3B4455;\n",
              "      --fill-color: #D2E3FC;\n",
              "      --hover-bg-color: #434B5C;\n",
              "      --hover-fill-color: #FFFFFF;\n",
              "      --disabled-bg-color: #3B4455;\n",
              "      --disabled-fill-color: #666;\n",
              "  }\n",
              "\n",
              "  .colab-df-quickchart {\n",
              "    background-color: var(--bg-color);\n",
              "    border: none;\n",
              "    border-radius: 50%;\n",
              "    cursor: pointer;\n",
              "    display: none;\n",
              "    fill: var(--fill-color);\n",
              "    height: 32px;\n",
              "    padding: 0;\n",
              "    width: 32px;\n",
              "  }\n",
              "\n",
              "  .colab-df-quickchart:hover {\n",
              "    background-color: var(--hover-bg-color);\n",
              "    box-shadow: 0 1px 2px rgba(60, 64, 67, 0.3), 0 1px 3px 1px rgba(60, 64, 67, 0.15);\n",
              "    fill: var(--button-hover-fill-color);\n",
              "  }\n",
              "\n",
              "  .colab-df-quickchart-complete:disabled,\n",
              "  .colab-df-quickchart-complete:disabled:hover {\n",
              "    background-color: var(--disabled-bg-color);\n",
              "    fill: var(--disabled-fill-color);\n",
              "    box-shadow: none;\n",
              "  }\n",
              "\n",
              "  .colab-df-spinner {\n",
              "    border: 2px solid var(--fill-color);\n",
              "    border-color: transparent;\n",
              "    border-bottom-color: var(--fill-color);\n",
              "    animation:\n",
              "      spin 1s steps(1) infinite;\n",
              "  }\n",
              "\n",
              "  @keyframes spin {\n",
              "    0% {\n",
              "      border-color: transparent;\n",
              "      border-bottom-color: var(--fill-color);\n",
              "      border-left-color: var(--fill-color);\n",
              "    }\n",
              "    20% {\n",
              "      border-color: transparent;\n",
              "      border-left-color: var(--fill-color);\n",
              "      border-top-color: var(--fill-color);\n",
              "    }\n",
              "    30% {\n",
              "      border-color: transparent;\n",
              "      border-left-color: var(--fill-color);\n",
              "      border-top-color: var(--fill-color);\n",
              "      border-right-color: var(--fill-color);\n",
              "    }\n",
              "    40% {\n",
              "      border-color: transparent;\n",
              "      border-right-color: var(--fill-color);\n",
              "      border-top-color: var(--fill-color);\n",
              "    }\n",
              "    60% {\n",
              "      border-color: transparent;\n",
              "      border-right-color: var(--fill-color);\n",
              "    }\n",
              "    80% {\n",
              "      border-color: transparent;\n",
              "      border-right-color: var(--fill-color);\n",
              "      border-bottom-color: var(--fill-color);\n",
              "    }\n",
              "    90% {\n",
              "      border-color: transparent;\n",
              "      border-bottom-color: var(--fill-color);\n",
              "    }\n",
              "  }\n",
              "</style>\n",
              "\n",
              "  <script>\n",
              "    async function quickchart(key) {\n",
              "      const quickchartButtonEl =\n",
              "        document.querySelector('#' + key + ' button');\n",
              "      quickchartButtonEl.disabled = true;  // To prevent multiple clicks.\n",
              "      quickchartButtonEl.classList.add('colab-df-spinner');\n",
              "      try {\n",
              "        const charts = await google.colab.kernel.invokeFunction(\n",
              "            'suggestCharts', [key], {});\n",
              "      } catch (error) {\n",
              "        console.error('Error during call to suggestCharts:', error);\n",
              "      }\n",
              "      quickchartButtonEl.classList.remove('colab-df-spinner');\n",
              "      quickchartButtonEl.classList.add('colab-df-quickchart-complete');\n",
              "    }\n",
              "    (() => {\n",
              "      let quickchartButtonEl =\n",
              "        document.querySelector('#df-690297a9-9652-49cc-890d-e57a3c300867 button');\n",
              "      quickchartButtonEl.style.display =\n",
              "        google.colab.kernel.accessAllowed ? 'block' : 'none';\n",
              "    })();\n",
              "  </script>\n",
              "</div>\n",
              "    </div>\n",
              "  </div>\n"
            ],
            "application/vnd.google.colaboratory.intrinsic+json": {
              "type": "dataframe",
              "variable_name": "social_post_df",
              "summary": "{\n  \"name\": \"social_post_df\",\n  \"rows\": 9,\n  \"fields\": [\n    {\n      \"column\": \"generated_social_media_post\",\n      \"properties\": {\n        \"dtype\": \"string\",\n        \"num_unique_values\": 9,\n        \"samples\": [\n          \"Cats are awesome. #cats\",\n          \"I am learning about coding and I wanted to know how to write a for loop, so I decided to learn JavaScript\",\n          \"I love making software #dev\"\n        ],\n        \"semantic_type\": \"\",\n        \"description\": \"\"\n      }\n    },\n    {\n      \"column\": \"eval_has_hashtag\",\n      \"properties\": {\n        \"dtype\": \"number\",\n        \"std\": 0.44095855184409843,\n        \"min\": 0.0,\n        \"max\": 1.0,\n        \"num_unique_values\": 2,\n        \"samples\": [\n          1.0,\n          0.0\n        ],\n        \"semantic_type\": \"\",\n        \"description\": \"\"\n      }\n    },\n    {\n      \"column\": \"eval_length_of_social_post\",\n      \"properties\": {\n        \"dtype\": \"number\",\n        \"std\": 0.5270462766947299,\n        \"min\": 0.0,\n        \"max\": 1.0,\n        \"num_unique_values\": 2,\n        \"samples\": [\n          1.0,\n          0.0\n        ],\n        \"semantic_type\": \"\",\n        \"description\": \"\"\n      }\n    },\n    {\n      \"column\": \"is_coding_true_labels\",\n      \"properties\": {\n        \"dtype\": \"number\",\n        \"std\": 0,\n        \"min\": 0,\n        \"max\": 1,\n        \"num_unique_values\": 2,\n        \"samples\": [\n          0,\n          1\n        ],\n        \"semantic_type\": \"\",\n        \"description\": \"\"\n      }\n    }\n  ]\n}"
            }
          },
          "metadata": {},
          "execution_count": 14
        }
      ]
    },
    {
      "cell_type": "code",
      "execution_count": null,
      "metadata": {
        "id": "JFpXDi2zVZX9"
      },
      "outputs": [],
      "source": [
        "from langchain_openai.chat_models import ChatOpenAI\n",
        "from langchain.output_parsers import PydanticOutputParser\n",
        "from langchain_core.prompts import ChatPromptTemplate\n",
        "from pydantic.v1 import BaseModel, Field\n",
        "\n",
        "# 1. Define the model:\n",
        "model = ChatOpenAI(\n",
        "    model=\"gpt-4-1106-preview\",\n",
        "    model_kwargs={\"response_format\": {\"type\": \"json_object\"}},\n",
        ")\n",
        "\n",
        "# 2. Define the prompt:\n",
        "prompt = ChatPromptTemplate.from_messages(\n",
        "    [\n",
        "        (\n",
        "            \"system\",\n",
        "            \"\"\"Act as a content editor, you are responsible for classifying\n",
        "            social media posts using the following format instructions.\n",
        "            Format Instructions: {format_instructions}\n",
        "              \"\"\",\n",
        "        ),\n",
        "        (\n",
        "            \"user\",\n",
        "            \"\"\"Social media post text: {generated_social_media_post}\n",
        "            The topic to be classified against is: {topic}\n",
        "            \"\"\",\n",
        "        ),\n",
        "    ]\n",
        ")\n",
        "\n",
        "\n",
        "# 3. Define the pydantic model:\n",
        "class SocialMediaPostClassifier(BaseModel):\n",
        "    is_topic: int = Field(\n",
        "        default=0,\n",
        "        description=\"\"\"This field is a classification result for\n",
        "                           whether a result is identified against a known topic. 1 for yes and 0 for no.\"\"\",\n",
        "    )\n",
        "\n",
        "\n",
        "# 4. Define the output parser:\n",
        "output_parser = PydanticOutputParser(pydantic_object=SocialMediaPostClassifier)\n",
        "\n",
        "# 5. Create an LCEL chain:\n",
        "chain = prompt | model | output_parser\n",
        "\n",
        "# 6. Invoke the chain for the whole dataset:\n",
        "results = []\n",
        "TOPIC = \"coding, software or data science\"\n",
        "\n",
        "# For each row, loop through:\n",
        "for index, row in social_post_df.iterrows():\n",
        "    result = chain.invoke(\n",
        "        {\n",
        "            \"generated_social_media_post\": row[\"generated_social_media_post\"],\n",
        "            \"format_instructions\": output_parser.get_format_instructions(),\n",
        "            \"topic\": TOPIC\n",
        "        }\n",
        "    )\n",
        "    # Extract the is_topic property from the Pydantic model:\n",
        "    results.append(result.is_topic)\n",
        "\n",
        "# Save the results to a new column:\n",
        "social_post_df['eval_is_coding_topic'] = results"
      ]
    },
    {
      "cell_type": "markdown",
      "metadata": {
        "id": "fnVy87bNVZX9"
      },
      "source": [
        "---\n",
        "\n",
        "Let's calculate the accuracy of the LLM generated evaluation against the known true labels from the `is_coding_true_labels` column:"
      ]
    },
    {
      "cell_type": "code",
      "execution_count": null,
      "metadata": {
        "id": "wbXuLjWBVZX9",
        "outputId": "0caa58f6-4de5-4fce-8436-c4e1b4b8c447"
      },
      "outputs": [
        {
          "data": {
            "text/html": [
              "<div>\n",
              "<style scoped>\n",
              "    .dataframe tbody tr th:only-of-type {\n",
              "        vertical-align: middle;\n",
              "    }\n",
              "\n",
              "    .dataframe tbody tr th {\n",
              "        vertical-align: top;\n",
              "    }\n",
              "\n",
              "    .dataframe thead th {\n",
              "        text-align: right;\n",
              "    }\n",
              "</style>\n",
              "<table border=\"1\" class=\"dataframe\">\n",
              "  <thead>\n",
              "    <tr style=\"text-align: right;\">\n",
              "      <th></th>\n",
              "      <th>generated_social_media_post</th>\n",
              "      <th>eval_has_hashtag</th>\n",
              "      <th>eval_length_of_social_post</th>\n",
              "      <th>is_coding_true_labels</th>\n",
              "      <th>eval_is_coding_topic</th>\n",
              "    </tr>\n",
              "  </thead>\n",
              "  <tbody>\n",
              "    <tr>\n",
              "      <th>0</th>\n",
              "      <td>Coding is fun.</td>\n",
              "      <td>0.0</td>\n",
              "      <td>0.0</td>\n",
              "      <td>1</td>\n",
              "      <td>1</td>\n",
              "    </tr>\n",
              "    <tr>\n",
              "      <th>1</th>\n",
              "      <td>I am learning about coding and I wanted to kno...</td>\n",
              "      <td>0.0</td>\n",
              "      <td>1.0</td>\n",
              "      <td>1</td>\n",
              "      <td>1</td>\n",
              "    </tr>\n",
              "    <tr>\n",
              "      <th>2</th>\n",
              "      <td>Using strong types in code is the way forward ...</td>\n",
              "      <td>1.0</td>\n",
              "      <td>1.0</td>\n",
              "      <td>1</td>\n",
              "      <td>1</td>\n",
              "    </tr>\n",
              "    <tr>\n",
              "      <th>3</th>\n",
              "      <td>learning about data engineering is fun and I h...</td>\n",
              "      <td>1.0</td>\n",
              "      <td>1.0</td>\n",
              "      <td>1</td>\n",
              "      <td>1</td>\n",
              "    </tr>\n",
              "    <tr>\n",
              "      <th>4</th>\n",
              "      <td>Have you ever considered that learning DevOps ...</td>\n",
              "      <td>1.0</td>\n",
              "      <td>1.0</td>\n",
              "      <td>1</td>\n",
              "      <td>1</td>\n",
              "    </tr>\n",
              "    <tr>\n",
              "      <th>5</th>\n",
              "      <td>I love making software #dev</td>\n",
              "      <td>1.0</td>\n",
              "      <td>0.0</td>\n",
              "      <td>1</td>\n",
              "      <td>1</td>\n",
              "    </tr>\n",
              "    <tr>\n",
              "      <th>6</th>\n",
              "      <td>I love my dog. #dogs</td>\n",
              "      <td>1.0</td>\n",
              "      <td>0.0</td>\n",
              "      <td>0</td>\n",
              "      <td>0</td>\n",
              "    </tr>\n",
              "    <tr>\n",
              "      <th>7</th>\n",
              "      <td>Cats are awesome. #cats</td>\n",
              "      <td>1.0</td>\n",
              "      <td>0.0</td>\n",
              "      <td>0</td>\n",
              "      <td>0</td>\n",
              "    </tr>\n",
              "    <tr>\n",
              "      <th>8</th>\n",
              "      <td>It's always good to be with your family and fr...</td>\n",
              "      <td>1.0</td>\n",
              "      <td>0.0</td>\n",
              "      <td>0</td>\n",
              "      <td>1</td>\n",
              "    </tr>\n",
              "  </tbody>\n",
              "</table>\n",
              "</div>"
            ],
            "text/plain": [
              "                         generated_social_media_post  eval_has_hashtag  \\\n",
              "0                                     Coding is fun.               0.0   \n",
              "1  I am learning about coding and I wanted to kno...               0.0   \n",
              "2  Using strong types in code is the way forward ...               1.0   \n",
              "3  learning about data engineering is fun and I h...               1.0   \n",
              "4  Have you ever considered that learning DevOps ...               1.0   \n",
              "5                        I love making software #dev               1.0   \n",
              "6                               I love my dog. #dogs               1.0   \n",
              "7                            Cats are awesome. #cats               1.0   \n",
              "8  It's always good to be with your family and fr...               1.0   \n",
              "\n",
              "   eval_length_of_social_post  is_coding_true_labels  eval_is_coding_topic  \n",
              "0                         0.0                      1                     1  \n",
              "1                         1.0                      1                     1  \n",
              "2                         1.0                      1                     1  \n",
              "3                         1.0                      1                     1  \n",
              "4                         1.0                      1                     1  \n",
              "5                         0.0                      1                     1  \n",
              "6                         0.0                      0                     0  \n",
              "7                         0.0                      0                     0  \n",
              "8                         0.0                      0                     1  "
            ]
          },
          "execution_count": 121,
          "metadata": {},
          "output_type": "execute_result"
        }
      ],
      "source": [
        "social_post_df"
      ]
    },
    {
      "cell_type": "code",
      "execution_count": null,
      "metadata": {
        "id": "XS5Rc4_IVZX9"
      },
      "outputs": [],
      "source": [
        "# Loop through each row and calculate the accuracy against the true labels:\n",
        "true_labels = social_post_df[\"is_coding_true_labels\"]\n",
        "eval_results = social_post_df[\"eval_is_coding_topic\"]\n",
        "\n",
        "# Loop through and check for equality in terms of 0 or 1 for each row, when it is equal, add 1 to the count:\n",
        "count = 0\n",
        "for index, row in social_post_df.iterrows():\n",
        "    if row[\"is_coding_true_labels\"] == row[\"eval_is_coding_topic\"]:\n",
        "        count += 1\n",
        "\n",
        "single_eval_accuracy = count / len(true_labels)"
      ]
    },
    {
      "cell_type": "code",
      "execution_count": null,
      "metadata": {
        "id": "DpxaRegPVZX9",
        "outputId": "9203c84e-785a-476e-dfbe-10e5876b6298"
      },
      "outputs": [
        {
          "name": "stdout",
          "output_type": "stream",
          "text": [
            "GPT-4 achieved 89.0 % accuracy against the true labels.\n"
          ]
        }
      ],
      "source": [
        "print(f\"GPT-4 achieved {round(single_eval_accuracy, 2) * 100} % accuracy against the true labels.\")"
      ]
    },
    {
      "cell_type": "markdown",
      "metadata": {
        "id": "bKtZNzWuVZX9"
      },
      "source": [
        "---\n",
        "\n",
        "## Generate Ground Truth Data with GPT-4 API\n",
        "\n",
        "Creating the known labels or ground truth data can be time consuming and expensive. You can use GPT-4 to _generate the ground truth data_ for you. This is useful for training your own models, and for evaluating the performance of other models. Then you can use these evals to test whether the open source or smaller / faster / cheaper models are performing as well as the larger / slower / more expensive models."
      ]
    },
    {
      "cell_type": "code",
      "execution_count": null,
      "metadata": {
        "id": "ykZRDOlLVZX-"
      },
      "outputs": [],
      "source": [
        "import requests\n",
        "import io\n",
        "\n",
        "# Dataset URL:\n",
        "url = \"https://storage.googleapis.com/oreilly-content/transaction_data_with_expanded_descriptions.csv\"\n",
        "\n",
        "# Download the file from the URL:\n",
        "downloaded_file = requests.get(url)\n",
        "\n",
        "# Load the transactions dataset and only look at 20 transactions:\n",
        "df = pd.read_csv(io.StringIO(downloaded_file.text))[:20]"
      ]
    },
    {
      "cell_type": "code",
      "execution_count": null,
      "metadata": {
        "id": "W0jPRWukVZX-",
        "outputId": "774ad230-25d6-4c9e-e909-d27abce7c8d2"
      },
      "outputs": [
        {
          "name": "stderr",
          "output_type": "stream",
          "text": [
            "100%|██████████| 20/20 [00:33<00:00,  1.69s/it]\n"
          ]
        }
      ],
      "source": [
        "# Run through the dataset using GPT-4 to correctly classify the transactions\n",
        "from langchain_openai.chat_models import ChatOpenAI\n",
        "from langchain.output_parsers import PydanticOutputParser\n",
        "from langchain_core.prompts import ChatPromptTemplate\n",
        "from pydantic import BaseModel\n",
        "from typing import Literal, Union\n",
        "\n",
        "# 1. Define the model:\n",
        "model = ChatOpenAI(\n",
        "    model=\"gpt-4-1106-preview\",\n",
        "    model_kwargs={\"response_format\": {\"type\": \"json_object\"}},\n",
        ")\n",
        "\n",
        "system_prompt = \"\"\"You are are an expert at analyzing bank transactions,\n",
        "you will be categorising a single transaction.\n",
        "Format Instructions:{format_instructions}\"\"\"\n",
        "\n",
        "user_prompt = \"\"\"Transaction Text:{transaction}\"\"\"\n",
        "\n",
        "# 2. Define the prompt:\n",
        "prompt = ChatPromptTemplate.from_messages(\n",
        "    [\n",
        "        (\n",
        "            \"system\",\n",
        "            system_prompt,\n",
        "        ),\n",
        "        (\n",
        "            \"user\",\n",
        "            user_prompt,\n",
        "        ),\n",
        "    ]\n",
        ")\n",
        "\n",
        "# 3. Define the pydantic model:\n",
        "class EnrichedTransactionInformation(BaseModel):\n",
        "    transaction_type: Union[\n",
        "        Literal[\"Purchase\", \"Withdrawal\", \"Deposit\", \"Bill Payment\", \"Refund\"], None\n",
        "    ]\n",
        "    transaction_category: Union[\n",
        "        Literal[\"Food\", \"Entertainment\", \"Transport\", \"Utilities\", \"Rent\", \"Other\"],\n",
        "        None,\n",
        "    ]\n",
        "\n",
        "\n",
        "# 4. Define the output parser:\n",
        "output_parser = PydanticOutputParser(pydantic_object=EnrichedTransactionInformation)\n",
        "\n",
        "# 5. Create an LCEL chain:\n",
        "chain = prompt | model | output_parser\n",
        "\n",
        "# 6. Invoke the chain for the whole dataset:\n",
        "results = []\n",
        "\n",
        "for i, row in tqdm(df.iterrows(), total=len(df)):\n",
        "    transaction = row[\"Transaction Description\"]\n",
        "    result = chain.invoke(\n",
        "        {\n",
        "            \"transaction\": transaction,\n",
        "            \"format_instructions\": output_parser.get_format_instructions(),\n",
        "        }\n",
        "    )\n",
        "    results.append(result)"
      ]
    },
    {
      "cell_type": "code",
      "execution_count": null,
      "metadata": {
        "id": "ib228YG2VZX-",
        "outputId": "bac813dd-470f-469b-abf7-4f8615d5e14e"
      },
      "outputs": [
        {
          "data": {
            "text/html": [
              "<div>\n",
              "<style scoped>\n",
              "    .dataframe tbody tr th:only-of-type {\n",
              "        vertical-align: middle;\n",
              "    }\n",
              "\n",
              "    .dataframe tbody tr th {\n",
              "        vertical-align: top;\n",
              "    }\n",
              "\n",
              "    .dataframe thead th {\n",
              "        text-align: right;\n",
              "    }\n",
              "</style>\n",
              "<table border=\"1\" class=\"dataframe\">\n",
              "  <thead>\n",
              "    <tr style=\"text-align: right;\">\n",
              "      <th></th>\n",
              "      <th>Transaction Description</th>\n",
              "      <th>transaction_type</th>\n",
              "      <th>transaction_category</th>\n",
              "    </tr>\n",
              "  </thead>\n",
              "  <tbody>\n",
              "    <tr>\n",
              "      <th>0</th>\n",
              "      <td>cash deposit at local branch</td>\n",
              "      <td>Deposit</td>\n",
              "      <td>Other</td>\n",
              "    </tr>\n",
              "    <tr>\n",
              "      <th>1</th>\n",
              "      <td>cash deposit at local branch</td>\n",
              "      <td>Deposit</td>\n",
              "      <td>Other</td>\n",
              "    </tr>\n",
              "    <tr>\n",
              "      <th>2</th>\n",
              "      <td>withdrew money for rent payment</td>\n",
              "      <td>Withdrawal</td>\n",
              "      <td>Rent</td>\n",
              "    </tr>\n",
              "    <tr>\n",
              "      <th>3</th>\n",
              "      <td>withdrew cash for weekend expenses</td>\n",
              "      <td>Withdrawal</td>\n",
              "      <td>Other</td>\n",
              "    </tr>\n",
              "    <tr>\n",
              "      <th>4</th>\n",
              "      <td>purchased books from the bookstore</td>\n",
              "      <td>Purchase</td>\n",
              "      <td>Other</td>\n",
              "    </tr>\n",
              "  </tbody>\n",
              "</table>\n",
              "</div>"
            ],
            "text/plain": [
              "              Transaction Description transaction_type transaction_category\n",
              "0        cash deposit at local branch          Deposit                Other\n",
              "1        cash deposit at local branch          Deposit                Other\n",
              "2     withdrew money for rent payment       Withdrawal                 Rent\n",
              "3  withdrew cash for weekend expenses       Withdrawal                Other\n",
              "4  purchased books from the bookstore         Purchase                Other"
            ]
          },
          "execution_count": 127,
          "metadata": {},
          "output_type": "execute_result"
        }
      ],
      "source": [
        "# 7. Add the results to the dataframe, as columns transaction type and transaction category\n",
        "transaction_types = []\n",
        "transaction_categories = []\n",
        "\n",
        "for result in results:\n",
        "    transaction_types.append(result.transaction_type)\n",
        "    transaction_categories.append(result.transaction_category)\n",
        "\n",
        "df[\"transaction_type\"] = transaction_types\n",
        "df[\"transaction_category\"] = transaction_categories\n",
        "df.head()"
      ]
    },
    {
      "cell_type": "markdown",
      "metadata": {
        "id": "xo2qo02oVZX-"
      },
      "source": [
        "------------------------------------------------------------------"
      ]
    },
    {
      "cell_type": "markdown",
      "metadata": {
        "id": "2QIu2zF1VZX-"
      },
      "source": [
        "## Obtain the Accuracy of GPT-3.5 Turbo API:"
      ]
    },
    {
      "cell_type": "code",
      "execution_count": null,
      "metadata": {
        "id": "exUYJUAvVZX-",
        "outputId": "0dc5fba3-825b-44ae-cf75-35e5673526b8"
      },
      "outputs": [
        {
          "name": "stderr",
          "output_type": "stream",
          "text": [
            "100%|██████████| 20/20 [00:29<00:00,  1.49s/it]"
          ]
        },
        {
          "name": "stdout",
          "output_type": "stream",
          "text": [
            "0 transaction_type='Deposit' transaction_category='Other'\n",
            "1 transaction_type='Deposit' transaction_category='Other'\n",
            "2 transaction_type='Withdrawal' transaction_category='Rent'\n",
            "3 transaction_type='Withdrawal' transaction_category='Entertainment'\n",
            "4 transaction_type='Purchase' transaction_category='Other'\n",
            "5 transaction_type=None transaction_category=None\n",
            "6 transaction_type='Refund' transaction_category='Other'\n",
            "7 transaction_type='Withdrawal' transaction_category='Rent'\n",
            "8 transaction_type='Refund' transaction_category='Other'\n",
            "9 transaction_type='Bill Payment' transaction_category='Utilities'\n",
            "10 transaction_type='Purchase' transaction_category='Food'\n",
            "11 transaction_type='Refund' transaction_category='Other'\n",
            "12 transaction_type='Withdrawal' transaction_category='Rent'\n",
            "13 transaction_type='Deposit' transaction_category='Other'\n",
            "14 transaction_type='Purchase' transaction_category='Entertainment'\n",
            "15 transaction_type='Purchase' transaction_category='Other'\n",
            "16 transaction_type='Bill Payment' transaction_category='Utilities'\n",
            "17 transaction_type='Withdrawal' transaction_category='Entertainment'\n",
            "18 transaction_type='Withdrawal' transaction_category='Entertainment'\n",
            "19 transaction_type='Purchase' transaction_category='Other'\n"
          ]
        },
        {
          "name": "stderr",
          "output_type": "stream",
          "text": [
            "\n"
          ]
        }
      ],
      "source": [
        "# 1. Define the model:\n",
        "model = ChatOpenAI(\n",
        "    model=\"gpt-3.5-turbo-1106\",\n",
        "    model_kwargs={\"response_format\": {\"type\": \"json_object\"}},\n",
        ")\n",
        "\n",
        "# 2. Invoke the chain:\n",
        "chain = prompt | model | output_parser\n",
        "results = []\n",
        "\n",
        "for i, row in tqdm(df.iterrows(), total=len(df)):\n",
        "    transaction = row[\"Transaction Description\"]\n",
        "    try:\n",
        "        result = chain.invoke(\n",
        "            {\n",
        "                \"transaction\": transaction,\n",
        "                \"format_instructions\": output_parser.get_format_instructions(),\n",
        "            }\n",
        "        )\n",
        "        results.append(result)\n",
        "    except:\n",
        "        # If there is an error, return None for both transaction type and transaction category\n",
        "        result = \"\"\"{\"transaction_type\": null, \"transaction_category\": null}\"\"\"\n",
        "        results.append(output_parser.parse(result))\n",
        "\n",
        "# 3. Add the results to the dataframe, as columns transaction type and transaction category\n",
        "transaction_types = []\n",
        "transaction_categories = []\n",
        "\n",
        "for i, result in enumerate(results):\n",
        "    print(i, result)\n",
        "\n",
        "    transaction_types.append(result.transaction_type)\n",
        "    transaction_categories.append(result.transaction_category)\n",
        "\n",
        "df[\"gpt-3.5_transaction_type\"] = transaction_types\n",
        "df[\"gpt-3.5_transaction_category\"] = transaction_categories"
      ]
    },
    {
      "cell_type": "markdown",
      "metadata": {
        "id": "z-OoFkNaVZYB"
      },
      "source": [
        "After classifying the transactions with GPT-3.5-Turbo, you can evaluate the accuracy against the previously generated ground truth from GPT-4 by looping through the dataframe and comparing each row:"
      ]
    },
    {
      "cell_type": "code",
      "execution_count": null,
      "metadata": {
        "id": "6OoEEf9xVZYB",
        "outputId": "05f02247-52a3-4732-a47a-ac08e32bce22"
      },
      "outputs": [
        {
          "name": "stdout",
          "output_type": "stream",
          "text": [
            "GPT-3.5-Turbo Transaction Type Accuracy:  0.9\n",
            "GPT-3.5-Turbo Transaction Category Accuracy:  0.75\n"
          ]
        }
      ],
      "source": [
        "# Loop through the dataframe and compare the transaction type and transaction category columns:\n",
        "transaction_type_counter = 0\n",
        "transaction_category_counter = 0\n",
        "\n",
        "for i, row in df.iterrows():\n",
        "    if row[\"gpt-3.5_transaction_type\"] == row[\"transaction_type\"]:\n",
        "        transaction_type_counter += 1\n",
        "    if row[\"gpt-3.5_transaction_category\"] == row[\"transaction_category\"]:\n",
        "        transaction_category_counter += 1\n",
        "\n",
        "print(\"GPT-3.5-Turbo Transaction Type Accuracy: \", transaction_type_counter / len(df))\n",
        "print(\n",
        "    \"GPT-3.5-Turbo Transaction Category Accuracy: \",\n",
        "    transaction_category_counter / len(df),\n",
        ")"
      ]
    },
    {
      "cell_type": "markdown",
      "metadata": {
        "id": "7cVTzKkPVZYC"
      },
      "source": [
        "---------\n",
        "\n",
        "## Human Based Evaluation"
      ]
    },
    {
      "cell_type": "markdown",
      "metadata": {
        "id": "SnKI-VLLVZYC"
      },
      "source": [
        "Human-based evaluation involves direct input from individuals to assess the effectiveness of LLM outputs. This can be done through a simple approval system, where a human evaluator gives a thumbs up for satisfactory results and a thumbs down for unsatisfactory ones. Alternatively, evaluators can choose the most suitable result from a set of multiple LLM-generated options.\n",
        "\n",
        "To illustrate this, consider an example where images are generated based on a bank customer's personal interests. In a Jupyter Notebook environment, these images can be displayed alongside an interactive thumbs up/thumbs down system. Evaluators can then easily rate each image according to its relevance and appeal in relation to the customer's profile. This method provides a straightforward and intuitive way to gauge the LLM's performance in creating personalized content."
      ]
    },
    {
      "cell_type": "code",
      "execution_count": null,
      "metadata": {
        "id": "rJySpwMAVZYC"
      },
      "outputs": [],
      "source": [
        "from openai import OpenAI\n",
        "from langchain_core.prompts import ChatPromptTemplate, SystemMessagePromptTemplate\n",
        "from langchain_core.runnables import RunnablePassthrough\n",
        "from langchain_core.output_parsers import StrOutputParser\n",
        "\n",
        "client = OpenAI()\n",
        "standard_chat_model = ChatOpenAI()\n",
        "\n",
        "image_prompt = ChatPromptTemplate.from_messages(\n",
        "    [\n",
        "        SystemMessagePromptTemplate.from_template(\n",
        "            \"\"\"\n",
        "            Act as a graphic prompt designer for a bank. You are responsible for creating a visual prompt that will be used in a marketing email to a customer for a new mortgage product.\n",
        "            The prompt will be transformed into an image using Dalle and then sent to the customer.\n",
        "\n",
        "            The bank is now offering a new 4% mortgage deal, your task is to create a visual prompt guide that uses the customer's interests to\n",
        "            personalize the mortgage offer that we're sending to them.\n",
        "\n",
        "            You must follow the following principles:\n",
        "            - Write a short concise, visual prompt that is easy to understand.\n",
        "            - Make sure that the visual prompt is personalized to the customer's profile and their interests.\n",
        "            - Avoid including any sensitive information in the prompt.\n",
        "            - Make sure that the prompt is not offensive or discriminatory in any way.\n",
        "            - Ensure that the prompt doesn't contain any text in terms of what is written on the image. This is important because the text will be added later. Focus on the type of house and the surrounding area.\n",
        "            - Use the customers location to determine the type of house and the surrounding area.\n",
        "            - Use customer interests to populate the house and the surrounding area (only if the customer has relevant interests, i.e. add in mountains if the customer is interested in hiking and so on for other hobbies).\n",
        "\n",
        "            You have access to the following context:\n",
        "            Customer Information: {customer_information}\n",
        "            ------------------\n",
        "            Customer Profile: {customer_profile}\n",
        "            ------------------\n",
        "            Response:\n",
        "            \"\"\"\n",
        "        )\n",
        "    ]\n",
        ")\n",
        "\n",
        "\n",
        "def generate_dalle_image(prompt: str) -> str:\n",
        "    \"\"\"\n",
        "    Generates a dalle image from a prompt and returns the path to the image.\n",
        "    \"\"\"\n",
        "    import base64\n",
        "    import os\n",
        "    import uuid\n",
        "\n",
        "    # if there's no /out folder, create it\n",
        "    if not os.path.exists(\"./out\"):\n",
        "        os.makedirs(\"./out\")\n",
        "\n",
        "    # Generate the image\n",
        "    response = client.images.generate(\n",
        "        model=\"dall-e-3\",\n",
        "        prompt=prompt,\n",
        "        size=\"1024x1024\",\n",
        "        quality=\"standard\",\n",
        "        response_format=\"b64_json\",\n",
        "        n=1,\n",
        "    )\n",
        "\n",
        "    image_data = response.data[0].b64_json\n",
        "\n",
        "    # Download the image\n",
        "    image_path = f\"./out/{uuid.uuid4()}.png\"\n",
        "    with open(image_path, \"wb\") as f:\n",
        "        f.write(base64.b64decode(image_data))\n",
        "\n",
        "    return image_path\n",
        "\n",
        "\n",
        "image_chain = (\n",
        "    {\n",
        "        \"customer_information\": RunnablePassthrough(),\n",
        "        \"customer_profile\": RunnablePassthrough(),\n",
        "    }\n",
        "    | image_prompt\n",
        "    | standard_chat_model\n",
        "    | StrOutputParser()\n",
        "    | generate_dalle_image\n",
        ")"
      ]
    },
    {
      "cell_type": "code",
      "execution_count": null,
      "metadata": {
        "id": "oliMqYaaVZYC"
      },
      "outputs": [],
      "source": [
        "good_profiles = [\n",
        "    {\n",
        "        \"profile\": \"Outdoor Enthusiast\",\n",
        "        \"information\": \"Loves hiking, owns two dogs, enjoys gardening, resides in a rural area near mountains.\",\n",
        "    },\n",
        "    {\n",
        "        \"profile\": \"Urban Professional\",\n",
        "        \"information\": \"Works in finance, enjoys city life, likes modern architecture, lives in a downtown area.\",\n",
        "    },\n",
        "    {\n",
        "        \"profile\": \"Beach Lover\",\n",
        "        \"information\": \"Enjoys surfing, beach volleyball, tropical climate, lives near the coast.\",\n",
        "    },\n",
        "    {\n",
        "        \"profile\": \"Art and Culture Aficionado\",\n",
        "        \"information\": \"Enjoys visiting art galleries, attending theater shows, lives in a culturally rich urban area.\",\n",
        "    },\n",
        "    {\n",
        "        \"profile\": \"Family-Oriented\",\n",
        "        \"information\": \"Has three children, enjoys family activities, lives in a suburban area with good schools.\",\n",
        "    },\n",
        "]\n"
      ]
    },
    {
      "cell_type": "code",
      "execution_count": null,
      "metadata": {
        "id": "8mR0phiaVZYC"
      },
      "outputs": [],
      "source": [
        "results = []\n",
        "\n",
        "for customer_id, profile in enumerate(good_profiles, start=1):\n",
        "    image_path = image_chain.invoke(\n",
        "        {\n",
        "            \"customer_information\": profile[\"information\"],\n",
        "            \"customer_profile\": profile[\"profile\"],\n",
        "        }\n",
        "    )\n",
        "\n",
        "    # Collect all of the data within a dataframes:\n",
        "    results.append(\n",
        "        {\n",
        "            \"customer_id\": customer_id,\n",
        "            \"customer_information\": profile[\"information\"],\n",
        "            \"customer_profile\": profile[\"profile\"],\n",
        "            \"image_path\": image_path,\n",
        "        }\n",
        "    )\n",
        "\n",
        "# Convert the results to a DataFrame:\n",
        "image_df = pd.DataFrame(results)"
      ]
    },
    {
      "cell_type": "markdown",
      "metadata": {
        "id": "CUn6BvQhVZYC"
      },
      "source": [
        "---------------------\n",
        "\n",
        "## The Interactive Approval System"
      ]
    },
    {
      "cell_type": "code",
      "execution_count": null,
      "metadata": {
        "id": "3xhFEV8iVZYC",
        "outputId": "ff40203e-b957-401a-da28-a397038629b3",
        "colab": {
          "referenced_widgets": [
            "f4dc03181d664329a13ac8bc02d0d1a9",
            "41c5709fa9e24832ac9fa8725ca52fce",
            "608cc2c8ae2d42efb8149ca90baa4364"
          ]
        }
      },
      "outputs": [
        {
          "data": {
            "application/vnd.jupyter.widget-view+json": {
              "model_id": "f4dc03181d664329a13ac8bc02d0d1a9",
              "version_major": 2,
              "version_minor": 0
            },
            "text/plain": [
              "HTML(value='<img src=\"./out/deccf5b1-2e30-4528-8936-881cd6315b24.png\" style=\"max-width: 400px;\"/><p></p>')"
            ]
          },
          "metadata": {},
          "output_type": "display_data"
        },
        {
          "data": {
            "application/vnd.jupyter.widget-view+json": {
              "model_id": "41c5709fa9e24832ac9fa8725ca52fce",
              "version_major": 2,
              "version_minor": 0
            },
            "text/plain": [
              "HBox(children=(Button(description='👎', style=ButtonStyle()), Button(description='👍', style=ButtonStyle())))"
            ]
          },
          "metadata": {},
          "output_type": "display_data"
        },
        {
          "data": {
            "application/vnd.jupyter.widget-view+json": {
              "model_id": "608cc2c8ae2d42efb8149ca90baa4364",
              "version_major": 2,
              "version_minor": 0
            },
            "text/plain": [
              "Label(value='Response: 1 / 5')"
            ]
          },
          "metadata": {},
          "output_type": "display_data"
        },
        {
          "name": "stdout",
          "output_type": "stream",
          "text": [
            "Number of approved images: 2\n"
          ]
        }
      ],
      "source": [
        "import ipywidgets as widgets\n",
        "import os\n",
        "\n",
        "response_index = 0\n",
        "image_df[\"approved\"] = pd.Series(dtype=\"str\")  # Adding a new column to store feedback\n",
        "\n",
        "\n",
        "def on_button_clicked(b):\n",
        "    global response_index\n",
        "    user_feedback = 1 if b.description == \"\\U0001F44D\" else 0\n",
        "    image_df.at[response_index, \"approved\"] = user_feedback\n",
        "\n",
        "    response_index += 1\n",
        "    if response_index < len(image_df):\n",
        "        update_response()\n",
        "    else:\n",
        "        if not os.path.exists(\"data\"):\n",
        "            os.makedirs(\"data\")\n",
        "        image_df.to_csv(\"data/checked_customer_marketing_images.csv\", index=False)\n",
        "        approved_df = image_df[image_df[\"approved\"] == 1]\n",
        "        print(f\"Number of approved images: {len(approved_df)}\")\n",
        "\n",
        "\n",
        "def update_response():\n",
        "    if response_index >= len(image_df):\n",
        "        new_response = \"<p>No more responses</p>\"\n",
        "    else:\n",
        "        next_image = image_df.iloc[response_index]\n",
        "        image_html = (\n",
        "            f'<img src=\"{next_image[\"image_path\"]}\" style=\"max-width: 400px;\"/>'\n",
        "            if next_image[\"image_path\"]\n",
        "            else \"No Image\"\n",
        "        )\n",
        "        new_response = f\"{image_html}<p></p>\"\n",
        "    response.value = new_response\n",
        "    count_label.value = f\"Response: {response_index + 1} / {len(image_df)}\"\n",
        "\n",
        "\n",
        "response = widgets.HTML()\n",
        "count_label = widgets.Label()\n",
        "\n",
        "update_response()\n",
        "\n",
        "thumbs_up_button = widgets.Button(description=\"\\U0001F44D\")\n",
        "thumbs_up_button.on_click(on_button_clicked)\n",
        "\n",
        "thumbs_down_button = widgets.Button(description=\"\\U0001F44E\")\n",
        "thumbs_down_button.on_click(on_button_clicked)\n",
        "\n",
        "button_box = widgets.HBox([thumbs_down_button, thumbs_up_button])\n",
        "\n",
        "display(response, button_box, count_label)"
      ]
    },
    {
      "cell_type": "markdown",
      "metadata": {
        "id": "tfiyLfX9VZYC"
      },
      "source": [
        "-----\n",
        "\n",
        "Here's a breakdown of the key components of this code:\n",
        "\n",
        "1. **Initialization and DataFrame Update**:\n",
        "   - The `response_index` variable is initialized to track the current image being evaluated.\n",
        "   - A new column, `approved`, is added to the `image_df` DataFrame to store the evaluation feedback for each image.\n",
        "\n",
        "2. **Button Click Event Handling**:\n",
        "   - The `on_button_clicked` function updates the `approved` status of the current image based on the button clicked (thumbs up or thumbs down).\n",
        "   - It increments the `response_index` to move to the next image and calls `update_response` to refresh the displayed image.\n",
        "\n",
        "3. **Response Update and Display**:\n",
        "   - The `update_response` function dynamically updates the content displayed to the evaluator. It shows the current image (if available) and updates the progress label (`count_label`).\n",
        "   - If all images have been evaluated, it displays a message indicating no more responses are left.\n",
        "\n",
        "4. **Data Saving and Summary**:\n",
        "   - Once all images have been evaluated, the system saves the feedback to a CSV file. It also calculates and displays the number of images approved.\n",
        "\n",
        "5. **Interactive Widgets Setup**:\n",
        "   - Two buttons (`thumbs_up_button` and `thumbs_down_button`) are created and linked to the `on_button_clicked` event handler.\n",
        "   - These buttons allow the evaluator to approve or disapprove each image.\n",
        "   - The `response` and `count_label` widgets are used to display the current image and the evaluation progress, respectively.\n",
        "\n",
        "6. **Displaying the Interactive Elements**:\n",
        "   - Finally, the interactive elements (image, buttons, and labels) are displayed in a horizontal box layout using `display(response, button_box, count_label)`.\n",
        "\n",
        "This interactive approval system is an efficient tool for quickly gathering human feedback on a set of images, making it a valuable component for human-based evaluations in LLM projects."
      ]
    },
    {
      "cell_type": "markdown",
      "metadata": {
        "id": "PlClqK71VZYC"
      },
      "source": [
        "---\n",
        "\n",
        "## Enhancing Evaluation Scores for LLMs\n",
        "\n",
        "To elevate the performance of your Large Language Models (LLMs) and boost evaluation scores, consider implementing these strategies:\n",
        "\n",
        "1. **Optimized Prompts**: Employ prompt engineering techniques to refine your prompts. Thoughtfully crafted prompts can significantly improve the LLM's output quality and, in turn, its evaluation scores.\n",
        "\n",
        "2. **Model Selection**: Experiment with various models. More sophisticated models often yield better results, but don't overlook the potential of smaller models, especially in the context of prompt refinement.\n",
        "\n",
        "3. **Enhanced Retrieval Techniques**: Inject relevant context into your prompts dynamically to enhance accuracy. Improve retrieval by expanding the range of sourced documents, experimenting with different similarity metrics, and employing hybrid search strategies that combine various methods for more comprehensive results.\n",
        "\n",
        "4. **Task Decomposition with Multiple LLM Chains**: Break down complex tasks into simpler components and address each with a dedicated LLM chain. This specialized approach allows for more targeted prompt optimization and can lead to superior outcomes.\n",
        "\n",
        "5. **Fine-Tuning with Targeted Data**: If adjustments to prompts and retrieval processes fall short, consider fine-tuning your LLM with a curated, labeled dataset. This dataset can be generated through GPT-4 or human labeling, depending on your specific requirements and resources.\n",
        "\n",
        "By embracing these strategies, you can fine-tune your LLM's performance to meet and exceed evaluation benchmarks. Remember, the key to success lies in a balanced combination of technology and technique, ensuring your LLM not only meets but surpasses expectations.\n",
        "\n",
        "---\n",
        "\n",
        "In conclusion, enhancing your LLM's evaluation scores is a dynamic process that combines the art of prompt engineering with the science of model optimization. By continuously refining your approach and staying adaptable to new techniques and technologies, you can ensure your LLM delivers top-tier performance, making it a valuable asset in your toolkit."
      ]
    }
  ],
  "metadata": {
    "kernelspec": {
      "display_name": "base",
      "language": "python",
      "name": "python3"
    },
    "language_info": {
      "codemirror_mode": {
        "name": "ipython",
        "version": 3
      },
      "file_extension": ".py",
      "mimetype": "text/x-python",
      "name": "python",
      "nbconvert_exporter": "python",
      "pygments_lexer": "ipython3",
      "version": "3.9.13"
    },
    "colab": {
      "provenance": []
    }
  },
  "nbformat": 4,
  "nbformat_minor": 0
}