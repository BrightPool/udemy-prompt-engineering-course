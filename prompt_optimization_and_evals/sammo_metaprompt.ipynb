{
 "cells": [
  {
   "cell_type": "markdown",
   "metadata": {},
   "source": [
    "### Minibatching\n",
    "\n",
    "When annotating data, it's wasteful to process a single example at a time instead of doing multiple at once.\n"
   ]
  },
  {
   "cell_type": "code",
   "execution_count": 52,
   "metadata": {},
   "outputs": [],
   "source": [
    "from sammo.runners import OpenAIChat\n",
    "from sammo.data import DataTable\n",
    "from sammo.base import EvaluationScore\n",
    "import os\n",
    "import pandas as pd\n",
    "\n",
    "runner = OpenAIChat(\n",
    "    model_id=\"gpt-4o-mini\",\n",
    "    api_config={\"api_key\": os.environ[\"OPENAI_API_KEY\"]},\n",
    "    cache=os.getenv(\"CACHE_FILE\", \"cache.tsv\"),\n",
    "    timeout=30,\n",
    ")\n",
    "\n",
    "def load_data():\n",
    "    df = pd.read_csv(\"transaction_data_with_classifications.csv\")\n",
    "    mydata = DataTable.from_pandas(df, input_fields=\"description\", output_fields=\"classification\", constants={\"instructions\": \"Determine how to classify these transactions.\"})\n",
    "    return mydata\n",
    "\n",
    "def accuracy(y_true: DataTable, y_pred: DataTable) -> EvaluationScore:\n",
    "    y_true = y_true.outputs.values\n",
    "    y_pred = y_pred.outputs.values\n",
    "    n_correct = sum([y_p == y_t for y_p, y_t in zip(y_pred, y_true)])\n",
    "    return EvaluationScore(n_correct / len(y_true))"
   ]
  },
  {
   "cell_type": "code",
   "execution_count": 53,
   "metadata": {},
   "outputs": [
    {
     "data": {
      "text/plain": [
       "+------------------------------------+---------------+\n",
       "| input                              | output        |\n",
       "+====================================+===============+\n",
       "| cash deposit at local branch       | Other         |\n",
       "+------------------------------------+---------------+\n",
       "| cash deposit at local branch       | Other         |\n",
       "+------------------------------------+---------------+\n",
       "| withdrew money for rent payment    | Rent          |\n",
       "+------------------------------------+---------------+\n",
       "| withdrew cash for weekend expenses | Other         |\n",
       "+------------------------------------+---------------+\n",
       "| purchased books from the bookstore | Other         |\n",
       "+------------------------------------+---------------+\n",
       "| tax refund deposit                 | Other         |\n",
       "+------------------------------------+---------------+\n",
       "| refund from clothing store         | Other         |\n",
       "+------------------------------------+---------------+\n",
       "| withdrew money for rent payment    | Rent          |\n",
       "+------------------------------------+---------------+\n",
       "| insurance claim refund             | Other         |\n",
       "+------------------------------------+---------------+\n",
       "| paid subscription service fee      | Entertainment |\n",
       "+------------------------------------+---------------+\n",
       "Constants: {'instructions': 'Determine how to classify these transac..."
      ]
     },
     "execution_count": 53,
     "metadata": {},
     "output_type": "execute_result"
    }
   ],
   "source": [
    "mydata = load_data()\n",
    "mydata"
   ]
  },
  {
   "cell_type": "code",
   "execution_count": 54,
   "metadata": {},
   "outputs": [
    {
     "name": "stdout",
     "output_type": "stream",
     "text": [
      "minibatches[################################################################################]1/1[00:00<00:00, 1033.90it/s]\n"
     ]
    },
    {
     "data": {
      "text/plain": [
       "+------------------------------------+----------+\n",
       "| input                              | output   |\n",
       "+====================================+==========+\n",
       "| cash withdrawal for holiday        | Other    |\n",
       "+------------------------------------+----------+\n",
       "| mortgage payment                   | Rent     |\n",
       "+------------------------------------+----------+\n",
       "| ATM withdrawal downtown            | Other    |\n",
       "+------------------------------------+----------+\n",
       "| cash withdrawal for holiday        | Other    |\n",
       "+------------------------------------+----------+\n",
       "| refund for cancelled subscription  | Other    |\n",
       "+------------------------------------+----------+\n",
       "| withdrew cash for weekend expenses | Other    |\n",
       "+------------------------------------+----------+\n",
       "| withdrew cash for weekend expenses | Other    |\n",
       "+------------------------------------+----------+\n",
       "| cash deposit at local branch       | Other    |\n",
       "+------------------------------------+----------+\n",
       "| refund for returned electronics    | Other    |\n",
       "+------------------------------------+----------+\n",
       "| bought gardening supplies          | Other    |\n",
       "+------------------------------------+----------+\n",
       "Constants: {'instructions': 'Determine how to classify these transac..."
      ]
     },
     "execution_count": 54,
     "metadata": {},
     "output_type": "execute_result"
    }
   ],
   "source": [
    "from sammo.components import Output, GenerateText\n",
    "from sammo.extractors import ExtractRegex\n",
    "from sammo.base import Template\n",
    "\n",
    "labeling_prompt = GenerateText(\n",
    "    Template(\n",
    "        \"Instructions:{{constants.instructions}}\\nOutput labels: Rent, Other, Food, Entertainment, Utilities\\n\"\n",
    "        \"{{#each inputs}}Input: {{this}}{{/each}}\\nOutput:\"\n",
    "    )\n",
    ")\n",
    "\n",
    "mydata = load_data()\n",
    "sample = mydata.sample(10, seed=42)\n",
    "\n",
    "labeling_outputter = Output(\n",
    "    ExtractRegex(labeling_prompt, \"(?i)Rent|Other|Food|Entertainment|Utilities\"), minibatch_size=10\n",
    ")\n",
    "result = labeling_outputter.run(runner, sample)\n",
    "result"
   ]
  },
  {
   "cell_type": "code",
   "execution_count": 55,
   "metadata": {},
   "outputs": [
    {
     "data": {
      "text/plain": [
       "name    value\n",
       "------  -------\n",
       "score   1.0"
      ]
     },
     "execution_count": 55,
     "metadata": {},
     "output_type": "execute_result"
    }
   ],
   "source": [
    "accuracy(result, sample)"
   ]
  },
  {
   "cell_type": "code",
   "execution_count": 56,
   "metadata": {},
   "outputs": [
    {
     "data": {
      "text/html": [
       "            <iframe srcdoc=\"\n",
       "&lt;!DOCTYPE html&gt;\n",
       "&lt;html lang=&quot;en&quot;&gt;\n",
       "\n",
       "&lt;head&gt;\n",
       "  &lt;style&gt;\n",
       "  body,\n",
       "  html {\n",
       "    margin: 0;\n",
       "    height: 100%;\n",
       "    width: 100%;\n",
       "  }\n",
       "\n",
       "  .split {\n",
       "    display: flex;\n",
       "    flex-direction: row;\n",
       "    height: 100%;\n",
       "    overflow: hidden;\n",
       "  }\n",
       "  .gutter {\n",
       "    background-color: #eee;\n",
       "    background-repeat: no-repeat;\n",
       "    background-position: 50%;\n",
       "  }\n",
       "\n",
       "  .gutter.gutter-horizontal {\n",
       "    background-image: url(&#x27;data:image/png;base64,iVBORw0KGgoAAAANSUhEUgAAAAUAAAAeCAYAAADkftS9AAAAIklEQVQoU2M4c+bMfxAGAgYYmwGrIIiDjrELjpo5aiZeMwF+yNnOs5KSvgAAAABJRU5ErkJggg==&#x27;);\n",
       "    cursor: col-resize;\n",
       "  }\n",
       "  #info {\n",
       "\toverflow-y: auto;\n",
       "  }\n",
       "  #info div {\n",
       "    font-family: Helvetica, sans-serif;\n",
       "    font-weight: 600;\n",
       "    text-transform: uppercase;\n",
       "    background-color: #d6d8d9;\n",
       "    color: #616161;\n",
       "    font-size: 11px;\n",
       "    padding: 6px;\n",
       "  }\n",
       "  pre {\n",
       "\twhite-space: pre-wrap;\n",
       "\tpadding: 6px;\n",
       "\tbackground-color: #f9f9f9;\n",
       "\tmargin: 0;\n",
       "\tfont-size: 12px;\n",
       "  }\n",
       "  &lt;/style&gt;\n",
       "  &lt;meta charset=&quot;utf-8&quot; /&gt;\n",
       "  &lt;title&gt;Callgraph&lt;/title&gt;\n",
       "  &lt;script src=&quot;https://cdnjs.cloudflare.com/ajax/libs/cytoscape/3.26.0/cytoscape.min.js&quot;&gt;&lt;/script&gt;\n",
       "  &lt;script src=&quot;https://cdnjs.cloudflare.com/ajax/libs/split.js/1.6.0/split.min.js&quot;&gt;&lt;/script&gt;\n",
       "&lt;/head&gt;\n",
       "\n",
       "&lt;body&gt;\n",
       "  &lt;div class=&quot;split&quot;&gt;\n",
       "    &lt;div id=&quot;info&quot;&gt;&lt;pre&gt;Click on node for details.&lt;/pre&gt;&lt;/div&gt;\n",
       "    &lt;div id=&quot;graph&quot;&gt;&lt;/div&gt;\n",
       "  &lt;/div&gt;\n",
       "  &lt;script&gt;\n",
       "  Split([&#x27;#info&#x27;, &#x27;#graph&#x27;], {\n",
       "    sizes: [20, 80],\n",
       "    minSize: [150, 0],\n",
       "    onDragEnd: resizeCyto\n",
       "  });\n",
       "  const DATA = {&quot;nodes&quot;: [{&quot;data&quot;: {&quot;id&quot;: 5867955184, &quot;label&quot;: &quot;Output&quot;, &quot;priority&quot;: 0, &quot;details&quot;: {&quot;Output&quot;: &quot;Other&quot;, &quot;Parameters&quot;: &quot;- child: ExtractRegex\\n- minibatch_size: 10\\n- on_error: raise&quot;}}}, {&quot;data&quot;: {&quot;id&quot;: 5867946256, &quot;label&quot;: &quot;ExtractRegex&quot;, &quot;priority&quot;: 1, &quot;details&quot;: {&quot;Output&quot;: [&quot;Other&quot;, &quot;Rent&quot;, &quot;Other&quot;, &quot;Other&quot;, &quot;Other&quot;, &quot;Other&quot;, &quot;Other&quot;, &quot;Other&quot;, &quot;Other&quot;, &quot;Other&quot;], &quot;Parameters&quot;: &quot;- child: GenerateText\\n- regex: (?i)Rent|Other|Food|Entertainment|Utilities\\n- max_matches: NoneType\\n- strip_whitespaces: True&quot;}}}, {&quot;data&quot;: {&quot;id&quot;: 5856135920, &quot;label&quot;: &quot;GenerateText&quot;, &quot;priority&quot;: 2, &quot;details&quot;: {&quot;Output&quot;: &quot;1. cash withdrawal for holiday - Other\\n2. mortgage payment - Rent\\n3. ATM withdrawal downtown - Other\\n4. cash withdrawal for holiday - Other\\n5. refund for cancelled subscription - Other\\n6. withdrew cash for weekend expenses - Other\\n7. withdrew cash for weekend expenses - Other\\n8. cash deposit at local branch - Other\\n9. refund for returned electronics - Other\\n10. bought gardening supplies - Other&quot;, &quot;Parameters&quot;: &quot;- child: Template\\n- reference_id: NoneType\\n- system_prompt: NoneType\\n- history: NoneType\\n- seed: 0\\n- randomness: 0\\n- max_tokens: NoneType\\n- json_mode: False\\n- on_error: empty_result\\n- runner: NoneType&quot;}}}, {&quot;data&quot;: {&quot;id&quot;: 5867954224, &quot;label&quot;: &quot;Template&quot;, &quot;priority&quot;: 3, &quot;details&quot;: {&quot;Output&quot;: &quot;Instructions:Determine how to classify these transactions.\\nOutput labels: Rent, Other, Food, Entertainment, Utilities\\nInput: cash withdrawal for holidayInput: mortgage paymentInput: ATM withdrawal downtownInput: cash withdrawal for holidayInput: refund for cancelled subscriptionInput: withdrew cash for weekend expensesInput: withdrew cash for weekend expensesInput: cash deposit at local branchInput: refund for returned electronicsInput: bought gardening supplies\\nOutput:&quot;, &quot;Parameters&quot;: &quot;- content: Instructions:{{constants.instructions}}\\nOutput labels: Rent, Other, Food, Entertainment, Utilities\\n{{#each inputs}}Input: {{this}}{{/each}}\\nOutput:\\n- reference_id: NoneType\\n- reference_classes: NoneType&quot;}}}], &quot;edges&quot;: [{&quot;data&quot;: {&quot;target&quot;: 5867955184, &quot;source&quot;: 5867946256}}, {&quot;data&quot;: {&quot;target&quot;: 5867946256, &quot;source&quot;: 5856135920}}, {&quot;data&quot;: {&quot;target&quot;: 5856135920, &quot;source&quot;: 5867954224}}]};\n",
       "\n",
       "  var cy = cytoscape({\n",
       "    container: document.getElementById(&#x27;graph&#x27;),\n",
       "    style: cytoscape.stylesheet().selector(&#x27;node&#x27;).style({\n",
       "      &#x27;content&#x27;: &#x27;data(label)&#x27;,\n",
       "\t  &#x27;background-color&#x27;: DATA[&#x27;node-color&#x27;] || &#x27;Teal&#x27;,\n",
       "\t  &#x27;border-width&#x27;: DATA[&#x27;node-border&#x27;] || 0,\n",
       "    }).selector(&#x27;:selected&#x27;).style({&#x27;background-color&#x27;: &#x27;Turquoise&#x27;}).selector(&#x27;edge&#x27;).style({\n",
       "      &#x27;curve-style&#x27;: &#x27;bezier&#x27;,\n",
       "      &#x27;target-arrow-shape&#x27;: &#x27;triangle&#x27;,\n",
       "      &#x27;width&#x27;: 1,\n",
       "      &#x27;line-color&#x27;: &#x27;black&#x27;,\n",
       "      &#x27;target-arrow-color&#x27;: &#x27;black&#x27;\n",
       "    }),\n",
       "    elements: DATA,\n",
       "    wheelSensitivity: 0.3,\n",
       "    layout: {\n",
       "      name: &#x27;breadthfirst&#x27;,\n",
       "      directed: true,\n",
       "      depthSort: function(a, b){ return a.data(&#x27;priority&#x27;) - b.data(&#x27;priority&#x27;) }\n",
       "    }\n",
       "  });\n",
       "\n",
       "  function resizeCyto() {\n",
       "    cy.resize();\n",
       "    cy.fit();\n",
       "  }\n",
       "\n",
       "  function escapeHTML(str){\n",
       "    return new Option(str).innerHTML;\n",
       "  }\n",
       "\n",
       "  window.addEventListener(&#x27;resize&#x27;, resizeCyto);\n",
       "  cy.on(&#x27;tap&#x27;, &#x27;node&#x27;, function(evt) {\n",
       "    const node = evt.target;\n",
       "    const details = node.data(&#x27;details&#x27;);\n",
       "    const info = document.getElementById(&#x27;info&#x27;);\n",
       "    info.innerHTML = &#x27;&#x27;;\n",
       "\n",
       "    if (!details) {\n",
       "        info.innerHTML = &quot;&lt;div&gt;Node has no metadata.&lt;/div&gt;&quot;;\n",
       "    } else if (typeof details === &#x27;object&#x27; &amp;&amp; !Array.isArray(details)) {\n",
       "        Object.entries(details).forEach(([key, value]) =&gt; {\n",
       "            info.innerHTML += `&lt;div&gt;${escapeHTML(key)}&lt;/div&gt;&lt;pre&gt;${escapeHTML(value)}&lt;/pre&gt;`;\n",
       "        });\n",
       "    } else {\n",
       "        info.innerHTML = `&lt;pre&gt;${escapeHTML(details)}&lt;/pre&gt;`;\n",
       "    }\n",
       "  });\n",
       "  &lt;/script&gt;\n",
       "&lt;/body&gt;\n",
       "\n",
       "&lt;/html&gt;\n",
       "\" width=\"100%\" height=\"300px\"'\n",
       "            \"allowfullscreen\" style=\"border:1px solid #e0e0e0; box-sizing: border-box;\">\n",
       "            </iframe>"
      ],
      "text/plain": [
       "<sammo.utils.HtmlRenderer at 0x15dc88250>"
      ]
     },
     "execution_count": 56,
     "metadata": {},
     "output_type": "execute_result"
    }
   ],
   "source": [
    "result.outputs[0].plot_call_trace()"
   ]
  },
  {
   "cell_type": "markdown",
   "metadata": {},
   "source": [
    "### Meta prompting\n",
    "\n",
    "You can use meta prompts to structure the sections of a prompt."
   ]
  },
  {
   "cell_type": "code",
   "execution_count": 57,
   "metadata": {},
   "outputs": [],
   "source": [
    "from sammo.instructions import MetaPrompt, Section, Paragraph, InputData, FewshotExamples\n",
    "from sammo.dataformatters import (\n",
    "    QuestionAnswerFormatter,\n",
    "    JSONDataFormatter\n",
    ")\n",
    "\n",
    "mprompt = MetaPrompt(\n",
    "    [\n",
    "        Section(\"Instructions\", mydata.constants[\"instructions\"]),\n",
    "        Section(\"Examples\", FewshotExamples(mydata.sample(3, seed=43))),\n",
    "        Paragraph(\"\\nOutput labels: Rent, Other, Food, Entertainment, Utilities\"),\n",
    "        Paragraph(InputData()),\n",
    "    ],\n",
    "    render_as=\"markdown\",\n",
    "    data_formatter=QuestionAnswerFormatter([\"Rent\", \"Other\", \"Food\", \"Entertainment\", \"Utilities\"]),\n",
    ")\n",
    "# automatically wraps it with the right parser component\n",
    "mprompt_parsed = mprompt.with_extractor(\"empty_result\")"
   ]
  },
  {
   "cell_type": "code",
   "execution_count": 58,
   "metadata": {},
   "outputs": [
    {
     "data": {
      "text/html": [
       "            <iframe srcdoc=\"\n",
       "&lt;!DOCTYPE html&gt;\n",
       "&lt;html lang=&quot;en&quot;&gt;\n",
       "\n",
       "&lt;head&gt;\n",
       "  &lt;style&gt;\n",
       "  body,\n",
       "  html {\n",
       "    margin: 0;\n",
       "    height: 100%;\n",
       "    width: 100%;\n",
       "  }\n",
       "\n",
       "  .split {\n",
       "    display: flex;\n",
       "    flex-direction: row;\n",
       "    height: 100%;\n",
       "    overflow: hidden;\n",
       "  }\n",
       "  .gutter {\n",
       "    background-color: #eee;\n",
       "    background-repeat: no-repeat;\n",
       "    background-position: 50%;\n",
       "  }\n",
       "\n",
       "  .gutter.gutter-horizontal {\n",
       "    background-image: url(&#x27;data:image/png;base64,iVBORw0KGgoAAAANSUhEUgAAAAUAAAAeCAYAAADkftS9AAAAIklEQVQoU2M4c+bMfxAGAgYYmwGrIIiDjrELjpo5aiZeMwF+yNnOs5KSvgAAAABJRU5ErkJggg==&#x27;);\n",
       "    cursor: col-resize;\n",
       "  }\n",
       "  #info {\n",
       "\toverflow-y: auto;\n",
       "  }\n",
       "  #info div {\n",
       "    font-family: Helvetica, sans-serif;\n",
       "    font-weight: 600;\n",
       "    text-transform: uppercase;\n",
       "    background-color: #d6d8d9;\n",
       "    color: #616161;\n",
       "    font-size: 11px;\n",
       "    padding: 6px;\n",
       "  }\n",
       "  pre {\n",
       "\twhite-space: pre-wrap;\n",
       "\tpadding: 6px;\n",
       "\tbackground-color: #f9f9f9;\n",
       "\tmargin: 0;\n",
       "\tfont-size: 12px;\n",
       "  }\n",
       "  &lt;/style&gt;\n",
       "  &lt;meta charset=&quot;utf-8&quot; /&gt;\n",
       "  &lt;title&gt;Callgraph&lt;/title&gt;\n",
       "  &lt;script src=&quot;https://cdnjs.cloudflare.com/ajax/libs/cytoscape/3.26.0/cytoscape.min.js&quot;&gt;&lt;/script&gt;\n",
       "  &lt;script src=&quot;https://cdnjs.cloudflare.com/ajax/libs/split.js/1.6.0/split.min.js&quot;&gt;&lt;/script&gt;\n",
       "&lt;/head&gt;\n",
       "\n",
       "&lt;body&gt;\n",
       "  &lt;div class=&quot;split&quot;&gt;\n",
       "    &lt;div id=&quot;info&quot;&gt;&lt;pre&gt;Click on node for details.&lt;/pre&gt;&lt;/div&gt;\n",
       "    &lt;div id=&quot;graph&quot;&gt;&lt;/div&gt;\n",
       "  &lt;/div&gt;\n",
       "  &lt;script&gt;\n",
       "  Split([&#x27;#info&#x27;, &#x27;#graph&#x27;], {\n",
       "    sizes: [20, 80],\n",
       "    minSize: [150, 0],\n",
       "    onDragEnd: resizeCyto\n",
       "  });\n",
       "  const DATA = {&quot;nodes&quot;: [{&quot;data&quot;: {&quot;id&quot;: 5868396112, &quot;label&quot;: &quot;ExtractRegex&quot;, &quot;priority&quot;: 0, &quot;details&quot;: {&quot;Parameters&quot;: &quot;- child: GenerateText\\n- regex: ^\\\\s*A[^:]*:\\\\s*([^\\\\n]*)\\n- max_matches: NoneType\\n- strip_whitespaces: True&quot;}}}, {&quot;data&quot;: {&quot;id&quot;: 5868399440, &quot;label&quot;: &quot;GenerateText&quot;, &quot;priority&quot;: 1, &quot;details&quot;: {&quot;Parameters&quot;: &quot;- child: MetaPrompt\\n- reference_id: NoneType\\n- system_prompt: NoneType\\n- history: NoneType\\n- seed: 0\\n- randomness: 0\\n- max_tokens: NoneType\\n- json_mode: False\\n- on_error: empty_result\\n- runner: NoneType&quot;}}}, {&quot;data&quot;: {&quot;id&quot;: 6289172048, &quot;label&quot;: &quot;MetaPrompt&quot;, &quot;priority&quot;: 2, &quot;details&quot;: {&quot;Parameters&quot;: &quot;- child: List\\n- render_as: markdown\\n- data_formatter: QuestionAnswerFormatter\\n- reference_id: NoneType\\n- seed: 0&quot;}}}, {&quot;data&quot;: {&quot;id&quot;: 6289168912, &quot;label&quot;: &quot;Section&quot;, &quot;priority&quot;: 3, &quot;details&quot;: {&quot;Parameters&quot;: &quot;- title: Instructions\\n- content: Determine how to classify these transactions.\\n- reference_id: NoneType\\n- reference_classes: NoneType&quot;}}}, {&quot;data&quot;: {&quot;id&quot;: 6289172816, &quot;label&quot;: &quot;Section&quot;, &quot;priority&quot;: 4, &quot;details&quot;: {&quot;Parameters&quot;: &quot;- title: Examples\\n- content: FewshotExamples\\n- reference_id: NoneType\\n- reference_classes: NoneType&quot;}}}, {&quot;data&quot;: {&quot;id&quot;: 5868402256, &quot;label&quot;: &quot;Paragraph&quot;, &quot;priority&quot;: 5, &quot;details&quot;: {&quot;Parameters&quot;: &quot;- content: \\nOutput labels: Rent, Other, Food, Entertainment, Utilities\\n- reference_id: NoneType\\n- reference_classes: NoneType&quot;}}}, {&quot;data&quot;: {&quot;id&quot;: 6289162384, &quot;label&quot;: &quot;Paragraph&quot;, &quot;priority&quot;: 6, &quot;details&quot;: {&quot;Parameters&quot;: &quot;- content: InputData\\n- reference_id: NoneType\\n- reference_classes: NoneType&quot;}}}, {&quot;data&quot;: {&quot;id&quot;: 5868394512, &quot;label&quot;: &quot;QuestionAnswerFormatter&quot;, &quot;priority&quot;: 7, &quot;details&quot;: {&quot;Parameters&quot;: &quot;- all_labels: List&quot;}}}, {&quot;data&quot;: {&quot;id&quot;: 6289169296, &quot;label&quot;: &quot;FewshotExamples&quot;, &quot;priority&quot;: 8, &quot;details&quot;: {&quot;Parameters&quot;: &quot;- data: DataTable\\n- n_examples: NoneType\\n- reference_id: NoneType&quot;}}}, {&quot;data&quot;: {&quot;id&quot;: 5854397008, &quot;label&quot;: &quot;InputData&quot;, &quot;priority&quot;: 9, &quot;details&quot;: {&quot;Parameters&quot;: &quot;- id_offset: 0\\n- reference_id: NoneType&quot;}}}], &quot;edges&quot;: [{&quot;data&quot;: {&quot;target&quot;: 5868396112, &quot;source&quot;: 5868399440}}, {&quot;data&quot;: {&quot;target&quot;: 5868399440, &quot;source&quot;: 6289172048}}, {&quot;data&quot;: {&quot;target&quot;: 6289172048, &quot;source&quot;: 6289168912}}, {&quot;data&quot;: {&quot;target&quot;: 6289172048, &quot;source&quot;: 6289172816}}, {&quot;data&quot;: {&quot;target&quot;: 6289172048, &quot;source&quot;: 5868402256}}, {&quot;data&quot;: {&quot;target&quot;: 6289172048, &quot;source&quot;: 6289162384}}, {&quot;data&quot;: {&quot;target&quot;: 6289172048, &quot;source&quot;: 5868394512}}, {&quot;data&quot;: {&quot;target&quot;: 6289172816, &quot;source&quot;: 6289169296}}, {&quot;data&quot;: {&quot;target&quot;: 6289162384, &quot;source&quot;: 5854397008}}], &quot;node-color&quot;: &quot;white&quot;, &quot;node-border&quot;: 1};\n",
       "\n",
       "  var cy = cytoscape({\n",
       "    container: document.getElementById(&#x27;graph&#x27;),\n",
       "    style: cytoscape.stylesheet().selector(&#x27;node&#x27;).style({\n",
       "      &#x27;content&#x27;: &#x27;data(label)&#x27;,\n",
       "\t  &#x27;background-color&#x27;: DATA[&#x27;node-color&#x27;] || &#x27;Teal&#x27;,\n",
       "\t  &#x27;border-width&#x27;: DATA[&#x27;node-border&#x27;] || 0,\n",
       "    }).selector(&#x27;:selected&#x27;).style({&#x27;background-color&#x27;: &#x27;Turquoise&#x27;}).selector(&#x27;edge&#x27;).style({\n",
       "      &#x27;curve-style&#x27;: &#x27;bezier&#x27;,\n",
       "      &#x27;target-arrow-shape&#x27;: &#x27;triangle&#x27;,\n",
       "      &#x27;width&#x27;: 1,\n",
       "      &#x27;line-color&#x27;: &#x27;black&#x27;,\n",
       "      &#x27;target-arrow-color&#x27;: &#x27;black&#x27;\n",
       "    }),\n",
       "    elements: DATA,\n",
       "    wheelSensitivity: 0.3,\n",
       "    layout: {\n",
       "      name: &#x27;breadthfirst&#x27;,\n",
       "      directed: true,\n",
       "      depthSort: function(a, b){ return a.data(&#x27;priority&#x27;) - b.data(&#x27;priority&#x27;) }\n",
       "    }\n",
       "  });\n",
       "\n",
       "  function resizeCyto() {\n",
       "    cy.resize();\n",
       "    cy.fit();\n",
       "  }\n",
       "\n",
       "  function escapeHTML(str){\n",
       "    return new Option(str).innerHTML;\n",
       "  }\n",
       "\n",
       "  window.addEventListener(&#x27;resize&#x27;, resizeCyto);\n",
       "  cy.on(&#x27;tap&#x27;, &#x27;node&#x27;, function(evt) {\n",
       "    const node = evt.target;\n",
       "    const details = node.data(&#x27;details&#x27;);\n",
       "    const info = document.getElementById(&#x27;info&#x27;);\n",
       "    info.innerHTML = &#x27;&#x27;;\n",
       "\n",
       "    if (!details) {\n",
       "        info.innerHTML = &quot;&lt;div&gt;Node has no metadata.&lt;/div&gt;&quot;;\n",
       "    } else if (typeof details === &#x27;object&#x27; &amp;&amp; !Array.isArray(details)) {\n",
       "        Object.entries(details).forEach(([key, value]) =&gt; {\n",
       "            info.innerHTML += `&lt;div&gt;${escapeHTML(key)}&lt;/div&gt;&lt;pre&gt;${escapeHTML(value)}&lt;/pre&gt;`;\n",
       "        });\n",
       "    } else {\n",
       "        info.innerHTML = `&lt;pre&gt;${escapeHTML(details)}&lt;/pre&gt;`;\n",
       "    }\n",
       "  });\n",
       "  &lt;/script&gt;\n",
       "&lt;/body&gt;\n",
       "\n",
       "&lt;/html&gt;\n",
       "\" width=\"100%\" height=\"300px\"'\n",
       "            \"allowfullscreen\" style=\"border:1px solid #e0e0e0; box-sizing: border-box;\">\n",
       "            </iframe>"
      ],
      "text/plain": [
       "<sammo.utils.HtmlRenderer at 0x176dd3190>"
      ]
     },
     "execution_count": 58,
     "metadata": {},
     "output_type": "execute_result"
    }
   ],
   "source": [
    "mprompt_parsed.plot_program()"
   ]
  },
  {
   "cell_type": "code",
   "execution_count": 59,
   "metadata": {},
   "outputs": [
    {
     "name": "stdout",
     "output_type": "stream",
     "text": [
      "minibatches[#################################################################################]2/2[00:00<00:00, 731.35it/s]\n"
     ]
    },
    {
     "data": {
      "text/plain": [
       "+-----------------------------------+----------+\n",
       "| input                             | output   |\n",
       "+===================================+==========+\n",
       "| cash withdrawal for holiday       | Other    |\n",
       "+-----------------------------------+----------+\n",
       "| mortgage payment                  | Rent     |\n",
       "+-----------------------------------+----------+\n",
       "| ATM withdrawal downtown           | Other    |\n",
       "+-----------------------------------+----------+\n",
       "| cash withdrawal for holiday       | Other    |\n",
       "+-----------------------------------+----------+\n",
       "| refund for cancelled subscription | Other    |\n",
       "+-----------------------------------+----------+\n",
       "Constants: {'instructions': 'Determine how to classify these transac..."
      ]
     },
     "execution_count": 59,
     "metadata": {},
     "output_type": "execute_result"
    }
   ],
   "source": [
    "result = Output(mprompt_parsed, minibatch_size=5, on_error=\"empty_result\").run(\n",
    "    runner, sample\n",
    ")\n",
    "result[:5]"
   ]
  },
  {
   "cell_type": "code",
   "execution_count": 60,
   "metadata": {},
   "outputs": [
    {
     "name": "stdout",
     "output_type": "stream",
     "text": [
      "# Instructions\n",
      "Determine how to classify these transactions.\n",
      "\n",
      "# Examples\n",
      "Q[0]: credit card bill payment\n",
      "A[0]: Other\n",
      "\n",
      "Q[1]: refund from clothing store\n",
      "A[1]: Other\n",
      "\n",
      "Q[2]: paid subscription service fee\n",
      "A[2]: Entertainment\n",
      "\n",
      "\n",
      "\n",
      "Output labels: Rent, Other, Food, Entertainment, Utilities\n",
      "\n",
      "\n",
      "Q[0]: cash withdrawal for holiday\n",
      "\n",
      "Q[1]: mortgage payment\n",
      "\n",
      "Q[2]: ATM withdrawal downtown\n",
      "\n",
      "Q[3]: cash withdrawal for holiday\n",
      "\n",
      "Q[4]: refund for cancelled subscription\n"
     ]
    }
   ],
   "source": [
    "print(result.outputs.llm_requests[0][0])"
   ]
  },
  {
   "cell_type": "code",
   "execution_count": 40,
   "metadata": {},
   "outputs": [
    {
     "name": "stdout",
     "output_type": "stream",
     "text": [
      "minibatches[#################################################################################]2/2[00:00<00:00, 894.79it/s]\n"
     ]
    },
    {
     "data": {
      "text/plain": [
       "+-----------------------------------+----------+\n",
       "| input                             | output   |\n",
       "+===================================+==========+\n",
       "| cash withdrawal for holiday       | Other    |\n",
       "+-----------------------------------+----------+\n",
       "| mortgage payment                  | Rent     |\n",
       "+-----------------------------------+----------+\n",
       "| ATM withdrawal downtown           | Other    |\n",
       "+-----------------------------------+----------+\n",
       "| cash withdrawal for holiday       | Other    |\n",
       "+-----------------------------------+----------+\n",
       "| refund for cancelled subscription | Other    |\n",
       "+-----------------------------------+----------+\n",
       "Constants: {'instructions': 'Determine how to classify these transac..."
      ]
     },
     "execution_count": 40,
     "metadata": {},
     "output_type": "execute_result"
    }
   ],
   "source": [
    "modified_mprompt = mprompt.clone().rebind({r\"data_formatter\": JSONDataFormatter()})\n",
    "\n",
    "result = Output(\n",
    "    modified_mprompt.with_extractor(\"empty_result\"), minibatch_size=5, on_error=\"empty_result\"\n",
    ").run(runner, sample)\n",
    "result[:5]"
   ]
  },
  {
   "cell_type": "code",
   "execution_count": 41,
   "metadata": {},
   "outputs": [
    {
     "name": "stdout",
     "output_type": "stream",
     "text": [
      "# Instructions\n",
      "Determine how to classify these transactions.\n",
      "\n",
      "# Examples\n",
      "[{\"id\": 0, \"input\": \"credit card bill payment\", \"output\": \"Other\"}, {\"id\": 1, \"input\": \"refund from clothing store\", \"output\": \"Other\"}, {\"id\": 2, \"input\": \"paid subscription service fee\", \"output\": \"Entertainment\"}]\n",
      "\n",
      "\n",
      "Output labels: Rent, Other, Food, Entertainment, Utilities\n",
      "\n",
      "\n",
      "[{\"id\": 0, \"input\": \"cash withdrawal for holiday\"}, {\"id\": 1, \"input\": \"mortgage payment\"}, {\"id\": 2, \"input\": \"ATM withdrawal downtown\"}, {\"id\": 3, \"input\": \"cash withdrawal for holiday\"}, {\"id\": 4, \"input\": \"refund for cancelled subscription\"}]\n"
     ]
    }
   ],
   "source": [
    "print(result.outputs.llm_requests[0][0])"
   ]
  },
  {
   "cell_type": "markdown",
   "metadata": {},
   "source": [
    "### RAG\n",
    "\n",
    "Sammo has built in support for RAG which can be used for fewshot examples."
   ]
  },
  {
   "cell_type": "code",
   "execution_count": 61,
   "metadata": {},
   "outputs": [],
   "source": [
    "from sammo.runners import OpenAIEmbedding\n",
    "\n",
    "embedder = OpenAIEmbedding(\n",
    "    model_id=\"text-embedding-3-small\",\n",
    "    api_config={\"api_key\": os.getenv(\"OPENAI_API_KEY\")},\n",
    "    rate_limit=10,\n",
    "    cache=os.getenv(\"EMBEDDING_FILE\", \"embeddings.tsv\"),\n",
    ")"
   ]
  },
  {
   "cell_type": "code",
   "execution_count": 62,
   "metadata": {},
   "outputs": [
    {
     "data": {
      "text/plain": [
       "+----------------------------------------+---------------+\n",
       "| input                                  | output        |\n",
       "+========================================+===============+\n",
       "| insurance claim refund                 | Other         |\n",
       "+----------------------------------------+---------------+\n",
       "| bought coffee and snacks from the cafe | Food          |\n",
       "+----------------------------------------+---------------+\n",
       "| paid for streaming service             | Entertainment |\n",
       "+----------------------------------------+---------------+\n",
       "| cash deposit at local branch           | Other         |\n",
       "+----------------------------------------+---------------+\n",
       "| purchased books from the bookstore     | Entertainment |\n",
       "+----------------------------------------+---------------+\n",
       "| school fee payment                     | Other         |\n",
       "+----------------------------------------+---------------+\n",
       "| paid phone bill online                 | Utilities     |\n",
       "+----------------------------------------+---------------+\n",
       "| bought gardening supplies              | Other         |\n",
       "+----------------------------------------+---------------+\n",
       "| deposited gift money                   | Other         |\n",
       "+----------------------------------------+---------------+\n",
       "| paid phone bill online                 | Utilities     |\n",
       "+----------------------------------------+---------------+\n",
       "Constants: {'instructions': 'Determine how to classify these transac..."
      ]
     },
     "execution_count": 62,
     "metadata": {},
     "output_type": "execute_result"
    }
   ],
   "source": [
    "total_len = len(mydata)\n",
    "d_fewshot, d_train = mydata.random_split(int(total_len * 0.9), int(total_len * 0.1), seed=42)\n",
    "d_train"
   ]
  },
  {
   "cell_type": "code",
   "execution_count": 63,
   "metadata": {},
   "outputs": [],
   "source": [
    "from sammo.instructions import EmbeddingFewshotExamples\n",
    "\n",
    "mprompt_rag = MetaPrompt(\n",
    "    [\n",
    "        Section(\"Instructions\", mydata.constants[\"instructions\"]),\n",
    "        Section(\"Examples\", EmbeddingFewshotExamples(\n",
    "            embedder,\n",
    "            d_fewshot,\n",
    "            n_examples=3,\n",
    "            budget=\"relative\",\n",
    "        )),\n",
    "        Paragraph(\"\\nOutput labels: Rent, Other, Food, Entertainment, Utilities\"),\n",
    "        Paragraph(InputData()),\n",
    "    ],\n",
    "    render_as=\"markdown\",\n",
    "    data_formatter=QuestionAnswerFormatter([\"Rent\", \"Other\", \"Food\", \"Entertainment\", \"Utilities\"]),\n",
    ")\n",
    "\n",
    "# automatically wraps it with the right parser component\n",
    "mprompt_rag_parsed = mprompt_rag.with_extractor(\"empty_result\")"
   ]
  },
  {
   "cell_type": "code",
   "execution_count": 64,
   "metadata": {},
   "outputs": [
    {
     "name": "stdout",
     "output_type": "stream",
     "text": [
      "minibatches[############################################################################]20/20[00:00<00:00, 160476.20it/s]\n"
     ]
    },
    {
     "data": {
      "text/plain": [
       "+----------------------------------------+---------------+\n",
       "| input                                  | output        |\n",
       "+========================================+===============+\n",
       "| insurance claim refund                 | Other         |\n",
       "+----------------------------------------+---------------+\n",
       "| bought coffee and snacks from the cafe | Food          |\n",
       "+----------------------------------------+---------------+\n",
       "| paid for streaming service             | Entertainment |\n",
       "+----------------------------------------+---------------+\n",
       "| cash deposit at local branch           | Other         |\n",
       "+----------------------------------------+---------------+\n",
       "| purchased books from the bookstore     | Entertainment |\n",
       "+----------------------------------------+---------------+\n",
       "Constants: {'instructions': 'Determine how to classify these transac..."
      ]
     },
     "execution_count": 64,
     "metadata": {},
     "output_type": "execute_result"
    }
   ],
   "source": [
    "result = Output(\n",
    "    mprompt_rag.with_extractor(\"empty_result\"), minibatch_size=5, on_error=\"empty_result\"\n",
    ").run(runner, d_train)\n",
    "result[:5]"
   ]
  },
  {
   "cell_type": "code",
   "execution_count": 65,
   "metadata": {},
   "outputs": [
    {
     "data": {
      "text/html": [
       "            <iframe srcdoc=\"\n",
       "&lt;!DOCTYPE html&gt;\n",
       "&lt;html lang=&quot;en&quot;&gt;\n",
       "\n",
       "&lt;head&gt;\n",
       "  &lt;style&gt;\n",
       "  body,\n",
       "  html {\n",
       "    margin: 0;\n",
       "    height: 100%;\n",
       "    width: 100%;\n",
       "  }\n",
       "\n",
       "  .split {\n",
       "    display: flex;\n",
       "    flex-direction: row;\n",
       "    height: 100%;\n",
       "    overflow: hidden;\n",
       "  }\n",
       "  .gutter {\n",
       "    background-color: #eee;\n",
       "    background-repeat: no-repeat;\n",
       "    background-position: 50%;\n",
       "  }\n",
       "\n",
       "  .gutter.gutter-horizontal {\n",
       "    background-image: url(&#x27;data:image/png;base64,iVBORw0KGgoAAAANSUhEUgAAAAUAAAAeCAYAAADkftS9AAAAIklEQVQoU2M4c+bMfxAGAgYYmwGrIIiDjrELjpo5aiZeMwF+yNnOs5KSvgAAAABJRU5ErkJggg==&#x27;);\n",
       "    cursor: col-resize;\n",
       "  }\n",
       "  #info {\n",
       "\toverflow-y: auto;\n",
       "  }\n",
       "  #info div {\n",
       "    font-family: Helvetica, sans-serif;\n",
       "    font-weight: 600;\n",
       "    text-transform: uppercase;\n",
       "    background-color: #d6d8d9;\n",
       "    color: #616161;\n",
       "    font-size: 11px;\n",
       "    padding: 6px;\n",
       "  }\n",
       "  pre {\n",
       "\twhite-space: pre-wrap;\n",
       "\tpadding: 6px;\n",
       "\tbackground-color: #f9f9f9;\n",
       "\tmargin: 0;\n",
       "\tfont-size: 12px;\n",
       "  }\n",
       "  &lt;/style&gt;\n",
       "  &lt;meta charset=&quot;utf-8&quot; /&gt;\n",
       "  &lt;title&gt;Callgraph&lt;/title&gt;\n",
       "  &lt;script src=&quot;https://cdnjs.cloudflare.com/ajax/libs/cytoscape/3.26.0/cytoscape.min.js&quot;&gt;&lt;/script&gt;\n",
       "  &lt;script src=&quot;https://cdnjs.cloudflare.com/ajax/libs/split.js/1.6.0/split.min.js&quot;&gt;&lt;/script&gt;\n",
       "&lt;/head&gt;\n",
       "\n",
       "&lt;body&gt;\n",
       "  &lt;div class=&quot;split&quot;&gt;\n",
       "    &lt;div id=&quot;info&quot;&gt;&lt;pre&gt;Click on node for details.&lt;/pre&gt;&lt;/div&gt;\n",
       "    &lt;div id=&quot;graph&quot;&gt;&lt;/div&gt;\n",
       "  &lt;/div&gt;\n",
       "  &lt;script&gt;\n",
       "  Split([&#x27;#info&#x27;, &#x27;#graph&#x27;], {\n",
       "    sizes: [20, 80],\n",
       "    minSize: [150, 0],\n",
       "    onDragEnd: resizeCyto\n",
       "  });\n",
       "  const DATA = {&quot;nodes&quot;: [{&quot;data&quot;: {&quot;id&quot;: 5868807344, &quot;label&quot;: &quot;Output&quot;, &quot;priority&quot;: 0, &quot;details&quot;: {&quot;Output&quot;: &quot;Other&quot;, &quot;Parameters&quot;: &quot;- child: ExtractRegex\\n- minibatch_size: 5\\n- on_error: empty_result&quot;}}}, {&quot;data&quot;: {&quot;id&quot;: 5868521616, &quot;label&quot;: &quot;ExtractRegex&quot;, &quot;priority&quot;: 1, &quot;details&quot;: {&quot;Output&quot;: [&quot;Other&quot;, &quot;Food&quot;, &quot;Entertainment&quot;, &quot;Other&quot;, &quot;Entertainment&quot;], &quot;Parameters&quot;: &quot;- child: GenerateText\\n- regex: ^\\\\s*A[^:]*:\\\\s*([^\\\\n]*)\\n- max_matches: NoneType\\n- strip_whitespaces: True&quot;}}}, {&quot;data&quot;: {&quot;id&quot;: 5851257168, &quot;label&quot;: &quot;GenerateText&quot;, &quot;priority&quot;: 2, &quot;details&quot;: {&quot;Output&quot;: &quot;A[0]: Other\\n\\nA[1]: Food\\n\\nA[2]: Entertainment\\n\\nA[3]: Other\\n\\nA[4]: Entertainment&quot;, &quot;Parameters&quot;: &quot;- child: MetaPrompt\\n- reference_id: NoneType\\n- system_prompt: NoneType\\n- history: NoneType\\n- seed: 0\\n- randomness: 0\\n- max_tokens: NoneType\\n- json_mode: False\\n- on_error: empty_result\\n- runner: NoneType&quot;}}}, {&quot;data&quot;: {&quot;id&quot;: 5868806288, &quot;label&quot;: &quot;MetaPrompt&quot;, &quot;priority&quot;: 3, &quot;details&quot;: {&quot;Output&quot;: &quot;# Instructions\\nDetermine how to classify these transactions.\\n\\n# Examples\\nQ[0]: insurance claim refund\\nA[0]: Other\\n\\nQ[1]: bought coffee and snacks from the cafe\\nA[1]: Food\\n\\nQ[2]: paid for streaming service\\nA[2]: Entertainment\\n\\nQ[3]: cash deposit at local branch\\nA[3]: Other\\n\\nQ[4]: purchased books from the bookstore\\nA[4]: Entertainment\\n\\nQ[5]: insurance claim refund\\nA[5]: Other\\n\\nQ[6]: bought coffee and snacks from the cafe\\nA[6]: Food\\n\\nQ[7]: paid for streaming service\\nA[7]: Entertainment\\n\\nQ[8]: cash deposit at local branch\\nA[8]: Other\\n\\nQ[9]: purchased books from the bookstore\\nA[9]: Other\\n\\nQ[10]: insurance claim refund\\nA[10]: Other\\n\\nQ[11]: bought coffee and snacks from the cafe\\nA[11]: Food\\n\\nQ[12]: paid for streaming service\\nA[12]: Entertainment\\n\\nQ[13]: cash deposit at local branch\\nA[13]: Other\\n\\nQ[14]: purchased books from the bookstore\\nA[14]: Entertainment\\n\\n\\n\\nOutput labels: Rent, Other, Food, Entertainment, Utilities\\n\\n\\nQ[0]: insurance claim refund\\n\\nQ[1]: bought coffee and snacks from the cafe\\n\\nQ[2]: paid for streaming service\\n\\nQ[3]: cash deposit at local branch\\n\\nQ[4]: purchased books from the bookstore&quot;, &quot;Parameters&quot;: &quot;- child: List\\n- render_as: markdown\\n- data_formatter: QuestionAnswerFormatter\\n- reference_id: NoneType\\n- seed: 0&quot;}}}, {&quot;data&quot;: {&quot;id&quot;: 5868801296, &quot;label&quot;: &quot;Section&quot;, &quot;priority&quot;: 4, &quot;details&quot;: {&quot;Output&quot;: &quot;# Instructions\\nDetermine how to classify these transactions.\\n&quot;, &quot;Parameters&quot;: &quot;- title: Instructions\\n- content: Determine how to classify these transactions.\\n- reference_id: NoneType\\n- reference_classes: NoneType&quot;}}}, {&quot;data&quot;: {&quot;id&quot;: 5868808016, &quot;label&quot;: &quot;Section&quot;, &quot;priority&quot;: 5, &quot;details&quot;: {&quot;Output&quot;: &quot;# Examples\\nQ[0]: insurance claim refund\\nA[0]: Other\\n\\nQ[1]: bought coffee and snacks from the cafe\\nA[1]: Food\\n\\nQ[2]: paid for streaming service\\nA[2]: Entertainment\\n\\nQ[3]: cash deposit at local branch\\nA[3]: Other\\n\\nQ[4]: purchased books from the bookstore\\nA[4]: Entertainment\\n\\nQ[5]: insurance claim refund\\nA[5]: Other\\n\\nQ[6]: bought coffee and snacks from the cafe\\nA[6]: Food\\n\\nQ[7]: paid for streaming service\\nA[7]: Entertainment\\n\\nQ[8]: cash deposit at local branch\\nA[8]: Other\\n\\nQ[9]: purchased books from the bookstore\\nA[9]: Other\\n\\nQ[10]: insurance claim refund\\nA[10]: Other\\n\\nQ[11]: bought coffee and snacks from the cafe\\nA[11]: Food\\n\\nQ[12]: paid for streaming service\\nA[12]: Entertainment\\n\\nQ[13]: cash deposit at local branch\\nA[13]: Other\\n\\nQ[14]: purchased books from the bookstore\\nA[14]: Entertainment\\n\\n&quot;, &quot;Parameters&quot;: &quot;- title: Examples\\n- content: EmbeddingFewshotExamples\\n- reference_id: NoneType\\n- reference_classes: NoneType&quot;}}}, {&quot;data&quot;: {&quot;id&quot;: 5868798608, &quot;label&quot;: &quot;Paragraph&quot;, &quot;priority&quot;: 6, &quot;details&quot;: {&quot;Output&quot;: &quot;\\nOutput labels: Rent, Other, Food, Entertainment, Utilities\\n\\n&quot;, &quot;Parameters&quot;: &quot;- content: \\nOutput labels: Rent, Other, Food, Entertainment, Utilities\\n- reference_id: NoneType\\n- reference_classes: NoneType&quot;}}}, {&quot;data&quot;: {&quot;id&quot;: 5868810992, &quot;label&quot;: &quot;Paragraph&quot;, &quot;priority&quot;: 7, &quot;details&quot;: {&quot;Output&quot;: &quot;Q[0]: insurance claim refund\\n\\nQ[1]: bought coffee and snacks from the cafe\\n\\nQ[2]: paid for streaming service\\n\\nQ[3]: cash deposit at local branch\\n\\nQ[4]: purchased books from the bookstore\\n\\n\\n&quot;, &quot;Parameters&quot;: &quot;- content: InputData\\n- reference_id: NoneType\\n- reference_classes: NoneType&quot;}}}, {&quot;data&quot;: {&quot;id&quot;: 5868807152, &quot;label&quot;: &quot;EmbeddingFewshotExamples&quot;, &quot;priority&quot;: 8, &quot;details&quot;: {&quot;Output&quot;: &quot;Q[0]: insurance claim refund\\nA[0]: Other\\n\\nQ[1]: bought coffee and snacks from the cafe\\nA[1]: Food\\n\\nQ[2]: paid for streaming service\\nA[2]: Entertainment\\n\\nQ[3]: cash deposit at local branch\\nA[3]: Other\\n\\nQ[4]: purchased books from the bookstore\\nA[4]: Entertainment\\n\\nQ[5]: insurance claim refund\\nA[5]: Other\\n\\nQ[6]: bought coffee and snacks from the cafe\\nA[6]: Food\\n\\nQ[7]: paid for streaming service\\nA[7]: Entertainment\\n\\nQ[8]: cash deposit at local branch\\nA[8]: Other\\n\\nQ[9]: purchased books from the bookstore\\nA[9]: Other\\n\\nQ[10]: insurance claim refund\\nA[10]: Other\\n\\nQ[11]: bought coffee and snacks from the cafe\\nA[11]: Food\\n\\nQ[12]: paid for streaming service\\nA[12]: Entertainment\\n\\nQ[13]: cash deposit at local branch\\nA[13]: Other\\n\\nQ[14]: purchased books from the bookstore\\nA[14]: Entertainment\\n&quot;, &quot;Parameters&quot;: &quot;- embedder: OpenAIEmbedding\\n- data: DataTable\\n- n_examples: 3\\n- reference_id: NoneType\\n- aggregate: roundrobin\\n- filter_exact_matches: True\\n- budget: relative&quot;}}}, {&quot;data&quot;: {&quot;id&quot;: 5868808592, &quot;label&quot;: &quot;InputData&quot;, &quot;priority&quot;: 9, &quot;details&quot;: {&quot;Output&quot;: &quot;Q[0]: insurance claim refund\\n\\nQ[1]: bought coffee and snacks from the cafe\\n\\nQ[2]: paid for streaming service\\n\\nQ[3]: cash deposit at local branch\\n\\nQ[4]: purchased books from the bookstore\\n&quot;, &quot;Parameters&quot;: &quot;- id_offset: 0\\n- reference_id: NoneType&quot;}}}], &quot;edges&quot;: [{&quot;data&quot;: {&quot;target&quot;: 5868807344, &quot;source&quot;: 5868521616}}, {&quot;data&quot;: {&quot;target&quot;: 5868521616, &quot;source&quot;: 5851257168}}, {&quot;data&quot;: {&quot;target&quot;: 5851257168, &quot;source&quot;: 5868806288}}, {&quot;data&quot;: {&quot;target&quot;: 5868806288, &quot;source&quot;: 5868801296}}, {&quot;data&quot;: {&quot;target&quot;: 5868806288, &quot;source&quot;: 5868808016}}, {&quot;data&quot;: {&quot;target&quot;: 5868806288, &quot;source&quot;: 5868798608}}, {&quot;data&quot;: {&quot;target&quot;: 5868806288, &quot;source&quot;: 5868810992}}, {&quot;data&quot;: {&quot;target&quot;: 5868808016, &quot;source&quot;: 5868807152}}, {&quot;data&quot;: {&quot;target&quot;: 5868810992, &quot;source&quot;: 5868808592}}]};\n",
       "\n",
       "  var cy = cytoscape({\n",
       "    container: document.getElementById(&#x27;graph&#x27;),\n",
       "    style: cytoscape.stylesheet().selector(&#x27;node&#x27;).style({\n",
       "      &#x27;content&#x27;: &#x27;data(label)&#x27;,\n",
       "\t  &#x27;background-color&#x27;: DATA[&#x27;node-color&#x27;] || &#x27;Teal&#x27;,\n",
       "\t  &#x27;border-width&#x27;: DATA[&#x27;node-border&#x27;] || 0,\n",
       "    }).selector(&#x27;:selected&#x27;).style({&#x27;background-color&#x27;: &#x27;Turquoise&#x27;}).selector(&#x27;edge&#x27;).style({\n",
       "      &#x27;curve-style&#x27;: &#x27;bezier&#x27;,\n",
       "      &#x27;target-arrow-shape&#x27;: &#x27;triangle&#x27;,\n",
       "      &#x27;width&#x27;: 1,\n",
       "      &#x27;line-color&#x27;: &#x27;black&#x27;,\n",
       "      &#x27;target-arrow-color&#x27;: &#x27;black&#x27;\n",
       "    }),\n",
       "    elements: DATA,\n",
       "    wheelSensitivity: 0.3,\n",
       "    layout: {\n",
       "      name: &#x27;breadthfirst&#x27;,\n",
       "      directed: true,\n",
       "      depthSort: function(a, b){ return a.data(&#x27;priority&#x27;) - b.data(&#x27;priority&#x27;) }\n",
       "    }\n",
       "  });\n",
       "\n",
       "  function resizeCyto() {\n",
       "    cy.resize();\n",
       "    cy.fit();\n",
       "  }\n",
       "\n",
       "  function escapeHTML(str){\n",
       "    return new Option(str).innerHTML;\n",
       "  }\n",
       "\n",
       "  window.addEventListener(&#x27;resize&#x27;, resizeCyto);\n",
       "  cy.on(&#x27;tap&#x27;, &#x27;node&#x27;, function(evt) {\n",
       "    const node = evt.target;\n",
       "    const details = node.data(&#x27;details&#x27;);\n",
       "    const info = document.getElementById(&#x27;info&#x27;);\n",
       "    info.innerHTML = &#x27;&#x27;;\n",
       "\n",
       "    if (!details) {\n",
       "        info.innerHTML = &quot;&lt;div&gt;Node has no metadata.&lt;/div&gt;&quot;;\n",
       "    } else if (typeof details === &#x27;object&#x27; &amp;&amp; !Array.isArray(details)) {\n",
       "        Object.entries(details).forEach(([key, value]) =&gt; {\n",
       "            info.innerHTML += `&lt;div&gt;${escapeHTML(key)}&lt;/div&gt;&lt;pre&gt;${escapeHTML(value)}&lt;/pre&gt;`;\n",
       "        });\n",
       "    } else {\n",
       "        info.innerHTML = `&lt;pre&gt;${escapeHTML(details)}&lt;/pre&gt;`;\n",
       "    }\n",
       "  });\n",
       "  &lt;/script&gt;\n",
       "&lt;/body&gt;\n",
       "\n",
       "&lt;/html&gt;\n",
       "\" width=\"100%\" height=\"300px\"'\n",
       "            \"allowfullscreen\" style=\"border:1px solid #e0e0e0; box-sizing: border-box;\">\n",
       "            </iframe>"
      ],
      "text/plain": [
       "<sammo.utils.HtmlRenderer at 0x15ccbf7d0>"
      ]
     },
     "execution_count": 65,
     "metadata": {},
     "output_type": "execute_result"
    }
   ],
   "source": [
    "result.outputs[0].plot_call_trace()"
   ]
  }
 ],
 "metadata": {
  "kernelspec": {
   "display_name": "Python 3",
   "language": "python",
   "name": "python3"
  },
  "language_info": {
   "codemirror_mode": {
    "name": "ipython",
    "version": 3
   },
   "file_extension": ".py",
   "mimetype": "text/x-python",
   "name": "python",
   "nbconvert_exporter": "python",
   "pygments_lexer": "ipython3",
   "version": "3.11.2"
  }
 },
 "nbformat": 4,
 "nbformat_minor": 2
}
