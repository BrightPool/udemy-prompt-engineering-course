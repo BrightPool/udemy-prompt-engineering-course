{
 "cells": [
  {
   "cell_type": "code",
   "execution_count": null,
   "metadata": {},
   "outputs": [],
   "source": [
    "%pip install openai --upgrade"
   ]
  },
  {
   "cell_type": "code",
   "execution_count": 45,
   "metadata": {},
   "outputs": [],
   "source": [
    "from openai import OpenAI\n",
    "import os\n",
    "import textwrap"
   ]
  },
  {
   "cell_type": "code",
   "execution_count": null,
   "metadata": {},
   "outputs": [],
   "source": [
    "os.environ['OPENAI_API_KEY'] = 'insert-api-key-here'"
   ]
  },
  {
   "cell_type": "code",
   "execution_count": 46,
   "metadata": {},
   "outputs": [],
   "source": [
    "text_wrapper = textwrap.TextWrapper(width=80)\n",
    "prompt = '''Act as a fashion retailer, you are responsible for writing effective product descriptions.\n",
    "Use all of the images to create a product description for the following product.'''"
   ]
  },
  {
   "cell_type": "code",
   "execution_count": 47,
   "metadata": {},
   "outputs": [],
   "source": [
    "client = OpenAI()\n",
    "\n",
    "response = client.chat.completions.create(\n",
    "    model=\"gpt-4-vision-preview\",\n",
    "    messages=[\n",
    "        {\n",
    "            \"role\": \"user\",\n",
    "            \"content\": [\n",
    "                {\"type\": \"text\", \"text\": prompt},\n",
    "                {\n",
    "                    \"type\": \"image_url\",\n",
    "                    \"image_url\": {\n",
    "                        \"url\": \"https://storage.googleapis.com/strapi_cms_assets/skinny-trousers.webp\"\n",
    "                    },\n",
    "                },\n",
    "            ],\n",
    "        }\n",
    "    ],\n",
    "    max_tokens=300,\n",
    ")"
   ]
  },
  {
   "cell_type": "code",
   "execution_count": 48,
   "metadata": {},
   "outputs": [
    {
     "name": "stdout",
     "output_type": "stream",
     "text": [
      "Discover timeless sophistication with our Classic Navy Trousers—a must-have for\n",
      "the modern professional. Crafted with precision, these trousers feature a sleek,\n",
      "tailored fit that flatters and defines. The deep navy hue offers versatility for\n",
      "seamless transitions from business meetings to evening events.  Key Features: -\n",
      "Slim-fit design that sits perfectly at the waist and tapers through the legs for\n",
      "a sharp silhouette. - Constructed with premium, lightweight fabric for day-long\n",
      "comfort and durability. - Equipped with a concealed front fastening, belt loops,\n",
      "and four pockets: two front slash pockets and two back buttoned welt pockets. -\n",
      "Subtle texture throughout the fabric adds a touch of elegance and depth. - Easy\n",
      "to care for with machine-washable material that retains its form and color.\n",
      "Pair these trousers with a crisp white shirt and leather Oxford shoes for a\n",
      "quintessential business ensemble, or elevate with a matching blazer for\n",
      "occasions that require extra sophistication. Whether it's for the boardroom, a\n",
      "wedding, or a formal dinner, these Classic Navy Trousers are designed to make a\n",
      "refined statement.\n"
     ]
    }
   ],
   "source": [
    "print(text_wrapper.fill(response.choices[0].message.content))"
   ]
  },
  {
   "cell_type": "markdown",
   "metadata": {},
   "source": [
    "------------------------------------"
   ]
  },
  {
   "cell_type": "markdown",
   "metadata": {},
   "source": [
    "## Improved Prompt"
   ]
  },
  {
   "cell_type": "markdown",
   "metadata": {},
   "source": [
    "You are going to improve the prompt by adding examples of product descriptions to remove the key features section and to restrict the length of each product description to ~3 sentences."
   ]
  },
  {
   "cell_type": "code",
   "execution_count": 24,
   "metadata": {},
   "outputs": [],
   "source": [
    "examples = [\n",
    "    \"Elevate your professional wardrobe with our Classic Navy Dress Pants, a sartorial choice for the modern gentleman.\",\n",
    "    \"Refine your evening attire with our Elegant Black Cocktail Dress, an essential selection for the contemporary woman.\",\n",
    "    \"Upgrade your casual ensemble with our Sleek White Sneakers, a versatile addition for the fashion-forward individual.\"\n",
    "]\n",
    "product_context = \"\""
   ]
  },
  {
   "cell_type": "code",
   "execution_count": 49,
   "metadata": {},
   "outputs": [],
   "source": [
    "improved_prompt = f\"\"\"Act as a fashion retailer, you are responsible for writing effective\n",
    "product descriptions. Use all of the images to create a product description for the following\n",
    "product.\n",
    "\n",
    "Here are some examples in terms of the style, tone and length for future product descriptions:\n",
    "1. {examples[0]}\n",
    "2. {examples[1]}\n",
    "3. {examples[2]}\n",
    "\n",
    "Rules:\n",
    "- The product description must be between 2 - 4 sentences in length.\n",
    "- The product description must be written in a professional tone.\n",
    "\n",
    "{product_context}\n",
    "\n",
    "Use the image(s) to create a product description for the following product\"\"\""
   ]
  },
  {
   "cell_type": "code",
   "execution_count": 50,
   "metadata": {},
   "outputs": [],
   "source": [
    "response = client.chat.completions.create(\n",
    "    model=\"gpt-4-vision-preview\",\n",
    "    messages=[\n",
    "        {\n",
    "            \"role\": \"user\",\n",
    "            \"content\": [\n",
    "                {\"type\": \"text\", \"text\": improved_prompt},\n",
    "                {\n",
    "                    \"type\": \"image_url\",\n",
    "                    \"image_url\": {\n",
    "                        \"url\": \"https://storage.googleapis.com/strapi_cms_assets/skinny-trousers.webp\"\n",
    "                    },\n",
    "                },\n",
    "            ],\n",
    "        }\n",
    "    ],\n",
    "    max_tokens=300,\n",
    ")"
   ]
  },
  {
   "cell_type": "code",
   "execution_count": 51,
   "metadata": {},
   "outputs": [
    {
     "name": "stdout",
     "output_type": "stream",
     "text": [
      "Infuse a sense of urban sophistication into your wardrobe with our Champion\n",
      "Cuffed Cargo Trousers. Engineered for both comfort and style, these sleek black\n",
      "cargo trousers feature a contemporary slim fit, practical cuffed hems, and side\n",
      "pockets for functionality without compromising elegance. Perfect for those who\n",
      "appreciate a blend of casual flair with a polished finish, these trousers are a\n",
      "must-have for the modern trendsetter.\n"
     ]
    }
   ],
   "source": [
    "print(text_wrapper.fill(response.choices[0].message.content))"
   ]
  },
  {
   "cell_type": "markdown",
   "metadata": {},
   "source": [
    "--------------------------------------------\n",
    "\n",
    "## Multiple Images and Product Context"
   ]
  },
  {
   "cell_type": "code",
   "execution_count": 53,
   "metadata": {},
   "outputs": [],
   "source": [
    "product_context = \"The item is Champion cuffed cargo trousers in black. It is not the hoodie.\"\n",
    "\n",
    "improved_prompt = f\"\"\"Act as a fashion retailer, you are responsible for writing effective\n",
    "product descriptions. Use all of the images to create a product description for the following\n",
    "product.\n",
    "\n",
    "Here are some examples in terms of the style, tone and length for future product descriptions:\n",
    "1. {examples[0]}\n",
    "2. {examples[1]}\n",
    "3. {examples[2]}\n",
    "\n",
    "Rules:\n",
    "- The product description must be between 2 - 4 sentences in length.\n",
    "- The product description must be written in a professional tone.\n",
    "\n",
    "{product_context}\n",
    "\n",
    "Use the image(s) to create a product description for the following product\"\"\""
   ]
  },
  {
   "cell_type": "code",
   "execution_count": 54,
   "metadata": {},
   "outputs": [],
   "source": [
    "response = client.chat.completions.create(\n",
    "    model=\"gpt-4-vision-preview\",\n",
    "    messages=[\n",
    "        {\n",
    "            \"role\": \"user\",\n",
    "            \"content\": [\n",
    "                {\"type\": \"text\", \"text\": improved_prompt},\n",
    "                {\n",
    "                    \"type\": \"image_url\",\n",
    "                    \"image_url\": {\n",
    "                        \"url\": \"https://storage.googleapis.com/strapi_cms_assets/205878603-2.webp\"\n",
    "                    },\n",
    "                },\n",
    "                {\n",
    "                    \"type\": \"image_url\",\n",
    "                    \"image_url\": {\n",
    "                        \"url\": \"https://storage.googleapis.com/strapi_cms_assets/205878603-3.jpeg\"\n",
    "                    },\n",
    "                },\n",
    "            ],\n",
    "        }\n",
    "    ],\n",
    "    max_tokens=300,\n",
    ")"
   ]
  },
  {
   "cell_type": "code",
   "execution_count": 55,
   "metadata": {},
   "outputs": [
    {
     "name": "stdout",
     "output_type": "stream",
     "text": [
      "Infuse your leisure wardrobe with the ultimate blend of comfort and style with\n",
      "our Champion Cuffed Cargo Trousers in a sleek black. Perfect for those on-the-go\n",
      "moments or relaxing weekends, these trousers feature functional cargo pockets\n",
      "and an adjustable drawstring waist for a personalized fit. The cuffed hems\n",
      "provide a modern silhouette, ensuring that these pants will quickly become a\n",
      "favorite in your casual rotation.\n"
     ]
    }
   ],
   "source": [
    "print(text_wrapper.fill(response.choices[0].message.content))"
   ]
  }
 ],
 "metadata": {
  "kernelspec": {
   "display_name": "base",
   "language": "python",
   "name": "python3"
  },
  "language_info": {
   "codemirror_mode": {
    "name": "ipython",
    "version": 3
   },
   "file_extension": ".py",
   "mimetype": "text/x-python",
   "name": "python",
   "nbconvert_exporter": "python",
   "pygments_lexer": "ipython3",
   "version": "3.9.13"
  }
 },
 "nbformat": 4,
 "nbformat_minor": 2
}
