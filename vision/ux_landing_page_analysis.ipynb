{
 "cells": [
  {
   "cell_type": "code",
   "execution_count": 1,
   "metadata": {},
   "outputs": [
    {
     "name": "stdout",
     "output_type": "stream",
     "text": [
      "Requirement already satisfied: pyppeteer_stealth in /Users/jamesaphoenix/opt/anaconda3/lib/python3.9/site-packages (2.7.4)\n",
      "Requirement already satisfied: pyppeteer in /Users/jamesaphoenix/opt/anaconda3/lib/python3.9/site-packages (2.0.0)\n",
      "\u001b[31mERROR: Could not find a version that satisfies the requirement urllib (from versions: none)\u001b[0m\u001b[31m\n",
      "\u001b[0m\u001b[31mERROR: No matching distribution found for urllib\u001b[0m\u001b[31m\n",
      "\u001b[0mNote: you may need to restart the kernel to use updated packages.\n"
     ]
    }
   ],
   "source": [
    "%pip install pyppeteer_stealth pyppeteer urllib langchain langchain_openai --upgrade"
   ]
  },
  {
   "cell_type": "code",
   "execution_count": 2,
   "metadata": {},
   "outputs": [],
   "source": [
    "import asyncio\n",
    "from pyppeteer import launch\n",
    "from pyppeteer_stealth import stealth\n",
    "import urllib.parse"
   ]
  },
  {
   "cell_type": "code",
   "execution_count": 3,
   "metadata": {},
   "outputs": [],
   "source": [
    "# Setting custom user agents to help avoid detection:\n",
    "MOBILE_USER_AGENT = \"Mozilla/5.0 (Linux; Android 7.0; SM-G892A Build/NRD90M) AppleWebKit/537.36 (KHTML, like Gecko) Chrome/59.0.3071.125 Mobile Safari/537.36\"\n",
    "DESKTOP_USER_AGENT = \"Mozilla/5.0 (Windows NT 10.0; Win64; x64) AppleWebKit/537.36 (KHTML, like Gecko) Chrome/58.0.3029.110 Safari/537.3\"\n",
    "\n",
    "# TODO - You must edit this!\n",
    "DOMAIN = \"understandingdata.com\" # Change this to the domain you want to use as your base domain"
   ]
  },
  {
   "cell_type": "code",
   "execution_count": 4,
   "metadata": {},
   "outputs": [],
   "source": [
    "async def screenshot_full_page(url, screenshot_filename, device_type=\"desktop\"):\n",
    "    browser = await launch(headless=True)\n",
    "    page = await browser.newPage()\n",
    "\n",
    "    if device_type == \"mobile\":\n",
    "        await page.emulate(\n",
    "            {\n",
    "                \"viewport\": {\"width\": 360, \"height\": 640, \"isMobile\": True},\n",
    "                \"hasTouch\": True,\n",
    "                \"isMobile\": True,\n",
    "                \"userAgent\": MOBILE_USER_AGENT,\n",
    "            }\n",
    "        )\n",
    "    else:\n",
    "        await page.setViewport({\"width\": 1280, \"height\": 800})\n",
    "        await page.emulate({\n",
    "            \"viewport\": {\"width\": 1280, \"height\": 800},\n",
    "            \"userAgent\": DESKTOP_USER_AGENT\n",
    "        \n",
    "        })\n",
    "\n",
    "    await stealth(page)\n",
    "    await page.goto(url, {\"waitUntil\": \"networkidle0\"})\n",
    "\n",
    "    # Scroll to the bottom to ensure all lazy-loaded images are loaded:\n",
    "    await page.evaluate(\"window.scrollTo(0, document.body.scrollHeight);\")\n",
    "    await page.waitFor(2000)  # Wait for lazy-loaded images\n",
    "\n",
    "    # Scroll back to the top:\n",
    "    await page.evaluate(\"window.scrollTo(0, 0);\")\n",
    "\n",
    "    # Take screenshot of the entire page, change the viewport to the full page:\n",
    "    await page.setViewport(\n",
    "        {\n",
    "            \"width\": await page.evaluate(\"document.body.scrollWidth\"),\n",
    "            \"height\": await page.evaluate(\"document.body.scrollHeight\"),\n",
    "        }\n",
    "    )\n",
    "\n",
    "    # Take screenshot:\n",
    "    screenshot_bytes = await page.screenshot()\n",
    "\n",
    "    # Save the screenshot\n",
    "    with open(screenshot_filename, \"wb\") as f:\n",
    "        f.write(screenshot_bytes)\n",
    "    await browser.close()"
   ]
  },
  {
   "cell_type": "code",
   "execution_count": 5,
   "metadata": {},
   "outputs": [
    {
     "name": "stdout",
     "output_type": "stream",
     "text": [
      "Taking screenshot of https://understandingdata.com/ and saving to screenshot_understandingdata.com_desktop.png\n",
      "Taking screenshot of https://understandingdata.com/ and saving to screenshot_understandingdata.com_mobile.png\n",
      "Taking screenshot of https://www.dufrain.co.uk/data-solutions/data-engineering/ and saving to screenshot_www.dufrain.co.uk_desktop.png\n",
      "Taking screenshot of https://www.dufrain.co.uk/data-solutions/data-engineering/ and saving to screenshot_www.dufrain.co.uk_mobile.png\n",
      "Taking screenshot of https://www.fdmgroup.com/services/technical-services/data-engineering/ and saving to screenshot_www.fdmgroup.com_desktop.png\n",
      "Taking screenshot of https://www.fdmgroup.com/services/technical-services/data-engineering/ and saving to screenshot_www.fdmgroup.com_mobile.png\n"
     ]
    }
   ],
   "source": [
    "# List of URLs to take screenshots of:\n",
    "urls = [\n",
    "    \"https://understandingdata.com/\",  # Replace with your main website URL\n",
    "    \"https://www.dufrain.co.uk/data-solutions/data-engineering/\",  # Replace with the first competitor URL\n",
    "    \"https://www.fdmgroup.com/services/technical-services/data-engineering/\",  # Replace with the second competitor URL\n",
    "]\n",
    "\n",
    "if DOMAIN not in urls[0]:\n",
    "    raise ValueError(f\"The first URL must be from the domain {DOMAIN}\")\n",
    "\n",
    "# Make clean names from the urls using urllib:\n",
    "clean_names = [urllib.parse.urlparse(url).netloc for url in urls]\n",
    "\n",
    "# Loop through the URLs and take screenshots\n",
    "async def take_screenshot(url, clean_name, device_type):\n",
    "    filename = f\"screenshot_{clean_name}_{device_type}.png\"\n",
    "    print(f\"Taking screenshot of {url} and saving to {filename}\")\n",
    "    await screenshot_full_page(url, filename, device_type)\n",
    "\n",
    "async def main():\n",
    "    tasks = []\n",
    "    for url, clean_name in zip(urls, clean_names):\n",
    "        for device_type in [\"desktop\", \"mobile\"]:\n",
    "            tasks.append(take_screenshot(url, clean_name, device_type))\n",
    "    await asyncio.gather(*tasks)\n",
    "\n",
    "await main()"
   ]
  },
  {
   "cell_type": "markdown",
   "metadata": {},
   "source": [
    "----------------------------------------------------------------------\n",
    "\n",
    "## Making A Call To Vision API"
   ]
  },
  {
   "cell_type": "code",
   "execution_count": 4,
   "metadata": {},
   "outputs": [],
   "source": [
    "import base64\n",
    "import glob\n",
    "from langchain_core.messages import SystemMessage, HumanMessage, AIMessage\n",
    "from langchain_core.prompts import ChatPromptTemplate\n",
    "from langchain_openai import ChatOpenAI\n",
    "from langchain_core.output_parsers import PydanticOutputParser"
   ]
  },
  {
   "cell_type": "code",
   "execution_count": 5,
   "metadata": {},
   "outputs": [],
   "source": [
    "# Load all of the .png files in the current directory:\n",
    "screenshot_files = glob.glob(\"*.png\")\n",
    "\n",
    "# Convert all of them to base64:\n",
    "screenshot_base64s = {}\n",
    "for filename in screenshot_files:\n",
    "    with open(filename, \"rb\") as f:\n",
    "        screenshot_base64s[filename] = base64.b64encode(f.read()).decode(\"utf-8\")"
   ]
  },
  {
   "cell_type": "code",
   "execution_count": 6,
   "metadata": {},
   "outputs": [],
   "source": [
    "# Defining a pydantic model for output parsing:\n",
    "from langchain_core.pydantic_v1 import BaseModel\n",
    "from typing import List, Optional\n",
    "\n",
    "class FeedbackAspect(BaseModel):\n",
    "    aspect: str\n",
    "    description: str\n",
    "    recommendations: Optional[List[str]] = None\n",
    "\n",
    "class LandingPageFeedback(BaseModel):\n",
    "    website_url: str\n",
    "    strengths: List[FeedbackAspect]\n",
    "    areas_for_improvement: List[FeedbackAspect]\n",
    "    general_feedback: Optional[str] = None\n",
    "    additional_comments: Optional[str] = None"
   ]
  },
  {
   "cell_type": "code",
   "execution_count": 7,
   "metadata": {},
   "outputs": [],
   "source": [
    "# Define an output parser:\n",
    "output_parser = PydanticOutputParser(pydantic_object=LandingPageFeedback)"
   ]
  },
  {
   "cell_type": "code",
   "execution_count": 10,
   "metadata": {},
   "outputs": [],
   "source": [
    "prompt = ChatPromptTemplate.from_messages(\n",
    "    [\n",
    "        SystemMessage(\n",
    "            content=(\n",
    "                f\"\"\"Act as a marketing user researcher. \n",
    "                    You will receive a set of screenshots of your website and your different websites. \n",
    "                    Your website is {urls[0]} and {clean_names[0]}.\n",
    "                    ---\n",
    "                    The different websites are {urls[1]} and {clean_names[1]}, and {urls[2]} and {clean_names[2]}.\n",
    "                    ---\n",
    "                    Please provide a brief analysis of the screenshots and identify any areas for improvement on your website.\n",
    "                    You are allowed to use the different websites for research purposes.\n",
    "                    \n",
    "                    You must output a JSON schema that follows the following format: {output_parser.get_format_instructions()} Only return back JSON.\n",
    "                    \"\"\"\n",
    "            )\n",
    "        ),\n",
    "        HumanMessage(\n",
    "            content=[\n",
    "                {\n",
    "                    \"type\": \"text\",\n",
    "                    \"text\": f\"My website is {urls[0]} and {clean_names[0]}. Please find attached both the mobile and desktop version.\",\n",
    "                },\n",
    "            ]\n",
    "            + [\n",
    "                # If the DOMAIN is in the keys, use the DOMAIN's screenshots:\n",
    "                {\n",
    "                    \"type\": \"image_url\",\n",
    "                    \"image_url\": {\n",
    "                        \"url\": f\"data:image/jpeg;base64,{screenshot_base64s[key]}\"\n",
    "                    },\n",
    "                }\n",
    "                for key in screenshot_base64s.keys()\n",
    "                if DOMAIN in key\n",
    "            ],\n",
    "        ),\n",
    "        AIMessage(content='Thanks for providing your web pages in both desktop and mobile versions. Before analysing them, I will need to research the different websites to understand the competition. Can you provide some information on the different websites?'),\n",
    "        HumanMessage(\n",
    "            content=[\n",
    "                {\n",
    "                    \"type\": \"text\",\n",
    "                    \"text\": \"Sure, here are some competitor images\"\n",
    "                }\n",
    "            ] + [ \n",
    "                {\n",
    "                    \"type\": \"image_url\",\n",
    "                    \"image_url\": {\n",
    "                        \"url\": f\"data:image/jpeg;base64,{screenshot_base64s[key]}\"\n",
    "                    },\n",
    "                }\n",
    "                for key in screenshot_base64s.keys()\n",
    "                if DOMAIN not in key\n",
    "            ]\n",
    "        ),\n",
    "    ]\n",
    ")"
   ]
  },
  {
   "cell_type": "code",
   "execution_count": 11,
   "metadata": {},
   "outputs": [
    {
     "name": "stdout",
     "output_type": "stream",
     "text": [
      "website_url='https://understandingdata.com/' strengths=[FeedbackAspect(aspect='Clean Design', description='The website features a clean and modern design that is visually appealing and easy to navigate.', recommendations=[]), FeedbackAspect(aspect='Mobile Optimization', description='The website is well optimized for mobile devices, ensuring a good user experience across various screen sizes.', recommendations=[]), FeedbackAspect(aspect='Service Descriptions', description='The services offered are clearly described, providing potential clients with a good understanding of what is available.', recommendations=[])] areas_for_improvement=[FeedbackAspect(aspect='Content Depth', description=\"Competitors' websites contain more in-depth content regarding their services, which could help in SEO and providing detailed information to clients.\", recommendations=['Expand the services section with more detailed descriptions and case studies.', 'Include a blog or resources section with articles, guides, and whitepapers.']), FeedbackAspect(aspect='Visual Elements', description='Competitor websites make use of more diverse visual elements such as custom icons, images, and graphics, which can enhance user engagement.', recommendations=['Incorporate more custom graphics and images related to the services offered.', 'Use engaging visuals to highlight key information and break up text.']), FeedbackAspect(aspect='Testimonials', description='While there are testimonials present, they could be more prominently featured to build trust with potential clients.', recommendations=['Add a dedicated testimonials section on the homepage.', 'Include client logos or case studies to showcase successful projects.'])] general_feedback='The website has a strong foundation with a clear layout and good mobile responsiveness. However, there is room for improvement in content depth and visual engagement to better compete with others in the industry.' additional_comments='Consider implementing SEO best practices to improve visibility in search engines and updating the website regularly with fresh content to keep visitors returning.'\n"
     ]
    }
   ],
   "source": [
    "model = ChatOpenAI(model=\"gpt-4-vision-preview\", max_tokens=1000)\n",
    "chain = prompt | model | output_parser\n",
    "result = chain.invoke({})\n",
    "print(result)"
   ]
  },
  {
   "cell_type": "code",
   "execution_count": 12,
   "metadata": {},
   "outputs": [
    {
     "name": "stdout",
     "output_type": "stream",
     "text": [
      "<class '__main__.LandingPageFeedback'>\n"
     ]
    }
   ],
   "source": [
    "print(type(result))"
   ]
  },
  {
   "cell_type": "code",
   "execution_count": 20,
   "metadata": {},
   "outputs": [
    {
     "name": "stdout",
     "output_type": "stream",
     "text": [
      "{\n",
      "  \"website_url\": \"https://understandingdata.com/\",\n",
      "  \"strengths\": [\n",
      "    {\n",
      "      \"aspect\": \"Clean Design\",\n",
      "      \"description\": \"The website features a clean and modern design that is visually appealing and easy to navigate.\",\n",
      "      \"recommendations\": []\n",
      "    },\n",
      "    {\n",
      "      \"aspect\": \"Mobile Optimization\",\n",
      "      \"description\": \"The website is well optimized for mobile devices, ensuring a good user experience across various screen sizes.\",\n",
      "      \"recommendations\": []\n",
      "    },\n",
      "    {\n",
      "      \"aspect\": \"Service Descriptions\",\n",
      "      \"description\": \"The services offered are clearly described, providing potential clients with a good understanding of what is available.\",\n",
      "      \"recommendations\": []\n",
      "    }\n",
      "  ],\n",
      "  \"areas_for_improvement\": [\n",
      "    {\n",
      "      \"aspect\": \"Content Depth\",\n",
      "      \"description\": \"Competitors' websites contain more in-depth content regarding their services, which could help in SEO and providing detailed information to clients.\",\n",
      "      \"recommendations\": [\n",
      "        \"Expand the services section with more detailed descriptions and case studies.\",\n",
      "        \"Include a blog or resources section with articles, guides, and whitepapers.\"\n",
      "      ]\n",
      "    },\n",
      "    {\n",
      "      \"aspect\": \"Visual Elements\",\n",
      "      \"description\": \"Competitor websites make use of more diverse visual elements such as custom icons, images, and graphics, which can enhance user engagement.\",\n",
      "      \"recommendations\": [\n",
      "        \"Incorporate more custom graphics and images related to the services offered.\",\n",
      "        \"Use engaging visuals to highlight key information and break up text.\"\n",
      "      ]\n",
      "    },\n",
      "    {\n",
      "      \"aspect\": \"Testimonials\",\n",
      "      \"description\": \"While there are testimonials present, they could be more prominently featured to build trust with potential clients.\",\n",
      "      \"recommendations\": [\n",
      "        \"Add a dedicated testimonials section on the homepage.\",\n",
      "        \"Include client logos or case studies to showcase successful projects.\"\n",
      "      ]\n",
      "    }\n",
      "  ],\n",
      "  \"general_feedback\": \"The website has a strong foundation with a clear layout and good mobile responsiveness. However, there is room for improvement in content depth and visual engagement to better compete with others in the industry.\",\n",
      "  \"additional_comments\": \"Consider implementing SEO best practices to improve visibility in search engines and updating the website regularly with fresh content to keep visitors returning.\"\n",
      "}\n"
     ]
    }
   ],
   "source": [
    "print(result.json(indent=2))"
   ]
  },
  {
   "cell_type": "markdown",
   "metadata": {},
   "source": [
    "---\n",
    "\n",
    "## Edge Cases/Next Steps To Improve The Script:\n",
    "\n",
    "1. Click on cookie banners to accept cookies, edge case: https://www.dufrain.co.uk/data-solutions/data-engineering/\n",
    "2. Click on any pop ups such as banner ads, edge case: https://www.dufrain.co.uk/data-solutions/data-engineering/\n",
    "3. Create an x,y cordinate grid that will allow us to completely control the vision model."
   ]
  }
 ],
 "metadata": {
  "kernelspec": {
   "display_name": "base",
   "language": "python",
   "name": "python3"
  },
  "language_info": {
   "codemirror_mode": {
    "name": "ipython",
    "version": 3
   },
   "file_extension": ".py",
   "mimetype": "text/x-python",
   "name": "python",
   "nbconvert_exporter": "python",
   "pygments_lexer": "ipython3",
   "version": "3.9.13"
  }
 },
 "nbformat": 4,
 "nbformat_minor": 2
}
